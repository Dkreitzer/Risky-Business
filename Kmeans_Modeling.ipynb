{
 "cells": [
  {
   "cell_type": "markdown",
   "metadata": {},
   "source": [
    "# references\n",
    "https://towardsdatascience.com/applying-machine-learning-to-classify-an-unsupervised-text-document-e7bb6265f52\n"
   ]
  },
  {
   "cell_type": "code",
   "execution_count": 182,
   "metadata": {},
   "outputs": [],
   "source": [
    "from __future__ import print_function\n",
    "\n",
    "import heapq\n",
    "import hdbscan\n",
    "import seaborn as sns\n",
    "from scipy.sparse import coo_matrix\n",
    "from sklearn.metrics import silhouette_samples, silhouette_score\n",
    "from pathlib import Path\n",
    "import sys\n",
    "import collections\n",
    "from operator import itemgetter\n",
    "import time\n",
    "from tqdm.auto import tqdm\n",
    "import re\n",
    "\n",
    "from datetime import datetime\n",
    "from nltk.corpus import stopwords\n",
    "from nltk import word_tokenize, sent_tokenize\n",
    "from nltk.stem import PorterStemmer\n",
    "from nltk import pos_tag\n",
    "import nltk\n",
    "import math\n",
    "import matplotlib.cm as cm\n",
    "import matplotlib.pyplot as plt\n",
    "from matplotlib import figure\n",
    "from sklearn.feature_extraction.text import TfidfVectorizer, CountVectorizer\n",
    "from sklearn.cluster import KMeans\n",
    "from sklearn import metrics\n",
    "\n",
    "import numpy as np\n",
    "import pandas as pd\n",
    "import matplotlib\n",
    "## This is for backend, gui support, but it doesnt do anything ##\n",
    "matplotlib.use('TkAgg')\n",
    "\n",
    "\n",
    "from sklearn.metrics.pairwise import cosine_similarity\n",
    "from sklearn.metrics import euclidean_distances\n",
    "\n",
    "from sklearn.externals import joblib\n",
    "\n",
    "from gensim import corpora, models, similarities\n",
    "from nltk.tag import pos_tag\n",
    "import string\n",
    "from nltk.stem.snowball import SnowballStemmer\n",
    "import re\n",
    "\n",
    "\n",
    "\n",
    "%matplotlib inline"
   ]
  },
  {
   "cell_type": "markdown",
   "metadata": {},
   "source": [
    "Rename RiskFactors > Data > Run  <for f in *\\ *; do mv \"$f\" \"${f// /_}\"; done> in bash, in the folder \"Data\" \n",
    "This changes all \" \" characters to \"_\", needed for Path\n",
    "See https://stackoverflow.com/a/18213120"
   ]
  },
  {
   "cell_type": "code",
   "execution_count": 183,
   "metadata": {},
   "outputs": [],
   "source": [
    "def make_pipeline(NUMBER_OF_DOCS, istesting):\n",
    "    doclist = []\n",
    "    names = []\n",
    "    pathlist = Path(\"Data_Small\").glob('**/*.txt')\n",
    "    pathlist = Path(\"Data\").glob('**/*.txt')\n",
    "    for path in tqdm(pathlist):\n",
    "        # because path is object not string\n",
    "        path_in_str = str(path)\n",
    "        name = path_in_str.split(\"\\\\\")[1].split(\".\")[0]\n",
    "        names.append(name.replace(\"_\", \" \"))\n",
    "        # TODO SPLIT PATH TO COMPANY NAME, make Index\n",
    "        file = open(path, \"r\")\n",
    "        # print \"Output of Readlines after appending\"\n",
    "        text = file.readlines()\n",
    "    #     print(text[:10])\n",
    "        doclist.append(text[0])\n",
    "    if istesting == True:\n",
    "        print('Test set generated')\n",
    "        doclist = doclist[NUMBER_OF_DOCS:NUMBER_OF_DOCS * 2]\n",
    "        names = names[NUMBER_OF_DOCS: NUMBER_OF_DOCS * 2]\n",
    "    if len(doclist) > NUMBER_OF_DOCS:\n",
    "        doclist = doclist[:NUMBER_OF_DOCS]\n",
    "        names = names[:NUMBER_OF_DOCS]\n",
    "    return doclist, names"
   ]
  },
  {
   "cell_type": "code",
   "execution_count": 184,
   "metadata": {},
   "outputs": [
    {
     "data": {
      "application/vnd.jupyter.widget-view+json": {
       "model_id": "a3af698b53c7450c915597f622e713af",
       "version_major": 2,
       "version_minor": 0
      },
      "text/plain": [
       "HBox(children=(IntProgress(value=1, bar_style='info', max=1), HTML(value='')))"
      ]
     },
     "metadata": {},
     "output_type": "display_data"
    },
    {
     "name": "stdout",
     "output_type": "stream",
     "text": [
      "\n",
      "3102 docs loaded\n",
      "\n",
      "['180 Degree Capital Corp ', '1 800 FLOWERS COM Inc ', '2U Inc ', '3D Systems Corporation', '3M Company'] ...... ['Zscaler Inc ', 'Zumiez Inc ', 'Zymeworks Inc ', 'Zynerba Pharmaceuticals Inc ', 'Zynga Inc ']\n"
     ]
    },
    {
     "data": {
      "text/plain": [
       "'[1] \"Item 1A.    Risk Factors.. Investing in our common stock involves significant risks relating to our business and investment objectives. You should carefully consider the risks and uncertainties described below before you purchase any shares of our common stock. These risks and uncertainties are not the only ones we face. Unknown additional risks and uncertainties, or ones that we currently consider immaterial, may also impact our business. If any of these risks or uncertainties materialize,'"
      ]
     },
     "execution_count": 184,
     "metadata": {},
     "output_type": "execute_result"
    }
   ],
   "source": [
    "doclist, names = make_pipeline(15000, istesting=False)\n",
    "print('%s docs loaded' % len(names))\n",
    "print()\n",
    "print(names[:5], '......',  names[-5:])\n",
    "\n",
    "doclist[0][:500]"
   ]
  },
  {
   "cell_type": "code",
   "execution_count": 185,
   "metadata": {},
   "outputs": [],
   "source": [
    "def transform_tokens(doclist):\n",
    "    token_list = []\n",
    "    for doc in tqdm(doclist, desc=\"Tokenizing\", leave=True):\n",
    "        dirty_tokens = nltk.sent_tokenize(doc)\n",
    "        token_list += [dirty_tokens]\n",
    "    return token_list"
   ]
  },
  {
   "cell_type": "code",
   "execution_count": 186,
   "metadata": {
    "code_folding": []
   },
   "outputs": [],
   "source": [
    "def transform_filtered(token_list, doclist, names):\n",
    "    punc = ['.', ',', '\"', \"'\", '?', '!', ':',\n",
    "            ';', '(', ')', '[', ']', '{', '}', \"%\"]\n",
    "    more_stops = ['\\\\t\\\\t\\\\t',\n",
    "                  '\\\\t\\\\t\\\\', '\\\\t\\\\t\\\\t',\n",
    "                  '<U+25CF>', '[1]', 'feff' , '1a', 'item']\n",
    "    maybe_bad_stops = ['may', 'could',  'contents',\n",
    "                       'table', 'time', '25cf', 'factors', 'risk', \n",
    "                   ]\n",
    "    global Stopwords_list\n",
    "    Stopwords_list = stopwords.words(\n",
    "        'english') + more_stops + punc + maybe_bad_stops\n",
    "    filtered_tokens = []\n",
    "    #WE CAN RUN 1 or many docs at once# \n",
    "    names_list = []\n",
    "    if len(names) > 1:\n",
    "        if len(token_list) != len(doclist):\n",
    "            token_list = [token_list]\n",
    "        index = 0\n",
    "        \n",
    "        for tokens in tqdm(token_list, desc=\"Filtering Documents\"):\n",
    "            filtered_docs = []\n",
    "            name = names[index]\n",
    "            for token in tqdm(tokens, desc=\"Filtering Words\", leave=False):\n",
    "                if re.search(r'\\d{1,}', token):  # getting rid of digits\n",
    "                    pass\n",
    "                else:\n",
    "                    #                 NNP proper noun, singular ‘Harrison’\n",
    "                    #                 NNPS proper noun, plural ‘Americans’\n",
    "                    if token not in Stopwords_list:\n",
    "                        if pos_tag(token) != 'NNP' and pos_tag(token) != 'NNPS':\n",
    "                            filtered_docs.append(token.lower())\n",
    "                        else:\n",
    "                            filtered_docs.append('proper_noun')\n",
    "                        names_list.append(name)\n",
    "            index += 1\n",
    "            filtered_tokens.append(filtered_docs)\n",
    "        else:\n",
    "             for token in tqdm(tokens, desc=\"Filtering Words\", leave=False):\n",
    "                if re.search(r'\\d{1,}', token):  # getting rid of digits\n",
    "                    pass\n",
    "                else:\n",
    "                    #                 NNP proper noun, singular ‘Harrison’\n",
    "                    #                 NNPS proper noun, plural ‘Americans’\n",
    "                    if token not in Stopwords_list:\n",
    "                        if pos_tag(token) != 'NNP' and pos_tag(token) != 'NNPS':\n",
    "                            filtered_docs.append(token.lower())\n",
    "                        else:\n",
    "                            filtered_docs.append('proper_noun')\n",
    "    return filtered_tokens, names_list"
   ]
  },
  {
   "cell_type": "code",
   "execution_count": 187,
   "metadata": {},
   "outputs": [],
   "source": [
    "def transform_stemming(filtered_tokens):\n",
    "    stemmed = []\n",
    "    for token in filtered_tokens:\n",
    "        stemmed.append(PorterStemmer().stem(token))\n",
    "        # stemmed.append(LancasterStemmer().stem(token))\n",
    "        # stemmed.append(SnowballStemmer('english').stem(token))\n",
    "\n",
    "    return stemmed"
   ]
  },
  {
   "cell_type": "code",
   "execution_count": 188,
   "metadata": {},
   "outputs": [],
   "source": [
    "def transform_vectorize(stemmed, smallest_ngram, largest_ngram):\n",
    "\n",
    "    vectorizer = TfidfVectorizer(stop_words=Stopwords_list,\n",
    "                                 ngram_range=(smallest_ngram, largest_ngram), max_df=0.55, min_df=0.01)\n",
    "#     vectorizer = CountVectorizer(stop_words=Stopwords_list,\n",
    "#                                  ngram_range=(smallest_ngram, largest_ngram), max_df=0.75, min_df=0.01)\n",
    "    sparseMatrix = vectorizer.fit_transform(stemmed)\n",
    "    return sparseMatrix, vectorizer"
   ]
  },
  {
   "cell_type": "code",
   "execution_count": 189,
   "metadata": {
    "scrolled": true
   },
   "outputs": [
    {
     "data": {
      "application/vnd.jupyter.widget-view+json": {
       "model_id": "573edb1a04a2497296737d621d46fb48",
       "version_major": 2,
       "version_minor": 0
      },
      "text/plain": [
       "HBox(children=(IntProgress(value=0, description='Tokenizing', max=3102, style=ProgressStyle(description_width=…"
      ]
     },
     "metadata": {},
     "output_type": "display_data"
    },
    {
     "name": "stdout",
     "output_type": "stream",
     "text": [
      "\n"
     ]
    },
    {
     "data": {
      "application/vnd.jupyter.widget-view+json": {
       "model_id": "1aad786a77be4eee9cb6590c57582e6e",
       "version_major": 2,
       "version_minor": 0
      },
      "text/plain": [
       "HBox(children=(IntProgress(value=0, description='Filtering Documents', max=3102, style=ProgressStyle(descripti…"
      ]
     },
     "metadata": {},
     "output_type": "display_data"
    },
    {
     "data": {
      "application/vnd.jupyter.widget-view+json": {
       "model_id": "",
       "version_major": 2,
       "version_minor": 0
      },
      "text/plain": [
       "HBox(children=(IntProgress(value=0, description='Filtering Words', max=410, style=ProgressStyle(description_wi…"
      ]
     },
     "metadata": {},
     "output_type": "display_data"
    },
    {
     "data": {
      "application/vnd.jupyter.widget-view+json": {
       "model_id": "",
       "version_major": 2,
       "version_minor": 0
      },
      "text/plain": [
       "HBox(children=(IntProgress(value=0, description='Filtering Words', max=244, style=ProgressStyle(description_wi…"
      ]
     },
     "metadata": {},
     "output_type": "display_data"
    },
    {
     "data": {
      "application/vnd.jupyter.widget-view+json": {
       "model_id": "",
       "version_major": 2,
       "version_minor": 0
      },
      "text/plain": [
       "HBox(children=(IntProgress(value=0, description='Filtering Words', max=481, style=ProgressStyle(description_wi…"
      ]
     },
     "metadata": {},
     "output_type": "display_data"
    },
    {
     "data": {
      "application/vnd.jupyter.widget-view+json": {
       "model_id": "",
       "version_major": 2,
       "version_minor": 0
      },
      "text/plain": [
       "HBox(children=(IntProgress(value=0, description='Filtering Words', max=347, style=ProgressStyle(description_wi…"
      ]
     },
     "metadata": {},
     "output_type": "display_data"
    },
    {
     "data": {
      "application/vnd.jupyter.widget-view+json": {
       "model_id": "",
       "version_major": 2,
       "version_minor": 0
      },
      "text/plain": [
       "HBox(children=(IntProgress(value=0, description='Filtering Words', max=50, style=ProgressStyle(description_wid…"
      ]
     },
     "metadata": {},
     "output_type": "display_data"
    },
    {
     "data": {
      "application/vnd.jupyter.widget-view+json": {
       "model_id": "",
       "version_major": 2,
       "version_minor": 0
      },
      "text/plain": [
       "HBox(children=(IntProgress(value=0, description='Filtering Words', max=591, style=ProgressStyle(description_wi…"
      ]
     },
     "metadata": {},
     "output_type": "display_data"
    },
    {
     "data": {
      "application/vnd.jupyter.widget-view+json": {
       "model_id": "",
       "version_major": 2,
       "version_minor": 0
      },
      "text/plain": [
       "HBox(children=(IntProgress(value=0, description='Filtering Words', max=336, style=ProgressStyle(description_wi…"
      ]
     },
     "metadata": {},
     "output_type": "display_data"
    },
    {
     "data": {
      "application/vnd.jupyter.widget-view+json": {
       "model_id": "",
       "version_major": 2,
       "version_minor": 0
      },
      "text/plain": [
       "HBox(children=(IntProgress(value=0, description='Filtering Words', max=69, style=ProgressStyle(description_wid…"
      ]
     },
     "metadata": {},
     "output_type": "display_data"
    },
    {
     "data": {
      "application/vnd.jupyter.widget-view+json": {
       "model_id": "",
       "version_major": 2,
       "version_minor": 0
      },
      "text/plain": [
       "HBox(children=(IntProgress(value=0, description='Filtering Words', max=107, style=ProgressStyle(description_wi…"
      ]
     },
     "metadata": {},
     "output_type": "display_data"
    },
    {
     "data": {
      "application/vnd.jupyter.widget-view+json": {
       "model_id": "",
       "version_major": 2,
       "version_minor": 0
      },
      "text/plain": [
       "HBox(children=(IntProgress(value=0, description='Filtering Words', max=115, style=ProgressStyle(description_wi…"
      ]
     },
     "metadata": {},
     "output_type": "display_data"
    },
    {
     "data": {
      "application/vnd.jupyter.widget-view+json": {
       "model_id": "",
       "version_major": 2,
       "version_minor": 0
      },
      "text/plain": [
       "HBox(children=(IntProgress(value=0, description='Filtering Words', max=201, style=ProgressStyle(description_wi…"
      ]
     },
     "metadata": {},
     "output_type": "display_data"
    },
    {
     "data": {
      "application/vnd.jupyter.widget-view+json": {
       "model_id": "",
       "version_major": 2,
       "version_minor": 0
      },
      "text/plain": [
       "HBox(children=(IntProgress(value=0, description='Filtering Words', max=271, style=ProgressStyle(description_wi…"
      ]
     },
     "metadata": {},
     "output_type": "display_data"
    },
    {
     "data": {
      "application/vnd.jupyter.widget-view+json": {
       "model_id": "",
       "version_major": 2,
       "version_minor": 0
      },
      "text/plain": [
       "HBox(children=(IntProgress(value=0, description='Filtering Words', max=212, style=ProgressStyle(description_wi…"
      ]
     },
     "metadata": {},
     "output_type": "display_data"
    },
    {
     "data": {
      "application/vnd.jupyter.widget-view+json": {
       "model_id": "",
       "version_major": 2,
       "version_minor": 0
      },
      "text/plain": [
       "HBox(children=(IntProgress(value=0, description='Filtering Words', max=441, style=ProgressStyle(description_wi…"
      ]
     },
     "metadata": {},
     "output_type": "display_data"
    },
    {
     "data": {
      "application/vnd.jupyter.widget-view+json": {
       "model_id": "",
       "version_major": 2,
       "version_minor": 0
      },
      "text/plain": [
       "HBox(children=(IntProgress(value=0, description='Filtering Words', max=147, style=ProgressStyle(description_wi…"
      ]
     },
     "metadata": {},
     "output_type": "display_data"
    },
    {
     "data": {
      "application/vnd.jupyter.widget-view+json": {
       "model_id": "",
       "version_major": 2,
       "version_minor": 0
      },
      "text/plain": [
       "HBox(children=(IntProgress(value=0, description='Filtering Words', max=481, style=ProgressStyle(description_wi…"
      ]
     },
     "metadata": {},
     "output_type": "display_data"
    },
    {
     "data": {
      "application/vnd.jupyter.widget-view+json": {
       "model_id": "",
       "version_major": 2,
       "version_minor": 0
      },
      "text/plain": [
       "HBox(children=(IntProgress(value=0, description='Filtering Words', max=561, style=ProgressStyle(description_wi…"
      ]
     },
     "metadata": {},
     "output_type": "display_data"
    },
    {
     "data": {
      "application/vnd.jupyter.widget-view+json": {
       "model_id": "",
       "version_major": 2,
       "version_minor": 0
      },
      "text/plain": [
       "HBox(children=(IntProgress(value=0, description='Filtering Words', max=264, style=ProgressStyle(description_wi…"
      ]
     },
     "metadata": {},
     "output_type": "display_data"
    },
    {
     "data": {
      "application/vnd.jupyter.widget-view+json": {
       "model_id": "",
       "version_major": 2,
       "version_minor": 0
      },
      "text/plain": [
       "HBox(children=(IntProgress(value=0, description='Filtering Words', max=529, style=ProgressStyle(description_wi…"
      ]
     },
     "metadata": {},
     "output_type": "display_data"
    },
    {
     "data": {
      "application/vnd.jupyter.widget-view+json": {
       "model_id": "",
       "version_major": 2,
       "version_minor": 0
      },
      "text/plain": [
       "HBox(children=(IntProgress(value=0, description='Filtering Words', max=711, style=ProgressStyle(description_wi…"
      ]
     },
     "metadata": {},
     "output_type": "display_data"
    },
    {
     "data": {
      "application/vnd.jupyter.widget-view+json": {
       "model_id": "",
       "version_major": 2,
       "version_minor": 0
      },
      "text/plain": [
       "HBox(children=(IntProgress(value=0, description='Filtering Words', max=364, style=ProgressStyle(description_wi…"
      ]
     },
     "metadata": {},
     "output_type": "display_data"
    },
    {
     "data": {
      "application/vnd.jupyter.widget-view+json": {
       "model_id": "",
       "version_major": 2,
       "version_minor": 0
      },
      "text/plain": [
       "HBox(children=(IntProgress(value=0, description='Filtering Words', max=471, style=ProgressStyle(description_wi…"
      ]
     },
     "metadata": {},
     "output_type": "display_data"
    },
    {
     "data": {
      "application/vnd.jupyter.widget-view+json": {
       "model_id": "",
       "version_major": 2,
       "version_minor": 0
      },
      "text/plain": [
       "HBox(children=(IntProgress(value=0, description='Filtering Words', max=563, style=ProgressStyle(description_wi…"
      ]
     },
     "metadata": {},
     "output_type": "display_data"
    },
    {
     "data": {
      "application/vnd.jupyter.widget-view+json": {
       "model_id": "",
       "version_major": 2,
       "version_minor": 0
      },
      "text/plain": [
       "HBox(children=(IntProgress(value=0, description='Filtering Words', max=359, style=ProgressStyle(description_wi…"
      ]
     },
     "metadata": {},
     "output_type": "display_data"
    },
    {
     "data": {
      "application/vnd.jupyter.widget-view+json": {
       "model_id": "",
       "version_major": 2,
       "version_minor": 0
      },
      "text/plain": [
       "HBox(children=(IntProgress(value=0, description='Filtering Words', max=217, style=ProgressStyle(description_wi…"
      ]
     },
     "metadata": {},
     "output_type": "display_data"
    },
    {
     "data": {
      "application/vnd.jupyter.widget-view+json": {
       "model_id": "",
       "version_major": 2,
       "version_minor": 0
      },
      "text/plain": [
       "HBox(children=(IntProgress(value=0, description='Filtering Words', max=671, style=ProgressStyle(description_wi…"
      ]
     },
     "metadata": {},
     "output_type": "display_data"
    },
    {
     "data": {
      "application/vnd.jupyter.widget-view+json": {
       "model_id": "",
       "version_major": 2,
       "version_minor": 0
      },
      "text/plain": [
       "HBox(children=(IntProgress(value=0, description='Filtering Words', max=895, style=ProgressStyle(description_wi…"
      ]
     },
     "metadata": {},
     "output_type": "display_data"
    },
    {
     "data": {
      "application/vnd.jupyter.widget-view+json": {
       "model_id": "",
       "version_major": 2,
       "version_minor": 0
      },
      "text/plain": [
       "HBox(children=(IntProgress(value=0, description='Filtering Words', max=809, style=ProgressStyle(description_wi…"
      ]
     },
     "metadata": {},
     "output_type": "display_data"
    },
    {
     "data": {
      "application/vnd.jupyter.widget-view+json": {
       "model_id": "",
       "version_major": 2,
       "version_minor": 0
      },
      "text/plain": [
       "HBox(children=(IntProgress(value=0, description='Filtering Words', max=400, style=ProgressStyle(description_wi…"
      ]
     },
     "metadata": {},
     "output_type": "display_data"
    },
    {
     "data": {
      "application/vnd.jupyter.widget-view+json": {
       "model_id": "",
       "version_major": 2,
       "version_minor": 0
      },
      "text/plain": [
       "HBox(children=(IntProgress(value=0, description='Filtering Words', max=903, style=ProgressStyle(description_wi…"
      ]
     },
     "metadata": {},
     "output_type": "display_data"
    },
    {
     "data": {
      "application/vnd.jupyter.widget-view+json": {
       "model_id": "",
       "version_major": 2,
       "version_minor": 0
      },
      "text/plain": [
       "HBox(children=(IntProgress(value=0, description='Filtering Words', max=544, style=ProgressStyle(description_wi…"
      ]
     },
     "metadata": {},
     "output_type": "display_data"
    },
    {
     "data": {
      "application/vnd.jupyter.widget-view+json": {
       "model_id": "",
       "version_major": 2,
       "version_minor": 0
      },
      "text/plain": [
       "HBox(children=(IntProgress(value=0, description='Filtering Words', max=207, style=ProgressStyle(description_wi…"
      ]
     },
     "metadata": {},
     "output_type": "display_data"
    },
    {
     "data": {
      "application/vnd.jupyter.widget-view+json": {
       "model_id": "",
       "version_major": 2,
       "version_minor": 0
      },
      "text/plain": [
       "HBox(children=(IntProgress(value=0, description='Filtering Words', max=897, style=ProgressStyle(description_wi…"
      ]
     },
     "metadata": {},
     "output_type": "display_data"
    },
    {
     "data": {
      "application/vnd.jupyter.widget-view+json": {
       "model_id": "",
       "version_major": 2,
       "version_minor": 0
      },
      "text/plain": [
       "HBox(children=(IntProgress(value=0, description='Filtering Words', max=130, style=ProgressStyle(description_wi…"
      ]
     },
     "metadata": {},
     "output_type": "display_data"
    },
    {
     "data": {
      "application/vnd.jupyter.widget-view+json": {
       "model_id": "",
       "version_major": 2,
       "version_minor": 0
      },
      "text/plain": [
       "HBox(children=(IntProgress(value=0, description='Filtering Words', max=280, style=ProgressStyle(description_wi…"
      ]
     },
     "metadata": {},
     "output_type": "display_data"
    },
    {
     "data": {
      "application/vnd.jupyter.widget-view+json": {
       "model_id": "",
       "version_major": 2,
       "version_minor": 0
      },
      "text/plain": [
       "HBox(children=(IntProgress(value=0, description='Filtering Words', max=627, style=ProgressStyle(description_wi…"
      ]
     },
     "metadata": {},
     "output_type": "display_data"
    },
    {
     "data": {
      "application/vnd.jupyter.widget-view+json": {
       "model_id": "",
       "version_major": 2,
       "version_minor": 0
      },
      "text/plain": [
       "HBox(children=(IntProgress(value=0, description='Filtering Words', max=357, style=ProgressStyle(description_wi…"
      ]
     },
     "metadata": {},
     "output_type": "display_data"
    },
    {
     "data": {
      "application/vnd.jupyter.widget-view+json": {
       "model_id": "",
       "version_major": 2,
       "version_minor": 0
      },
      "text/plain": [
       "HBox(children=(IntProgress(value=0, description='Filtering Words', max=154, style=ProgressStyle(description_wi…"
      ]
     },
     "metadata": {},
     "output_type": "display_data"
    },
    {
     "data": {
      "application/vnd.jupyter.widget-view+json": {
       "model_id": "",
       "version_major": 2,
       "version_minor": 0
      },
      "text/plain": [
       "HBox(children=(IntProgress(value=0, description='Filtering Words', max=194, style=ProgressStyle(description_wi…"
      ]
     },
     "metadata": {},
     "output_type": "display_data"
    },
    {
     "data": {
      "application/vnd.jupyter.widget-view+json": {
       "model_id": "",
       "version_major": 2,
       "version_minor": 0
      },
      "text/plain": [
       "HBox(children=(IntProgress(value=0, description='Filtering Words', max=712, style=ProgressStyle(description_wi…"
      ]
     },
     "metadata": {},
     "output_type": "display_data"
    },
    {
     "data": {
      "application/vnd.jupyter.widget-view+json": {
       "model_id": "",
       "version_major": 2,
       "version_minor": 0
      },
      "text/plain": [
       "HBox(children=(IntProgress(value=0, description='Filtering Words', max=1103, style=ProgressStyle(description_w…"
      ]
     },
     "metadata": {},
     "output_type": "display_data"
    },
    {
     "data": {
      "application/vnd.jupyter.widget-view+json": {
       "model_id": "",
       "version_major": 2,
       "version_minor": 0
      },
      "text/plain": [
       "HBox(children=(IntProgress(value=0, description='Filtering Words', max=413, style=ProgressStyle(description_wi…"
      ]
     },
     "metadata": {},
     "output_type": "display_data"
    },
    {
     "data": {
      "application/vnd.jupyter.widget-view+json": {
       "model_id": "",
       "version_major": 2,
       "version_minor": 0
      },
      "text/plain": [
       "HBox(children=(IntProgress(value=0, description='Filtering Words', max=387, style=ProgressStyle(description_wi…"
      ]
     },
     "metadata": {},
     "output_type": "display_data"
    },
    {
     "data": {
      "application/vnd.jupyter.widget-view+json": {
       "model_id": "",
       "version_major": 2,
       "version_minor": 0
      },
      "text/plain": [
       "HBox(children=(IntProgress(value=0, description='Filtering Words', max=309, style=ProgressStyle(description_wi…"
      ]
     },
     "metadata": {},
     "output_type": "display_data"
    },
    {
     "data": {
      "application/vnd.jupyter.widget-view+json": {
       "model_id": "",
       "version_major": 2,
       "version_minor": 0
      },
      "text/plain": [
       "HBox(children=(IntProgress(value=0, description='Filtering Words', max=429, style=ProgressStyle(description_wi…"
      ]
     },
     "metadata": {},
     "output_type": "display_data"
    },
    {
     "data": {
      "application/vnd.jupyter.widget-view+json": {
       "model_id": "",
       "version_major": 2,
       "version_minor": 0
      },
      "text/plain": [
       "HBox(children=(IntProgress(value=0, description='Filtering Words', max=297, style=ProgressStyle(description_wi…"
      ]
     },
     "metadata": {},
     "output_type": "display_data"
    },
    {
     "data": {
      "application/vnd.jupyter.widget-view+json": {
       "model_id": "",
       "version_major": 2,
       "version_minor": 0
      },
      "text/plain": [
       "HBox(children=(IntProgress(value=0, description='Filtering Words', max=335, style=ProgressStyle(description_wi…"
      ]
     },
     "metadata": {},
     "output_type": "display_data"
    },
    {
     "data": {
      "application/vnd.jupyter.widget-view+json": {
       "model_id": "",
       "version_major": 2,
       "version_minor": 0
      },
      "text/plain": [
       "HBox(children=(IntProgress(value=0, description='Filtering Words', max=605, style=ProgressStyle(description_wi…"
      ]
     },
     "metadata": {},
     "output_type": "display_data"
    },
    {
     "data": {
      "application/vnd.jupyter.widget-view+json": {
       "model_id": "",
       "version_major": 2,
       "version_minor": 0
      },
      "text/plain": [
       "HBox(children=(IntProgress(value=0, description='Filtering Words', max=704, style=ProgressStyle(description_wi…"
      ]
     },
     "metadata": {},
     "output_type": "display_data"
    },
    {
     "data": {
      "application/vnd.jupyter.widget-view+json": {
       "model_id": "",
       "version_major": 2,
       "version_minor": 0
      },
      "text/plain": [
       "HBox(children=(IntProgress(value=0, description='Filtering Words', max=336, style=ProgressStyle(description_wi…"
      ]
     },
     "metadata": {},
     "output_type": "display_data"
    },
    {
     "data": {
      "application/vnd.jupyter.widget-view+json": {
       "model_id": "",
       "version_major": 2,
       "version_minor": 0
      },
      "text/plain": [
       "HBox(children=(IntProgress(value=0, description='Filtering Words', max=394, style=ProgressStyle(description_wi…"
      ]
     },
     "metadata": {},
     "output_type": "display_data"
    },
    {
     "data": {
      "application/vnd.jupyter.widget-view+json": {
       "model_id": "",
       "version_major": 2,
       "version_minor": 0
      },
      "text/plain": [
       "HBox(children=(IntProgress(value=0, description='Filtering Words', max=171, style=ProgressStyle(description_wi…"
      ]
     },
     "metadata": {},
     "output_type": "display_data"
    },
    {
     "data": {
      "application/vnd.jupyter.widget-view+json": {
       "model_id": "b7650d36118c4cc9a3f4048c49dba701",
       "version_major": 2,
       "version_minor": 0
      },
      "text/plain": [
       "HBox(children=(IntProgress(value=0, description='Filtering Words', max=442, style=ProgressStyle(description_wi…"
      ]
     },
     "metadata": {},
     "output_type": "display_data"
    },
    {
     "name": "stderr",
     "output_type": "stream",
     "text": [
      "IOPub message rate exceeded.\n",
      "The notebook server will temporarily stop sending output\n",
      "to the client in order to avoid crashing it.\n",
      "To change this limit, set the config variable\n",
      "`--NotebookApp.iopub_msg_rate_limit`.\n",
      "\n",
      "Current values:\n",
      "NotebookApp.iopub_msg_rate_limit=1000.0 (msgs/sec)\n",
      "NotebookApp.rate_limit_window=3.0 (secs)\n",
      "\n"
     ]
    }
   ],
   "source": [
    "tokens = transform_tokens(doclist)\n",
    "filtered_tokens, names_list = transform_filtered(tokens, doclist, names)\n",
    "stemmed = transform_stemming(filtered_tokens)"
   ]
  },
  {
   "cell_type": "code",
   "execution_count": 190,
   "metadata": {},
   "outputs": [
    {
     "name": "stdout",
     "output_type": "stream",
     "text": [
      "1 1489\n"
     ]
    },
    {
     "data": {
      "text/plain": [
       "'Approximately 46 percent of the net asset value attributable to our equity-focused portfolio company investments, or 35 percent of our net asset value, as of December 31, 2016, is concentrated in D-Wave Systems, Inc., AgBiome, LLC, and HZO, Inc.. At December 31, 2016, we valued our investment in D-Wave Systems, Inc., which had a historical cost to us of $5,689,311, at $9,714,459, our investment in AgBiome, LLC, which had a historical cost to us of $3,021,746, at $9,214,997, and our investment in HZO, Inc., which had a historical cost to us of $9,132,398, at $6,613,046.. Any downturn in the business outlook and/or substantial changes in the funding requirements of D-Wave Systems, Inc., AgBiome, LLC, and HZO, Inc., could have a significant effect on the value of our current investments in those companies, and the overall value of our portfolio, and could have a significant adverse effect on the value of our common stock..'"
      ]
     },
     "execution_count": 190,
     "metadata": {},
     "output_type": "execute_result"
    }
   ],
   "source": [
    "largest_ngram = 15\n",
    "smallest_ngram = 1\n",
    "largest_ngram = len(max(tokens, key=len))\n",
    "print(smallest_ngram, largest_ngram)\n",
    "max(tokens[0], key=len)\n"
   ]
  },
  {
   "cell_type": "code",
   "execution_count": 191,
   "metadata": {
    "scrolled": true
   },
   "outputs": [
    {
     "name": "stdout",
     "output_type": "stream",
     "text": [
      "Wall time: 738 ms\n"
     ]
    }
   ],
   "source": [
    "\n",
    "%time sparseMatrix, vectorizer = transform_vectorize(stemmed, smallest_ngram, largest_ngram)"
   ]
  },
  {
   "cell_type": "code",
   "execution_count": 192,
   "metadata": {},
   "outputs": [
    {
     "data": {
      "text/plain": [
       "TfidfVectorizer(analyzer='word', binary=False, decode_error='strict',\n",
       "        dtype=<class 'numpy.float64'>, encoding='utf-8', input='content',\n",
       "        lowercase=True, max_df=0.55, max_features=None, min_df=0.01,\n",
       "        ngram_range=(1, 1489), norm='l2', preprocessor=None,\n",
       "        smooth_idf=True,\n",
       "        stop_words=['i', 'me', 'my', 'myself', 'we', 'our', 'ours', 'ourselves', 'you', \"you're\", \"you've\", \"you'll\", \"you'd\", 'your', 'yours', 'yourself', 'yourselves', 'he', 'him', 'his', 'himself', 'she', \"she's\", 'her', 'hers', 'herself', 'it', \"it's\", 'its', 'itself', 'they', 'them', 'their', 'theirs',...)', '[', ']', '{', '}', '%', 'may', 'could', 'contents', 'table', 'time', '25cf', 'factors', 'risk'],\n",
       "        strip_accents=None, sublinear_tf=False,\n",
       "        token_pattern='(?u)\\\\b\\\\w\\\\w+\\\\b', tokenizer=None, use_idf=True,\n",
       "        vocabulary=None)"
      ]
     },
     "execution_count": 192,
     "metadata": {},
     "output_type": "execute_result"
    }
   ],
   "source": [
    "vectorizer"
   ]
  },
  {
   "cell_type": "code",
   "execution_count": 193,
   "metadata": {},
   "outputs": [
    {
     "data": {
      "text/plain": [
       "{'common': 55,\n",
       " 'stock': 330,\n",
       " 'significant': 322,\n",
       " 'risks': 312,\n",
       " 'business': 41,\n",
       " 'investment': 177,\n",
       " 'common stock': 56,\n",
       " 'uncertainties': 359,\n",
       " 'shares': 321,\n",
       " 'face': 124,\n",
       " 'additional': 9,\n",
       " 'currently': 84,\n",
       " 'also': 21,\n",
       " 'impact': 157,\n",
       " 'financial': 130,\n",
       " 'condition': 65,\n",
       " 'results': 306,\n",
       " 'operations': 231,\n",
       " 'materially': 206,\n",
       " 'adversely': 15,\n",
       " 'affected': 19,\n",
       " 'business financial': 42,\n",
       " 'financial condition': 131,\n",
       " 'condition results': 66,\n",
       " 'results operations': 307,\n",
       " 'adversely affected': 17,\n",
       " 'financial condition results': 132,\n",
       " 'condition results operations': 67,\n",
       " 'financial condition results operations': 133,\n",
       " 'event': 114,\n",
       " 'price': 261,\n",
       " 'decline': 91,\n",
       " 'lose': 189,\n",
       " 'part': 237,\n",
       " 'related': 295,\n",
       " 'change': 50,\n",
       " 'bdc': 37,\n",
       " 'price common': 262,\n",
       " 'price common stock': 263,\n",
       " 'required': 300,\n",
       " 'restrictions': 304,\n",
       " 'receive': 291,\n",
       " 'approval': 26,\n",
       " 'shareholders': 320,\n",
       " 'material': 203,\n",
       " 'changes': 51,\n",
       " 'result': 305,\n",
       " 'securities': 314,\n",
       " 'government': 145,\n",
       " 'limited': 187,\n",
       " 'ability': 0,\n",
       " 'invest': 176,\n",
       " 'foreign': 138,\n",
       " 'companies': 57,\n",
       " 'funds': 139,\n",
       " 'order': 233,\n",
       " 'make': 193,\n",
       " 'investments': 178,\n",
       " 'need': 212,\n",
       " 'difficult': 98,\n",
       " 'favorable': 128,\n",
       " 'terms': 349,\n",
       " 'sell': 316,\n",
       " 'substantial': 337,\n",
       " 'loss': 190,\n",
       " 'senior': 317,\n",
       " 'reduce': 292,\n",
       " 'future': 140,\n",
       " 'capital': 45,\n",
       " 'market': 199,\n",
       " 'increase': 162,\n",
       " 'non': 218,\n",
       " 'performance': 244,\n",
       " 'portfolio': 252,\n",
       " 'portfolio companies': 253,\n",
       " 'potential': 257,\n",
       " 'global': 144,\n",
       " 'even': 113,\n",
       " 'economic': 102,\n",
       " 'small': 325,\n",
       " 'businesses': 43,\n",
       " 'continue': 71,\n",
       " 'financing': 134,\n",
       " 'higher': 154,\n",
       " 'number': 219,\n",
       " 'significantly': 323,\n",
       " 'additionally': 11,\n",
       " 'sales': 313,\n",
       " 'transactions': 355,\n",
       " 'public': 285,\n",
       " 'markets': 202,\n",
       " 'general': 141,\n",
       " 'negatively': 214,\n",
       " 'affect': 18,\n",
       " 'available': 34,\n",
       " 'many': 197,\n",
       " 'contracts': 72,\n",
       " 'would': 376,\n",
       " 'products': 272,\n",
       " 'believe': 39,\n",
       " 'raise': 289,\n",
       " 'require': 299,\n",
       " 'company': 58,\n",
       " 'basis': 36,\n",
       " 'additional capital': 10,\n",
       " 'portfolio company': 254,\n",
       " 'valuation': 369,\n",
       " 'effective': 106,\n",
       " 'debt': 90,\n",
       " 'security': 315,\n",
       " 'applicable': 25,\n",
       " 'unable': 357,\n",
       " 'able': 1,\n",
       " 'addition': 8,\n",
       " 'including': 160,\n",
       " 'periods': 246,\n",
       " 'volatility': 373,\n",
       " 'negative': 213,\n",
       " 'effect': 105,\n",
       " 'events': 115,\n",
       " 'capital markets': 46,\n",
       " 'publicly': 286,\n",
       " 'traded': 354,\n",
       " 'prices': 264,\n",
       " 'publicly traded': 287,\n",
       " 'internal': 174,\n",
       " 'value': 370,\n",
       " 'adverse': 13,\n",
       " 'development': 96,\n",
       " 'privately': 266,\n",
       " 'held': 152,\n",
       " 'generally': 142,\n",
       " 'privately held': 267,\n",
       " 'one': 226,\n",
       " 'highly': 155,\n",
       " 'trade': 353,\n",
       " 'increased': 163,\n",
       " 'experience': 121,\n",
       " 'conditions': 68,\n",
       " 'equity': 112,\n",
       " 'united': 360,\n",
       " 'states': 329,\n",
       " 'adversely affect': 16,\n",
       " 'united states': 361,\n",
       " 'federal': 129,\n",
       " 'credit': 80,\n",
       " 'services': 319,\n",
       " 'particular': 238,\n",
       " 'experienced': 122,\n",
       " 'assurance': 30,\n",
       " 'subject': 336,\n",
       " 'net': 216,\n",
       " 'asset': 27,\n",
       " 'without': 375,\n",
       " 'stockholders': 332,\n",
       " 'directors': 99,\n",
       " 'stock price': 331,\n",
       " 'standards': 327,\n",
       " 'us': 366,\n",
       " 'process': 269,\n",
       " 'less': 184,\n",
       " 'amount': 24,\n",
       " 'inability': 158,\n",
       " 'access': 2,\n",
       " 'material adverse': 204,\n",
       " 'adverse effect': 14,\n",
       " 'material adverse effect': 205,\n",
       " 'cause': 48,\n",
       " 'interest': 172,\n",
       " 'rates': 290,\n",
       " 'costs': 76,\n",
       " 'associated': 29,\n",
       " 'interest rates': 173,\n",
       " 'negatively impact': 215,\n",
       " 'countries': 77,\n",
       " 'similar': 324,\n",
       " 'disruptions': 100,\n",
       " 'personal': 247,\n",
       " 'among': 23,\n",
       " 'cannot': 44,\n",
       " 'cost': 75,\n",
       " 'certain': 49,\n",
       " 'program': 275,\n",
       " 'however': 156,\n",
       " 'possible': 256,\n",
       " 'developments': 97,\n",
       " 'high': 153,\n",
       " 'portion': 255,\n",
       " 'preferred': 259,\n",
       " 'pay': 242,\n",
       " 'assets': 28,\n",
       " 'although': 22,\n",
       " 'management': 195,\n",
       " 'profitability': 274,\n",
       " 'losses': 191,\n",
       " 'energy': 110,\n",
       " 'new': 217,\n",
       " 'failure': 127,\n",
       " 'obtain': 221,\n",
       " 'regulatory': 294,\n",
       " 'meet': 209,\n",
       " 'competition': 59,\n",
       " 'protect': 281,\n",
       " 'proprietary': 279,\n",
       " 'technology': 348,\n",
       " 'fluctuations': 136,\n",
       " 'regulations': 293,\n",
       " 'competitive': 60,\n",
       " 'outside': 236,\n",
       " 'successful': 340,\n",
       " 'limit': 186,\n",
       " 'opportunities': 232,\n",
       " 'existing': 117,\n",
       " 'decrease': 92,\n",
       " 'operating': 229,\n",
       " 'policies': 250,\n",
       " 'materials': 207,\n",
       " 'information': 166,\n",
       " 'information technology': 167,\n",
       " 'current': 83,\n",
       " 'operating results': 230,\n",
       " 'acquired': 4,\n",
       " 'otherwise': 235,\n",
       " 'provisions': 284,\n",
       " 'period': 245,\n",
       " 'include': 159,\n",
       " 'offer': 222,\n",
       " 'substantially': 338,\n",
       " 'market price': 200,\n",
       " 'depending': 94,\n",
       " 'often': 225,\n",
       " 'operate': 228,\n",
       " 'cash': 47,\n",
       " 'control': 73,\n",
       " 'others': 234,\n",
       " 'lead': 182,\n",
       " 'agreements': 20,\n",
       " 'obligations': 220,\n",
       " 'incur': 164,\n",
       " 'expenses': 120,\n",
       " 'extent': 123,\n",
       " 'upon': 365,\n",
       " 'expect': 119,\n",
       " 'manner': 196,\n",
       " 'based': 35,\n",
       " 'success': 339,\n",
       " 'claims': 52,\n",
       " 'income': 161,\n",
       " 'use': 367,\n",
       " 'provide': 283,\n",
       " 'respect': 303,\n",
       " 'generate': 143,\n",
       " 'revenue': 309,\n",
       " 'political': 251,\n",
       " 'controls': 74,\n",
       " 'legal': 183,\n",
       " 'requirements': 301,\n",
       " 'tax': 347,\n",
       " 'laws': 180,\n",
       " 'currency': 81,\n",
       " 'exchange': 116,\n",
       " 'currency exchange': 82,\n",
       " 'customers': 86,\n",
       " 'products services': 273,\n",
       " 'revenues': 310,\n",
       " 'system': 345,\n",
       " 'service': 318,\n",
       " 'fail': 126,\n",
       " 'rights': 311,\n",
       " 'prevent': 260,\n",
       " 'maintain': 192,\n",
       " 'harm': 151,\n",
       " 'depends': 95,\n",
       " 'relationships': 296,\n",
       " 'key': 179,\n",
       " 'grow': 149,\n",
       " 'achieve': 3,\n",
       " 'effectively': 107,\n",
       " 'must': 210,\n",
       " 'expand': 118,\n",
       " 'past': 241,\n",
       " 'attract': 33,\n",
       " 'adequate': 12,\n",
       " 'third': 350,\n",
       " 'party': 240,\n",
       " 'third party': 352,\n",
       " 'procedures': 268,\n",
       " 'various': 372,\n",
       " 'used': 368,\n",
       " 'product': 270,\n",
       " 'well': 374,\n",
       " 'growth': 150,\n",
       " 'strategy': 333,\n",
       " 'manage': 194,\n",
       " 'employees': 109,\n",
       " 'personnel': 248,\n",
       " 'retain': 308,\n",
       " 'resources': 302,\n",
       " 'due': 101,\n",
       " 'rely': 297,\n",
       " 'connection': 69,\n",
       " 'cyber': 87,\n",
       " 'systems': 346,\n",
       " 'natural': 211,\n",
       " 'support': 344,\n",
       " 'computer': 64,\n",
       " 'data': 89,\n",
       " 'variety': 371,\n",
       " 'measures': 208,\n",
       " 'attacks': 31,\n",
       " 'unauthorized': 358,\n",
       " 'damage': 88,\n",
       " 'reputation': 298,\n",
       " 'litigation': 188,\n",
       " 'penalties': 243,\n",
       " 'activities': 7,\n",
       " 'become': 38,\n",
       " 'beyond': 40,\n",
       " 'protection': 282,\n",
       " 'compliance': 62,\n",
       " 'laws regulations': 181,\n",
       " 'efforts': 108,\n",
       " 'comply': 63,\n",
       " 'attention': 32,\n",
       " 'incur significant': 165,\n",
       " 'following': 137,\n",
       " 'offerings': 224,\n",
       " 'marketing': 201,\n",
       " 'programs': 276,\n",
       " 'customer': 85,\n",
       " 'online': 227,\n",
       " 'course': 78,\n",
       " 'acquisitions': 6,\n",
       " 'demand': 93,\n",
       " 'suffer': 342,\n",
       " 'quality': 288,\n",
       " 'parties': 239,\n",
       " 'third parties': 351,\n",
       " 'internet': 175,\n",
       " 'successfully': 341,\n",
       " 'content': 70,\n",
       " 'competitors': 61,\n",
       " 'margins': 198,\n",
       " 'state': 328,\n",
       " 'property': 277,\n",
       " 'fines': 135,\n",
       " 'privacy': 265,\n",
       " 'software': 326,\n",
       " 'liability': 185,\n",
       " 'intellectual': 169,\n",
       " 'intellectual property': 170,\n",
       " 'practices': 258,\n",
       " 'property rights': 278,\n",
       " 'intellectual property rights': 171,\n",
       " 'acquisition': 5,\n",
       " 'product liability': 271,\n",
       " 'graduate': 146,\n",
       " 'students': 335,\n",
       " 'graduate programs': 148,\n",
       " 'educational': 104,\n",
       " 'university': 362,\n",
       " 'clients': 54,\n",
       " 'university clients': 364,\n",
       " 'courses': 79,\n",
       " 'education': 103,\n",
       " 'faculty': 125,\n",
       " 'offering': 223,\n",
       " 'client': 53,\n",
       " 'prospective': 280,\n",
       " 'university client': 363,\n",
       " 'student': 334,\n",
       " 'enrollment': 111,\n",
       " 'graduate program': 147,\n",
       " 'platform': 249,\n",
       " 'infrastructure': 168,\n",
       " 'tthe': 356,\n",
       " 'suppliers': 343}"
      ]
     },
     "execution_count": 193,
     "metadata": {},
     "output_type": "execute_result"
    }
   ],
   "source": [
    "vectorizer.vocabulary_"
   ]
  },
  {
   "cell_type": "code",
   "execution_count": 194,
   "metadata": {},
   "outputs": [],
   "source": [
    "import matplotlib.pyplot as plt\n",
    "def plot_coo_matrix(m):\n",
    "    if not isinstance(m, coo_matrix):\n",
    "        m = coo_matrix(m)\n",
    "    fig = plt.figure()\n",
    "    ax = fig.add_subplot(111, facecolor='black')\n",
    "    ax.plot(m.col, m.row, 's', color='white', ms=1)\n",
    "    ax.set_xlim(0, m.shape[1])\n",
    "    ax.set_ylim(0, m.shape[0])\n",
    "    ax.set_aspect('equal')\n",
    "    for spine in ax.spines.values():\n",
    "        spine.set_visible(False)\n",
    "    ax.invert_yaxis()\n",
    "    ax.set_aspect('equal')\n",
    "    ax.set_xticks([])\n",
    "    ax.set_yticks([])\n",
    "    return ax"
   ]
  },
  {
   "cell_type": "code",
   "execution_count": 195,
   "metadata": {},
   "outputs": [
    {
     "data": {
      "text/plain": [
       "<1330x377 sparse matrix of type '<class 'numpy.float64'>'\n",
       "\twith 12229 stored elements in Compressed Sparse Row format>"
      ]
     },
     "execution_count": 195,
     "metadata": {},
     "output_type": "execute_result"
    }
   ],
   "source": [
    "sparseMatrix\n",
    "# With this, each column in the matrix represents a word in the vocabulary\n",
    "# each row represents the document in our dataset\n",
    "# where the values in this case are the word counts or Doc Freq if we are using tfidf vectorizer"
   ]
  },
  {
   "cell_type": "code",
   "execution_count": 196,
   "metadata": {},
   "outputs": [
    {
     "name": "stderr",
     "output_type": "stream",
     "text": [
      "C:\\Users\\xanen\\Anaconda3\\envs\\Tensor\\lib\\site-packages\\matplotlib\\figure.py:445: UserWarning: Matplotlib is currently using module://ipykernel.pylab.backend_inline, which is a non-GUI backend, so cannot show the figure.\n",
      "  % get_backend())\n"
     ]
    },
    {
     "data": {
      "image/png": "[encoded data removed]",
      "text/plain": [
       "<Figure size 432x288 with 1 Axes>"
      ]
     },
     "metadata": {},
     "output_type": "display_data"
    }
   ],
   "source": [
    "plot_coo_matrix(sparseMatrix).figure.show()\n",
    "# This is causing mem issues 2/12/19"
   ]
  },
  {
   "cell_type": "code",
   "execution_count": 197,
   "metadata": {},
   "outputs": [],
   "source": [
    "# from sklearn.model_selection import GridSearchCV    \n",
    "# model = KMeans(init='k-means++', random_state=42, n_init=15\n",
    "#                    )\n",
    "# param_grid = {'max_iter': [10, 50, 100, 150, 200, 250, 300, 350, 400, 500, 1000],\n",
    "#              'n_clusters': [25,30, 33, 35],\n",
    "#              }\n",
    "# grid = GridSearchCV(model, param_grid, verbose=3, n_jobs=8)\n",
    "# grid.fit(sparseMatrix)\n",
    "\n",
    "# lids = model.cluster_centers_\n",
    "  \n",
    "# score = model.score(sparseMatrix)\n",
    "# silhouette_score = metrics.silhouette_score(sparseMatrix, labels, metric='euclidean')\n"
   ]
  },
  {
   "cell_type": "code",
   "execution_count": 198,
   "metadata": {},
   "outputs": [],
   "source": [
    "# List the best parameters for this dataset\n",
    "# print(grid.best_params_)\n",
    "# List the best score\n",
    "# print(grid.best_score_)"
   ]
  },
  {
   "cell_type": "code",
   "execution_count": 199,
   "metadata": {},
   "outputs": [],
   "source": [
    "def estimator_cluster(sparseMatrix, vectorizer):\n",
    "    truek = 35 ## FROM GRID SEARCH\n",
    "    model = KMeans(n_clusters=truek, init='k-means++',\n",
    "                   max_iter=50, n_init=1, random_state=42,\n",
    "                   )\n",
    "    model.fit(sparseMatrix)\n",
    "    \n",
    "    model_time = datetime.now().strftime(\"%b%d-%I%M%p\")\n",
    "    joblib.dump(model,  f'outputs/s2s{model_time}.pkl')\n",
    "    joblib.dump(vectorizer,  f'outputs/vec{model_time}.pkl')\n",
    "    order_centroids = model.cluster_centers_.argsort()[:, ::-1]\n",
    "    terms = vectorizer.get_feature_names()\n",
    "\n",
    "    return terms, order_centroids, model, truek, model_time"
   ]
  },
  {
   "cell_type": "code",
   "execution_count": 200,
   "metadata": {},
   "outputs": [
    {
     "name": "stdout",
     "output_type": "stream",
     "text": [
      "Wall time: 1.3 s\n"
     ]
    }
   ],
   "source": [
    "# THIS TAKES ~~ 1m per 100 documents\n",
    "%time terms, order_centroids, model, truek, model_time = estimator_cluster(sparseMatrix, vectorizer)"
   ]
  },
  {
   "cell_type": "code",
   "execution_count": 201,
   "metadata": {},
   "outputs": [
    {
     "name": "stdout",
     "output_type": "stream",
     "text": [
      "Model Generated at Feb14-1144AM\n",
      "Cluster id labels for inputted data\n",
      "[ 0 15 24 ...  0 30  0]\n",
      "Centroids data\n",
      "Score (Opposite of the value of X on the K-means objective, \n",
      " which is Sum of distances of samples to their closest cluster center):\n",
      "-992.812894710457\n",
      "Silhouette_score: \n",
      "0.040092765147563915\n"
     ]
    },
    {
     "data": {
      "text/plain": [
       "(-992.812894710457, 0.040092765147563915)"
      ]
     },
     "execution_count": 201,
     "metadata": {},
     "output_type": "execute_result"
    }
   ],
   "source": [
    "def estimator_ppscore(model):\n",
    "    labels = model.labels_\n",
    "    centroids = model.cluster_centers_\n",
    "\n",
    "    print(f\"Model Generated at {model_time}\")\n",
    "    \n",
    "    print (\"Cluster id labels for inputted data\")\n",
    "    print (labels)\n",
    "    print (\"Centroids data\")\n",
    "    #print (centroids)\n",
    "\n",
    "    kmeans_score  = model.score(sparseMatrix)\n",
    "    print (\"Score (Opposite of the value of X on the K-means objective, \\n\",\n",
    "           \"which is Sum of distances of samples to their closest cluster center):\")\n",
    "    print (kmeans_score)\n",
    "\n",
    "    silhouette_score = metrics.silhouette_score(sparseMatrix, labels, metric='euclidean')\n",
    "\n",
    "    print (\"Silhouette_score: \")\n",
    "    print (silhouette_score)\n",
    "    return kmeans_score, silhouette_score\n",
    "\n",
    "\n",
    "estimator_ppscore(model)"
   ]
  },
  {
   "cell_type": "code",
   "execution_count": 202,
   "metadata": {},
   "outputs": [],
   "source": [
    "# using joblib to pickle model\n",
    "def estimator_load_model(model_time):\n",
    "    model = joblib.load(f'outputs/s2s{model_time}.pkl')\n",
    "    vectorizer = joblib.load(f'outputs/vec{model_time}.pkl')\n",
    "    return model, vectorizer\n",
    "# TODO IMPORTANT RETURN VECTORIZER\n",
    "model, vectorizer = estimator_load_model('Feb14-0905AM')\n"
   ]
  },
  {
   "cell_type": "code",
   "execution_count": 203,
   "metadata": {},
   "outputs": [
    {
     "name": "stdout",
     "output_type": "stream",
     "text": [
      "Cluster 0:\n",
      " company\n",
      " business\n",
      " products\n",
      " us\n",
      " significant\n",
      " laws\n",
      " future\n",
      " customers\n",
      " investments\n",
      " capital\n",
      "Cluster 1:\n",
      " systems\n",
      " data\n",
      " security\n",
      " cyber\n",
      " computer\n",
      " attacks\n",
      " events\n",
      " measures\n",
      " disruptions\n",
      " unauthorized\n",
      "Cluster 2:\n",
      " material\n",
      " condition results operations\n",
      " financial condition results operations\n",
      " condition results\n",
      " financial condition results\n",
      " business financial\n",
      " material adverse effect\n",
      " material adverse\n",
      " adverse effect\n",
      " condition\n",
      "Cluster 3:\n",
      " period\n",
      " possible\n",
      " including\n",
      " operating\n",
      " operating results\n",
      " results\n",
      " products\n",
      " rely\n",
      " performance\n",
      " number\n",
      "Cluster 4:\n",
      " current\n",
      " future\n",
      " potential\n",
      " negative\n",
      " services\n",
      " impact\n",
      " although\n",
      " operations\n",
      " public\n",
      " variety\n",
      "Cluster 5:\n",
      " applicable\n",
      " company\n",
      " believe\n",
      " agreements\n",
      " similar\n",
      " business\n",
      " states\n",
      " sales\n",
      " addition\n",
      " operations\n",
      "Cluster 6:\n",
      " adverse effect\n",
      " effect\n",
      " material adverse effect\n",
      " material adverse\n",
      " material\n",
      " adverse\n",
      " company\n",
      " adequate\n",
      " possible\n",
      " fluctuations\n",
      "Cluster 7:\n",
      " intellectual\n",
      " intellectual property\n",
      " property\n",
      " rights\n",
      " property rights\n",
      " intellectual property rights\n",
      " claims\n",
      " litigation\n",
      " protect\n",
      " third\n",
      "Cluster 8:\n",
      " software\n",
      " platform\n",
      " services\n",
      " materials\n",
      " third party\n",
      " third\n",
      " party\n",
      " use\n",
      " us\n",
      " offer\n",
      "Cluster 9:\n",
      " currency\n",
      " foreign\n",
      " exchange\n",
      " currency exchange\n",
      " rates\n",
      " operations\n",
      " fluctuations\n",
      " interest\n",
      " transactions\n",
      " interest rates\n",
      "Cluster 10:\n",
      " securities\n",
      " volatility\n",
      " market price\n",
      " price\n",
      " market\n",
      " litigation\n",
      " often\n",
      " company\n",
      " following\n",
      " past\n",
      "Cluster 11:\n",
      " parties\n",
      " third parties\n",
      " third\n",
      " use\n",
      " unauthorized\n",
      " intellectual property\n",
      " intellectual\n",
      " property\n",
      " customers\n",
      " company\n",
      "Cluster 12:\n",
      " university client\n",
      " client\n",
      " university\n",
      " program\n",
      " programs\n",
      " offerings\n",
      " new\n",
      " graduate\n",
      " student\n",
      " ability\n",
      "Cluster 13:\n",
      " information\n",
      " business\n",
      " information technology\n",
      " company\n",
      " privacy\n",
      " technology\n",
      " security\n",
      " systems\n",
      " personal\n",
      " data\n",
      "Cluster 14:\n",
      " held\n",
      " privately held\n",
      " privately\n",
      " securities\n",
      " companies\n",
      " publicly traded\n",
      " traded\n",
      " publicly\n",
      " portfolio\n",
      " small\n",
      "Cluster 15:\n",
      " stock\n",
      " common\n",
      " common stock\n",
      " price\n",
      " stock price\n",
      " preferred\n",
      " market\n",
      " investment\n",
      " cash\n",
      " equity\n",
      "Cluster 16:\n",
      " adversely\n",
      " adversely affect\n",
      " affect\n",
      " operations\n",
      " results\n",
      " financial\n",
      " results operations\n",
      " company\n",
      " business\n",
      " financial condition\n",
      "Cluster 17:\n",
      " party\n",
      " third party\n",
      " third\n",
      " customers\n",
      " company\n",
      " service\n",
      " us\n",
      " platform\n",
      " addition\n",
      " use\n",
      "Cluster 18:\n",
      " financial condition results\n",
      " financial condition results operations\n",
      " condition results operations\n",
      " condition results\n",
      " condition\n",
      " financial condition\n",
      " results operations\n",
      " business financial\n",
      " financial\n",
      " results\n",
      "Cluster 19:\n",
      " obligations\n",
      " company\n",
      " rates\n",
      " performance\n",
      " markets\n",
      " impact\n",
      " financial\n",
      " would\n",
      " faculty\n",
      " expenses\n",
      "Cluster 20:\n",
      " common\n",
      " common stock\n",
      " price common\n",
      " stock\n",
      " price common stock\n",
      " price\n",
      " market price\n",
      " market\n",
      " decline\n",
      " stockholders\n",
      "Cluster 21:\n",
      " control\n",
      " provisions\n",
      " prevent\n",
      " foreign\n",
      " controls\n",
      " change\n",
      " internal\n",
      " even\n",
      " laws\n",
      " assurance\n",
      "Cluster 22:\n",
      " securities\n",
      " equity\n",
      " market\n",
      " generally\n",
      " investment\n",
      " investments\n",
      " companies\n",
      " price\n",
      " debt\n",
      " invest\n",
      "Cluster 23:\n",
      " product liability\n",
      " product\n",
      " claims\n",
      " liability\n",
      " products\n",
      " subject\n",
      " although\n",
      " reputation\n",
      " damage\n",
      " company\n",
      "Cluster 24:\n",
      " common stock\n",
      " stock\n",
      " shares\n",
      " common\n",
      " respect\n",
      " price\n",
      " stock price\n",
      " uncertainties\n",
      " including\n",
      " would\n",
      "Cluster 25:\n",
      " results\n",
      " operating results\n",
      " operating\n",
      " future\n",
      " company\n",
      " suffer\n",
      " cause\n",
      " financial\n",
      " uncertainties\n",
      " affected\n",
      "Cluster 26:\n",
      " value\n",
      " net\n",
      " asset\n",
      " investments\n",
      " assets\n",
      " decrease\n",
      " common\n",
      " market\n",
      " common stock\n",
      " stock\n",
      "Cluster 27:\n",
      " clients\n",
      " university clients\n",
      " university\n",
      " students\n",
      " offerings\n",
      " new\n",
      " programs\n",
      " revenue\n",
      " ability\n",
      " courses\n",
      "Cluster 28:\n",
      " successful\n",
      " claims\n",
      " ability\n",
      " business\n",
      " company\n",
      " materially\n",
      " intellectual\n",
      " intellectual property\n",
      " substantial\n",
      " property\n",
      "Cluster 29:\n",
      " often\n",
      " legal\n",
      " regulatory\n",
      " difficult\n",
      " litigation\n",
      " including\n",
      " company\n",
      " fines\n",
      " fail\n",
      " expect\n",
      "Cluster 30:\n",
      " adverse\n",
      " adverse effect\n",
      " cash\n",
      " results operations\n",
      " effect\n",
      " material adverse effect\n",
      " material adverse\n",
      " results\n",
      " operations\n",
      " material\n",
      "Cluster 31:\n",
      " acquisition\n",
      " business\n",
      " investment\n",
      " new\n",
      " process\n",
      " connection\n",
      " management\n",
      " transactions\n",
      " following\n",
      " even\n",
      "Cluster 32:\n",
      " portfolio\n",
      " portfolio companies\n",
      " companies\n",
      " portfolio company\n",
      " company\n",
      " investment\n",
      " investments\n",
      " debt\n",
      " valuation\n",
      " capital\n",
      "Cluster 33:\n",
      " new\n",
      " products\n",
      " adequate\n",
      " inability\n",
      " protection\n",
      " adversely affected\n",
      " product\n",
      " development\n",
      " obtain\n",
      " intellectual property\n",
      "Cluster 34:\n",
      " following\n",
      " outside\n",
      " student\n",
      " many\n",
      " control\n",
      " addition\n",
      " successfully\n",
      " manner\n",
      " enrollment\n",
      " effective\n"
     ]
    }
   ],
   "source": [
    "nclosest_words_to_show = 10\n",
    "for i in range(truek):\n",
    "    print('Cluster %d:' % i),\n",
    "    for ind in order_centroids[i, :nclosest_words_to_show]:\n",
    "        print(' %s' % terms[ind])"
   ]
  },
  {
   "cell_type": "code",
   "execution_count": 204,
   "metadata": {},
   "outputs": [],
   "source": [
    "def estimator_predict_string(string):\n",
    "    empty_list = []\n",
    "    print('Input String: %s' % string)\n",
    "    print('\\n')\n",
    "    print('Prediction:')\n",
    "                \n",
    "    X = vectorizer.transform([string])\n",
    "    predicted = model.predict(X)\n",
    "    print('kmeans prediction: %s' % predicted)\n",
    "    print(\"closest cluster centers :\")\n",
    "    for ind in order_centroids[predicted[0], :2]:\n",
    "        print(' %s' % terms[ind])\n",
    "    return X\n"
   ]
  },
  {
   "cell_type": "code",
   "execution_count": 205,
   "metadata": {},
   "outputs": [],
   "source": [
    "# estimator_predict_string ('The hackers stole all our bitcoin!')"
   ]
  },
  {
   "cell_type": "code",
   "execution_count": 206,
   "metadata": {},
   "outputs": [
    {
     "data": {
      "text/plain": [
       "['ability',\n",
       " 'able',\n",
       " 'access',\n",
       " 'achieve',\n",
       " 'acquired',\n",
       " 'acquisition',\n",
       " 'acquisitions',\n",
       " 'activities',\n",
       " 'addition',\n",
       " 'additional',\n",
       " 'additional capital',\n",
       " 'additionally',\n",
       " 'adequate',\n",
       " 'adverse',\n",
       " 'adverse effect',\n",
       " 'adversely',\n",
       " 'adversely affect',\n",
       " 'adversely affected',\n",
       " 'affect',\n",
       " 'affected',\n",
       " 'agreements',\n",
       " 'also',\n",
       " 'although',\n",
       " 'among',\n",
       " 'amount',\n",
       " 'applicable',\n",
       " 'approval',\n",
       " 'asset',\n",
       " 'assets',\n",
       " 'associated',\n",
       " 'assurance',\n",
       " 'attacks',\n",
       " 'attention',\n",
       " 'attract',\n",
       " 'available',\n",
       " 'based',\n",
       " 'basis',\n",
       " 'bdc',\n",
       " 'become',\n",
       " 'believe',\n",
       " 'beyond',\n",
       " 'business',\n",
       " 'business financial',\n",
       " 'businesses',\n",
       " 'cannot',\n",
       " 'capital',\n",
       " 'capital markets',\n",
       " 'cash',\n",
       " 'cause',\n",
       " 'certain',\n",
       " 'change',\n",
       " 'changes',\n",
       " 'claims',\n",
       " 'client',\n",
       " 'clients',\n",
       " 'common',\n",
       " 'common stock',\n",
       " 'companies',\n",
       " 'company',\n",
       " 'competition',\n",
       " 'competitive',\n",
       " 'competitors',\n",
       " 'compliance',\n",
       " 'comply',\n",
       " 'computer',\n",
       " 'condition',\n",
       " 'condition results',\n",
       " 'condition results operations',\n",
       " 'conditions',\n",
       " 'connection',\n",
       " 'content',\n",
       " 'continue',\n",
       " 'contracts',\n",
       " 'control',\n",
       " 'controls',\n",
       " 'cost',\n",
       " 'costs',\n",
       " 'countries',\n",
       " 'course',\n",
       " 'courses',\n",
       " 'credit',\n",
       " 'currency',\n",
       " 'currency exchange',\n",
       " 'current',\n",
       " 'currently',\n",
       " 'customer',\n",
       " 'customers',\n",
       " 'cyber',\n",
       " 'damage',\n",
       " 'data',\n",
       " 'debt',\n",
       " 'decline',\n",
       " 'decrease',\n",
       " 'demand',\n",
       " 'depending',\n",
       " 'depends',\n",
       " 'development',\n",
       " 'developments',\n",
       " 'difficult',\n",
       " 'directors',\n",
       " 'disruptions',\n",
       " 'due',\n",
       " 'economic',\n",
       " 'education',\n",
       " 'educational',\n",
       " 'effect',\n",
       " 'effective',\n",
       " 'effectively',\n",
       " 'efforts',\n",
       " 'employees',\n",
       " 'energy',\n",
       " 'enrollment',\n",
       " 'equity',\n",
       " 'even',\n",
       " 'event',\n",
       " 'events',\n",
       " 'exchange',\n",
       " 'existing',\n",
       " 'expand',\n",
       " 'expect',\n",
       " 'expenses',\n",
       " 'experience',\n",
       " 'experienced',\n",
       " 'extent',\n",
       " 'face',\n",
       " 'faculty',\n",
       " 'fail',\n",
       " 'failure',\n",
       " 'favorable',\n",
       " 'federal',\n",
       " 'financial',\n",
       " 'financial condition',\n",
       " 'financial condition results',\n",
       " 'financial condition results operations',\n",
       " 'financing',\n",
       " 'fines',\n",
       " 'fluctuations',\n",
       " 'following',\n",
       " 'foreign',\n",
       " 'funds',\n",
       " 'future',\n",
       " 'general',\n",
       " 'generally',\n",
       " 'generate',\n",
       " 'global',\n",
       " 'government',\n",
       " 'graduate',\n",
       " 'graduate program',\n",
       " 'graduate programs',\n",
       " 'grow',\n",
       " 'growth',\n",
       " 'harm',\n",
       " 'held',\n",
       " 'high',\n",
       " 'higher',\n",
       " 'highly',\n",
       " 'however',\n",
       " 'impact',\n",
       " 'inability',\n",
       " 'include',\n",
       " 'including',\n",
       " 'income',\n",
       " 'increase',\n",
       " 'increased',\n",
       " 'incur',\n",
       " 'incur significant',\n",
       " 'information',\n",
       " 'information technology',\n",
       " 'infrastructure',\n",
       " 'intellectual',\n",
       " 'intellectual property',\n",
       " 'intellectual property rights',\n",
       " 'interest',\n",
       " 'interest rates',\n",
       " 'internal',\n",
       " 'internet',\n",
       " 'invest',\n",
       " 'investment',\n",
       " 'investments',\n",
       " 'key',\n",
       " 'laws',\n",
       " 'laws regulations',\n",
       " 'lead',\n",
       " 'legal',\n",
       " 'less',\n",
       " 'liability',\n",
       " 'limit',\n",
       " 'limited',\n",
       " 'litigation',\n",
       " 'lose',\n",
       " 'loss',\n",
       " 'losses',\n",
       " 'maintain',\n",
       " 'make',\n",
       " 'manage',\n",
       " 'management',\n",
       " 'manner',\n",
       " 'many',\n",
       " 'margins',\n",
       " 'market',\n",
       " 'market price',\n",
       " 'marketing',\n",
       " 'markets',\n",
       " 'material',\n",
       " 'material adverse',\n",
       " 'material adverse effect',\n",
       " 'materially',\n",
       " 'materials',\n",
       " 'measures',\n",
       " 'meet',\n",
       " 'must',\n",
       " 'natural',\n",
       " 'need',\n",
       " 'negative',\n",
       " 'negatively',\n",
       " 'negatively impact',\n",
       " 'net',\n",
       " 'new',\n",
       " 'non',\n",
       " 'number',\n",
       " 'obligations',\n",
       " 'obtain',\n",
       " 'offer',\n",
       " 'offering',\n",
       " 'offerings',\n",
       " 'often',\n",
       " 'one',\n",
       " 'online',\n",
       " 'operate',\n",
       " 'operating',\n",
       " 'operating results',\n",
       " 'operations',\n",
       " 'opportunities',\n",
       " 'order',\n",
       " 'others',\n",
       " 'otherwise',\n",
       " 'outside',\n",
       " 'part',\n",
       " 'particular',\n",
       " 'parties',\n",
       " 'party',\n",
       " 'past',\n",
       " 'pay',\n",
       " 'penalties',\n",
       " 'performance',\n",
       " 'period',\n",
       " 'periods',\n",
       " 'personal',\n",
       " 'personnel',\n",
       " 'platform',\n",
       " 'policies',\n",
       " 'political',\n",
       " 'portfolio',\n",
       " 'portfolio companies',\n",
       " 'portfolio company',\n",
       " 'portion',\n",
       " 'possible',\n",
       " 'potential',\n",
       " 'practices',\n",
       " 'preferred',\n",
       " 'prevent',\n",
       " 'price',\n",
       " 'price common',\n",
       " 'price common stock',\n",
       " 'prices',\n",
       " 'privacy',\n",
       " 'privately',\n",
       " 'privately held',\n",
       " 'procedures',\n",
       " 'process',\n",
       " 'product',\n",
       " 'product liability',\n",
       " 'products',\n",
       " 'products services',\n",
       " 'profitability',\n",
       " 'program',\n",
       " 'programs',\n",
       " 'property',\n",
       " 'property rights',\n",
       " 'proprietary',\n",
       " 'prospective',\n",
       " 'protect',\n",
       " 'protection',\n",
       " 'provide',\n",
       " 'provisions',\n",
       " 'public',\n",
       " 'publicly',\n",
       " 'publicly traded',\n",
       " 'quality',\n",
       " 'raise',\n",
       " 'rates',\n",
       " 'receive',\n",
       " 'reduce',\n",
       " 'regulations',\n",
       " 'regulatory',\n",
       " 'related',\n",
       " 'relationships',\n",
       " 'rely',\n",
       " 'reputation',\n",
       " 'require',\n",
       " 'required',\n",
       " 'requirements',\n",
       " 'resources',\n",
       " 'respect',\n",
       " 'restrictions',\n",
       " 'result',\n",
       " 'results',\n",
       " 'results operations',\n",
       " 'retain',\n",
       " 'revenue',\n",
       " 'revenues',\n",
       " 'rights',\n",
       " 'risks',\n",
       " 'sales',\n",
       " 'securities',\n",
       " 'security',\n",
       " 'sell',\n",
       " 'senior',\n",
       " 'service',\n",
       " 'services',\n",
       " 'shareholders',\n",
       " 'shares',\n",
       " 'significant',\n",
       " 'significantly',\n",
       " 'similar',\n",
       " 'small',\n",
       " 'software',\n",
       " 'standards',\n",
       " 'state',\n",
       " 'states',\n",
       " 'stock',\n",
       " 'stock price',\n",
       " 'stockholders',\n",
       " 'strategy',\n",
       " 'student',\n",
       " 'students',\n",
       " 'subject',\n",
       " 'substantial',\n",
       " 'substantially',\n",
       " 'success',\n",
       " 'successful',\n",
       " 'successfully',\n",
       " 'suffer',\n",
       " 'suppliers',\n",
       " 'support',\n",
       " 'system',\n",
       " 'systems',\n",
       " 'tax',\n",
       " 'technology',\n",
       " 'terms',\n",
       " 'third',\n",
       " 'third parties',\n",
       " 'third party',\n",
       " 'trade',\n",
       " 'traded',\n",
       " 'transactions',\n",
       " 'tthe',\n",
       " 'unable',\n",
       " 'unauthorized',\n",
       " 'uncertainties',\n",
       " 'united',\n",
       " 'united states',\n",
       " 'university',\n",
       " 'university client',\n",
       " 'university clients',\n",
       " 'upon',\n",
       " 'us',\n",
       " 'use',\n",
       " 'used',\n",
       " 'valuation',\n",
       " 'value',\n",
       " 'variety',\n",
       " 'various',\n",
       " 'volatility',\n",
       " 'well',\n",
       " 'without',\n",
       " 'would']"
      ]
     },
     "execution_count": 206,
     "metadata": {},
     "output_type": "execute_result"
    }
   ],
   "source": [
    "terms"
   ]
  },
  {
   "cell_type": "code",
   "execution_count": 207,
   "metadata": {},
   "outputs": [],
   "source": [
    "# SUMMARIZATION OF CORPORATE RISK FACTOR DISCLOSURE THROUGH TOPIC MODELING by Bao, Datta\n",
    "strings = [\n",
    "    'Topic 0: investment, property, distribution, interest, agreement',\n",
    "    'Topic 1: regulation, change, law, financial, operation, tax, accounting ',\n",
    "    'Topic 2: gas, price, oil, natural, operation, production Input prices risks ',\n",
    "    'Topic 3: stock, price, share, market, future, dividend, security, stakeholder ',\n",
    "    'Topic 4: cost, regulation, environmental, law, operation, liability',\n",
    "    'Topic 5: control, financial, internal, loss, reporting, history ',\n",
    "    'Topic 6: financial, litigation, operation, condition, action, legal, liability, regulatory, claim, lawsuit'\n",
    "    'Topic 7: competitive, industry, competition, highly',\n",
    "    'Topic 8: cost, operation, labor, operating, employee, increase, acquisition ',\n",
    "    'Topic 9: product, candidate, development, approval, clinical, regulatory',\n",
    "    'Topic 10: tax, income, asset, net, goodwill, loss, distribution, impairment, intangible ',\n",
    "    'Topic 11: interest, director, officer, trust, combination, share, conflict ',\n",
    "    'Topic 12: product, liability, claim, market, insurance, sale, revenue Potential defects in products',\n",
    "    'Topic 13: loan, real, estate, investment, property, market, loss, portfolio ',\n",
    "    'Topic 14: personnel, key, retain, attract, management, employee ',\n",
    "    'Topic 15: stock, price, operating, stockholder, fluctuate, interest, volatile  ',\n",
    "    'Topic 16: acquisition, growth, future, operation, additional, capital, strategy ',\n",
    "    'Topic 17: condition, economic, financial, market, industry, change, affected, downturn, demand Macroeconomic risks ',\n",
    "    'Topic 18: system, service, information, failure, product, operation, software, network, breach, interruption Disruption of operations'\n",
    "    'Topic 19: cost, contract, operation, plan, increase, pension, delay',\n",
    "    'Topic 20: customer, product, revenue, sale, supplier, relationship, key, portion, contract, manufacturing, rely Rely on few large customers',\n",
    "    'Topic 21: property, intellectual, protect, proprietary, technology, patent, protection, harm',\n",
    "    'Topic 22: product, market, service, change, sale, demand, successfully, technology, competition Volatile demand and results',\n",
    "    'Topic 23: provision, law, control, change, stock, prevent, stockholder, Delaware, charter, delay, bylaw',\n",
    "    'Topic 24: regulation, government, change, revenue, contract, law, service',\n",
    "    'Topic 25: capital, credit, financial, market, cost, operation, rating, access, liquidity, downgrade ',\n",
    "    'Topic 26: debt, indebtedness, cash, obligation, financial, credit, ',\n",
    "    'Topic 27: operation, international, foreign, currency, rate, fluctuation',\n",
    "    'Topic 28: loss, insurance, financial, loan, reserve, operation, cover',\n",
    "    'Topic 29: operation, natural, facility, disaster, event, terrorist, weather ']\n",
    "topics = [topic.split(\":\")[1] for topic in strings]"
   ]
  },
  {
   "cell_type": "code",
   "execution_count": 208,
   "metadata": {},
   "outputs": [],
   "source": [
    "targets = {\n",
    "    \"Shareholder’s interest risk\": topics[0],\n",
    "    \"Regulation changes(accounting)\": topics[1],\n",
    "    \"Stakeholder’s profit\": topics[2],\n",
    "    \"Regulation changes(environment)\": topics[3],\n",
    "    \"Legal Risks\": topics[4],\n",
    "    \"Financial condition risks \": topics[5],\n",
    "    \" Potential/Ongoing Lawsuits\": topics[6],\n",
    "    \"market Competition risks\": topics[7],\n",
    "    \"**Labor cost \": topics[8],\n",
    "    \" New product introduction risks \": topics[9],\n",
    "    \"**Accounting,  +Restructuring risks \": topics[10],\n",
    "    \"**Management\": topics[11],\n",
    "    \" Potential defects in products\": topics[12],\n",
    "    \"**Investment\": topics[13],\n",
    "    \"Human resource risks\": topics[13],\n",
    "    \"Volatile stock price risks\": topics[14],\n",
    "    \"Merger & Acquisition risks\": topics[15],\n",
    "    \" +Industry is cyclical\": topics[16],\n",
    "    \" **Postpone \":  topics[17],\n",
    "    \" +Infrastructure risks\": topics[18],\n",
    "    \"+Suppliers risks +Downstream risks\": topics[19],\n",
    "    \"license Intellectual property risks\": topics[20],\n",
    "    \"+Licensing related risks' \": topics[21],\n",
    "    \"+ Competition risks \": topics[22],\n",
    "    \"*Potential/Ongoing Lawsuits*\": topics[23],\n",
    "    \"Regulation changes\": topics[24],\n",
    "    \"Credit risks\": topics[25],\n",
    "    \"covenant Funding risks \": topics[26],\n",
    "    \"International risks\": topics[27],\n",
    "    #     \"Insurance\" : topics[28],\n",
    "    #     \"Catastrophes\" : topics[29]\n",
    "}"
   ]
  },
  {
   "cell_type": "code",
   "execution_count": 209,
   "metadata": {},
   "outputs": [
    {
     "name": "stdout",
     "output_type": "stream",
     "text": [
      " investment, property, distribution, interest, agreement\n",
      "Input String:  investment, property, distribution, interest, agreement\n",
      "\n",
      "\n",
      "Prediction:\n",
      "kmeans prediction: [0]\n",
      "closest cluster centers :\n",
      " company\n",
      " business\n",
      " regulation, change, law, financial, operation, tax, accounting \n",
      "Input String:  regulation, change, law, financial, operation, tax, accounting \n",
      "\n",
      "\n",
      "Prediction:\n",
      "kmeans prediction: [0]\n",
      "closest cluster centers :\n",
      " company\n",
      " business\n",
      " gas, price, oil, natural, operation, production Input prices risks \n",
      "Input String:  gas, price, oil, natural, operation, production Input prices risks \n",
      "\n",
      "\n",
      "Prediction:\n",
      "kmeans prediction: [0]\n",
      "closest cluster centers :\n",
      " company\n",
      " business\n",
      " stock, price, share, market, future, dividend, security, stakeholder \n",
      "Input String:  stock, price, share, market, future, dividend, security, stakeholder \n",
      "\n",
      "\n",
      "Prediction:\n",
      "kmeans prediction: [15]\n",
      "closest cluster centers :\n",
      " stock\n",
      " common\n",
      " cost, regulation, environmental, law, operation, liability\n",
      "Input String:  cost, regulation, environmental, law, operation, liability\n",
      "\n",
      "\n",
      "Prediction:\n",
      "kmeans prediction: [0]\n",
      "closest cluster centers :\n",
      " company\n",
      " business\n",
      " control, financial, internal, loss, reporting, history \n",
      "Input String:  control, financial, internal, loss, reporting, history \n",
      "\n",
      "\n",
      "Prediction:\n",
      "kmeans prediction: [21]\n",
      "closest cluster centers :\n",
      " control\n",
      " provisions\n",
      " financial, litigation, operation, condition, action, legal, liability, regulatory, claim, lawsuitTopic 7\n",
      "Input String:  financial, litigation, operation, condition, action, legal, liability, regulatory, claim, lawsuitTopic 7\n",
      "\n",
      "\n",
      "Prediction:\n",
      "kmeans prediction: [29]\n",
      "closest cluster centers :\n",
      " often\n",
      " legal\n",
      " cost, operation, labor, operating, employee, increase, acquisition \n",
      "Input String:  cost, operation, labor, operating, employee, increase, acquisition \n",
      "\n",
      "\n",
      "Prediction:\n",
      "kmeans prediction: [31]\n",
      "closest cluster centers :\n",
      " acquisition\n",
      " business\n",
      " product, candidate, development, approval, clinical, regulatory\n",
      "Input String:  product, candidate, development, approval, clinical, regulatory\n",
      "\n",
      "\n",
      "Prediction:\n",
      "kmeans prediction: [0]\n",
      "closest cluster centers :\n",
      " company\n",
      " business\n",
      " tax, income, asset, net, goodwill, loss, distribution, impairment, intangible \n",
      "Input String:  tax, income, asset, net, goodwill, loss, distribution, impairment, intangible \n",
      "\n",
      "\n",
      "Prediction:\n",
      "kmeans prediction: [0]\n",
      "closest cluster centers :\n",
      " company\n",
      " business\n",
      " interest, director, officer, trust, combination, share, conflict \n",
      "Input String:  interest, director, officer, trust, combination, share, conflict \n",
      "\n",
      "\n",
      "Prediction:\n",
      "kmeans prediction: [0]\n",
      "closest cluster centers :\n",
      " company\n",
      " business\n",
      " product, liability, claim, market, insurance, sale, revenue Potential defects in products\n",
      "Input String:  product, liability, claim, market, insurance, sale, revenue Potential defects in products\n",
      "\n",
      "\n",
      "Prediction:\n",
      "kmeans prediction: [23]\n",
      "closest cluster centers :\n",
      " product liability\n",
      " product\n",
      " loan, real, estate, investment, property, market, loss, portfolio \n",
      "Input String:  loan, real, estate, investment, property, market, loss, portfolio \n",
      "\n",
      "\n",
      "Prediction:\n",
      "kmeans prediction: [32]\n",
      "closest cluster centers :\n",
      " portfolio\n",
      " portfolio companies\n",
      " personnel, key, retain, attract, management, employee \n",
      "Input String:  personnel, key, retain, attract, management, employee \n",
      "\n",
      "\n",
      "Prediction:\n",
      "kmeans prediction: [0]\n",
      "closest cluster centers :\n",
      " company\n",
      " business\n",
      " stock, price, operating, stockholder, fluctuate, interest, volatile  \n",
      "Input String:  stock, price, operating, stockholder, fluctuate, interest, volatile  \n",
      "\n",
      "\n",
      "Prediction:\n",
      "kmeans prediction: [15]\n",
      "closest cluster centers :\n",
      " stock\n",
      " common\n",
      " acquisition, growth, future, operation, additional, capital, strategy \n",
      "Input String:  acquisition, growth, future, operation, additional, capital, strategy \n",
      "\n",
      "\n",
      "Prediction:\n",
      "kmeans prediction: [0]\n",
      "closest cluster centers :\n",
      " company\n",
      " business\n",
      " condition, economic, financial, market, industry, change, affected, downturn, demand Macroeconomic risks \n",
      "Input String:  condition, economic, financial, market, industry, change, affected, downturn, demand Macroeconomic risks \n",
      "\n",
      "\n",
      "Prediction:\n",
      "kmeans prediction: [16]\n",
      "closest cluster centers :\n",
      " adversely\n",
      " adversely affect\n",
      " system, service, information, failure, product, operation, software, network, breach, interruption Disruption of operationsTopic 19\n",
      "Input String:  system, service, information, failure, product, operation, software, network, breach, interruption Disruption of operationsTopic 19\n",
      "\n",
      "\n",
      "Prediction:\n",
      "kmeans prediction: [8]\n",
      "closest cluster centers :\n",
      " software\n",
      " platform\n",
      " customer, product, revenue, sale, supplier, relationship, key, portion, contract, manufacturing, rely Rely on few large customers\n",
      "Input String:  customer, product, revenue, sale, supplier, relationship, key, portion, contract, manufacturing, rely Rely on few large customers\n",
      "\n",
      "\n",
      "Prediction:\n",
      "kmeans prediction: [0]\n",
      "closest cluster centers :\n",
      " company\n",
      " business\n",
      " property, intellectual, protect, proprietary, technology, patent, protection, harm\n",
      "Input String:  property, intellectual, protect, proprietary, technology, patent, protection, harm\n",
      "\n",
      "\n",
      "Prediction:\n",
      "kmeans prediction: [7]\n",
      "closest cluster centers :\n",
      " intellectual\n",
      " intellectual property\n",
      " product, market, service, change, sale, demand, successfully, technology, competition Volatile demand and results\n",
      "Input String:  product, market, service, change, sale, demand, successfully, technology, competition Volatile demand and results\n",
      "\n",
      "\n",
      "Prediction:\n",
      "kmeans prediction: [0]\n",
      "closest cluster centers :\n",
      " company\n",
      " business\n",
      " provision, law, control, change, stock, prevent, stockholder, Delaware, charter, delay, bylaw\n",
      "Input String:  provision, law, control, change, stock, prevent, stockholder, Delaware, charter, delay, bylaw\n",
      "\n",
      "\n",
      "Prediction:\n",
      "kmeans prediction: [21]\n",
      "closest cluster centers :\n",
      " control\n",
      " provisions\n",
      " regulation, government, change, revenue, contract, law, service\n",
      "Input String:  regulation, government, change, revenue, contract, law, service\n",
      "\n",
      "\n",
      "Prediction:\n",
      "kmeans prediction: [0]\n",
      "closest cluster centers :\n",
      " company\n",
      " business\n",
      " capital, credit, financial, market, cost, operation, rating, access, liquidity, downgrade \n",
      "Input String:  capital, credit, financial, market, cost, operation, rating, access, liquidity, downgrade \n",
      "\n",
      "\n",
      "Prediction:\n",
      "kmeans prediction: [0]\n",
      "closest cluster centers :\n",
      " company\n",
      " business\n",
      " debt, indebtedness, cash, obligation, financial, credit, \n",
      "Input String:  debt, indebtedness, cash, obligation, financial, credit, \n",
      "\n",
      "\n",
      "Prediction:\n",
      "kmeans prediction: [0]\n",
      "closest cluster centers :\n",
      " company\n",
      " business\n",
      " operation, international, foreign, currency, rate, fluctuation\n",
      "Input String:  operation, international, foreign, currency, rate, fluctuation\n",
      "\n",
      "\n",
      "Prediction:\n",
      "kmeans prediction: [9]\n",
      "closest cluster centers :\n",
      " currency\n",
      " foreign\n",
      " loss, insurance, financial, loan, reserve, operation, cover\n",
      "Input String:  loss, insurance, financial, loan, reserve, operation, cover\n",
      "\n",
      "\n",
      "Prediction:\n",
      "kmeans prediction: [0]\n",
      "closest cluster centers :\n",
      " company\n",
      " business\n",
      " operation, natural, facility, disaster, event, terrorist, weather \n",
      "Input String:  operation, natural, facility, disaster, event, terrorist, weather \n",
      "\n",
      "\n",
      "Prediction:\n",
      "kmeans prediction: [0]\n",
      "closest cluster centers :\n",
      " company\n",
      " business\n"
     ]
    }
   ],
   "source": [
    "for topic in topics:\n",
    "    print(topic)\n",
    "    predict(topic)"
   ]
  },
  {
   "cell_type": "code",
   "execution_count": 210,
   "metadata": {},
   "outputs": [
    {
     "data": {
      "application/vnd.jupyter.widget-view+json": {
       "model_id": "14664b9895e54150be95916f7b8dd8a6",
       "version_major": 2,
       "version_minor": 0
      },
      "text/plain": [
       "HBox(children=(IntProgress(value=1, bar_style='info', max=1), HTML(value='')))"
      ]
     },
     "metadata": {},
     "output_type": "display_data"
    },
    {
     "name": "stdout",
     "output_type": "stream",
     "text": [
      "\n",
      "Test set generated\n"
     ]
    }
   ],
   "source": [
    "doclist, names = make_pipeline(15, istesting=True)\n"
   ]
  },
  {
   "cell_type": "code",
   "execution_count": null,
   "metadata": {},
   "outputs": [],
   "source": []
  },
  {
   "cell_type": "code",
   "execution_count": 211,
   "metadata": {},
   "outputs": [],
   "source": [
    "def estimator_predict_document(document, name):\n",
    "    dictionary_list = []\n",
    "    for counter, sentence in enumerate(document.split(\".\")):\n",
    "        if len(sentence) != 0:\n",
    "            vector_matrix = vectorizer.transform([sentence])\n",
    "            predicted_label = model.predict(vector_matrix)\n",
    "            sentence_len = len(sentence.split(\" \"))\n",
    "            sentence_info = {'company': name, 'sentence#': counter, 'text': sentence,\n",
    "                             'wordcount': sentence_len, 'label': predicted_label[0]}\n",
    "            dictionary_list.append(sentence_info)\n",
    "    dataframe = pd.DataFrame(dictionary_list)\n",
    "    dataframe[\"% of total\"]  = dataframe['wordcount'] / sum(dataframe['wordcount'])\n",
    "#         (name, sentence, predicted_label)\n",
    "    return(dataframe)"
   ]
  },
  {
   "cell_type": "code",
   "execution_count": 212,
   "metadata": {},
   "outputs": [
    {
     "data": {
      "text/html": [
       "<div>\n",
       "<style scoped>\n",
       "    .dataframe tbody tr th:only-of-type {\n",
       "        vertical-align: middle;\n",
       "    }\n",
       "\n",
       "    .dataframe tbody tr th {\n",
       "        vertical-align: top;\n",
       "    }\n",
       "\n",
       "    .dataframe thead th {\n",
       "        text-align: right;\n",
       "    }\n",
       "</style>\n",
       "<table border=\"1\" class=\"dataframe\">\n",
       "  <thead>\n",
       "    <tr style=\"text-align: right;\">\n",
       "      <th></th>\n",
       "      <th>company</th>\n",
       "      <th>label</th>\n",
       "      <th>sentence#</th>\n",
       "      <th>text</th>\n",
       "      <th>wordcount</th>\n",
       "      <th>% of total</th>\n",
       "    </tr>\n",
       "  </thead>\n",
       "  <tbody>\n",
       "    <tr>\n",
       "      <th>0</th>\n",
       "      <td>Abraxas Petroleum Corporation</td>\n",
       "      <td>0</td>\n",
       "      <td>0</td>\n",
       "      <td>[1] \"Item 1A</td>\n",
       "      <td>3</td>\n",
       "      <td>0.000210</td>\n",
       "    </tr>\n",
       "    <tr>\n",
       "      <th>1</th>\n",
       "      <td>Abraxas Petroleum Corporation</td>\n",
       "      <td>0</td>\n",
       "      <td>1</td>\n",
       "      <td>Risk Factors</td>\n",
       "      <td>3</td>\n",
       "      <td>0.000210</td>\n",
       "    </tr>\n",
       "    <tr>\n",
       "      <th>2</th>\n",
       "      <td>Abraxas Petroleum Corporation</td>\n",
       "      <td>0</td>\n",
       "      <td>2</td>\n",
       "      <td>Risks Related to Our Business</td>\n",
       "      <td>6</td>\n",
       "      <td>0.000420</td>\n",
       "    </tr>\n",
       "    <tr>\n",
       "      <th>3</th>\n",
       "      <td>Abraxas Petroleum Corporation</td>\n",
       "      <td>6</td>\n",
       "      <td>3</td>\n",
       "      <td>Depressed oil and/or gas prices would have a ...</td>\n",
       "      <td>15</td>\n",
       "      <td>0.001051</td>\n",
       "    </tr>\n",
       "    <tr>\n",
       "      <th>4</th>\n",
       "      <td>Abraxas Petroleum Corporation</td>\n",
       "      <td>0</td>\n",
       "      <td>5</td>\n",
       "      <td>15</td>\n",
       "      <td>2</td>\n",
       "      <td>0.000140</td>\n",
       "    </tr>\n",
       "  </tbody>\n",
       "</table>\n",
       "</div>"
      ],
      "text/plain": [
       "                         company  label  sentence#  \\\n",
       "0  Abraxas Petroleum Corporation      0          0   \n",
       "1  Abraxas Petroleum Corporation      0          1   \n",
       "2  Abraxas Petroleum Corporation      0          2   \n",
       "3  Abraxas Petroleum Corporation      6          3   \n",
       "4  Abraxas Petroleum Corporation      0          5   \n",
       "\n",
       "                                                text  wordcount  % of total  \n",
       "0                                       [1] \"Item 1A          3    0.000210  \n",
       "1                                       Risk Factors          3    0.000210  \n",
       "2                      Risks Related to Our Business          6    0.000420  \n",
       "3   Depressed oil and/or gas prices would have a ...         15    0.001051  \n",
       "4                                                 15          2    0.000140  "
      ]
     },
     "execution_count": 212,
     "metadata": {},
     "output_type": "execute_result"
    }
   ],
   "source": [
    "frames = []\n",
    "for document, name in zip(doclist, names):\n",
    "    frame = estimator_predict_document(document, name)\n",
    "    frames.append(frame)\n",
    "    \n",
    "muliple_company_frame = pd.concat(frames)\n",
    "muliple_company_frame.head()"
   ]
  },
  {
   "cell_type": "code",
   "execution_count": 213,
   "metadata": {},
   "outputs": [
    {
     "data": {
      "text/html": [
       "<div>\n",
       "<style scoped>\n",
       "    .dataframe tbody tr th:only-of-type {\n",
       "        vertical-align: middle;\n",
       "    }\n",
       "\n",
       "    .dataframe tbody tr th {\n",
       "        vertical-align: top;\n",
       "    }\n",
       "\n",
       "    .dataframe thead th {\n",
       "        text-align: right;\n",
       "    }\n",
       "</style>\n",
       "<table border=\"1\" class=\"dataframe\">\n",
       "  <thead>\n",
       "    <tr style=\"text-align: right;\">\n",
       "      <th></th>\n",
       "      <th>company</th>\n",
       "      <th>label</th>\n",
       "      <th>% of total</th>\n",
       "    </tr>\n",
       "  </thead>\n",
       "  <tbody>\n",
       "    <tr>\n",
       "      <th>0</th>\n",
       "      <td>ACADIA Pharmaceuticals Inc</td>\n",
       "      <td>0</td>\n",
       "      <td>0.712085</td>\n",
       "    </tr>\n",
       "    <tr>\n",
       "      <th>1</th>\n",
       "      <td>ACADIA Pharmaceuticals Inc</td>\n",
       "      <td>1</td>\n",
       "      <td>0.002643</td>\n",
       "    </tr>\n",
       "    <tr>\n",
       "      <th>2</th>\n",
       "      <td>ACADIA Pharmaceuticals Inc</td>\n",
       "      <td>3</td>\n",
       "      <td>0.011028</td>\n",
       "    </tr>\n",
       "    <tr>\n",
       "      <th>3</th>\n",
       "      <td>ACADIA Pharmaceuticals Inc</td>\n",
       "      <td>4</td>\n",
       "      <td>0.010821</td>\n",
       "    </tr>\n",
       "    <tr>\n",
       "      <th>4</th>\n",
       "      <td>ACADIA Pharmaceuticals Inc</td>\n",
       "      <td>5</td>\n",
       "      <td>0.002024</td>\n",
       "    </tr>\n",
       "  </tbody>\n",
       "</table>\n",
       "</div>"
      ],
      "text/plain": [
       "                       company  label  % of total\n",
       "0  ACADIA Pharmaceuticals Inc       0    0.712085\n",
       "1  ACADIA Pharmaceuticals Inc       1    0.002643\n",
       "2  ACADIA Pharmaceuticals Inc       3    0.011028\n",
       "3  ACADIA Pharmaceuticals Inc       4    0.010821\n",
       "4  ACADIA Pharmaceuticals Inc       5    0.002024"
      ]
     },
     "execution_count": 213,
     "metadata": {},
     "output_type": "execute_result"
    }
   ],
   "source": [
    "grouped_frame = muliple_company_frame.groupby(['company', 'label']).agg({'% of total': 'sum'}).reset_index()\n",
    "grouped_frame.head()"
   ]
  },
  {
   "cell_type": "code",
   "execution_count": 214,
   "metadata": {},
   "outputs": [
    {
     "data": {
      "text/html": [
       "<div>\n",
       "<style scoped>\n",
       "    .dataframe tbody tr th:only-of-type {\n",
       "        vertical-align: middle;\n",
       "    }\n",
       "\n",
       "    .dataframe tbody tr th {\n",
       "        vertical-align: top;\n",
       "    }\n",
       "\n",
       "    .dataframe thead th {\n",
       "        text-align: right;\n",
       "    }\n",
       "</style>\n",
       "<table border=\"1\" class=\"dataframe\">\n",
       "  <thead>\n",
       "    <tr style=\"text-align: right;\">\n",
       "      <th>label</th>\n",
       "      <th>0</th>\n",
       "      <th>1</th>\n",
       "      <th>2</th>\n",
       "      <th>3</th>\n",
       "      <th>4</th>\n",
       "      <th>5</th>\n",
       "      <th>6</th>\n",
       "      <th>7</th>\n",
       "      <th>8</th>\n",
       "      <th>9</th>\n",
       "      <th>...</th>\n",
       "      <th>24</th>\n",
       "      <th>25</th>\n",
       "      <th>26</th>\n",
       "      <th>27</th>\n",
       "      <th>28</th>\n",
       "      <th>29</th>\n",
       "      <th>30</th>\n",
       "      <th>31</th>\n",
       "      <th>32</th>\n",
       "      <th>33</th>\n",
       "    </tr>\n",
       "    <tr>\n",
       "      <th>company</th>\n",
       "      <th></th>\n",
       "      <th></th>\n",
       "      <th></th>\n",
       "      <th></th>\n",
       "      <th></th>\n",
       "      <th></th>\n",
       "      <th></th>\n",
       "      <th></th>\n",
       "      <th></th>\n",
       "      <th></th>\n",
       "      <th></th>\n",
       "      <th></th>\n",
       "      <th></th>\n",
       "      <th></th>\n",
       "      <th></th>\n",
       "      <th></th>\n",
       "      <th></th>\n",
       "      <th></th>\n",
       "      <th></th>\n",
       "      <th></th>\n",
       "      <th></th>\n",
       "    </tr>\n",
       "  </thead>\n",
       "  <tbody>\n",
       "    <tr>\n",
       "      <th>ACADIA Pharmaceuticals Inc</th>\n",
       "      <td>0.712085</td>\n",
       "      <td>0.002643</td>\n",
       "      <td>0.000000</td>\n",
       "      <td>0.011028</td>\n",
       "      <td>0.010821</td>\n",
       "      <td>0.002024</td>\n",
       "      <td>0.010491</td>\n",
       "      <td>0.020486</td>\n",
       "      <td>0.0000</td>\n",
       "      <td>0.001528</td>\n",
       "      <td>...</td>\n",
       "      <td>0.008013</td>\n",
       "      <td>0.015364</td>\n",
       "      <td>0.002685</td>\n",
       "      <td>0.0</td>\n",
       "      <td>0.001693</td>\n",
       "      <td>0.000000</td>\n",
       "      <td>0.009004</td>\n",
       "      <td>0.002519</td>\n",
       "      <td>0.000000</td>\n",
       "      <td>0.000000</td>\n",
       "    </tr>\n",
       "    <tr>\n",
       "      <th>Abraxas Petroleum Corporation</th>\n",
       "      <td>0.726145</td>\n",
       "      <td>0.008127</td>\n",
       "      <td>0.000000</td>\n",
       "      <td>0.002242</td>\n",
       "      <td>0.009458</td>\n",
       "      <td>0.002592</td>\n",
       "      <td>0.006235</td>\n",
       "      <td>0.000000</td>\n",
       "      <td>0.0000</td>\n",
       "      <td>0.001121</td>\n",
       "      <td>...</td>\n",
       "      <td>0.015763</td>\n",
       "      <td>0.011910</td>\n",
       "      <td>0.025151</td>\n",
       "      <td>0.0</td>\n",
       "      <td>0.000000</td>\n",
       "      <td>0.000000</td>\n",
       "      <td>0.008827</td>\n",
       "      <td>0.000701</td>\n",
       "      <td>0.000000</td>\n",
       "      <td>0.000000</td>\n",
       "    </tr>\n",
       "    <tr>\n",
       "      <th>Acacia Communications Inc</th>\n",
       "      <td>0.614687</td>\n",
       "      <td>0.006590</td>\n",
       "      <td>0.000000</td>\n",
       "      <td>0.008622</td>\n",
       "      <td>0.004757</td>\n",
       "      <td>0.000000</td>\n",
       "      <td>0.005847</td>\n",
       "      <td>0.039493</td>\n",
       "      <td>0.0276</td>\n",
       "      <td>0.004261</td>\n",
       "      <td>...</td>\n",
       "      <td>0.016451</td>\n",
       "      <td>0.026262</td>\n",
       "      <td>0.002527</td>\n",
       "      <td>0.0</td>\n",
       "      <td>0.001189</td>\n",
       "      <td>0.000000</td>\n",
       "      <td>0.004361</td>\n",
       "      <td>0.002924</td>\n",
       "      <td>0.000842</td>\n",
       "      <td>0.002428</td>\n",
       "    </tr>\n",
       "    <tr>\n",
       "      <th>Acacia Research Corporation</th>\n",
       "      <td>0.608705</td>\n",
       "      <td>0.000000</td>\n",
       "      <td>0.000000</td>\n",
       "      <td>0.013947</td>\n",
       "      <td>0.005174</td>\n",
       "      <td>0.000000</td>\n",
       "      <td>0.028456</td>\n",
       "      <td>0.019233</td>\n",
       "      <td>0.0000</td>\n",
       "      <td>0.000000</td>\n",
       "      <td>...</td>\n",
       "      <td>0.006411</td>\n",
       "      <td>0.024294</td>\n",
       "      <td>0.036216</td>\n",
       "      <td>0.0</td>\n",
       "      <td>0.000000</td>\n",
       "      <td>0.005849</td>\n",
       "      <td>0.008998</td>\n",
       "      <td>0.000000</td>\n",
       "      <td>0.012260</td>\n",
       "      <td>0.000000</td>\n",
       "    </tr>\n",
       "    <tr>\n",
       "      <th>Acadia Healthcare Company Inc</th>\n",
       "      <td>0.680783</td>\n",
       "      <td>0.007242</td>\n",
       "      <td>0.004146</td>\n",
       "      <td>0.000000</td>\n",
       "      <td>0.011283</td>\n",
       "      <td>0.001784</td>\n",
       "      <td>0.010758</td>\n",
       "      <td>0.000787</td>\n",
       "      <td>0.0000</td>\n",
       "      <td>0.006297</td>\n",
       "      <td>...</td>\n",
       "      <td>0.003306</td>\n",
       "      <td>0.011597</td>\n",
       "      <td>0.008186</td>\n",
       "      <td>0.0</td>\n",
       "      <td>0.000000</td>\n",
       "      <td>0.000000</td>\n",
       "      <td>0.021096</td>\n",
       "      <td>0.011283</td>\n",
       "      <td>0.003359</td>\n",
       "      <td>0.000000</td>\n",
       "    </tr>\n",
       "  </tbody>\n",
       "</table>\n",
       "<p>5 rows × 34 columns</p>\n",
       "</div>"
      ],
      "text/plain": [
       "label                                 0         1         2         3   \\\n",
       "company                                                                  \n",
       "ACADIA Pharmaceuticals Inc      0.712085  0.002643  0.000000  0.011028   \n",
       "Abraxas Petroleum Corporation   0.726145  0.008127  0.000000  0.002242   \n",
       "Acacia Communications Inc       0.614687  0.006590  0.000000  0.008622   \n",
       "Acacia Research Corporation     0.608705  0.000000  0.000000  0.013947   \n",
       "Acadia Healthcare Company Inc   0.680783  0.007242  0.004146  0.000000   \n",
       "\n",
       "label                                 4         5         6         7   \\\n",
       "company                                                                  \n",
       "ACADIA Pharmaceuticals Inc      0.010821  0.002024  0.010491  0.020486   \n",
       "Abraxas Petroleum Corporation   0.009458  0.002592  0.006235  0.000000   \n",
       "Acacia Communications Inc       0.004757  0.000000  0.005847  0.039493   \n",
       "Acacia Research Corporation     0.005174  0.000000  0.028456  0.019233   \n",
       "Acadia Healthcare Company Inc   0.011283  0.001784  0.010758  0.000787   \n",
       "\n",
       "label                               8         9     ...           24  \\\n",
       "company                                             ...                \n",
       "ACADIA Pharmaceuticals Inc      0.0000  0.001528    ...     0.008013   \n",
       "Abraxas Petroleum Corporation   0.0000  0.001121    ...     0.015763   \n",
       "Acacia Communications Inc       0.0276  0.004261    ...     0.016451   \n",
       "Acacia Research Corporation     0.0000  0.000000    ...     0.006411   \n",
       "Acadia Healthcare Company Inc   0.0000  0.006297    ...     0.003306   \n",
       "\n",
       "label                                 25        26   27        28        29  \\\n",
       "company                                                                       \n",
       "ACADIA Pharmaceuticals Inc      0.015364  0.002685  0.0  0.001693  0.000000   \n",
       "Abraxas Petroleum Corporation   0.011910  0.025151  0.0  0.000000  0.000000   \n",
       "Acacia Communications Inc       0.026262  0.002527  0.0  0.001189  0.000000   \n",
       "Acacia Research Corporation     0.024294  0.036216  0.0  0.000000  0.005849   \n",
       "Acadia Healthcare Company Inc   0.011597  0.008186  0.0  0.000000  0.000000   \n",
       "\n",
       "label                                 30        31        32        33  \n",
       "company                                                                 \n",
       "ACADIA Pharmaceuticals Inc      0.009004  0.002519  0.000000  0.000000  \n",
       "Abraxas Petroleum Corporation   0.008827  0.000701  0.000000  0.000000  \n",
       "Acacia Communications Inc       0.004361  0.002924  0.000842  0.002428  \n",
       "Acacia Research Corporation     0.008998  0.000000  0.012260  0.000000  \n",
       "Acadia Healthcare Company Inc   0.021096  0.011283  0.003359  0.000000  \n",
       "\n",
       "[5 rows x 34 columns]"
      ]
     },
     "execution_count": 214,
     "metadata": {},
     "output_type": "execute_result"
    }
   ],
   "source": [
    "def prep_for_heatmap(muliple_company_frame):\n",
    "    company_clusters = muliple_company_frame.groupby(['label', 'company']).agg(\n",
    "        {'% of total': 'sum'}).unstack(level = 'company').fillna(0).T\n",
    "\n",
    "    company_clusters = company_clusters.reset_index(level=0,drop=True)\n",
    "    return company_clusters\n",
    "\n",
    "company_clusters = prep_for_heatmap(muliple_company_frame)\n",
    "company_clusters.head()"
   ]
  },
  {
   "cell_type": "code",
   "execution_count": 215,
   "metadata": {},
   "outputs": [
    {
     "data": {
      "image/png": "[encoded data removed]",
      "text/plain": [
       "<Figure size 1440x1440 with 2 Axes>"
      ]
     },
     "metadata": {
      "needs_background": "light"
     },
     "output_type": "display_data"
    }
   ],
   "source": [
    "def plot_heatmap(company_clusters):\n",
    "    fig2, ax2 = plt.subplots(figsize=(20, 20))\n",
    "    cmap = sns.light_palette('blue', as_cmap=True)\n",
    "\n",
    "    sns.heatmap(company_clusters, ax=ax2, cmap=cmap)\n",
    "\n",
    "    ax2.set_xlabel('Label', fontdict={'weight': 'bold', 'size': 14})\n",
    "    ax2.set_ylabel('Company', fontdict={'weight': 'bold', 'size': 14})\n",
    "    for label in ax2.get_xticklabels():\n",
    "        label.set_size(16)\n",
    "        label.set_weight(\"bold\")\n",
    "    for label in ax2.get_yticklabels():\n",
    "        label.set_size(16)\n",
    "        label.set_weight(\"bold\")\n",
    "    plt.savefig(\"outputs/Heatmap.jpg\", dpi=None, facecolor='w', edgecolor='w',\n",
    "        orientation='portrait', papertype=None, format=None,\n",
    "        transparent=False, bbox_inches=None, pad_inches=0.1,\n",
    "        frameon=None, metadata=None)\n",
    "    \n",
    "plot_heatmap(company_clusters)"
   ]
  },
  {
   "cell_type": "code",
   "execution_count": 216,
   "metadata": {},
   "outputs": [
    {
     "data": {
      "text/html": [
       "<div>\n",
       "<style scoped>\n",
       "    .dataframe tbody tr th:only-of-type {\n",
       "        vertical-align: middle;\n",
       "    }\n",
       "\n",
       "    .dataframe tbody tr th {\n",
       "        vertical-align: top;\n",
       "    }\n",
       "\n",
       "    .dataframe thead th {\n",
       "        text-align: right;\n",
       "    }\n",
       "</style>\n",
       "<table border=\"1\" class=\"dataframe\">\n",
       "  <thead>\n",
       "    <tr style=\"text-align: right;\">\n",
       "      <th>company</th>\n",
       "      <th>ACADIA Pharmaceuticals Inc</th>\n",
       "      <th>Abraxas Petroleum Corporation</th>\n",
       "      <th>Acacia Communications Inc</th>\n",
       "      <th>Acacia Research Corporation</th>\n",
       "      <th>Acadia Healthcare Company Inc</th>\n",
       "      <th>Acadia Realty Trust</th>\n",
       "      <th>Accelerate Diagnostics Inc</th>\n",
       "      <th>Acceleron Pharma Inc</th>\n",
       "      <th>Accenture plc</th>\n",
       "      <th>Access National Corporation</th>\n",
       "      <th>Accuray Incorporated</th>\n",
       "      <th>AcelRx Pharmaceuticals Inc</th>\n",
       "      <th>Acer Therapeutics Inc</th>\n",
       "      <th>Aceto Corporation</th>\n",
       "      <th>Achaogen Inc</th>\n",
       "    </tr>\n",
       "    <tr>\n",
       "      <th>label</th>\n",
       "      <th></th>\n",
       "      <th></th>\n",
       "      <th></th>\n",
       "      <th></th>\n",
       "      <th></th>\n",
       "      <th></th>\n",
       "      <th></th>\n",
       "      <th></th>\n",
       "      <th></th>\n",
       "      <th></th>\n",
       "      <th></th>\n",
       "      <th></th>\n",
       "      <th></th>\n",
       "      <th></th>\n",
       "      <th></th>\n",
       "    </tr>\n",
       "  </thead>\n",
       "  <tbody>\n",
       "    <tr>\n",
       "      <th>0</th>\n",
       "      <td>0.712085</td>\n",
       "      <td>0.726145</td>\n",
       "      <td>0.614687</td>\n",
       "      <td>0.608705</td>\n",
       "      <td>0.680783</td>\n",
       "      <td>0.621710</td>\n",
       "      <td>0.704664</td>\n",
       "      <td>0.620892</td>\n",
       "      <td>0.654031</td>\n",
       "      <td>0.627838</td>\n",
       "      <td>0.638304</td>\n",
       "      <td>0.728715</td>\n",
       "      <td>0.612639</td>\n",
       "      <td>0.627711</td>\n",
       "      <td>0.641656</td>\n",
       "    </tr>\n",
       "    <tr>\n",
       "      <th>1</th>\n",
       "      <td>0.002643</td>\n",
       "      <td>0.008127</td>\n",
       "      <td>0.006590</td>\n",
       "      <td>0.000000</td>\n",
       "      <td>0.007242</td>\n",
       "      <td>0.025002</td>\n",
       "      <td>0.009570</td>\n",
       "      <td>0.023041</td>\n",
       "      <td>0.024632</td>\n",
       "      <td>0.008980</td>\n",
       "      <td>0.036310</td>\n",
       "      <td>0.013866</td>\n",
       "      <td>0.008127</td>\n",
       "      <td>0.003088</td>\n",
       "      <td>0.010830</td>\n",
       "    </tr>\n",
       "    <tr>\n",
       "      <th>2</th>\n",
       "      <td>0.000000</td>\n",
       "      <td>0.000000</td>\n",
       "      <td>0.000000</td>\n",
       "      <td>0.000000</td>\n",
       "      <td>0.004146</td>\n",
       "      <td>0.000000</td>\n",
       "      <td>0.000000</td>\n",
       "      <td>0.000000</td>\n",
       "      <td>0.000000</td>\n",
       "      <td>0.000000</td>\n",
       "      <td>0.002012</td>\n",
       "      <td>0.000000</td>\n",
       "      <td>0.000000</td>\n",
       "      <td>0.000000</td>\n",
       "      <td>0.000000</td>\n",
       "    </tr>\n",
       "    <tr>\n",
       "      <th>3</th>\n",
       "      <td>0.011028</td>\n",
       "      <td>0.002242</td>\n",
       "      <td>0.008622</td>\n",
       "      <td>0.013947</td>\n",
       "      <td>0.000000</td>\n",
       "      <td>0.000000</td>\n",
       "      <td>0.003150</td>\n",
       "      <td>0.003275</td>\n",
       "      <td>0.004798</td>\n",
       "      <td>0.003207</td>\n",
       "      <td>0.008399</td>\n",
       "      <td>0.004170</td>\n",
       "      <td>0.004619</td>\n",
       "      <td>0.001853</td>\n",
       "      <td>0.003824</td>\n",
       "    </tr>\n",
       "    <tr>\n",
       "      <th>4</th>\n",
       "      <td>0.010821</td>\n",
       "      <td>0.009458</td>\n",
       "      <td>0.004757</td>\n",
       "      <td>0.005174</td>\n",
       "      <td>0.011283</td>\n",
       "      <td>0.022828</td>\n",
       "      <td>0.006541</td>\n",
       "      <td>0.045564</td>\n",
       "      <td>0.005758</td>\n",
       "      <td>0.002822</td>\n",
       "      <td>0.007612</td>\n",
       "      <td>0.007434</td>\n",
       "      <td>0.016935</td>\n",
       "      <td>0.001167</td>\n",
       "      <td>0.003486</td>\n",
       "    </tr>\n",
       "  </tbody>\n",
       "</table>\n",
       "</div>"
      ],
      "text/plain": [
       "company  ACADIA Pharmaceuticals Inc   Abraxas Petroleum Corporation  \\\n",
       "label                                                                 \n",
       "0                           0.712085                       0.726145   \n",
       "1                           0.002643                       0.008127   \n",
       "2                           0.000000                       0.000000   \n",
       "3                           0.011028                       0.002242   \n",
       "4                           0.010821                       0.009458   \n",
       "\n",
       "company  Acacia Communications Inc   Acacia Research Corporation  \\\n",
       "label                                                              \n",
       "0                          0.614687                     0.608705   \n",
       "1                          0.006590                     0.000000   \n",
       "2                          0.000000                     0.000000   \n",
       "3                          0.008622                     0.013947   \n",
       "4                          0.004757                     0.005174   \n",
       "\n",
       "company  Acadia Healthcare Company Inc   Acadia Realty Trust  \\\n",
       "label                                                          \n",
       "0                              0.680783             0.621710   \n",
       "1                              0.007242             0.025002   \n",
       "2                              0.004146             0.000000   \n",
       "3                              0.000000             0.000000   \n",
       "4                              0.011283             0.022828   \n",
       "\n",
       "company  Accelerate Diagnostics Inc   Acceleron Pharma Inc   Accenture plc  \\\n",
       "label                                                                        \n",
       "0                           0.704664               0.620892       0.654031   \n",
       "1                           0.009570               0.023041       0.024632   \n",
       "2                           0.000000               0.000000       0.000000   \n",
       "3                           0.003150               0.003275       0.004798   \n",
       "4                           0.006541               0.045564       0.005758   \n",
       "\n",
       "company  Access National Corporation  Accuray Incorporated  \\\n",
       "label                                                        \n",
       "0                           0.627838              0.638304   \n",
       "1                           0.008980              0.036310   \n",
       "2                           0.000000              0.002012   \n",
       "3                           0.003207              0.008399   \n",
       "4                           0.002822              0.007612   \n",
       "\n",
       "company  AcelRx Pharmaceuticals Inc   Acer Therapeutics Inc   \\\n",
       "label                                                          \n",
       "0                           0.728715                0.612639   \n",
       "1                           0.013866                0.008127   \n",
       "2                           0.000000                0.000000   \n",
       "3                           0.004170                0.004619   \n",
       "4                           0.007434                0.016935   \n",
       "\n",
       "company  Aceto Corporation  Achaogen Inc   \n",
       "label                                      \n",
       "0                 0.627711       0.641656  \n",
       "1                 0.003088       0.010830  \n",
       "2                 0.000000       0.000000  \n",
       "3                 0.001853       0.003824  \n",
       "4                 0.001167       0.003486  "
      ]
     },
     "execution_count": 216,
     "metadata": {},
     "output_type": "execute_result"
    }
   ],
   "source": [
    "company_clusters.T.head()"
   ]
  },
  {
   "cell_type": "code",
   "execution_count": 217,
   "metadata": {},
   "outputs": [],
   "source": [
    "import colorsys\n",
    "#  https://stackoverflow.com/questions/876853/generating-color-ranges-in-python\n",
    "def get_N_HexCol(N):\n",
    "    HSV_tuples = [(x * 1.0 / N, 0.5, 0.5) for x in range(N)]\n",
    "    hex_out = []\n",
    "    for rgb in HSV_tuples:\n",
    "        rgb = map(lambda x: int(x * 255), colorsys.hsv_to_rgb(*rgb))\n",
    "        hex_out.append('#%02x%02x%02x' % tuple(rgb))\n",
    "    return hex_out\n",
    "colormap = get_N_HexCol(truek)"
   ]
  },
  {
   "cell_type": "code",
   "execution_count": 218,
   "metadata": {
    "code_folding": []
   },
   "outputs": [
    {
     "data": {
      "text/markdown": [
       "<font color=\"#7f3f3f\">Cluster 0</font>"
      ],
      "text/plain": [
       "<IPython.core.display.Markdown object>"
      ]
     },
     "metadata": {},
     "output_type": "display_data"
    },
    {
     "data": {
      "text/markdown": [
       "<font color=\"#7f4a3f\">Cluster 1</font>"
      ],
      "text/plain": [
       "<IPython.core.display.Markdown object>"
      ]
     },
     "metadata": {},
     "output_type": "display_data"
    },
    {
     "data": {
      "text/markdown": [
       "<font color=\"#7f553f\">Cluster 2</font>"
      ],
      "text/plain": [
       "<IPython.core.display.Markdown object>"
      ]
     },
     "metadata": {},
     "output_type": "display_data"
    },
    {
     "data": {
      "text/markdown": [
       "<font color=\"#7f603f\">Cluster 3</font>"
      ],
      "text/plain": [
       "<IPython.core.display.Markdown object>"
      ]
     },
     "metadata": {},
     "output_type": "display_data"
    },
    {
     "data": {
      "text/markdown": [
       "<font color=\"#7f6b3f\">Cluster 4</font>"
      ],
      "text/plain": [
       "<IPython.core.display.Markdown object>"
      ]
     },
     "metadata": {},
     "output_type": "display_data"
    },
    {
     "data": {
      "text/markdown": [
       "<font color=\"#7f763f\">Cluster 5</font>"
      ],
      "text/plain": [
       "<IPython.core.display.Markdown object>"
      ]
     },
     "metadata": {},
     "output_type": "display_data"
    },
    {
     "data": {
      "text/markdown": [
       "<font color=\"#7d7f3f\">Cluster 6</font>"
      ],
      "text/plain": [
       "<IPython.core.display.Markdown object>"
      ]
     },
     "metadata": {},
     "output_type": "display_data"
    },
    {
     "data": {
      "text/markdown": [
       "<font color=\"#727f3f\">Cluster 7</font>"
      ],
      "text/plain": [
       "<IPython.core.display.Markdown object>"
      ]
     },
     "metadata": {},
     "output_type": "display_data"
    },
    {
     "data": {
      "text/markdown": [
       "<font color=\"#677f3f\">Cluster 8</font>"
      ],
      "text/plain": [
       "<IPython.core.display.Markdown object>"
      ]
     },
     "metadata": {},
     "output_type": "display_data"
    },
    {
     "data": {
      "text/markdown": [
       "<font color=\"#5c7f3f\">Cluster 9</font>"
      ],
      "text/plain": [
       "<IPython.core.display.Markdown object>"
      ]
     },
     "metadata": {},
     "output_type": "display_data"
    },
    {
     "data": {
      "text/markdown": [
       "<font color=\"#517f3f\">Cluster 10</font>"
      ],
      "text/plain": [
       "<IPython.core.display.Markdown object>"
      ]
     },
     "metadata": {},
     "output_type": "display_data"
    },
    {
     "data": {
      "text/markdown": [
       "<font color=\"#477f3f\">Cluster 11</font>"
      ],
      "text/plain": [
       "<IPython.core.display.Markdown object>"
      ]
     },
     "metadata": {},
     "output_type": "display_data"
    },
    {
     "data": {
      "text/markdown": [
       "<font color=\"#3f7f43\">Cluster 12</font>"
      ],
      "text/plain": [
       "<IPython.core.display.Markdown object>"
      ]
     },
     "metadata": {},
     "output_type": "display_data"
    },
    {
     "data": {
      "text/markdown": [
       "<font color=\"#3f7f4e\">Cluster 13</font>"
      ],
      "text/plain": [
       "<IPython.core.display.Markdown object>"
      ]
     },
     "metadata": {},
     "output_type": "display_data"
    },
    {
     "data": {
      "text/markdown": [
       "<font color=\"#3f7f59\">Cluster 14</font>"
      ],
      "text/plain": [
       "<IPython.core.display.Markdown object>"
      ]
     },
     "metadata": {},
     "output_type": "display_data"
    },
    {
     "data": {
      "text/markdown": [
       "<font color=\"#3f7f64\">Cluster 15</font>"
      ],
      "text/plain": [
       "<IPython.core.display.Markdown object>"
      ]
     },
     "metadata": {},
     "output_type": "display_data"
    },
    {
     "data": {
      "text/markdown": [
       "<font color=\"#3f7f6f\">Cluster 16</font>"
      ],
      "text/plain": [
       "<IPython.core.display.Markdown object>"
      ]
     },
     "metadata": {},
     "output_type": "display_data"
    },
    {
     "data": {
      "text/markdown": [
       "<font color=\"#3f7f7a\">Cluster 17</font>"
      ],
      "text/plain": [
       "<IPython.core.display.Markdown object>"
      ]
     },
     "metadata": {},
     "output_type": "display_data"
    },
    {
     "data": {
      "text/markdown": [
       "<font color=\"#3f7a7f\">Cluster 18</font>"
      ],
      "text/plain": [
       "<IPython.core.display.Markdown object>"
      ]
     },
     "metadata": {},
     "output_type": "display_data"
    },
    {
     "data": {
      "text/markdown": [
       "<font color=\"#3f6f7f\">Cluster 19</font>"
      ],
      "text/plain": [
       "<IPython.core.display.Markdown object>"
      ]
     },
     "metadata": {},
     "output_type": "display_data"
    },
    {
     "data": {
      "text/markdown": [
       "<font color=\"#3f647f\">Cluster 20</font>"
      ],
      "text/plain": [
       "<IPython.core.display.Markdown object>"
      ]
     },
     "metadata": {},
     "output_type": "display_data"
    },
    {
     "data": {
      "text/markdown": [
       "<font color=\"#3f597f\">Cluster 21</font>"
      ],
      "text/plain": [
       "<IPython.core.display.Markdown object>"
      ]
     },
     "metadata": {},
     "output_type": "display_data"
    },
    {
     "data": {
      "text/markdown": [
       "<font color=\"#3f4e7f\">Cluster 22</font>"
      ],
      "text/plain": [
       "<IPython.core.display.Markdown object>"
      ]
     },
     "metadata": {},
     "output_type": "display_data"
    },
    {
     "data": {
      "text/markdown": [
       "<font color=\"#3f437f\">Cluster 23</font>"
      ],
      "text/plain": [
       "<IPython.core.display.Markdown object>"
      ]
     },
     "metadata": {},
     "output_type": "display_data"
    },
    {
     "data": {
      "text/markdown": [
       "<font color=\"#473f7f\">Cluster 24</font>"
      ],
      "text/plain": [
       "<IPython.core.display.Markdown object>"
      ]
     },
     "metadata": {},
     "output_type": "display_data"
    },
    {
     "data": {
      "text/markdown": [
       "<font color=\"#513f7f\">Cluster 25</font>"
      ],
      "text/plain": [
       "<IPython.core.display.Markdown object>"
      ]
     },
     "metadata": {},
     "output_type": "display_data"
    },
    {
     "data": {
      "text/markdown": [
       "<font color=\"#5c3f7f\">Cluster 26</font>"
      ],
      "text/plain": [
       "<IPython.core.display.Markdown object>"
      ]
     },
     "metadata": {},
     "output_type": "display_data"
    },
    {
     "data": {
      "text/markdown": [
       "<font color=\"#673f7f\">Cluster 27</font>"
      ],
      "text/plain": [
       "<IPython.core.display.Markdown object>"
      ]
     },
     "metadata": {},
     "output_type": "display_data"
    },
    {
     "data": {
      "text/markdown": [
       "<font color=\"#723f7f\">Cluster 28</font>"
      ],
      "text/plain": [
       "<IPython.core.display.Markdown object>"
      ]
     },
     "metadata": {},
     "output_type": "display_data"
    },
    {
     "data": {
      "text/markdown": [
       "<font color=\"#7d3f7f\">Cluster 29</font>"
      ],
      "text/plain": [
       "<IPython.core.display.Markdown object>"
      ]
     },
     "metadata": {},
     "output_type": "display_data"
    },
    {
     "data": {
      "text/markdown": [
       "<font color=\"#7f3f76\">Cluster 30</font>"
      ],
      "text/plain": [
       "<IPython.core.display.Markdown object>"
      ]
     },
     "metadata": {},
     "output_type": "display_data"
    },
    {
     "data": {
      "text/markdown": [
       "<font color=\"#7f3f6b\">Cluster 31</font>"
      ],
      "text/plain": [
       "<IPython.core.display.Markdown object>"
      ]
     },
     "metadata": {},
     "output_type": "display_data"
    },
    {
     "data": {
      "text/markdown": [
       "<font color=\"#7f3f60\">Cluster 32</font>"
      ],
      "text/plain": [
       "<IPython.core.display.Markdown object>"
      ]
     },
     "metadata": {},
     "output_type": "display_data"
    },
    {
     "data": {
      "text/markdown": [
       "<font color=\"#7f3f55\">Cluster 33</font>"
      ],
      "text/plain": [
       "<IPython.core.display.Markdown object>"
      ]
     },
     "metadata": {},
     "output_type": "display_data"
    },
    {
     "data": {
      "text/markdown": [
       "<font color=\"#7f3f4a\">Cluster 34</font>"
      ],
      "text/plain": [
       "<IPython.core.display.Markdown object>"
      ]
     },
     "metadata": {},
     "output_type": "display_data"
    }
   ],
   "source": [
    "from IPython.display import display, Markdown\n",
    "for label in range(truek):\n",
    "    color = colormap[label]\n",
    "    display(Markdown(f'<font color=\"{color}\">Cluster {label}</font>'))"
   ]
  },
  {
   "cell_type": "code",
   "execution_count": 219,
   "metadata": {},
   "outputs": [
    {
     "data": {
      "text/markdown": [
       "<font color=\"#7f3f3f\">[1] \"Item 1A  (0)</font>"
      ],
      "text/plain": [
       "<IPython.core.display.Markdown object>"
      ]
     },
     "metadata": {},
     "output_type": "display_data"
    },
    {
     "data": {
      "text/markdown": [
       "<font color=\"#7f3f3f\"> Risk Factors  (0)</font>"
      ],
      "text/plain": [
       "<IPython.core.display.Markdown object>"
      ]
     },
     "metadata": {},
     "output_type": "display_data"
    },
    {
     "data": {
      "text/markdown": [
       "<font color=\"#7f3f3f\"> Risks Related to Our Business  (0)</font>"
      ],
      "text/plain": [
       "<IPython.core.display.Markdown object>"
      ]
     },
     "metadata": {},
     "output_type": "display_data"
    },
    {
     "data": {
      "text/markdown": [
       "<font color=\"#7d7f3f\"> Depressed oil and/or gas prices would have a material and adverse effect on us  (6)</font>"
      ],
      "text/plain": [
       "<IPython.core.display.Markdown object>"
      ]
     },
     "metadata": {},
     "output_type": "display_data"
    },
    {
     "data": {
      "text/markdown": [
       "<font color=\"#7f3f3f\"> 15  (0)</font>"
      ],
      "text/plain": [
       "<IPython.core.display.Markdown object>"
      ]
     },
     "metadata": {},
     "output_type": "display_data"
    },
    {
     "data": {
      "text/markdown": [
       "<font color=\"#7f3f3f\"> Table of Contents  (0)</font>"
      ],
      "text/plain": [
       "<IPython.core.display.Markdown object>"
      ]
     },
     "metadata": {},
     "output_type": "display_data"
    },
    {
     "data": {
      "text/markdown": [
       "<font color=\"#7f3f3f\"> Our financial results and the value of our properties are highly dependent on the general supply and demand for oil, gas and NGL, which impact the prices we ultimately realize on our sales of these commodities  (0)</font>"
      ],
      "text/plain": [
       "<IPython.core.display.Markdown object>"
      ]
     },
     "metadata": {},
     "output_type": "display_data"
    },
    {
     "data": {
      "text/markdown": [
       "<font color=\"#513f7f\"> Since the second half of 2014, there has been a significant decline in oil, gas and NGL prices, which adversely affected our 2015 and 2016 operating results and contributed to a reduction in our anticipated future capital expenditures  (25)</font>"
      ],
      "text/plain": [
       "<IPython.core.display.Markdown object>"
      ]
     },
     "metadata": {},
     "output_type": "display_data"
    },
    {
     "data": {
      "text/markdown": [
       "<font color=\"#7f3f3f\"> In addition, this decline in commodity prices adversely impacted our estimated proved reserves and resulted in a proved property impairment of $128  (0)</font>"
      ],
      "text/plain": [
       "<IPython.core.display.Markdown object>"
      ]
     },
     "metadata": {},
     "output_type": "display_data"
    },
    {
     "data": {
      "text/markdown": [
       "<font color=\"#7f3f3f\">6 million to our oil and gas properties during 2015 and $67  (0)</font>"
      ],
      "text/plain": [
       "<IPython.core.display.Markdown object>"
      ]
     },
     "metadata": {},
     "output_type": "display_data"
    },
    {
     "data": {
      "text/markdown": [
       "<font color=\"#7f3f3f\">6 million in 2016  (0)</font>"
      ],
      "text/plain": [
       "<IPython.core.display.Markdown object>"
      ]
     },
     "metadata": {},
     "output_type": "display_data"
    },
    {
     "data": {
      "text/markdown": [
       "<font color=\"#7f3f3f\"> We could record impairments in future periods, the amount of which will be dependent upon many factors such as future prices of oil, gas and NGL, increases or decreases in our reserve base, changes in estimated costs and expenses, and oil and gas property acquisitions  (0)</font>"
      ],
      "text/plain": [
       "<IPython.core.display.Markdown object>"
      ]
     },
     "metadata": {},
     "output_type": "display_data"
    },
    {
     "data": {
      "text/markdown": [
       "<font color=\"#7f3f3f\"> While oil and gas prices began to improve in late 2016 and remained at somewhat improved levels in 2017, prices have remained relatively low and price volatility has continued  (0)</font>"
      ],
      "text/plain": [
       "<IPython.core.display.Markdown object>"
      ]
     },
     "metadata": {},
     "output_type": "display_data"
    },
    {
     "data": {
      "text/markdown": [
       "<font color=\"#3f7f6f\"> A sustained weakness or further deterioration in commodity prices could materially and adversely impact our business by resulting in, or exacerbating, the following effects:  (16)</font>"
      ],
      "text/plain": [
       "<IPython.core.display.Markdown object>"
      ]
     },
     "metadata": {},
     "output_type": "display_data"
    },
    {
     "data": {
      "text/markdown": [
       "<font color=\"#7f3f3f\"> • reducing the amount of oil, gas and NGL that we can produce economically;  (0)</font>"
      ],
      "text/plain": [
       "<IPython.core.display.Markdown object>"
      ]
     },
     "metadata": {},
     "output_type": "display_data"
    },
    {
     "data": {
      "text/markdown": [
       "<font color=\"#7f3f3f\"> • reducing the borrowing base of our credit facility;  (0)</font>"
      ],
      "text/plain": [
       "<IPython.core.display.Markdown object>"
      ]
     },
     "metadata": {},
     "output_type": "display_data"
    },
    {
     "data": {
      "text/markdown": [
       "<font color=\"#7f3f3f\"> • limiting our financial flexibility, liquidity and access to sources of capital, such as equity and debt;  (0)</font>"
      ],
      "text/plain": [
       "<IPython.core.display.Markdown object>"
      ]
     },
     "metadata": {},
     "output_type": "display_data"
    },
    {
     "data": {
      "text/markdown": [
       "<font color=\"#7f3f3f\"> • reducing our revenues,  cash flows from operations and profitability;  (0)</font>"
      ],
      "text/plain": [
       "<IPython.core.display.Markdown object>"
      ]
     },
     "metadata": {},
     "output_type": "display_data"
    },
    {
     "data": {
      "text/markdown": [
       "<font color=\"#7f3f3f\"> • causing us to decrease our capital expenditures or maintain reduced capital spending for an extended period, resulting in lower future production of oil, gas and NGL; and  (0)</font>"
      ],
      "text/plain": [
       "<IPython.core.display.Markdown object>"
      ]
     },
     "metadata": {},
     "output_type": "display_data"
    },
    {
     "data": {
      "text/markdown": [
       "<font color=\"#5c3f7f\"> • reducing the carrying value of our properties, resulting in additional noncash write-downs  (26)</font>"
      ],
      "text/plain": [
       "<IPython.core.display.Markdown object>"
      ]
     },
     "metadata": {},
     "output_type": "display_data"
    },
    {
     "data": {
      "text/markdown": [
       "<font color=\"#7f3f3f\"> Market prices and our realized prices have been volatile and are likely to continue to be volatile in the future due to numerous factors beyond our control  (0)</font>"
      ],
      "text/plain": [
       "<IPython.core.display.Markdown object>"
      ]
     },
     "metadata": {},
     "output_type": "display_data"
    },
    {
     "data": {
      "text/markdown": [
       "<font color=\"#7f3f3f\"> These factors include:  (0)</font>"
      ],
      "text/plain": [
       "<IPython.core.display.Markdown object>"
      ]
     },
     "metadata": {},
     "output_type": "display_data"
    },
    {
     "data": {
      "text/markdown": [
       "<font color=\"#7f3f3f\"> • the level of demand;  (0)</font>"
      ],
      "text/plain": [
       "<IPython.core.display.Markdown object>"
      ]
     },
     "metadata": {},
     "output_type": "display_data"
    },
    {
     "data": {
      "text/markdown": [
       "<font color=\"#7f3f3f\"> • domestic and global supplies of oil, NGL and gas;  (0)</font>"
      ],
      "text/plain": [
       "<IPython.core.display.Markdown object>"
      ]
     },
     "metadata": {},
     "output_type": "display_data"
    },
    {
     "data": {
      "text/markdown": [
       "<font color=\"#7f3f3f\"> • the price and quantity of imported and exported oil, NGL and gas;  (0)</font>"
      ],
      "text/plain": [
       "<IPython.core.display.Markdown object>"
      ]
     },
     "metadata": {},
     "output_type": "display_data"
    },
    {
     "data": {
      "text/markdown": [
       "<font color=\"#7f3f3f\"> • the actions of other oil exporting nations;  (0)</font>"
      ],
      "text/plain": [
       "<IPython.core.display.Markdown object>"
      ]
     },
     "metadata": {},
     "output_type": "display_data"
    },
    {
     "data": {
      "text/markdown": [
       "<font color=\"#7f3f3f\"> • weather conditions and changes in weather patterns;  (0)</font>"
      ],
      "text/plain": [
       "<IPython.core.display.Markdown object>"
      ]
     },
     "metadata": {},
     "output_type": "display_data"
    },
    {
     "data": {
      "text/markdown": [
       "<font color=\"#7f3f3f\"> • the availability, proximity and capacity of appropriate transportation facilities, gathering, processing and compression facilities, storage facilities and refining facilities;  (0)</font>"
      ],
      "text/plain": [
       "<IPython.core.display.Markdown object>"
      ]
     },
     "metadata": {},
     "output_type": "display_data"
    },
    {
     "data": {
      "text/markdown": [
       "<font color=\"#7f3f3f\"> • worldwide economic and political conditions, including political instability or armed conflict in oil and gas producing regions, competition for markets and political initiatives disfavoring fossil fuels;  (0)</font>"
      ],
      "text/plain": [
       "<IPython.core.display.Markdown object>"
      ]
     },
     "metadata": {},
     "output_type": "display_data"
    },
    {
     "data": {
      "text/markdown": [
       "<font color=\"#7f3f3f\"> • the price and availability of, and demand for, competing energy sources, including alternative energy sources;  (0)</font>"
      ],
      "text/plain": [
       "<IPython.core.display.Markdown object>"
      ]
     },
     "metadata": {},
     "output_type": "display_data"
    },
    {
     "data": {
      "text/markdown": [
       "<font color=\"#7f3f3f\"> • the nature and extent of governmental regulation, including environmental regulation, regulation of derivatives transactions and hedging activities, tax laws and regulations and laws and regulations with respect to the import and export of oil, gas and related commodities;  (0)</font>"
      ],
      "text/plain": [
       "<IPython.core.display.Markdown object>"
      ]
     },
     "metadata": {},
     "output_type": "display_data"
    },
    {
     "data": {
      "text/markdown": [
       "<font color=\"#7f3f3f\"> • the level and effect of trading in commodity futures markets, including trading by commodity price speculators and others, and;  (0)</font>"
      ],
      "text/plain": [
       "<IPython.core.display.Markdown object>"
      ]
     },
     "metadata": {},
     "output_type": "display_data"
    },
    {
     "data": {
      "text/markdown": [
       "<font color=\"#7f3f3f\"> • the effect of worldwide energy conservation measures  (0)</font>"
      ],
      "text/plain": [
       "<IPython.core.display.Markdown object>"
      ]
     },
     "metadata": {},
     "output_type": "display_data"
    },
    {
     "data": {
      "text/markdown": [
       "<font color=\"#3f7f6f\"> Our cash flows from operations, results of operations and the borrowing base under our credit facility depend to a great extent on the prevailing prices for oil and gas  (16)</font>"
      ],
      "text/plain": [
       "<IPython.core.display.Markdown object>"
      ]
     },
     "metadata": {},
     "output_type": "display_data"
    },
    {
     "data": {
      "text/markdown": [
       "<font color=\"#3f7f6f\"> Prolonged or substantial declines in oil and/or gas prices would materially and adversely affect our liquidity, the amount of cash flows we have available for our capital expenditures and other operating expenses, our ability to access the credit and capital markets and our results of operations  (16)</font>"
      ],
      "text/plain": [
       "<IPython.core.display.Markdown object>"
      ]
     },
     "metadata": {},
     "output_type": "display_data"
    },
    {
     "data": {
      "text/markdown": [
       "<font color=\"#7f3f3f\"> Any significant reduction in the borrowing base under our credit facility as a result of a periodic borrowing base redetermination or otherwise will negatively impact our liquidity and, consequently, our ability to fund our operations, and we may not have sufficient funds to repay borrowings under our credit facility or any other obligation if required as a result of a borrowing base redetermination  (0)</font>"
      ],
      "text/plain": [
       "<IPython.core.display.Markdown object>"
      ]
     },
     "metadata": {},
     "output_type": "display_data"
    },
    {
     "data": {
      "text/markdown": [
       "<font color=\"#7f3f3f\"> 16  (0)</font>"
      ],
      "text/plain": [
       "<IPython.core.display.Markdown object>"
      ]
     },
     "metadata": {},
     "output_type": "display_data"
    },
    {
     "data": {
      "text/markdown": [
       "<font color=\"#7f3f3f\"> Table of Contents  (0)</font>"
      ],
      "text/plain": [
       "<IPython.core.display.Markdown object>"
      ]
     },
     "metadata": {},
     "output_type": "display_data"
    },
    {
     "data": {
      "text/markdown": [
       "<font color=\"#7f3f3f\"> Availability under our credit facility is currently subject to a borrowing base of $135  (0)</font>"
      ],
      "text/plain": [
       "<IPython.core.display.Markdown object>"
      ]
     },
     "metadata": {},
     "output_type": "display_data"
    },
    {
     "data": {
      "text/markdown": [
       "<font color=\"#7f3f3f\">0 million  (0)</font>"
      ],
      "text/plain": [
       "<IPython.core.display.Markdown object>"
      ]
     },
     "metadata": {},
     "output_type": "display_data"
    },
    {
     "data": {
      "text/markdown": [
       "<font color=\"#7f3f3f\">  The borrowing base is subject to scheduled semiannual (April 1 and October 1) and other elective borrowing base redeterminations  (0)</font>"
      ],
      "text/plain": [
       "<IPython.core.display.Markdown object>"
      ]
     },
     "metadata": {},
     "output_type": "display_data"
    },
    {
     "data": {
      "text/markdown": [
       "<font color=\"#7f3f3f\">  The amount of the borrowing base is calculated by the lenders based upon their valuation of our proved reserves securing the facility utilizing these reserve reports and their own internal decisions  (0)</font>"
      ],
      "text/plain": [
       "<IPython.core.display.Markdown object>"
      ]
     },
     "metadata": {},
     "output_type": "display_data"
    },
    {
     "data": {
      "text/markdown": [
       "<font color=\"#7f3f3f\">  The lenders under our credit facility can unilaterally adjust the borrowing base and the borrowings permitted to be outstanding under our credit facility  (0)</font>"
      ],
      "text/plain": [
       "<IPython.core.display.Markdown object>"
      ]
     },
     "metadata": {},
     "output_type": "display_data"
    },
    {
     "data": {
      "text/markdown": [
       "<font color=\"#7f3f3f\">  A number of factors could reduce our borrowing base, including:  (0)</font>"
      ],
      "text/plain": [
       "<IPython.core.display.Markdown object>"
      ]
     },
     "metadata": {},
     "output_type": "display_data"
    },
    {
     "data": {
      "text/markdown": [
       "<font color=\"#7f3f3f\"> • lower commodity prices or production;  (0)</font>"
      ],
      "text/plain": [
       "<IPython.core.display.Markdown object>"
      ]
     },
     "metadata": {},
     "output_type": "display_data"
    },
    {
     "data": {
      "text/markdown": [
       "<font color=\"#7f3f3f\"> • a reduction in reserve estimates;  (0)</font>"
      ],
      "text/plain": [
       "<IPython.core.display.Markdown object>"
      ]
     },
     "metadata": {},
     "output_type": "display_data"
    },
    {
     "data": {
      "text/markdown": [
       "<font color=\"#513f7f\"> • inability to drill or unfavorable drilling results;  (25)</font>"
      ],
      "text/plain": [
       "<IPython.core.display.Markdown object>"
      ]
     },
     "metadata": {},
     "output_type": "display_data"
    },
    {
     "data": {
      "text/markdown": [
       "<font color=\"#7f3f3f\"> • increased operating and/or capital costs;  (0)</font>"
      ],
      "text/plain": [
       "<IPython.core.display.Markdown object>"
      ]
     },
     "metadata": {},
     "output_type": "display_data"
    },
    {
     "data": {
      "text/markdown": [
       "<font color=\"#7f3f3f\"> • the lenders' inability to agree to an adequate borrowing base; or  (0)</font>"
      ],
      "text/plain": [
       "<IPython.core.display.Markdown object>"
      ]
     },
     "metadata": {},
     "output_type": "display_data"
    },
    {
     "data": {
      "text/markdown": [
       "<font color=\"#7f3f3f\"> • adverse changes in the lenders' practices (including required regulatory changes) regarding estimation of reserves  (0)</font>"
      ],
      "text/plain": [
       "<IPython.core.display.Markdown object>"
      ]
     },
     "metadata": {},
     "output_type": "display_data"
    },
    {
     "data": {
      "text/markdown": [
       "<font color=\"#7f3f3f\"> As of March 9, 2018, we had $103  (0)</font>"
      ],
      "text/plain": [
       "<IPython.core.display.Markdown object>"
      ]
     },
     "metadata": {},
     "output_type": "display_data"
    },
    {
     "data": {
      "text/markdown": [
       "<font color=\"#7f3f3f\">0 million of borrowings outstanding and availability of $32  (0)</font>"
      ],
      "text/plain": [
       "<IPython.core.display.Markdown object>"
      ]
     },
     "metadata": {},
     "output_type": "display_data"
    },
    {
     "data": {
      "text/markdown": [
       "<font color=\"#7f3f3f\">0 million under our credit facility  (0)</font>"
      ],
      "text/plain": [
       "<IPython.core.display.Markdown object>"
      ]
     },
     "metadata": {},
     "output_type": "display_data"
    },
    {
     "data": {
      "text/markdown": [
       "<font color=\"#7f3f76\">  Any significant reduction in our borrowing base as a result of borrowing base redeterminations or otherwise will negatively impact our liquidity and our ability to fund our operations and, as a result, would have a material adverse effect on our financial position, results of operations and cash flows from operations  (30)</font>"
      ],
      "text/plain": [
       "<IPython.core.display.Markdown object>"
      ]
     },
     "metadata": {},
     "output_type": "display_data"
    },
    {
     "data": {
      "text/markdown": [
       "<font color=\"#7f3f3f\">  Further, if the outstanding borrowings under our credit facility were to exceed the borrowing base as a result of redetermination, we would be required to repay the excess amount or pledge additional assets  (0)</font>"
      ],
      "text/plain": [
       "<IPython.core.display.Markdown object>"
      ]
     },
     "metadata": {},
     "output_type": "display_data"
    },
    {
     "data": {
      "text/markdown": [
       "<font color=\"#7f3f3f\">  We may not have sufficient funds to make such repayment and we do not have any substantial unpledged assets  (0)</font>"
      ],
      "text/plain": [
       "<IPython.core.display.Markdown object>"
      ]
     },
     "metadata": {},
     "output_type": "display_data"
    },
    {
     "data": {
      "text/markdown": [
       "<font color=\"#7f3f3f\">  If we do not have sufficient funds and we are otherwise unable to negotiate renewals of our borrowings or arrange new financing, we may have to sell significant assets  (0)</font>"
      ],
      "text/plain": [
       "<IPython.core.display.Markdown object>"
      ]
     },
     "metadata": {},
     "output_type": "display_data"
    },
    {
     "data": {
      "text/markdown": [
       "<font color=\"#7d7f3f\">  Any such sale could have a material adverse effect on our business and financial results  (6)</font>"
      ],
      "text/plain": [
       "<IPython.core.display.Markdown object>"
      ]
     },
     "metadata": {},
     "output_type": "display_data"
    },
    {
     "data": {
      "text/markdown": [
       "<font color=\"#7f3f3f\"> Lower oil and/or gas prices may also reduce the amount of oil and/or gas that we can produce economically  (0)</font>"
      ],
      "text/plain": [
       "<IPython.core.display.Markdown object>"
      ]
     },
     "metadata": {},
     "output_type": "display_data"
    },
    {
     "data": {
      "text/markdown": [
       "<font color=\"#7f3f3f\"> Sustained substantial declines in oil and/or gas prices may render uneconomic a significant portion of our exploration, development and exploitation projects, which may result in our having to make significant downward adjustments to our estimated proved reserves  (0)</font>"
      ],
      "text/plain": [
       "<IPython.core.display.Markdown object>"
      ]
     },
     "metadata": {},
     "output_type": "display_data"
    },
    {
     "data": {
      "text/markdown": [
       "<font color=\"#3f7a7f\"> As a result, a prolonged or substantial decline in oil and/or gas prices such as we have experienced since mid-2014 has in the past caused, and would likely in the future cause, a material and adverse effect on our future business, financial condition, results of operations, liquidity and ability to finance capital expenditures  (18)</font>"
      ],
      "text/plain": [
       "<IPython.core.display.Markdown object>"
      ]
     },
     "metadata": {},
     "output_type": "display_data"
    },
    {
     "data": {
      "text/markdown": [
       "<font color=\"#5c3f7f\"> Additionally, if we experience significant sustained decreases in oil and gas prices such that the expected future cash flows from our oil and gas properties falls below the net book value of our properties, we may be required to write down the value of our oil and gas properties  (26)</font>"
      ],
      "text/plain": [
       "<IPython.core.display.Markdown object>"
      ]
     },
     "metadata": {},
     "output_type": "display_data"
    },
    {
     "data": {
      "text/markdown": [
       "<font color=\"#3f647f\"> Any such asset impairments could materially and adversely affect our results of operations and, in turn, the trading price of our common stock  (20)</font>"
      ],
      "text/plain": [
       "<IPython.core.display.Markdown object>"
      ]
     },
     "metadata": {},
     "output_type": "display_data"
    },
    {
     "data": {
      "text/markdown": [
       "<font color=\"#7f3f3f\"> We may not be able to fund the capital expenditures that will be required for us to increase reserves and production  (0)</font>"
      ],
      "text/plain": [
       "<IPython.core.display.Markdown object>"
      ]
     },
     "metadata": {},
     "output_type": "display_data"
    },
    {
     "data": {
      "text/markdown": [
       "<font color=\"#7f3f3f\"> We must make capital expenditures to develop our existing reserves and to discover new reserves  (0)</font>"
      ],
      "text/plain": [
       "<IPython.core.display.Markdown object>"
      ]
     },
     "metadata": {},
     "output_type": "display_data"
    },
    {
     "data": {
      "text/markdown": [
       "<font color=\"#7f3f3f\">  Historically, we have financed our capital expenditures primarily with cash flows from operations, borrowings under credit facilities, sales of properties, monetizing derivative contracts and sales of debt and equity securities and we expect to continue to utilize these sources in the future to the extent available  (0)</font>"
      ],
      "text/plain": [
       "<IPython.core.display.Markdown object>"
      ]
     },
     "metadata": {},
     "output_type": "display_data"
    },
    {
     "data": {
      "text/markdown": [
       "<font color=\"#7f3f3f\">  We cannot assure you that we will have sufficient capital resources in the future to finance all of our planned capital expenditures  (0)</font>"
      ],
      "text/plain": [
       "<IPython.core.display.Markdown object>"
      ]
     },
     "metadata": {},
     "output_type": "display_data"
    },
    {
     "data": {
      "text/markdown": [
       "<font color=\"#3f7f6f\"> Volatility in oil and gas prices, the timing of our drilling programs and drilling results will affect our cash flows from operations  (16)</font>"
      ],
      "text/plain": [
       "<IPython.core.display.Markdown object>"
      ]
     },
     "metadata": {},
     "output_type": "display_data"
    },
    {
     "data": {
      "text/markdown": [
       "<font color=\"#7f3f3f\">  Lower prices and/or lower production could also decrease revenues and cash flows from operations, thus reducing the amount of financial resources available to meet our capital requirements, including reducing the amount available to pursue our drilling opportunities  (0)</font>"
      ],
      "text/plain": [
       "<IPython.core.display.Markdown object>"
      ]
     },
     "metadata": {},
     "output_type": "display_data"
    },
    {
     "data": {
      "text/markdown": [
       "<font color=\"#7f3f3f\">  If our cash flows from operations does not increase as a result of capital expenditures, a greater percentage of our cash flows from operations will be required for debt service and operating expenses and our capital expenditures would, by necessity, be decreased  (0)</font>"
      ],
      "text/plain": [
       "<IPython.core.display.Markdown object>"
      ]
     },
     "metadata": {},
     "output_type": "display_data"
    },
    {
     "data": {
      "text/markdown": [
       "<font color=\"#7f3f3f\"> The borrowing base under our credit facility is determined from time to time by the lenders  (0)</font>"
      ],
      "text/plain": [
       "<IPython.core.display.Markdown object>"
      ]
     },
     "metadata": {},
     "output_type": "display_data"
    },
    {
     "data": {
      "text/markdown": [
       "<font color=\"#7f3f3f\">  Reductions in estimates of oil and gas reserves could result in a reduction in the borrowing base, which would reduce the amount of financial resources available under our credit facility to meet our capital requirements and/or trigger certain repayment obligations  (0)</font>"
      ],
      "text/plain": [
       "<IPython.core.display.Markdown object>"
      ]
     },
     "metadata": {},
     "output_type": "display_data"
    },
    {
     "data": {
      "text/markdown": [
       "<font color=\"#7f3f3f\">   Such a reduction could be the result of lower commodity prices and/or production, an inability to drill or unfavorable drilling results, changes in oil and gas reserve engineering, the lenders' inability to agree to an adequate borrowing base or adverse changes in the lenders' practices regarding estimation of reserves  (0)</font>"
      ],
      "text/plain": [
       "<IPython.core.display.Markdown object>"
      ]
     },
     "metadata": {},
     "output_type": "display_data"
    },
    {
     "data": {
      "text/markdown": [
       "<font color=\"#7f3f3f\"> 17  (0)</font>"
      ],
      "text/plain": [
       "<IPython.core.display.Markdown object>"
      ]
     },
     "metadata": {},
     "output_type": "display_data"
    },
    {
     "data": {
      "text/markdown": [
       "<font color=\"#7f3f3f\"> Table of Contents  (0)</font>"
      ],
      "text/plain": [
       "<IPython.core.display.Markdown object>"
      ]
     },
     "metadata": {},
     "output_type": "display_data"
    },
    {
     "data": {
      "text/markdown": [
       "<font color=\"#3f7f6f\"> If cash flows from operations or our borrowing base decrease, our ability to undertake exploration and development activities could be adversely affected  (16)</font>"
      ],
      "text/plain": [
       "<IPython.core.display.Markdown object>"
      ]
     },
     "metadata": {},
     "output_type": "display_data"
    },
    {
     "data": {
      "text/markdown": [
       "<font color=\"#7f3f3f\">  As a result, our ability to replace production may be limited  (0)</font>"
      ],
      "text/plain": [
       "<IPython.core.display.Markdown object>"
      ]
     },
     "metadata": {},
     "output_type": "display_data"
    },
    {
     "data": {
      "text/markdown": [
       "<font color=\"#7f3f3f\">  In addition, if the borrowing base under our credit facility is reduced, we would be required to reduce borrowings under our credit facility so that such borrowings do not exceed the borrowing base  (0)</font>"
      ],
      "text/plain": [
       "<IPython.core.display.Markdown object>"
      ]
     },
     "metadata": {},
     "output_type": "display_data"
    },
    {
     "data": {
      "text/markdown": [
       "<font color=\"#7f3f3f\">  This could further reduce the cash available to us for capital spending and, if we did not have sufficient capital to reduce our borrowing level, we may be in default under the credit facility  (0)</font>"
      ],
      "text/plain": [
       "<IPython.core.display.Markdown object>"
      ]
     },
     "metadata": {},
     "output_type": "display_data"
    },
    {
     "data": {
      "text/markdown": [
       "<font color=\"#7f3f3f\"> We have sold producing properties to provide us with liquidity and capital resources in the past and we may continue to do so in the future  (0)</font>"
      ],
      "text/plain": [
       "<IPython.core.display.Markdown object>"
      ]
     },
     "metadata": {},
     "output_type": "display_data"
    },
    {
     "data": {
      "text/markdown": [
       "<font color=\"#7f3f3f\">  After any such sale, we would expect to utilize the proceeds to reduce our indebtedness and/or to drill new wells on our remaining properties  (0)</font>"
      ],
      "text/plain": [
       "<IPython.core.display.Markdown object>"
      ]
     },
     "metadata": {},
     "output_type": "display_data"
    },
    {
     "data": {
      "text/markdown": [
       "<font color=\"#7f3f3f\">  If we cannot replace the production from the properties sold with production from our remaining properties, our cash flows from operations will likely decrease, which in turn, could decrease the amount of cash available for additional capital spending  (0)</font>"
      ],
      "text/plain": [
       "<IPython.core.display.Markdown object>"
      ]
     },
     "metadata": {},
     "output_type": "display_data"
    },
    {
     "data": {
      "text/markdown": [
       "<font color=\"#3f7f6f\"> We have indebtedness which may adversely affect our cash flows and business operations  (16)</font>"
      ],
      "text/plain": [
       "<IPython.core.display.Markdown object>"
      ]
     },
     "metadata": {},
     "output_type": "display_data"
    },
    {
     "data": {
      "text/markdown": [
       "<font color=\"#7f3f3f\"> At December 31, 2017, we had a total of $84  (0)</font>"
      ],
      "text/plain": [
       "<IPython.core.display.Markdown object>"
      ]
     },
     "metadata": {},
     "output_type": "display_data"
    },
    {
     "data": {
      "text/markdown": [
       "<font color=\"#7f3f3f\">0 million of indebtedness under our credit facility and total indebtedness of $87  (0)</font>"
      ],
      "text/plain": [
       "<IPython.core.display.Markdown object>"
      ]
     },
     "metadata": {},
     "output_type": "display_data"
    },
    {
     "data": {
      "text/markdown": [
       "<font color=\"#7f6b3f\">6 million (including the current portion)  (4)</font>"
      ],
      "text/plain": [
       "<IPython.core.display.Markdown object>"
      ]
     },
     "metadata": {},
     "output_type": "display_data"
    },
    {
     "data": {
      "text/markdown": [
       "<font color=\"#7f3f3f\">  While the amount borrowed under our credit facility at March 9, 2018 was $103  (0)</font>"
      ],
      "text/plain": [
       "<IPython.core.display.Markdown object>"
      ]
     },
     "metadata": {},
     "output_type": "display_data"
    },
    {
     "data": {
      "text/markdown": [
       "<font color=\"#7f3f3f\">0 million (and total indebtedness was $106  (0)</font>"
      ],
      "text/plain": [
       "<IPython.core.display.Markdown object>"
      ]
     },
     "metadata": {},
     "output_type": "display_data"
    },
    {
     "data": {
      "text/markdown": [
       "<font color=\"#7f3f3f\">6 million), this amount will likely increase as we pursue drilling and completion of wells  (0)</font>"
      ],
      "text/plain": [
       "<IPython.core.display.Markdown object>"
      ]
     },
     "metadata": {},
     "output_type": "display_data"
    },
    {
     "data": {
      "text/markdown": [
       "<font color=\"#7f3f3f\"> Our indebtedness could have important consequences to us, including:  (0)</font>"
      ],
      "text/plain": [
       "<IPython.core.display.Markdown object>"
      ]
     },
     "metadata": {},
     "output_type": "display_data"
    },
    {
     "data": {
      "text/markdown": [
       "<font color=\"#7f3f3f\"> • affecting our ability to obtain additional financing, if necessary, for working capital, capital expenditures, acquisitions or other purposes which may be impaired or not available on favorable terms or at all;  (0)</font>"
      ],
      "text/plain": [
       "<IPython.core.display.Markdown object>"
      ]
     },
     "metadata": {},
     "output_type": "display_data"
    },
    {
     "data": {
      "text/markdown": [
       "<font color=\"#7f3f3f\"> • covenants contained in our credit facility and future debt arrangements will require us to meet financial tests that may affect our flexibility in planning for and reacting to changes in our business, including future business opportunities;  (0)</font>"
      ],
      "text/plain": [
       "<IPython.core.display.Markdown object>"
      ]
     },
     "metadata": {},
     "output_type": "display_data"
    },
    {
     "data": {
      "text/markdown": [
       "<font color=\"#7f3f3f\"> • a substantial portion of our cash flows from operations will be used to make principal and interest payments on our indebtedness, reducing the funds that would otherwise be available for operations and future business opportunities; and  (0)</font>"
      ],
      "text/plain": [
       "<IPython.core.display.Markdown object>"
      ]
     },
     "metadata": {},
     "output_type": "display_data"
    },
    {
     "data": {
      "text/markdown": [
       "<font color=\"#7f3f3f\"> • making us more vulnerable to competitive pressures if there is a downturn in our business or the economy in general, than our competitors with less debt  (0)</font>"
      ],
      "text/plain": [
       "<IPython.core.display.Markdown object>"
      ]
     },
     "metadata": {},
     "output_type": "display_data"
    },
    {
     "data": {
      "text/markdown": [
       "<font color=\"#3f7f6f\"> Our ability to service our indebtedness will depend upon, among other things, our future financial and operating performance, which will be affected by prevailing economic conditions and financial, business, regulatory and other factors, some of which are beyond our control  (16)</font>"
      ],
      "text/plain": [
       "<IPython.core.display.Markdown object>"
      ]
     },
     "metadata": {},
     "output_type": "display_data"
    },
    {
     "data": {
      "text/markdown": [
       "<font color=\"#513f7f\"> If our operating results are not sufficient to service our current or future indebtedness, we will be forced to take actions such as reducing or delaying capital expenditures, acquisitions and/or selling assets, restructuring or refinancing our indebtedness or seeking additional debt or equity capital or bankruptcy protection  (25)</font>"
      ],
      "text/plain": [
       "<IPython.core.display.Markdown object>"
      ]
     },
     "metadata": {},
     "output_type": "display_data"
    },
    {
     "data": {
      "text/markdown": [
       "<font color=\"#7f3f3f\"> We may not be able to effect any of these remedies on satisfactory terms or at all  (0)</font>"
      ],
      "text/plain": [
       "<IPython.core.display.Markdown object>"
      ]
     },
     "metadata": {},
     "output_type": "display_data"
    },
    {
     "data": {
      "text/markdown": [
       "<font color=\"#7f3f3f\"> A breach of the terms and conditions of our credit facility, including borrowings in excess of the borrowing base or the inability to comply with the required financial covenants, could result in an event of default  (0)</font>"
      ],
      "text/plain": [
       "<IPython.core.display.Markdown object>"
      ]
     },
     "metadata": {},
     "output_type": "display_data"
    },
    {
     "data": {
      "text/markdown": [
       "<font color=\"#7f3f3f\"> If an event of default occurs (after any applicable notice and cure periods), the lenders would be entitled to terminate any commitment to make further extensions of credit under our credit facility and to accelerate the repayment of amounts outstanding (including accrued and unpaid interest and fees)  (0)</font>"
      ],
      "text/plain": [
       "<IPython.core.display.Markdown object>"
      ]
     },
     "metadata": {},
     "output_type": "display_data"
    },
    {
     "data": {
      "text/markdown": [
       "<font color=\"#7f3f3f\">  Upon a default under our credit facility, the lenders could also foreclose against any collateral securing such obligations, which may be all or substantially all of our assets  (0)</font>"
      ],
      "text/plain": [
       "<IPython.core.display.Markdown object>"
      ]
     },
     "metadata": {},
     "output_type": "display_data"
    },
    {
     "data": {
      "text/markdown": [
       "<font color=\"#7f3f3f\">  If that occurred, we may not be able to continue to operate as a going concern  (0)</font>"
      ],
      "text/plain": [
       "<IPython.core.display.Markdown object>"
      ]
     },
     "metadata": {},
     "output_type": "display_data"
    },
    {
     "data": {
      "text/markdown": [
       "<font color=\"#7f3f3f\"> Restrictive debt covenants could limit our growth and our ability to finance our operations, fund our capital needs, respond to changing conditions and engage in other business activities that may be in our best interests  (0)</font>"
      ],
      "text/plain": [
       "<IPython.core.display.Markdown object>"
      ]
     },
     "metadata": {},
     "output_type": "display_data"
    },
    {
     "data": {
      "text/markdown": [
       "<font color=\"#7f3f3f\"> Our credit facility contains a number of significant covenants that, among other things, limit our ability to:  (0)</font>"
      ],
      "text/plain": [
       "<IPython.core.display.Markdown object>"
      ]
     },
     "metadata": {},
     "output_type": "display_data"
    },
    {
     "data": {
      "text/markdown": [
       "<font color=\"#3f7f64\"> • incur or guarantee additional indebtedness and issue certain types of preferred stock or redeemable stock;  (15)</font>"
      ],
      "text/plain": [
       "<IPython.core.display.Markdown object>"
      ]
     },
     "metadata": {},
     "output_type": "display_data"
    },
    {
     "data": {
      "text/markdown": [
       "<font color=\"#7f3f3f\"> • transfer or sell assets;  (0)</font>"
      ],
      "text/plain": [
       "<IPython.core.display.Markdown object>"
      ]
     },
     "metadata": {},
     "output_type": "display_data"
    },
    {
     "data": {
      "text/markdown": [
       "<font color=\"#7f3f3f\"> • create liens on assets;  (0)</font>"
      ],
      "text/plain": [
       "<IPython.core.display.Markdown object>"
      ]
     },
     "metadata": {},
     "output_type": "display_data"
    },
    {
     "data": {
      "text/markdown": [
       "<font color=\"#3f7f64\"> • pay dividends or make other distributions on capital stock or make other restricted payments, including repurchasing, redeeming or retiring capital stock or subordinated debt or making certain investments or acquisitions;  (15)</font>"
      ],
      "text/plain": [
       "<IPython.core.display.Markdown object>"
      ]
     },
     "metadata": {},
     "output_type": "display_data"
    },
    {
     "data": {
      "text/markdown": [
       "<font color=\"#7f3f3f\"> • engage in transactions with affiliates;  (0)</font>"
      ],
      "text/plain": [
       "<IPython.core.display.Markdown object>"
      ]
     },
     "metadata": {},
     "output_type": "display_data"
    },
    {
     "data": {
      "text/markdown": [
       "<font color=\"#7f3f3f\"> • guarantee other indebtedness;  (0)</font>"
      ],
      "text/plain": [
       "<IPython.core.display.Markdown object>"
      ]
     },
     "metadata": {},
     "output_type": "display_data"
    },
    {
     "data": {
      "text/markdown": [
       "<font color=\"#7f3f3f\"> 18  (0)</font>"
      ],
      "text/plain": [
       "<IPython.core.display.Markdown object>"
      ]
     },
     "metadata": {},
     "output_type": "display_data"
    },
    {
     "data": {
      "text/markdown": [
       "<font color=\"#7f3f3f\"> Table of Contents  (0)</font>"
      ],
      "text/plain": [
       "<IPython.core.display.Markdown object>"
      ]
     },
     "metadata": {},
     "output_type": "display_data"
    },
    {
     "data": {
      "text/markdown": [
       "<font color=\"#7f3f3f\"> • make any change in the principal nature of our business;  (0)</font>"
      ],
      "text/plain": [
       "<IPython.core.display.Markdown object>"
      ]
     },
     "metadata": {},
     "output_type": "display_data"
    },
    {
     "data": {
      "text/markdown": [
       "<font color=\"#3f597f\"> • permit a change of control; or  (21)</font>"
      ],
      "text/plain": [
       "<IPython.core.display.Markdown object>"
      ]
     },
     "metadata": {},
     "output_type": "display_data"
    },
    {
     "data": {
      "text/markdown": [
       "<font color=\"#7f3f3f\"> • consolidate, merge or transfer all or substantially all of our assets  (0)</font>"
      ],
      "text/plain": [
       "<IPython.core.display.Markdown object>"
      ]
     },
     "metadata": {},
     "output_type": "display_data"
    },
    {
     "data": {
      "text/markdown": [
       "<font color=\"#7f3f3f\"> In addition, our credit facility requires us to maintain compliance with specified financial covenants  (0)</font>"
      ],
      "text/plain": [
       "<IPython.core.display.Markdown object>"
      ]
     },
     "metadata": {},
     "output_type": "display_data"
    },
    {
     "data": {
      "text/markdown": [
       "<font color=\"#3f7f6f\">  Our ability to comply with these covenants may be adversely affected by events beyond our control, and we cannot assure you that we can maintain compliance with these covenants  (16)</font>"
      ],
      "text/plain": [
       "<IPython.core.display.Markdown object>"
      ]
     },
     "metadata": {},
     "output_type": "display_data"
    },
    {
     "data": {
      "text/markdown": [
       "<font color=\"#7f3f3f\">  These financial covenants could limit our ability to obtain future financings, make needed capital expenditures, withstand a downturn in our business or the economy in general or otherwise conduct necessary or desirable business activities  (0)</font>"
      ],
      "text/plain": [
       "<IPython.core.display.Markdown object>"
      ]
     },
     "metadata": {},
     "output_type": "display_data"
    },
    {
     "data": {
      "text/markdown": [
       "<font color=\"#7f3f3f\"> We are also required to use the proceeds from the termination of any derivative contracts to repay outstanding amounts under the credit facility and to use any amount of cash on hand and liquid investments in excess of $10 million to repay outstanding amounts under the credit facility  (0)</font>"
      ],
      "text/plain": [
       "<IPython.core.display.Markdown object>"
      ]
     },
     "metadata": {},
     "output_type": "display_data"
    },
    {
     "data": {
      "text/markdown": [
       "<font color=\"#7f3f3f\"> A breach of any of these covenants could result in a default under our credit facility  (0)</font>"
      ],
      "text/plain": [
       "<IPython.core.display.Markdown object>"
      ]
     },
     "metadata": {},
     "output_type": "display_data"
    },
    {
     "data": {
      "text/markdown": [
       "<font color=\"#7f3f3f\">  A default, if not cured or waived, could result in all of our indebtedness becoming immediately due and payable  (0)</font>"
      ],
      "text/plain": [
       "<IPython.core.display.Markdown object>"
      ]
     },
     "metadata": {},
     "output_type": "display_data"
    },
    {
     "data": {
      "text/markdown": [
       "<font color=\"#7f3f3f\"> If that should occur, we may not be able to pay all such debt or to borrow sufficient funds to refinance it  (0)</font>"
      ],
      "text/plain": [
       "<IPython.core.display.Markdown object>"
      ]
     },
     "metadata": {},
     "output_type": "display_data"
    },
    {
     "data": {
      "text/markdown": [
       "<font color=\"#7f3f3f\"> Even if new financing were then available, it may not be on terms acceptable or favorable to us  (0)</font>"
      ],
      "text/plain": [
       "<IPython.core.display.Markdown object>"
      ]
     },
     "metadata": {},
     "output_type": "display_data"
    },
    {
     "data": {
      "text/markdown": [
       "<font color=\"#7f3f3f\"> Lower oil and gas prices increase the risk of ceiling limitation write-downs  (0)</font>"
      ],
      "text/plain": [
       "<IPython.core.display.Markdown object>"
      ]
     },
     "metadata": {},
     "output_type": "display_data"
    },
    {
     "data": {
      "text/markdown": [
       "<font color=\"#7f3f3f\"> We use the full cost method to account for our oil and gas operations  (0)</font>"
      ],
      "text/plain": [
       "<IPython.core.display.Markdown object>"
      ]
     },
     "metadata": {},
     "output_type": "display_data"
    },
    {
     "data": {
      "text/markdown": [
       "<font color=\"#7f3f3f\">  Accordingly, we capitalize the cost to acquire, explore for and develop our oil and gas properties  (0)</font>"
      ],
      "text/plain": [
       "<IPython.core.display.Markdown object>"
      ]
     },
     "metadata": {},
     "output_type": "display_data"
    },
    {
     "data": {
      "text/markdown": [
       "<font color=\"#5c3f7f\">  Under full cost accounting rules, the net capitalized cost of our oil and gas properties may not exceed a \\\"ceiling limit\\\" which is based upon the present value of estimated future net cash flows from our proved reserves, discounted at 10%  (26)</font>"
      ],
      "text/plain": [
       "<IPython.core.display.Markdown object>"
      ]
     },
     "metadata": {},
     "output_type": "display_data"
    },
    {
     "data": {
      "text/markdown": [
       "<font color=\"#7f3f3f\">  If the net capitalized costs of our oil and gas properties exceed the ceiling limit, we must charge the amount of the excess to earnings  (0)</font>"
      ],
      "text/plain": [
       "<IPython.core.display.Markdown object>"
      ]
     },
     "metadata": {},
     "output_type": "display_data"
    },
    {
     "data": {
      "text/markdown": [
       "<font color=\"#7f3f3f\">  This is called a \\\"ceiling limitation write-down  (0)</font>"
      ],
      "text/plain": [
       "<IPython.core.display.Markdown object>"
      ]
     },
     "metadata": {},
     "output_type": "display_data"
    },
    {
     "data": {
      "text/markdown": [
       "<font color=\"#7f3f3f\">\\\" This charge does not impact cash flows from operating activities, but it does reduce our stockholders' equity and earnings  (0)</font>"
      ],
      "text/plain": [
       "<IPython.core.display.Markdown object>"
      ]
     },
     "metadata": {},
     "output_type": "display_data"
    },
    {
     "data": {
      "text/markdown": [
       "<font color=\"#5c3f7f\">  The risk that we will be required to write-down the carrying value of our oil and gas properties increases when oil and gas prices are low, which could be further impacted by the SEC's oil and gas reporting disclosures, which require us to use an average price over the prior 12-month period, rather than the year-end price, when calculating the PV-10  (26)</font>"
      ],
      "text/plain": [
       "<IPython.core.display.Markdown object>"
      ]
     },
     "metadata": {},
     "output_type": "display_data"
    },
    {
     "data": {
      "text/markdown": [
       "<font color=\"#7f3f3f\">  In addition, write-downs may occur if we experience substantial downward adjustments to our estimated proved reserves  (0)</font>"
      ],
      "text/plain": [
       "<IPython.core.display.Markdown object>"
      ]
     },
     "metadata": {},
     "output_type": "display_data"
    },
    {
     "data": {
      "text/markdown": [
       "<font color=\"#7f603f\">  An expense recorded in one period may not be reversed in a subsequent period even though oil and gas prices may have increased the ceiling applicable in the subsequent period  (3)</font>"
      ],
      "text/plain": [
       "<IPython.core.display.Markdown object>"
      ]
     },
     "metadata": {},
     "output_type": "display_data"
    },
    {
     "data": {
      "text/markdown": [
       "<font color=\"#5c3f7f\"> At December 31, 2015, the net capitalized costs of our oil and gas properties exceeded the present value of our proved reserves, resulting in recognition of impairments totaling $128  (26)</font>"
      ],
      "text/plain": [
       "<IPython.core.display.Markdown object>"
      ]
     },
     "metadata": {},
     "output_type": "display_data"
    },
    {
     "data": {
      "text/markdown": [
       "<font color=\"#7f3f3f\">6 million  (0)</font>"
      ],
      "text/plain": [
       "<IPython.core.display.Markdown object>"
      ]
     },
     "metadata": {},
     "output_type": "display_data"
    },
    {
     "data": {
      "text/markdown": [
       "<font color=\"#7f3f3f\"> During 2016 we recognized additional impairments of $67  (0)</font>"
      ],
      "text/plain": [
       "<IPython.core.display.Markdown object>"
      ]
     },
     "metadata": {},
     "output_type": "display_data"
    },
    {
     "data": {
      "text/markdown": [
       "<font color=\"#7f3f3f\">6 million  (0)</font>"
      ],
      "text/plain": [
       "<IPython.core.display.Markdown object>"
      ]
     },
     "metadata": {},
     "output_type": "display_data"
    },
    {
     "data": {
      "text/markdown": [
       "<font color=\"#7f3f3f\"> While we did not recognize any impairments in 2017, if commodity prices decrease in the future, we would likely be required to record further write downs  (0)</font>"
      ],
      "text/plain": [
       "<IPython.core.display.Markdown object>"
      ]
     },
     "metadata": {},
     "output_type": "display_data"
    },
    {
     "data": {
      "text/markdown": [
       "<font color=\"#7f3f3f\"> An increase in the differential between NYMEX and the reference or regional index price used to price our oil and gas would reduce our cash flows from operations  (0)</font>"
      ],
      "text/plain": [
       "<IPython.core.display.Markdown object>"
      ]
     },
     "metadata": {},
     "output_type": "display_data"
    },
    {
     "data": {
      "text/markdown": [
       "<font color=\"#7f3f3f\"> Our oil and gas is priced in the local markets where it is produced based on local or regional supply and demand factors  (0)</font>"
      ],
      "text/plain": [
       "<IPython.core.display.Markdown object>"
      ]
     },
     "metadata": {},
     "output_type": "display_data"
    },
    {
     "data": {
      "text/markdown": [
       "<font color=\"#7f3f3f\">  The prices we receive for our oil and gas are typically lower than the relevant benchmark prices, such as NYMEX  (0)</font>"
      ],
      "text/plain": [
       "<IPython.core.display.Markdown object>"
      ]
     },
     "metadata": {},
     "output_type": "display_data"
    },
    {
     "data": {
      "text/markdown": [
       "<font color=\"#7f3f3f\">  The difference between the benchmark price and the price we receive is called a differential  (0)</font>"
      ],
      "text/plain": [
       "<IPython.core.display.Markdown object>"
      ]
     },
     "metadata": {},
     "output_type": "display_data"
    },
    {
     "data": {
      "text/markdown": [
       "<font color=\"#7f3f3f\">  Numerous factors may influence local pricing, such as refinery capacity, location to market, product quality, pipeline capacity and specifications, upsets in the midstream or downstream sectors of the industry, trade restrictions and governmental regulations  (0)</font>"
      ],
      "text/plain": [
       "<IPython.core.display.Markdown object>"
      ]
     },
     "metadata": {},
     "output_type": "display_data"
    },
    {
     "data": {
      "text/markdown": [
       "<font color=\"#7f3f3f\">  Additionally, insufficient pipeline capacity, lack of demand in any given operating area or other factors may cause the differential to increase in a particular area compared with other producing areas  (0)</font>"
      ],
      "text/plain": [
       "<IPython.core.display.Markdown object>"
      ]
     },
     "metadata": {},
     "output_type": "display_data"
    },
    {
     "data": {
      "text/markdown": [
       "<font color=\"#7f3f3f\">  For example, production increases from competing Canadian and Rocky Mountain producers, combined with limited refining and pipeline capacity in the Rocky Mountain area, have gradually widened differentials in this area  (0)</font>"
      ],
      "text/plain": [
       "<IPython.core.display.Markdown object>"
      ]
     },
     "metadata": {},
     "output_type": "display_data"
    },
    {
     "data": {
      "text/markdown": [
       "<font color=\"#7f3f3f\"> In addition, we have a gas sales contract related to certain gas and NGL produced in the Rocky Mountain Region, which provides that if certain margins of gas and NGL prices are not met by the purchaser, we receive no sales proceeds  (0)</font>"
      ],
      "text/plain": [
       "<IPython.core.display.Markdown object>"
      ]
     },
     "metadata": {},
     "output_type": "display_data"
    },
    {
     "data": {
      "text/markdown": [
       "<font color=\"#7f3f3f\"> During 2017, our differentials averaged $(4  (0)</font>"
      ],
      "text/plain": [
       "<IPython.core.display.Markdown object>"
      ]
     },
     "metadata": {},
     "output_type": "display_data"
    },
    {
     "data": {
      "text/markdown": [
       "<font color=\"#7f3f3f\">09) per Bbl of oil and $(1  (0)</font>"
      ],
      "text/plain": [
       "<IPython.core.display.Markdown object>"
      ]
     },
     "metadata": {},
     "output_type": "display_data"
    },
    {
     "data": {
      "text/markdown": [
       "<font color=\"#7f3f3f\">37) per Mcf of gas  (0)</font>"
      ],
      "text/plain": [
       "<IPython.core.display.Markdown object>"
      ]
     },
     "metadata": {},
     "output_type": "display_data"
    },
    {
     "data": {
      "text/markdown": [
       "<font color=\"#7f3f3f\">   Approximately 70% of our oil  production during 2017 was from the Rocky Mountain region  (0)</font>"
      ],
      "text/plain": [
       "<IPython.core.display.Markdown object>"
      ]
     },
     "metadata": {},
     "output_type": "display_data"
    },
    {
     "data": {
      "text/markdown": [
       "<font color=\"#7f3f3f\">  Historically, this region has experienced wider differentials than our Permian/Delaware Basin and South Texas properties  (0)</font>"
      ],
      "text/plain": [
       "<IPython.core.display.Markdown object>"
      ]
     },
     "metadata": {},
     "output_type": "display_data"
    },
    {
     "data": {
      "text/markdown": [
       "<font color=\"#7f3f3f\">  If the percentage of our production from the Rocky Mountain region continues to increase, we expect that the effect of our price differentials on our revenues will also increase  (0)</font>"
      ],
      "text/plain": [
       "<IPython.core.display.Markdown object>"
      ]
     },
     "metadata": {},
     "output_type": "display_data"
    },
    {
     "data": {
      "text/markdown": [
       "<font color=\"#7f3f3f\">  Increases in the differential between the benchmark prices for oil and gas and the realized price we receive could significantly reduce our revenues and our cash flow from operations  (0)</font>"
      ],
      "text/plain": [
       "<IPython.core.display.Markdown object>"
      ]
     },
     "metadata": {},
     "output_type": "display_data"
    },
    {
     "data": {
      "text/markdown": [
       "<font color=\"#7f3f3f\"> 19  (0)</font>"
      ],
      "text/plain": [
       "<IPython.core.display.Markdown object>"
      ]
     },
     "metadata": {},
     "output_type": "display_data"
    },
    {
     "data": {
      "text/markdown": [
       "<font color=\"#7f3f3f\"> Table of Contents  (0)</font>"
      ],
      "text/plain": [
       "<IPython.core.display.Markdown object>"
      ]
     },
     "metadata": {},
     "output_type": "display_data"
    },
    {
     "data": {
      "text/markdown": [
       "<font color=\"#7f3f3f\"> Our derivative contracts could result in financial losses or could reduce our cash flows  (0)</font>"
      ],
      "text/plain": [
       "<IPython.core.display.Markdown object>"
      ]
     },
     "metadata": {},
     "output_type": "display_data"
    },
    {
     "data": {
      "text/markdown": [
       "<font color=\"#7f3f3f\"> To achieve more predictable cash flows and reduce our exposure to adverse fluctuations in the prices of oil and gas, we enter into derivative contracts, which we sometimes refer to as hedging arrangements, for a significant portion of our oil and gas production that could result in both realized and unrealized derivative contract losses  (0)</font>"
      ],
      "text/plain": [
       "<IPython.core.display.Markdown object>"
      ]
     },
     "metadata": {},
     "output_type": "display_data"
    },
    {
     "data": {
      "text/markdown": [
       "<font color=\"#7f3f3f\">  We have entered into NYMEX-based fixed price commodity swap arrangements on approximately 63% of the oil production from our estimated net proved developed producing reserves (as of December 31, 2017) through December 31, 2018, and 70% for  2019  (0)</font>"
      ],
      "text/plain": [
       "<IPython.core.display.Markdown object>"
      ]
     },
     "metadata": {},
     "output_type": "display_data"
    },
    {
     "data": {
      "text/markdown": [
       "<font color=\"#7f3f3f\"> Subsequent to December 31, 2017, we have entered into additional fixed price commodity swaps  (0)</font>"
      ],
      "text/plain": [
       "<IPython.core.display.Markdown object>"
      ]
     },
     "metadata": {},
     "output_type": "display_data"
    },
    {
     "data": {
      "text/markdown": [
       "<font color=\"#7f3f3f\"> Taking these additional contracts into consideration, we have entered into fixed price commodity swap arrangements on approximately 86% of the oil production of our estimated net proved developed producing reserves (as of December 31, 2017) through December 31, 2018, 89% for 2019 and 89% for 2020  (0)</font>"
      ],
      "text/plain": [
       "<IPython.core.display.Markdown object>"
      ]
     },
     "metadata": {},
     "output_type": "display_data"
    },
    {
     "data": {
      "text/markdown": [
       "<font color=\"#7f3f3f\">These arrangements may be inadequate to protect us from declines in oil and gas prices  (0)</font>"
      ],
      "text/plain": [
       "<IPython.core.display.Markdown object>"
      ]
     },
     "metadata": {},
     "output_type": "display_data"
    },
    {
     "data": {
      "text/markdown": [
       "<font color=\"#7f6b3f\"> Any new hedging arrangements will be priced at then-current market prices and may be significantly lower than the commodity swaps we currently have in place  (4)</font>"
      ],
      "text/plain": [
       "<IPython.core.display.Markdown object>"
      ]
     },
     "metadata": {},
     "output_type": "display_data"
    },
    {
     "data": {
      "text/markdown": [
       "<font color=\"#7f3f3f\">  The extent of our commodity price exposure will be related largely to the effectiveness and scope of our commodity price derivative contracts  (0)</font>"
      ],
      "text/plain": [
       "<IPython.core.display.Markdown object>"
      ]
     },
     "metadata": {},
     "output_type": "display_data"
    },
    {
     "data": {
      "text/markdown": [
       "<font color=\"#7f3f3f\">  For example, the prices utilized in our derivative contracts are currently NYMEX-based, which may differ significantly from the actual prices we receive for oil and gas which are based on the local markets where the oil and gas is produced  (0)</font>"
      ],
      "text/plain": [
       "<IPython.core.display.Markdown object>"
      ]
     },
     "metadata": {},
     "output_type": "display_data"
    },
    {
     "data": {
      "text/markdown": [
       "<font color=\"#7f3f3f\">  The prices that we receive for our oil and gas production are typically lower than the relevant benchmark prices that are used for calculating commodity derivative positions  (0)</font>"
      ],
      "text/plain": [
       "<IPython.core.display.Markdown object>"
      ]
     },
     "metadata": {},
     "output_type": "display_data"
    },
    {
     "data": {
      "text/markdown": [
       "<font color=\"#7f3f3f\">  The difference between the benchmark price and the price we receive is called a differential, a significant portion of which is based on the delivery location which is called the basis differential  (0)</font>"
      ],
      "text/plain": [
       "<IPython.core.display.Markdown object>"
      ]
     },
     "metadata": {},
     "output_type": "display_data"
    },
    {
     "data": {
      "text/markdown": [
       "<font color=\"#3f7f6f\">  As a result, our cash flows from operations could be affected if the basis differentials widen more than we anticipate  (16)</font>"
      ],
      "text/plain": [
       "<IPython.core.display.Markdown object>"
      ]
     },
     "metadata": {},
     "output_type": "display_data"
    },
    {
     "data": {
      "text/markdown": [
       "<font color=\"#7f3f3f\"> Our cash flows from operations could also be affected based upon the levels of our production  (0)</font>"
      ],
      "text/plain": [
       "<IPython.core.display.Markdown object>"
      ]
     },
     "metadata": {},
     "output_type": "display_data"
    },
    {
     "data": {
      "text/markdown": [
       "<font color=\"#7f3f3f\">  If production is higher than we estimate, we will have greater commodity price exposure than we intended  (0)</font>"
      ],
      "text/plain": [
       "<IPython.core.display.Markdown object>"
      ]
     },
     "metadata": {},
     "output_type": "display_data"
    },
    {
     "data": {
      "text/markdown": [
       "<font color=\"#7f3f3f\">  If production is lower than the nominal amount that is subject to our hedging arrangements, we may be forced to satisfy all or a portion of our hedging arrangements without the benefit of the cash flows from our sale of the underlying physical commodity, resulting in a substantial reduction in cash flows from operations  (0)</font>"
      ],
      "text/plain": [
       "<IPython.core.display.Markdown object>"
      ]
     },
     "metadata": {},
     "output_type": "display_data"
    },
    {
     "data": {
      "text/markdown": [
       "<font color=\"#3f7f6f\"> If the prices at which we hedge our oil and gas production are less than current market prices, our cash flows opportunity from operations could be adversely affected  (16)</font>"
      ],
      "text/plain": [
       "<IPython.core.display.Markdown object>"
      ]
     },
     "metadata": {},
     "output_type": "display_data"
    },
    {
     "data": {
      "text/markdown": [
       "<font color=\"#7f3f3f\"> When our derivative contract prices are higher than market prices, we will incur realized and unrealized gains on our derivative contracts and conversely, when our contract prices are lower than market prices, we will incur realized and unrealized losses  (0)</font>"
      ],
      "text/plain": [
       "<IPython.core.display.Markdown object>"
      ]
     },
     "metadata": {},
     "output_type": "display_data"
    },
    {
     "data": {
      "text/markdown": [
       "<font color=\"#7f3f3f\"> For the year ended December 31, 2017, we recognized a gain on settled oil and gas derivative contracts of $2  (0)</font>"
      ],
      "text/plain": [
       "<IPython.core.display.Markdown object>"
      ]
     },
     "metadata": {},
     "output_type": "display_data"
    },
    {
     "data": {
      "text/markdown": [
       "<font color=\"#7f3f3f\">5 million and a loss of $4  (0)</font>"
      ],
      "text/plain": [
       "<IPython.core.display.Markdown object>"
      ]
     },
     "metadata": {},
     "output_type": "display_data"
    },
    {
     "data": {
      "text/markdown": [
       "<font color=\"#7f3f3f\">3 million on closed contracts  (0)</font>"
      ],
      "text/plain": [
       "<IPython.core.display.Markdown object>"
      ]
     },
     "metadata": {},
     "output_type": "display_data"
    },
    {
     "data": {
      "text/markdown": [
       "<font color=\"#7f3f3f\"> The gain on settled contracts resulted in an increase in cash flow from operations  (0)</font>"
      ],
      "text/plain": [
       "<IPython.core.display.Markdown object>"
      ]
     },
     "metadata": {},
     "output_type": "display_data"
    },
    {
     "data": {
      "text/markdown": [
       "<font color=\"#7f3f3f\">  We expect to continue to enter into similar hedging arrangements in the future to reduce our cash flow volatility  (0)</font>"
      ],
      "text/plain": [
       "<IPython.core.display.Markdown object>"
      ]
     },
     "metadata": {},
     "output_type": "display_data"
    },
    {
     "data": {
      "text/markdown": [
       "<font color=\"#7f3f3f\"> We cannot assure you that the derivative contracts that we have entered into, or will enter into, will adequately protect us from financial loss in the future due to circumstances such as:  (0)</font>"
      ],
      "text/plain": [
       "<IPython.core.display.Markdown object>"
      ]
     },
     "metadata": {},
     "output_type": "display_data"
    },
    {
     "data": {
      "text/markdown": [
       "<font color=\"#7f3f3f\"> • highly volatile oil and gas prices;  (0)</font>"
      ],
      "text/plain": [
       "<IPython.core.display.Markdown object>"
      ]
     },
     "metadata": {},
     "output_type": "display_data"
    },
    {
     "data": {
      "text/markdown": [
       "<font color=\"#7f3f3f\"> • our production being less than expected; or  (0)</font>"
      ],
      "text/plain": [
       "<IPython.core.display.Markdown object>"
      ]
     },
     "metadata": {},
     "output_type": "display_data"
    },
    {
     "data": {
      "text/markdown": [
       "<font color=\"#7f3f3f\"> • a counterparty to one of our hedging transactions defaulting on its contractual obligations  (0)</font>"
      ],
      "text/plain": [
       "<IPython.core.display.Markdown object>"
      ]
     },
     "metadata": {},
     "output_type": "display_data"
    },
    {
     "data": {
      "text/markdown": [
       "<font color=\"#3f7f6f\"> The counterparties to our derivative contracts may be unable to perform their obligations to us which could adversely affect our cash flows  (16)</font>"
      ],
      "text/plain": [
       "<IPython.core.display.Markdown object>"
      ]
     },
     "metadata": {},
     "output_type": "display_data"
    },
    {
     "data": {
      "text/markdown": [
       "<font color=\"#7f3f3f\"> At times when market prices are lower than our derivative contract prices, we are entitled to cash payments from the counterparties to our derivative contracts  (0)</font>"
      ],
      "text/plain": [
       "<IPython.core.display.Markdown object>"
      ]
     },
     "metadata": {},
     "output_type": "display_data"
    },
    {
     "data": {
      "text/markdown": [
       "<font color=\"#3f7f6f\">  Any number of factors may adversely affect the ability of our counterparties to fulfill their contractual obligations to us  (16)</font>"
      ],
      "text/plain": [
       "<IPython.core.display.Markdown object>"
      ]
     },
     "metadata": {},
     "output_type": "display_data"
    },
    {
     "data": {
      "text/markdown": [
       "<font color=\"#3f7f6f\">  If one of our counterparties is unable or unwilling to make the required payments to us, it could adversely affect our cash flows from operations  (16)</font>"
      ],
      "text/plain": [
       "<IPython.core.display.Markdown object>"
      ]
     },
     "metadata": {},
     "output_type": "display_data"
    },
    {
     "data": {
      "text/markdown": [
       "<font color=\"#7f3f3f\"> The Company's expectations for future drilling activities will be realized over several years, making them susceptible to uncertainties that could materially alter the occurrence or timing of such activities  (0)</font>"
      ],
      "text/plain": [
       "<IPython.core.display.Markdown object>"
      ]
     },
     "metadata": {},
     "output_type": "display_data"
    },
    {
     "data": {
      "text/markdown": [
       "<font color=\"#7f3f3f\"> The Company has identified drilling locations and prospects for future drilling opportunities, including development and exploratory drilling activities  (0)</font>"
      ],
      "text/plain": [
       "<IPython.core.display.Markdown object>"
      ]
     },
     "metadata": {},
     "output_type": "display_data"
    },
    {
     "data": {
      "text/markdown": [
       "<font color=\"#7f3f3f\"> These drilling locations and prospects represent a significant part of the Company's future drilling plans  (0)</font>"
      ],
      "text/plain": [
       "<IPython.core.display.Markdown object>"
      ]
     },
     "metadata": {},
     "output_type": "display_data"
    },
    {
     "data": {
      "text/markdown": [
       "<font color=\"#7f3f3f\"> For example, the Company's proved reserves as of December 31, 2017 include proved undeveloped reserves and proved developed reserves that are behind pipe of 25,808 MBbls of oil, 8,242 MBbls of NGL and 60,613 MMcf of gas  (0)</font>"
      ],
      "text/plain": [
       "<IPython.core.display.Markdown object>"
      ]
     },
     "metadata": {},
     "output_type": "display_data"
    },
    {
     "data": {
      "text/markdown": [
       "<font color=\"#477f3f\"> The Company's ability to drill and develop these locations depends on a number of factors, including the availability of capital, regulatory approvals, negotiation of agreements with third parties, commodity prices, costs, access to and availability of equipment, services, resources and personnel and drilling results  (11)</font>"
      ],
      "text/plain": [
       "<IPython.core.display.Markdown object>"
      ]
     },
     "metadata": {},
     "output_type": "display_data"
    },
    {
     "data": {
      "text/markdown": [
       "<font color=\"#7f3f3f\"> There can be no assurance that the Company will drill these locations or that the Company will  (0)</font>"
      ],
      "text/plain": [
       "<IPython.core.display.Markdown object>"
      ]
     },
     "metadata": {},
     "output_type": "display_data"
    },
    {
     "data": {
      "text/markdown": [
       "<font color=\"#7f3f3f\"> 20  (0)</font>"
      ],
      "text/plain": [
       "<IPython.core.display.Markdown object>"
      ]
     },
     "metadata": {},
     "output_type": "display_data"
    },
    {
     "data": {
      "text/markdown": [
       "<font color=\"#7f3f3f\"> Table of Contents  (0)</font>"
      ],
      "text/plain": [
       "<IPython.core.display.Markdown object>"
      ]
     },
     "metadata": {},
     "output_type": "display_data"
    },
    {
     "data": {
      "text/markdown": [
       "<font color=\"#7f3f3f\"> be able to produce oil or gas reserves from these locations or any other potential drilling locations  (0)</font>"
      ],
      "text/plain": [
       "<IPython.core.display.Markdown object>"
      ]
     },
     "metadata": {},
     "output_type": "display_data"
    },
    {
     "data": {
      "text/markdown": [
       "<font color=\"#7f3f3f\"> Changes in the laws or regulations on which the Company relies in planning and executing its drilling programs could adversely impact the Company's ability to successfully complete those programs  (0)</font>"
      ],
      "text/plain": [
       "<IPython.core.display.Markdown object>"
      ]
     },
     "metadata": {},
     "output_type": "display_data"
    },
    {
     "data": {
      "text/markdown": [
       "<font color=\"#7f3f3f\"> For example, under current Texas laws and regulations the Company may receive permits to drill, and may drill and complete, certain horizontal wells that traverse one or more units and/or leases; a change in those laws or regulations could adversely impact the Company's ability to drill those wells  (0)</font>"
      ],
      "text/plain": [
       "<IPython.core.display.Markdown object>"
      ]
     },
     "metadata": {},
     "output_type": "display_data"
    },
    {
     "data": {
      "text/markdown": [
       "<font color=\"#7f3f3f\"> Because of these uncertainties, the Company cannot give any assurance as to the timing of these activities or that they will ultimately result in the realization of proved reserves or meet the Company's expectations for success  (0)</font>"
      ],
      "text/plain": [
       "<IPython.core.display.Markdown object>"
      ]
     },
     "metadata": {},
     "output_type": "display_data"
    },
    {
     "data": {
      "text/markdown": [
       "<font color=\"#3f7a7f\"> As such, the Company's actual drilling activities may materially differ from the Company's current expectations, which could have a significant adverse effect on the Company's proved reserves, financial condition and results of operations  (18)</font>"
      ],
      "text/plain": [
       "<IPython.core.display.Markdown object>"
      ]
     },
     "metadata": {},
     "output_type": "display_data"
    },
    {
     "data": {
      "text/markdown": [
       "<font color=\"#7f3f3f\"> A significant portion of the Company's total estimated proved reserves at December 31, 2017 were undeveloped, and those proved reserves may not ultimately be developed  (0)</font>"
      ],
      "text/plain": [
       "<IPython.core.display.Markdown object>"
      ]
     },
     "metadata": {},
     "output_type": "display_data"
    },
    {
     "data": {
      "text/markdown": [
       "<font color=\"#7f3f3f\"> At December 31, 2017, approximately 67% of the Company's total estimated proved reserves on a Boe basis  were undeveloped  (0)</font>"
      ],
      "text/plain": [
       "<IPython.core.display.Markdown object>"
      ]
     },
     "metadata": {},
     "output_type": "display_data"
    },
    {
     "data": {
      "text/markdown": [
       "<font color=\"#7f3f3f\"> Recovery of proved undeveloped reserves requires significant capital expenditures and successful drilling  (0)</font>"
      ],
      "text/plain": [
       "<IPython.core.display.Markdown object>"
      ]
     },
     "metadata": {},
     "output_type": "display_data"
    },
    {
     "data": {
      "text/markdown": [
       "<font color=\"#7f3f3f\"> The Company's reserve data assumes that the Company can and will make these expenditures and conduct these operations successfully, which assumptions may not prove correct  (0)</font>"
      ],
      "text/plain": [
       "<IPython.core.display.Markdown object>"
      ]
     },
     "metadata": {},
     "output_type": "display_data"
    },
    {
     "data": {
      "text/markdown": [
       "<font color=\"#7f3f3f\"> If the Company chooses not to spend the capital to develop these proved undeveloped reserves, or if the Company is not otherwise able to successfully develop these proved undeveloped reserves, the Company will be required to write-off these reserves  (0)</font>"
      ],
      "text/plain": [
       "<IPython.core.display.Markdown object>"
      ]
     },
     "metadata": {},
     "output_type": "display_data"
    },
    {
     "data": {
      "text/markdown": [
       "<font color=\"#7f3f3f\"> In addition, under the SEC's rules, because proved undeveloped reserves may be booked only if they relate to wells planned to be drilled within five years of the date of booking, the Company may be required to write-off any proved undeveloped reserves that are not developed within this five-year timeframe  (0)</font>"
      ],
      "text/plain": [
       "<IPython.core.display.Markdown object>"
      ]
     },
     "metadata": {},
     "output_type": "display_data"
    },
    {
     "data": {
      "text/markdown": [
       "<font color=\"#7f3f3f\"> As with all oil and gas leases, the Company's leases require the Company to drill wells that are commercially productive and to maintain the production in paying quantities, and if the Company is unsuccessful in drilling such wells and maintaining such production, the Company could lose its rights under such leases  (0)</font>"
      ],
      "text/plain": [
       "<IPython.core.display.Markdown object>"
      ]
     },
     "metadata": {},
     "output_type": "display_data"
    },
    {
     "data": {
      "text/markdown": [
       "<font color=\"#7f3f3f\"> The Company's future production levels and, therefore, its future cash flows and income from operations are highly dependent on successfully developing its proved undeveloped leasehold acreage  (0)</font>"
      ],
      "text/plain": [
       "<IPython.core.display.Markdown object>"
      ]
     },
     "metadata": {},
     "output_type": "display_data"
    },
    {
     "data": {
      "text/markdown": [
       "<font color=\"#3f7f6f\"> We may be unable to acquire or develop additional reserves, in which case our results of operations and financial condition could be adversely affected  (16)</font>"
      ],
      "text/plain": [
       "<IPython.core.display.Markdown object>"
      ]
     },
     "metadata": {},
     "output_type": "display_data"
    },
    {
     "data": {
      "text/markdown": [
       "<font color=\"#7f3f3f\"> Our future oil and gas production, and therefore our success, is highly dependent upon our ability to find, acquire and develop additional reserves that are profitable to produce  (0)</font>"
      ],
      "text/plain": [
       "<IPython.core.display.Markdown object>"
      ]
     },
     "metadata": {},
     "output_type": "display_data"
    },
    {
     "data": {
      "text/markdown": [
       "<font color=\"#7f3f3f\">  The rate of production from our oil and gas properties and our proved reserves will decline as our reserves are produced  (0)</font>"
      ],
      "text/plain": [
       "<IPython.core.display.Markdown object>"
      ]
     },
     "metadata": {},
     "output_type": "display_data"
    },
    {
     "data": {
      "text/markdown": [
       "<font color=\"#7f3f3f\">  Unless we acquire additional properties containing proved reserves, conduct successful development and exploration activities or, through engineering studies, identify additional behind-pipe zones or secondary recovery reserves, we cannot assure you that our exploration and development activities will result in increases in our proved reserves  (0)</font>"
      ],
      "text/plain": [
       "<IPython.core.display.Markdown object>"
      ]
     },
     "metadata": {},
     "output_type": "display_data"
    },
    {
     "data": {
      "text/markdown": [
       "<font color=\"#3f7f4e\"> Based on the reserve information set forth in our reserve report as of December 31, 2017, our average annual estimated decline rate for our net proved developed producing reserves is 38%; 21%; 13%; 11% and 10% in 2019, 2020, 2021, 2022 and 2023, respectively, 8% in the following five years, and approximately 8% thereafter  (13)</font>"
      ],
      "text/plain": [
       "<IPython.core.display.Markdown object>"
      ]
     },
     "metadata": {},
     "output_type": "display_data"
    },
    {
     "data": {
      "text/markdown": [
       "<font color=\"#7f3f3f\">  These rates of decline are estimates and actual production declines could be materially higher  (0)</font>"
      ],
      "text/plain": [
       "<IPython.core.display.Markdown object>"
      ]
     },
     "metadata": {},
     "output_type": "display_data"
    },
    {
     "data": {
      "text/markdown": [
       "<font color=\"#7f3f3f\">  While we have had some success in finding, acquiring and developing additional reserves, we have not always been able to fully replace the production volumes lost from natural field declines and prior property sales  (0)</font>"
      ],
      "text/plain": [
       "<IPython.core.display.Markdown object>"
      ]
     },
     "metadata": {},
     "output_type": "display_data"
    },
    {
     "data": {
      "text/markdown": [
       "<font color=\"#7f3f3f\">  As our proved reserves and consequently our production decline, our cash flow from operations, and the amount that we are able to borrow under our credit facility could also decline  (0)</font>"
      ],
      "text/plain": [
       "<IPython.core.display.Markdown object>"
      ]
     },
     "metadata": {},
     "output_type": "display_data"
    },
    {
     "data": {
      "text/markdown": [
       "<font color=\"#7f3f3f\">  In addition, approximately 67% of our total estimated proved reserves on a Boe basis at December 31, 2017 were classified as undeveloped  (0)</font>"
      ],
      "text/plain": [
       "<IPython.core.display.Markdown object>"
      ]
     },
     "metadata": {},
     "output_type": "display_data"
    },
    {
     "data": {
      "text/markdown": [
       "<font color=\"#7f3f3f\">  By their nature, estimates of undeveloped reserves are less certain  (0)</font>"
      ],
      "text/plain": [
       "<IPython.core.display.Markdown object>"
      ]
     },
     "metadata": {},
     "output_type": "display_data"
    },
    {
     "data": {
      "text/markdown": [
       "<font color=\"#7f3f3f\">  Recovery of such reserves will require significant capital expenditures and successful drilling operations  (0)</font>"
      ],
      "text/plain": [
       "<IPython.core.display.Markdown object>"
      ]
     },
     "metadata": {},
     "output_type": "display_data"
    },
    {
     "data": {
      "text/markdown": [
       "<font color=\"#7f3f3f\">  Even if we are successful in our development efforts, it could take several years for a significant portion of these undeveloped reserves to generate positive cash flow  (0)</font>"
      ],
      "text/plain": [
       "<IPython.core.display.Markdown object>"
      ]
     },
     "metadata": {},
     "output_type": "display_data"
    },
    {
     "data": {
      "text/markdown": [
       "<font color=\"#7f3f3f\"> We may not find any commercially productive oil and gas reservoirs  (0)</font>"
      ],
      "text/plain": [
       "<IPython.core.display.Markdown object>"
      ]
     },
     "metadata": {},
     "output_type": "display_data"
    },
    {
     "data": {
      "text/markdown": [
       "<font color=\"#7f3f3f\"> Drilling involves numerous risks, including the risk that the new wells we drill will be unproductive or that we will not recover all or any portion of our capital investment  (0)</font>"
      ],
      "text/plain": [
       "<IPython.core.display.Markdown object>"
      ]
     },
     "metadata": {},
     "output_type": "display_data"
    },
    {
     "data": {
      "text/markdown": [
       "<font color=\"#7f3f3f\">  Drilling for oil and gas may be unprofitable  (0)</font>"
      ],
      "text/plain": [
       "<IPython.core.display.Markdown object>"
      ]
     },
     "metadata": {},
     "output_type": "display_data"
    },
    {
     "data": {
      "text/markdown": [
       "<font color=\"#7f3f3f\">  Wells that are productive but do not produce sufficient net revenues after drilling, operating and other costs are unprofitable  (0)</font>"
      ],
      "text/plain": [
       "<IPython.core.display.Markdown object>"
      ]
     },
     "metadata": {},
     "output_type": "display_data"
    },
    {
     "data": {
      "text/markdown": [
       "<font color=\"#7f3f3f\">  The inherent risk of not finding commercially productive reservoirs is compounded by the fact that 67% of our total estimated proved reserves on a Boe basis  as of December 31, 2017 were classified as undeveloped  (0)</font>"
      ],
      "text/plain": [
       "<IPython.core.display.Markdown object>"
      ]
     },
     "metadata": {},
     "output_type": "display_data"
    },
    {
     "data": {
      "text/markdown": [
       "<font color=\"#7f3f3f\">  By their nature, estimates of undeveloped reserves are less certain  (0)</font>"
      ],
      "text/plain": [
       "<IPython.core.display.Markdown object>"
      ]
     },
     "metadata": {},
     "output_type": "display_data"
    },
    {
     "data": {
      "text/markdown": [
       "<font color=\"#7f3f3f\">  Recovery of such reserves will require significant capital expenditures and successful drilling and completion operations  (0)</font>"
      ],
      "text/plain": [
       "<IPython.core.display.Markdown object>"
      ]
     },
     "metadata": {},
     "output_type": "display_data"
    },
    {
     "data": {
      "text/markdown": [
       "<font color=\"#7f3f3f\">   If the volume of oil and gas we produce decreases, our cash flows from operations may decrease  (0)</font>"
      ],
      "text/plain": [
       "<IPython.core.display.Markdown object>"
      ]
     },
     "metadata": {},
     "output_type": "display_data"
    },
    {
     "data": {
      "text/markdown": [
       "<font color=\"#7f3f3f\"> The results of our drilling in unconventional formations, principally in emerging plays with limited drilling and production history using long laterals and modern completion techniques, are subject to more uncertainties than our drilling program in the more established plays and may not meet our expectations for reserves or production  (0)</font>"
      ],
      "text/plain": [
       "<IPython.core.display.Markdown object>"
      ]
     },
     "metadata": {},
     "output_type": "display_data"
    },
    {
     "data": {
      "text/markdown": [
       "<font color=\"#7f3f3f\"> 21  (0)</font>"
      ],
      "text/plain": [
       "<IPython.core.display.Markdown object>"
      ]
     },
     "metadata": {},
     "output_type": "display_data"
    },
    {
     "data": {
      "text/markdown": [
       "<font color=\"#7f3f3f\"> Table of Contents  (0)</font>"
      ],
      "text/plain": [
       "<IPython.core.display.Markdown object>"
      ]
     },
     "metadata": {},
     "output_type": "display_data"
    },
    {
     "data": {
      "text/markdown": [
       "<font color=\"#7f3f3f\"> We drill wells in unconventional formations in several emerging plays  (0)</font>"
      ],
      "text/plain": [
       "<IPython.core.display.Markdown object>"
      ]
     },
     "metadata": {},
     "output_type": "display_data"
    },
    {
     "data": {
      "text/markdown": [
       "<font color=\"#7f3f3f\">  Part of our drilling strategy to maximize recoveries from these formations involves the drilling of long horizontal laterals and the use of modern completion techniques of multi-stage fracture stimulations that have proven to be successful in other basins  (0)</font>"
      ],
      "text/plain": [
       "<IPython.core.display.Markdown object>"
      ]
     },
     "metadata": {},
     "output_type": "display_data"
    },
    {
     "data": {
      "text/markdown": [
       "<font color=\"#7f3f3f\"> Risks that we face include landing our well bore in the desired drilling zone, staying in the desired drilling zone, running casing the entire length of the well bore and being able to run tools and recover equipment the entire length of the well bore during completion  (0)</font>"
      ],
      "text/plain": [
       "<IPython.core.display.Markdown object>"
      ]
     },
     "metadata": {},
     "output_type": "display_data"
    },
    {
     "data": {
      "text/markdown": [
       "<font color=\"#7f3f3f\"> Our experience with horizontal drilling and multi-stage fracture stimulations of these formations to date, as well as the industry's drilling and production history in these formations, is relatively limited  (0)</font>"
      ],
      "text/plain": [
       "<IPython.core.display.Markdown object>"
      ]
     },
     "metadata": {},
     "output_type": "display_data"
    },
    {
     "data": {
      "text/markdown": [
       "<font color=\"#7f3f3f\"> The ultimate success of these drilling and completion strategies and techniques will be better evaluated over time as more wells are drilled and longer term production profiles are established  (0)</font>"
      ],
      "text/plain": [
       "<IPython.core.display.Markdown object>"
      ]
     },
     "metadata": {},
     "output_type": "display_data"
    },
    {
     "data": {
      "text/markdown": [
       "<font color=\"#7f3f3f\"> In addition, based on reported decline rates in these emerging plays as well as the industry's experience in these formations, we estimate that the average monthly rates of production may decline as much as 95% during the first twelve months of production  (0)</font>"
      ],
      "text/plain": [
       "<IPython.core.display.Markdown object>"
      ]
     },
     "metadata": {},
     "output_type": "display_data"
    },
    {
     "data": {
      "text/markdown": [
       "<font color=\"#7f3f3f\"> Actual decline rates may differ significantly  (0)</font>"
      ],
      "text/plain": [
       "<IPython.core.display.Markdown object>"
      ]
     },
     "metadata": {},
     "output_type": "display_data"
    },
    {
     "data": {
      "text/markdown": [
       "<font color=\"#513f7f\"> Accordingly, the results of our drilling in these unconventional formations are more uncertain than drilling results in other more established plays with longer reserve and production histories  (25)</font>"
      ],
      "text/plain": [
       "<IPython.core.display.Markdown object>"
      ]
     },
     "metadata": {},
     "output_type": "display_data"
    },
    {
     "data": {
      "text/markdown": [
       "<font color=\"#7f3f3f\"> We may not be able to keep pace with technological developments in our industry  (0)</font>"
      ],
      "text/plain": [
       "<IPython.core.display.Markdown object>"
      ]
     },
     "metadata": {},
     "output_type": "display_data"
    },
    {
     "data": {
      "text/markdown": [
       "<font color=\"#7f3f3f\"> The oil and gas industry is characterized by rapid and significant technological advancements and introductions of new products and services using new technologies  (0)</font>"
      ],
      "text/plain": [
       "<IPython.core.display.Markdown object>"
      ]
     },
     "metadata": {},
     "output_type": "display_data"
    },
    {
     "data": {
      "text/markdown": [
       "<font color=\"#7f3f3f\"> As others use or develop new technologies, we may be placed at a competitive disadvantage, and competitive pressures may force us to implement those new technologies at substantial cost  (0)</font>"
      ],
      "text/plain": [
       "<IPython.core.display.Markdown object>"
      ]
     },
     "metadata": {},
     "output_type": "display_data"
    },
    {
     "data": {
      "text/markdown": [
       "<font color=\"#7f3f3f\"> In addition, other oil and gas companies may have greater financial, technical and personnel resources that allow them to enjoy technological advantages and may in the future allow them to implement new technologies before we can  (0)</font>"
      ],
      "text/plain": [
       "<IPython.core.display.Markdown object>"
      ]
     },
     "metadata": {},
     "output_type": "display_data"
    },
    {
     "data": {
      "text/markdown": [
       "<font color=\"#7f3f3f\"> We may not be able to respond to these competitive pressures and implement new technologies on a timely basis or at an acceptable cost  (0)</font>"
      ],
      "text/plain": [
       "<IPython.core.display.Markdown object>"
      ]
     },
     "metadata": {},
     "output_type": "display_data"
    },
    {
     "data": {
      "text/markdown": [
       "<font color=\"#3f7a7f\"> If one or more of the technologies we use now or in the future were to become obsolete or if we are unable to use the most advanced commercially available technology, our business, financial condition and results of operations could be materially adversely affected  (18)</font>"
      ],
      "text/plain": [
       "<IPython.core.display.Markdown object>"
      ]
     },
     "metadata": {},
     "output_type": "display_data"
    },
    {
     "data": {
      "text/markdown": [
       "<font color=\"#7f3f3f\"> We may not adhere to our proposed drilling schedule  (0)</font>"
      ],
      "text/plain": [
       "<IPython.core.display.Markdown object>"
      ]
     },
     "metadata": {},
     "output_type": "display_data"
    },
    {
     "data": {
      "text/markdown": [
       "<font color=\"#7f3f3f\"> Our final determination of whether to drill any scheduled or budgeted wells will be dependent on a number of factors, including:  (0)</font>"
      ],
      "text/plain": [
       "<IPython.core.display.Markdown object>"
      ]
     },
     "metadata": {},
     "output_type": "display_data"
    },
    {
     "data": {
      "text/markdown": [
       "<font color=\"#7f3f3f\"> • prevailing and anticipated prices for oil and gas;  (0)</font>"
      ],
      "text/plain": [
       "<IPython.core.display.Markdown object>"
      ]
     },
     "metadata": {},
     "output_type": "display_data"
    },
    {
     "data": {
      "text/markdown": [
       "<font color=\"#7f3f3f\"> • the availability and costs of drilling and service equipment and crews;  (0)</font>"
      ],
      "text/plain": [
       "<IPython.core.display.Markdown object>"
      ]
     },
     "metadata": {},
     "output_type": "display_data"
    },
    {
     "data": {
      "text/markdown": [
       "<font color=\"#7f3f3f\"> • economic and industry conditions at the time of drilling;  (0)</font>"
      ],
      "text/plain": [
       "<IPython.core.display.Markdown object>"
      ]
     },
     "metadata": {},
     "output_type": "display_data"
    },
    {
     "data": {
      "text/markdown": [
       "<font color=\"#7f3f3f\"> • the availability of sufficient capital resources;  (0)</font>"
      ],
      "text/plain": [
       "<IPython.core.display.Markdown object>"
      ]
     },
     "metadata": {},
     "output_type": "display_data"
    },
    {
     "data": {
      "text/markdown": [
       "<font color=\"#513f7f\"> • the results of our exploitation efforts;  (25)</font>"
      ],
      "text/plain": [
       "<IPython.core.display.Markdown object>"
      ]
     },
     "metadata": {},
     "output_type": "display_data"
    },
    {
     "data": {
      "text/markdown": [
       "<font color=\"#7f3f6b\"> • the acquisition, review and interpretation of seismic data;  (31)</font>"
      ],
      "text/plain": [
       "<IPython.core.display.Markdown object>"
      ]
     },
     "metadata": {},
     "output_type": "display_data"
    },
    {
     "data": {
      "text/markdown": [
       "<font color=\"#7f3f3f\"> • our ability to obtain permits for and to access drilling locations;  (0)</font>"
      ],
      "text/plain": [
       "<IPython.core.display.Markdown object>"
      ]
     },
     "metadata": {},
     "output_type": "display_data"
    },
    {
     "data": {
      "text/markdown": [
       "<font color=\"#3f6f7f\"> • continuous  drilling obligations; and  (19)</font>"
      ],
      "text/plain": [
       "<IPython.core.display.Markdown object>"
      ]
     },
     "metadata": {},
     "output_type": "display_data"
    },
    {
     "data": {
      "text/markdown": [
       "<font color=\"#7f3f3f\"> • lease expirations  (0)</font>"
      ],
      "text/plain": [
       "<IPython.core.display.Markdown object>"
      ]
     },
     "metadata": {},
     "output_type": "display_data"
    },
    {
     "data": {
      "text/markdown": [
       "<font color=\"#7f3f3f\"> Although we have identified or budgeted for numerous drilling locations, we may not be able to drill those locations within our expected time frame or at all  (0)</font>"
      ],
      "text/plain": [
       "<IPython.core.display.Markdown object>"
      ]
     },
     "metadata": {},
     "output_type": "display_data"
    },
    {
     "data": {
      "text/markdown": [
       "<font color=\"#7f3f3f\">  In addition, our drilling schedule may vary from our expectations because of future uncertainties  (0)</font>"
      ],
      "text/plain": [
       "<IPython.core.display.Markdown object>"
      ]
     },
     "metadata": {},
     "output_type": "display_data"
    },
    {
     "data": {
      "text/markdown": [
       "<font color=\"#3f597f\"> We cannot control the activities on the properties we do not operate and are unable to ensure their proper operation and profitability  (21)</font>"
      ],
      "text/plain": [
       "<IPython.core.display.Markdown object>"
      ]
     },
     "metadata": {},
     "output_type": "display_data"
    },
    {
     "data": {
      "text/markdown": [
       "<font color=\"#7f3f3f\"> We currently do not operate all of the properties in which we have an interest, non-operated properties represent approximately 4% of our reserves on a Boe basis  (0)</font>"
      ],
      "text/plain": [
       "<IPython.core.display.Markdown object>"
      ]
     },
     "metadata": {},
     "output_type": "display_data"
    },
    {
     "data": {
      "text/markdown": [
       "<font color=\"#3f597f\"> As a result, we have limited ability to exercise influence over and control the risks associated with operation of these properties  (21)</font>"
      ],
      "text/plain": [
       "<IPython.core.display.Markdown object>"
      ]
     },
     "metadata": {},
     "output_type": "display_data"
    },
    {
     "data": {
      "text/markdown": [
       "<font color=\"#7f3f3f\"> The failure of an operator to adequately perform operations, an operator's breach of the applicable agreements or an operator's failure to act in our best interests could reduce our production and revenues  (0)</font>"
      ],
      "text/plain": [
       "<IPython.core.display.Markdown object>"
      ]
     },
     "metadata": {},
     "output_type": "display_data"
    },
    {
     "data": {
      "text/markdown": [
       "<font color=\"#7f3f3f\"> The success and timing of our drilling and development activities on properties operated by others therefore depends upon a number of factors outside of our control, including:  (0)</font>"
      ],
      "text/plain": [
       "<IPython.core.display.Markdown object>"
      ]
     },
     "metadata": {},
     "output_type": "display_data"
    },
    {
     "data": {
      "text/markdown": [
       "<font color=\"#7f3f3f\"> • the operator could refuse to initiate exploitation or development projects and if we proceed with any of those projects, we may not receive any funding from the operator with respect to that project;  (0)</font>"
      ],
      "text/plain": [
       "<IPython.core.display.Markdown object>"
      ]
     },
     "metadata": {},
     "output_type": "display_data"
    },
    {
     "data": {
      "text/markdown": [
       "<font color=\"#7f3f3f\"> • the operator may initiate exploitation or development projects on a different schedule than we would prefer;  (0)</font>"
      ],
      "text/plain": [
       "<IPython.core.display.Markdown object>"
      ]
     },
     "metadata": {},
     "output_type": "display_data"
    },
    {
     "data": {
      "text/markdown": [
       "<font color=\"#7f3f3f\"> 22  (0)</font>"
      ],
      "text/plain": [
       "<IPython.core.display.Markdown object>"
      ]
     },
     "metadata": {},
     "output_type": "display_data"
    },
    {
     "data": {
      "text/markdown": [
       "<font color=\"#7f3f3f\"> Table of Contents  (0)</font>"
      ],
      "text/plain": [
       "<IPython.core.display.Markdown object>"
      ]
     },
     "metadata": {},
     "output_type": "display_data"
    },
    {
     "data": {
      "text/markdown": [
       "<font color=\"#7f3f3f\"> • the operator may propose greater capital expenditures than we wish, including expenditures to drill more wells or build more facilities on a project than we have funds for, which may mean that we cannot participate in those projects and thus, not participate in the associated revenue stream; and  (0)</font>"
      ],
      "text/plain": [
       "<IPython.core.display.Markdown object>"
      ]
     },
     "metadata": {},
     "output_type": "display_data"
    },
    {
     "data": {
      "text/markdown": [
       "<font color=\"#7f3f3f\"> • the operator may not have sufficient expertise or resources  (0)</font>"
      ],
      "text/plain": [
       "<IPython.core.display.Markdown object>"
      ]
     },
     "metadata": {},
     "output_type": "display_data"
    },
    {
     "data": {
      "text/markdown": [
       "<font color=\"#3f7f6f\"> Any of these events could significantly and adversely affect our anticipated exploitation and development activities  (16)</font>"
      ],
      "text/plain": [
       "<IPython.core.display.Markdown object>"
      ]
     },
     "metadata": {},
     "output_type": "display_data"
    },
    {
     "data": {
      "text/markdown": [
       "<font color=\"#3f7f6f\"> Seasonal weather conditions and other factors could adversely affect our ability to conduct drilling activities  (16)</font>"
      ],
      "text/plain": [
       "<IPython.core.display.Markdown object>"
      ]
     },
     "metadata": {},
     "output_type": "display_data"
    },
    {
     "data": {
      "text/markdown": [
       "<font color=\"#3f7f6f\"> Our operations could be adversely affected by weather conditions and wildlife restrictions on federal leases  (16)</font>"
      ],
      "text/plain": [
       "<IPython.core.display.Markdown object>"
      ]
     },
     "metadata": {},
     "output_type": "display_data"
    },
    {
     "data": {
      "text/markdown": [
       "<font color=\"#7f3f3f\"> In the Williston  Basin, drilling and other oil and gas activities cannot be conducted as efficiently during the winter and spring months  (0)</font>"
      ],
      "text/plain": [
       "<IPython.core.display.Markdown object>"
      ]
     },
     "metadata": {},
     "output_type": "display_data"
    },
    {
     "data": {
      "text/markdown": [
       "<font color=\"#7f3f3f\"> Winter and severe weather conditions limit and may temporarily halt the ability to operate during such conditions  (0)</font>"
      ],
      "text/plain": [
       "<IPython.core.display.Markdown object>"
      ]
     },
     "metadata": {},
     "output_type": "display_data"
    },
    {
     "data": {
      "text/markdown": [
       "<font color=\"#3f7a7f\"> These constraints and the resulting shortages or high costs could delay or temporarily halt our oil and gas operations and materially increase our operating and capital costs, which could have a material adverse effect on our business, financial condition and results of operations  (18)</font>"
      ],
      "text/plain": [
       "<IPython.core.display.Markdown object>"
      ]
     },
     "metadata": {},
     "output_type": "display_data"
    },
    {
     "data": {
      "text/markdown": [
       "<font color=\"#3f7f6f\"> The lack of availability or high cost of drilling rigs, equipment, supplies, personnel and oil field services could adversely affect our ability to execute our exploitation and development plans on a timely basis and within our budget  (16)</font>"
      ],
      "text/plain": [
       "<IPython.core.display.Markdown object>"
      ]
     },
     "metadata": {},
     "output_type": "display_data"
    },
    {
     "data": {
      "text/markdown": [
       "<font color=\"#7f3f3f\"> Our industry is cyclical and, from time to time, there has been a shortage of drilling rigs, equipment, supplies, oil field services or qualified personnel  (0)</font>"
      ],
      "text/plain": [
       "<IPython.core.display.Markdown object>"
      ]
     },
     "metadata": {},
     "output_type": "display_data"
    },
    {
     "data": {
      "text/markdown": [
       "<font color=\"#7f3f3f\"> During these periods, the costs and delivery times of rigs, equipment and supplies are substantially greater  (0)</font>"
      ],
      "text/plain": [
       "<IPython.core.display.Markdown object>"
      ]
     },
     "metadata": {},
     "output_type": "display_data"
    },
    {
     "data": {
      "text/markdown": [
       "<font color=\"#7f3f3f\"> In addition, the demand for, and wage rates of, qualified drilling rig crews rise as the number of active rigs in service increases  (0)</font>"
      ],
      "text/plain": [
       "<IPython.core.display.Markdown object>"
      ]
     },
     "metadata": {},
     "output_type": "display_data"
    },
    {
     "data": {
      "text/markdown": [
       "<font color=\"#7f3f3f\"> During times and in areas of increased activity, the demand for oilfield services will also likely rise, and the costs of these services will likely increase, while the quality of these services may suffer  (0)</font>"
      ],
      "text/plain": [
       "<IPython.core.display.Markdown object>"
      ]
     },
     "metadata": {},
     "output_type": "display_data"
    },
    {
     "data": {
      "text/markdown": [
       "<font color=\"#3f7f6f\"> If the lack of availability or high cost of drilling rigs, equipment, supplies, oil field services or qualified personnel were particularly severe in any of our areas of operation, we could be materially and adversely affected  (16)</font>"
      ],
      "text/plain": [
       "<IPython.core.display.Markdown object>"
      ]
     },
     "metadata": {},
     "output_type": "display_data"
    },
    {
     "data": {
      "text/markdown": [
       "<font color=\"#7f3f76\"> Delays could also have an adverse effect on our results of operations, including the timing of the initiation of production from new wells  (30)</font>"
      ],
      "text/plain": [
       "<IPython.core.display.Markdown object>"
      ]
     },
     "metadata": {},
     "output_type": "display_data"
    },
    {
     "data": {
      "text/markdown": [
       "<font color=\"#3f597f\"> Our drilling operations may be curtailed, delayed or cancelled as a result of a variety of factors that are beyond our control  (21)</font>"
      ],
      "text/plain": [
       "<IPython.core.display.Markdown object>"
      ]
     },
     "metadata": {},
     "output_type": "display_data"
    },
    {
     "data": {
      "text/markdown": [
       "<font color=\"#7f3f3f\"> Our drilling operations are subject to a number of risks, including:  (0)</font>"
      ],
      "text/plain": [
       "<IPython.core.display.Markdown object>"
      ]
     },
     "metadata": {},
     "output_type": "display_data"
    },
    {
     "data": {
      "text/markdown": [
       "<font color=\"#7f3f3f\"> • unexpected drilling conditions;  (0)</font>"
      ],
      "text/plain": [
       "<IPython.core.display.Markdown object>"
      ]
     },
     "metadata": {},
     "output_type": "display_data"
    },
    {
     "data": {
      "text/markdown": [
       "<font color=\"#7f3f3f\"> • facility or equipment failure or accidents;  (0)</font>"
      ],
      "text/plain": [
       "<IPython.core.display.Markdown object>"
      ]
     },
     "metadata": {},
     "output_type": "display_data"
    },
    {
     "data": {
      "text/markdown": [
       "<font color=\"#7f3f3f\"> • adverse weather conditions;  (0)</font>"
      ],
      "text/plain": [
       "<IPython.core.display.Markdown object>"
      ]
     },
     "metadata": {},
     "output_type": "display_data"
    },
    {
     "data": {
      "text/markdown": [
       "<font color=\"#7f3f3f\"> • title problems;  (0)</font>"
      ],
      "text/plain": [
       "<IPython.core.display.Markdown object>"
      ]
     },
     "metadata": {},
     "output_type": "display_data"
    },
    {
     "data": {
      "text/markdown": [
       "<font color=\"#7f3f3f\"> • unusual or unexpected geological formations;  (0)</font>"
      ],
      "text/plain": [
       "<IPython.core.display.Markdown object>"
      ]
     },
     "metadata": {},
     "output_type": "display_data"
    },
    {
     "data": {
      "text/markdown": [
       "<font color=\"#7f3f3f\"> • fires, blowouts and explosions; and  (0)</font>"
      ],
      "text/plain": [
       "<IPython.core.display.Markdown object>"
      ]
     },
     "metadata": {},
     "output_type": "display_data"
    },
    {
     "data": {
      "text/markdown": [
       "<font color=\"#7f3f3f\"> • uncontrollable pressures or flows of oil or gas or well fluids  (0)</font>"
      ],
      "text/plain": [
       "<IPython.core.display.Markdown object>"
      ]
     },
     "metadata": {},
     "output_type": "display_data"
    },
    {
     "data": {
      "text/markdown": [
       "<font color=\"#3f7f6f\"> Any of these events could adversely affect our ability to conduct operations or cause substantial losses, including personal injury or loss of life, damage to or destruction of property, natural resources and equipment, pollution or other environmental contamination, loss of wells, regulatory penalties, suspension of operations, and attorney's fees and other expenses incurred in the prosecution or defense of litigation  (16)</font>"
      ],
      "text/plain": [
       "<IPython.core.display.Markdown object>"
      ]
     },
     "metadata": {},
     "output_type": "display_data"
    },
    {
     "data": {
      "text/markdown": [
       "<font color=\"#7f3f3f\"> We do not insure against all potential operating risks  (0)</font>"
      ],
      "text/plain": [
       "<IPython.core.display.Markdown object>"
      ]
     },
     "metadata": {},
     "output_type": "display_data"
    },
    {
     "data": {
      "text/markdown": [
       "<font color=\"#7f3f3f\"> We might incur substantial losses from, and be subject to substantial liability claims for, uninsured or underinsured risks related to our oil and gas operations  (0)</font>"
      ],
      "text/plain": [
       "<IPython.core.display.Markdown object>"
      ]
     },
     "metadata": {},
     "output_type": "display_data"
    },
    {
     "data": {
      "text/markdown": [
       "<font color=\"#7f3f3f\"> We do not insure against all risks  (0)</font>"
      ],
      "text/plain": [
       "<IPython.core.display.Markdown object>"
      ]
     },
     "metadata": {},
     "output_type": "display_data"
    },
    {
     "data": {
      "text/markdown": [
       "<font color=\"#7f3f3f\"> Our oil and gas exploitation and production activities are subject to hazards and risks associated with drilling for, producing and transporting oil and gas, and any of these risks can cause substantial losses resulting from:  (0)</font>"
      ],
      "text/plain": [
       "<IPython.core.display.Markdown object>"
      ]
     },
     "metadata": {},
     "output_type": "display_data"
    },
    {
     "data": {
      "text/markdown": [
       "<font color=\"#7f3f3f\"> • environmental hazards, such as uncontrollable flows of oil, gas, brine, well fluids, toxic gas or other pollution into the environment, including groundwater, underground migration and surface spills or mishandling of chemical additives;  (0)</font>"
      ],
      "text/plain": [
       "<IPython.core.display.Markdown object>"
      ]
     },
     "metadata": {},
     "output_type": "display_data"
    },
    {
     "data": {
      "text/markdown": [
       "<font color=\"#7f3f3f\"> • abnormally pressured formations;  (0)</font>"
      ],
      "text/plain": [
       "<IPython.core.display.Markdown object>"
      ]
     },
     "metadata": {},
     "output_type": "display_data"
    },
    {
     "data": {
      "text/markdown": [
       "<font color=\"#7f3f3f\"> 23  (0)</font>"
      ],
      "text/plain": [
       "<IPython.core.display.Markdown object>"
      ]
     },
     "metadata": {},
     "output_type": "display_data"
    },
    {
     "data": {
      "text/markdown": [
       "<font color=\"#7f3f3f\"> Table of Contents  (0)</font>"
      ],
      "text/plain": [
       "<IPython.core.display.Markdown object>"
      ]
     },
     "metadata": {},
     "output_type": "display_data"
    },
    {
     "data": {
      "text/markdown": [
       "<font color=\"#7f3f3f\"> • mechanical difficulties, such as stuck oil field drilling and service tools and casing collapse;  (0)</font>"
      ],
      "text/plain": [
       "<IPython.core.display.Markdown object>"
      ]
     },
     "metadata": {},
     "output_type": "display_data"
    },
    {
     "data": {
      "text/markdown": [
       "<font color=\"#477f3f\"> • leaks of gas, oil, condensate, NGL and other hydrocarbons or losses of these hydrocarbons as a result of accidents during drilling and completion operations, or in the gathering and transportation of hydrocarbons, malfunctions of pipelines, measurement equipment or processing or other facilities in the Company's operations or at delivery points to third parties;  (11)</font>"
      ],
      "text/plain": [
       "<IPython.core.display.Markdown object>"
      ]
     },
     "metadata": {},
     "output_type": "display_data"
    },
    {
     "data": {
      "text/markdown": [
       "<font color=\"#7f3f3f\"> • fires and explosions;  (0)</font>"
      ],
      "text/plain": [
       "<IPython.core.display.Markdown object>"
      ]
     },
     "metadata": {},
     "output_type": "display_data"
    },
    {
     "data": {
      "text/markdown": [
       "<font color=\"#7f3f3f\"> • personal injuries and death;  (0)</font>"
      ],
      "text/plain": [
       "<IPython.core.display.Markdown object>"
      ]
     },
     "metadata": {},
     "output_type": "display_data"
    },
    {
     "data": {
      "text/markdown": [
       "<font color=\"#7f3f3f\"> • regulatory investigations and penalties; and  (0)</font>"
      ],
      "text/plain": [
       "<IPython.core.display.Markdown object>"
      ]
     },
     "metadata": {},
     "output_type": "display_data"
    },
    {
     "data": {
      "text/markdown": [
       "<font color=\"#7f3f3f\"> • natural disasters  (0)</font>"
      ],
      "text/plain": [
       "<IPython.core.display.Markdown object>"
      ]
     },
     "metadata": {},
     "output_type": "display_data"
    },
    {
     "data": {
      "text/markdown": [
       "<font color=\"#7f3f3f\"> We might elect not to obtain insurance if we believe that the cost of available insurance is excessive relative to the risks presented  (0)</font>"
      ],
      "text/plain": [
       "<IPython.core.display.Markdown object>"
      ]
     },
     "metadata": {},
     "output_type": "display_data"
    },
    {
     "data": {
      "text/markdown": [
       "<font color=\"#7f3f3f\"> In addition, pollution and environmental risks generally are not fully insurable  (0)</font>"
      ],
      "text/plain": [
       "<IPython.core.display.Markdown object>"
      ]
     },
     "metadata": {},
     "output_type": "display_data"
    },
    {
     "data": {
      "text/markdown": [
       "<font color=\"#3f7a7f\"> Losses and liabilities arising from uninsured and underinsured events or in amounts in excess of existing insurance coverage could have a material adverse effect on our business, financial condition or results of operations  (18)</font>"
      ],
      "text/plain": [
       "<IPython.core.display.Markdown object>"
      ]
     },
     "metadata": {},
     "output_type": "display_data"
    },
    {
     "data": {
      "text/markdown": [
       "<font color=\"#7f3f3f\"> Hydraulic fracturing, the process used for extracting oil and gas from shale and other formations, could be the subject of further regulation that could impact the timing and cost of development  (0)</font>"
      ],
      "text/plain": [
       "<IPython.core.display.Markdown object>"
      ]
     },
     "metadata": {},
     "output_type": "display_data"
    },
    {
     "data": {
      "text/markdown": [
       "<font color=\"#7f3f3f\"> Hydraulic fracturing is the primary completion method used to extract reserves located in many of the unconventional oil and gas plays  (0)</font>"
      ],
      "text/plain": [
       "<IPython.core.display.Markdown object>"
      ]
     },
     "metadata": {},
     "output_type": "display_data"
    },
    {
     "data": {
      "text/markdown": [
       "<font color=\"#7f3f3f\"> Hydraulic fracturing involves the injection of water, sand and chemicals under pressure, usually down tubing or casing that is cemented in the wellbore, into hydrocarbon-bearing formations at depth to stimulate oil and gas production  (0)</font>"
      ],
      "text/plain": [
       "<IPython.core.display.Markdown object>"
      ]
     },
     "metadata": {},
     "output_type": "display_data"
    },
    {
     "data": {
      "text/markdown": [
       "<font color=\"#7f3f3f\"> We use this completion technique on substantially all of our wells  (0)</font>"
      ],
      "text/plain": [
       "<IPython.core.display.Markdown object>"
      ]
     },
     "metadata": {},
     "output_type": "display_data"
    },
    {
     "data": {
      "text/markdown": [
       "<font color=\"#7f3f3f\"> Depending on the legislation that may ultimately be enacted or the regulations that may be adopted at the federal and state levels, exploration, exploitation and production activities that entail hydraulic fracturing could be subject to additional regulation and permitting requirements  (0)</font>"
      ],
      "text/plain": [
       "<IPython.core.display.Markdown object>"
      ]
     },
     "metadata": {},
     "output_type": "display_data"
    },
    {
     "data": {
      "text/markdown": [
       "<font color=\"#7f3f3f\"> Some states in which we operate, including Texas, have implemented disclosure requirements related to chemicals used in hydraulic fracturing, and while the U  (0)</font>"
      ],
      "text/plain": [
       "<IPython.core.display.Markdown object>"
      ]
     },
     "metadata": {},
     "output_type": "display_data"
    },
    {
     "data": {
      "text/markdown": [
       "<font color=\"#7f3f3f\">S  (0)</font>"
      ],
      "text/plain": [
       "<IPython.core.display.Markdown object>"
      ]
     },
     "metadata": {},
     "output_type": "display_data"
    },
    {
     "data": {
      "text/markdown": [
       "<font color=\"#7f3f3f\"> Department of the Interior, Bureau of Land Management or (\\\"BLM\\\")  has rescinded its rules governing hydraulic fracturing on federal and tribal lands,  we anticipate further regulation of hydraulic fracturing and related activities by states and local governments  (0)</font>"
      ],
      "text/plain": [
       "<IPython.core.display.Markdown object>"
      ]
     },
     "metadata": {},
     "output_type": "display_data"
    },
    {
     "data": {
      "text/markdown": [
       "<font color=\"#7f3f3f\"> Individually or collectively, such existing and new legislation or regulation could lead to operational delays or increased operating costs and could result in additional burdens that could increase the costs and delay the development of unconventional oil and gas resources from formations which are not commercial without the use of hydraulic fracturing  (0)</font>"
      ],
      "text/plain": [
       "<IPython.core.display.Markdown object>"
      ]
     },
     "metadata": {},
     "output_type": "display_data"
    },
    {
     "data": {
      "text/markdown": [
       "<font color=\"#3f7a7f\"> This could have an adverse effect on our business, financial condition and results of operations  (18)</font>"
      ],
      "text/plain": [
       "<IPython.core.display.Markdown object>"
      ]
     },
     "metadata": {},
     "output_type": "display_data"
    },
    {
     "data": {
      "text/markdown": [
       "<font color=\"#7f3f3f\"> Hydraulic fracturing is typically regulated by state oil and gas commissions; however, the EPA has asserted federal regulatory authority over hydraulic fracturing involving diesel fuels under the Underground Injection Control Program established under the Safe Drinking Water Act, or SDWA, and published permitting guidance and an interpretive memorandum addressing the performance of such activities  (0)</font>"
      ],
      "text/plain": [
       "<IPython.core.display.Markdown object>"
      ]
     },
     "metadata": {},
     "output_type": "display_data"
    },
    {
     "data": {
      "text/markdown": [
       "<font color=\"#7f3f3f\">   In addition, the U  (0)</font>"
      ],
      "text/plain": [
       "<IPython.core.display.Markdown object>"
      ]
     },
     "metadata": {},
     "output_type": "display_data"
    },
    {
     "data": {
      "text/markdown": [
       "<font color=\"#7f3f3f\">S  (0)</font>"
      ],
      "text/plain": [
       "<IPython.core.display.Markdown object>"
      ]
     },
     "metadata": {},
     "output_type": "display_data"
    },
    {
     "data": {
      "text/markdown": [
       "<font color=\"#7f3f3f\"> Congress, from time to time, has considered adopting legislation intended to provide for federal regulation of hydraulic fracturing and to require disclosure of the chemicals used in the hydraulic-fracturing process  (0)</font>"
      ],
      "text/plain": [
       "<IPython.core.display.Markdown object>"
      ]
     },
     "metadata": {},
     "output_type": "display_data"
    },
    {
     "data": {
      "text/markdown": [
       "<font color=\"#7f3f3f\"> These rules are currently under judicial challenge  (0)</font>"
      ],
      "text/plain": [
       "<IPython.core.display.Markdown object>"
      ]
     },
     "metadata": {},
     "output_type": "display_data"
    },
    {
     "data": {
      "text/markdown": [
       "<font color=\"#7f3f3f\"> In the event that a new federal level of legal restrictions relating to the hydraulic fracturing process is adopted in areas where we currently or in the future plan to operate, we may incur additional costs to comply with such federal requirements that may be significant in nature, become subject to additional permitting requirements and experience added delays or curtailment in the pursuit of exploration, development or production activities  (0)</font>"
      ],
      "text/plain": [
       "<IPython.core.display.Markdown object>"
      ]
     },
     "metadata": {},
     "output_type": "display_data"
    },
    {
     "data": {
      "text/markdown": [
       "<font color=\"#7f3f3f\"> Certain states in which we operate, including Texas, have adopted, and other states are considering adopting, regulations that could impose new or more stringent permitting, disclosures, and/or well-construction requirements on hydraulic-fracturing operations  (0)</font>"
      ],
      "text/plain": [
       "<IPython.core.display.Markdown object>"
      ]
     },
     "metadata": {},
     "output_type": "display_data"
    },
    {
     "data": {
      "text/markdown": [
       "<font color=\"#7f3f3f\">    In addition to state laws, local land use restrictions, such as city ordinances, may restrict or prohibit drilling in general or hydraulic fracturing in particular  (0)</font>"
      ],
      "text/plain": [
       "<IPython.core.display.Markdown object>"
      ]
     },
     "metadata": {},
     "output_type": "display_data"
    },
    {
     "data": {
      "text/markdown": [
       "<font color=\"#7f3f3f\"> In some states, including Texas, water use may also be regulated and potentially curtailed by local groundwater management districts which could impact water available for hydraulic fracturing  (0)</font>"
      ],
      "text/plain": [
       "<IPython.core.display.Markdown object>"
      ]
     },
     "metadata": {},
     "output_type": "display_data"
    },
    {
     "data": {
      "text/markdown": [
       "<font color=\"#7f763f\"> We believe that we follow applicable standard industry practices and legal requirements for groundwater protection in our hydraulic fracturing activities  (5)</font>"
      ],
      "text/plain": [
       "<IPython.core.display.Markdown object>"
      ]
     },
     "metadata": {},
     "output_type": "display_data"
    },
    {
     "data": {
      "text/markdown": [
       "<font color=\"#7f3f3f\">  Nonetheless, in the event state or local restrictions are adopted in areas where we are currently conducting, or in the future plan to conduct operations, we may incur additional costs to comply with such requirements that may be significant in nature, experience delays or curtailment in the pursuit of exploration, development, or production activities, and perhaps be limited or precluded in the drilling of wells or in the amounts that we are ultimately able to produce from our reserves  (0)</font>"
      ],
      "text/plain": [
       "<IPython.core.display.Markdown object>"
      ]
     },
     "metadata": {},
     "output_type": "display_data"
    },
    {
     "data": {
      "text/markdown": [
       "<font color=\"#7f3f3f\"> Certain governmental reviews were recently conducted or are underway that focus on environmental aspects of hydraulic fracturing practices  (0)</font>"
      ],
      "text/plain": [
       "<IPython.core.display.Markdown object>"
      ]
     },
     "metadata": {},
     "output_type": "display_data"
    },
    {
     "data": {
      "text/markdown": [
       "<font color=\"#7f3f3f\">     These governmental agencies, including the U  (0)</font>"
      ],
      "text/plain": [
       "<IPython.core.display.Markdown object>"
      ]
     },
     "metadata": {},
     "output_type": "display_data"
    },
    {
     "data": {
      "text/markdown": [
       "<font color=\"#7f3f3f\">S  (0)</font>"
      ],
      "text/plain": [
       "<IPython.core.display.Markdown object>"
      ]
     },
     "metadata": {},
     "output_type": "display_data"
    },
    {
     "data": {
      "text/markdown": [
       "<font color=\"#7f3f3f\"> Department of Energy and the U  (0)</font>"
      ],
      "text/plain": [
       "<IPython.core.display.Markdown object>"
      ]
     },
     "metadata": {},
     "output_type": "display_data"
    },
    {
     "data": {
      "text/markdown": [
       "<font color=\"#7f3f3f\">S  (0)</font>"
      ],
      "text/plain": [
       "<IPython.core.display.Markdown object>"
      ]
     },
     "metadata": {},
     "output_type": "display_data"
    },
    {
     "data": {
      "text/markdown": [
       "<font color=\"#7f3f3f\"> Department of the  (0)</font>"
      ],
      "text/plain": [
       "<IPython.core.display.Markdown object>"
      ]
     },
     "metadata": {},
     "output_type": "display_data"
    },
    {
     "data": {
      "text/markdown": [
       "<font color=\"#7f3f3f\"> 24  (0)</font>"
      ],
      "text/plain": [
       "<IPython.core.display.Markdown object>"
      ]
     },
     "metadata": {},
     "output_type": "display_data"
    },
    {
     "data": {
      "text/markdown": [
       "<font color=\"#7f3f3f\"> Table of Contents  (0)</font>"
      ],
      "text/plain": [
       "<IPython.core.display.Markdown object>"
      ]
     },
     "metadata": {},
     "output_type": "display_data"
    },
    {
     "data": {
      "text/markdown": [
       "<font color=\"#7f3f3f\"> Interior, are evaluating various other aspects of hydraulic fracturing  (0)</font>"
      ],
      "text/plain": [
       "<IPython.core.display.Markdown object>"
      ]
     },
     "metadata": {},
     "output_type": "display_data"
    },
    {
     "data": {
      "text/markdown": [
       "<font color=\"#513f7f\">  These studies, or future studies, depending on their degree of pursuit and any meaningful results obtained, could spur initiatives to further regulate hydraulic fracturing under the SDWA or other regulatory mechanisms  (25)</font>"
      ],
      "text/plain": [
       "<IPython.core.display.Markdown object>"
      ]
     },
     "metadata": {},
     "output_type": "display_data"
    },
    {
     "data": {
      "text/markdown": [
       "<font color=\"#7f3f3f\">  See \\\"Item 1  (0)</font>"
      ],
      "text/plain": [
       "<IPython.core.display.Markdown object>"
      ]
     },
     "metadata": {},
     "output_type": "display_data"
    },
    {
     "data": {
      "text/markdown": [
       "<font color=\"#7f3f3f\"> Business  -  Environmental Matters  -  Hydraulic Fracturing\\\" above for additional discussion related to environmental risks associated with our hydraulic fracturing activities  (0)</font>"
      ],
      "text/plain": [
       "<IPython.core.display.Markdown object>"
      ]
     },
     "metadata": {},
     "output_type": "display_data"
    },
    {
     "data": {
      "text/markdown": [
       "<font color=\"#7f3f3f\"> Our operations are substantially dependent on the availability of water  (0)</font>"
      ],
      "text/plain": [
       "<IPython.core.display.Markdown object>"
      ]
     },
     "metadata": {},
     "output_type": "display_data"
    },
    {
     "data": {
      "text/markdown": [
       "<font color=\"#3f7a7f\">  Restrictions on our ability to obtain water may have an adverse effect on our financial condition, results of operations and cash flows from operations  (18)</font>"
      ],
      "text/plain": [
       "<IPython.core.display.Markdown object>"
      ]
     },
     "metadata": {},
     "output_type": "display_data"
    },
    {
     "data": {
      "text/markdown": [
       "<font color=\"#7f3f3f\"> Water is an essential component of both the drilling and hydraulic fracturing processes  (0)</font>"
      ],
      "text/plain": [
       "<IPython.core.display.Markdown object>"
      ]
     },
     "metadata": {},
     "output_type": "display_data"
    },
    {
     "data": {
      "text/markdown": [
       "<font color=\"#7f3f3f\">  Historically, we have been able to purchase water from local land owners and other sources for use in our operations  (0)</font>"
      ],
      "text/plain": [
       "<IPython.core.display.Markdown object>"
      ]
     },
     "metadata": {},
     "output_type": "display_data"
    },
    {
     "data": {
      "text/markdown": [
       "<font color=\"#7f3f3f\">  Over the past few years, extreme drought conditions persisted in West and South Texas  (0)</font>"
      ],
      "text/plain": [
       "<IPython.core.display.Markdown object>"
      ]
     },
     "metadata": {},
     "output_type": "display_data"
    },
    {
     "data": {
      "text/markdown": [
       "<font color=\"#7f3f3f\">  Although conditions have improved, we cannot guarantee what conditions may occur in the future  (0)</font>"
      ],
      "text/plain": [
       "<IPython.core.display.Markdown object>"
      ]
     },
     "metadata": {},
     "output_type": "display_data"
    },
    {
     "data": {
      "text/markdown": [
       "<font color=\"#7f3f3f\">  Severe drought conditions can result in local water districts taking steps to restrict the use of water subject to their jurisdiction for drilling and hydraulic fracturing in order to protect the local water supply  (0)</font>"
      ],
      "text/plain": [
       "<IPython.core.display.Markdown object>"
      ]
     },
     "metadata": {},
     "output_type": "display_data"
    },
    {
     "data": {
      "text/markdown": [
       "<font color=\"#3f7a7f\">  If we are unable to obtain water to use in our operations from local resources, we may be unable to economically produce oil and gas, which could have an adverse effect on our financial condition, results of operations and cash flows from operations  (18)</font>"
      ],
      "text/plain": [
       "<IPython.core.display.Markdown object>"
      ]
     },
     "metadata": {},
     "output_type": "display_data"
    },
    {
     "data": {
      "text/markdown": [
       "<font color=\"#7f3f3f\"> Studies noting a connection between increased seismic activity and the injection of wastewater from oil and gas operations could result in new laws or regulations which would increase our cost of operations  (0)</font>"
      ],
      "text/plain": [
       "<IPython.core.display.Markdown object>"
      ]
     },
     "metadata": {},
     "output_type": "display_data"
    },
    {
     "data": {
      "text/markdown": [
       "<font color=\"#7f3f3f\"> Some studies have noted an increase in localized frequency of seismic activity associated with underground disposal of wastewater from oil and gas operations  (0)</font>"
      ],
      "text/plain": [
       "<IPython.core.display.Markdown object>"
      ]
     },
     "metadata": {},
     "output_type": "display_data"
    },
    {
     "data": {
      "text/markdown": [
       "<font color=\"#7f3f3f\">  If the results of these studies are confirmed, new legislative and regulatory initiatives could require additional monitoring, restrict the injection of produced water in certain disposal wells or modify or curtail hydraulic fracturing operations  (0)</font>"
      ],
      "text/plain": [
       "<IPython.core.display.Markdown object>"
      ]
     },
     "metadata": {},
     "output_type": "display_data"
    },
    {
     "data": {
      "text/markdown": [
       "<font color=\"#3f7f6f\"> These actions could lead to operational delays, increased compliance costs or otherwise adversely impact  our operations  (16)</font>"
      ],
      "text/plain": [
       "<IPython.core.display.Markdown object>"
      ]
     },
     "metadata": {},
     "output_type": "display_data"
    },
    {
     "data": {
      "text/markdown": [
       "<font color=\"#7f3f3f\"> We face various risks associated with the trend toward increased anti-development activity  (0)</font>"
      ],
      "text/plain": [
       "<IPython.core.display.Markdown object>"
      ]
     },
     "metadata": {},
     "output_type": "display_data"
    },
    {
     "data": {
      "text/markdown": [
       "<font color=\"#7f3f3f\"> As new technologies have been applied to our industry, we have seen significant growth in oil and gas supply in recent years, particularly in the U  (0)</font>"
      ],
      "text/plain": [
       "<IPython.core.display.Markdown object>"
      ]
     },
     "metadata": {},
     "output_type": "display_data"
    },
    {
     "data": {
      "text/markdown": [
       "<font color=\"#7f3f3f\">S  (0)</font>"
      ],
      "text/plain": [
       "<IPython.core.display.Markdown object>"
      ]
     },
     "metadata": {},
     "output_type": "display_data"
    },
    {
     "data": {
      "text/markdown": [
       "<font color=\"#7f3f3f\"> With this expansion of oil and gas development activity, opposition toward oil and gas drilling and development activity has been growing both in the U  (0)</font>"
      ],
      "text/plain": [
       "<IPython.core.display.Markdown object>"
      ]
     },
     "metadata": {},
     "output_type": "display_data"
    },
    {
     "data": {
      "text/markdown": [
       "<font color=\"#7f3f3f\">S  (0)</font>"
      ],
      "text/plain": [
       "<IPython.core.display.Markdown object>"
      ]
     },
     "metadata": {},
     "output_type": "display_data"
    },
    {
     "data": {
      "text/markdown": [
       "<font color=\"#7f3f3f\"> and globally  (0)</font>"
      ],
      "text/plain": [
       "<IPython.core.display.Markdown object>"
      ]
     },
     "metadata": {},
     "output_type": "display_data"
    },
    {
     "data": {
      "text/markdown": [
       "<font color=\"#7f3f3f\"> Companies in the oil and gas industry, such as us, can be the target of opposition to development from certain stakeholder groups  (0)</font>"
      ],
      "text/plain": [
       "<IPython.core.display.Markdown object>"
      ]
     },
     "metadata": {},
     "output_type": "display_data"
    },
    {
     "data": {
      "text/markdown": [
       "<font color=\"#7f3f3f\"> These anti-development efforts could be focused on:  (0)</font>"
      ],
      "text/plain": [
       "<IPython.core.display.Markdown object>"
      ]
     },
     "metadata": {},
     "output_type": "display_data"
    },
    {
     "data": {
      "text/markdown": [
       "<font color=\"#7f3f3f\"> • limiting oil and gas development;  (0)</font>"
      ],
      "text/plain": [
       "<IPython.core.display.Markdown object>"
      ]
     },
     "metadata": {},
     "output_type": "display_data"
    },
    {
     "data": {
      "text/markdown": [
       "<font color=\"#7f3f3f\"> • reducing access to federal and state owned lands;  (0)</font>"
      ],
      "text/plain": [
       "<IPython.core.display.Markdown object>"
      ]
     },
     "metadata": {},
     "output_type": "display_data"
    },
    {
     "data": {
      "text/markdown": [
       "<font color=\"#7f3f3f\"> • delaying or canceling certain projects such as offshore drilling, shale development, and pipeline construction;  (0)</font>"
      ],
      "text/plain": [
       "<IPython.core.display.Markdown object>"
      ]
     },
     "metadata": {},
     "output_type": "display_data"
    },
    {
     "data": {
      "text/markdown": [
       "<font color=\"#7f3f3f\"> • limiting or banning the use of hydraulic fracturing;  (0)</font>"
      ],
      "text/plain": [
       "<IPython.core.display.Markdown object>"
      ]
     },
     "metadata": {},
     "output_type": "display_data"
    },
    {
     "data": {
      "text/markdown": [
       "<font color=\"#7f3f3f\"> • denying air-quality permits for drilling; and  (0)</font>"
      ],
      "text/plain": [
       "<IPython.core.display.Markdown object>"
      ]
     },
     "metadata": {},
     "output_type": "display_data"
    },
    {
     "data": {
      "text/markdown": [
       "<font color=\"#7f3f3f\"> • advocating for increased regulations on shale drilling and hydraulic fracturing  (0)</font>"
      ],
      "text/plain": [
       "<IPython.core.display.Markdown object>"
      ]
     },
     "metadata": {},
     "output_type": "display_data"
    },
    {
     "data": {
      "text/markdown": [
       "<font color=\"#7f3f3f\"> Future anti-development efforts could result in the following:  (0)</font>"
      ],
      "text/plain": [
       "<IPython.core.display.Markdown object>"
      ]
     },
     "metadata": {},
     "output_type": "display_data"
    },
    {
     "data": {
      "text/markdown": [
       "<font color=\"#7f3f3f\"> • blocked development;  (0)</font>"
      ],
      "text/plain": [
       "<IPython.core.display.Markdown object>"
      ]
     },
     "metadata": {},
     "output_type": "display_data"
    },
    {
     "data": {
      "text/markdown": [
       "<font color=\"#7f3f3f\"> • denial or delay of drilling permits;  (0)</font>"
      ],
      "text/plain": [
       "<IPython.core.display.Markdown object>"
      ]
     },
     "metadata": {},
     "output_type": "display_data"
    },
    {
     "data": {
      "text/markdown": [
       "<font color=\"#7f3f3f\"> • shortening of lease terms or reduction in lease size;  (0)</font>"
      ],
      "text/plain": [
       "<IPython.core.display.Markdown object>"
      ]
     },
     "metadata": {},
     "output_type": "display_data"
    },
    {
     "data": {
      "text/markdown": [
       "<font color=\"#7f3f3f\"> • restrictions on installation or operation of gathering or processing facilities;  (0)</font>"
      ],
      "text/plain": [
       "<IPython.core.display.Markdown object>"
      ]
     },
     "metadata": {},
     "output_type": "display_data"
    },
    {
     "data": {
      "text/markdown": [
       "<font color=\"#7f3f3f\"> • restrictions on the use of certain operating practices, such as hydraulic fracturing;  (0)</font>"
      ],
      "text/plain": [
       "<IPython.core.display.Markdown object>"
      ]
     },
     "metadata": {},
     "output_type": "display_data"
    },
    {
     "data": {
      "text/markdown": [
       "<font color=\"#7f3f3f\"> • reduced access to water supplies or restrictions on water disposal;  (0)</font>"
      ],
      "text/plain": [
       "<IPython.core.display.Markdown object>"
      ]
     },
     "metadata": {},
     "output_type": "display_data"
    },
    {
     "data": {
      "text/markdown": [
       "<font color=\"#7f3f3f\"> • reduce access to sand, or other proppants, required for hydraulic fracturing;  (0)</font>"
      ],
      "text/plain": [
       "<IPython.core.display.Markdown object>"
      ]
     },
     "metadata": {},
     "output_type": "display_data"
    },
    {
     "data": {
      "text/markdown": [
       "<font color=\"#7f3f3f\"> 25  (0)</font>"
      ],
      "text/plain": [
       "<IPython.core.display.Markdown object>"
      ]
     },
     "metadata": {},
     "output_type": "display_data"
    },
    {
     "data": {
      "text/markdown": [
       "<font color=\"#7f3f3f\"> Table of Contents  (0)</font>"
      ],
      "text/plain": [
       "<IPython.core.display.Markdown object>"
      ]
     },
     "metadata": {},
     "output_type": "display_data"
    },
    {
     "data": {
      "text/markdown": [
       "<font color=\"#7f3f3f\"> • limited access or damage to or destruction of our property;  (0)</font>"
      ],
      "text/plain": [
       "<IPython.core.display.Markdown object>"
      ]
     },
     "metadata": {},
     "output_type": "display_data"
    },
    {
     "data": {
      "text/markdown": [
       "<font color=\"#7f3f3f\"> • legal challenges or lawsuits;  (0)</font>"
      ],
      "text/plain": [
       "<IPython.core.display.Markdown object>"
      ]
     },
     "metadata": {},
     "output_type": "display_data"
    },
    {
     "data": {
      "text/markdown": [
       "<font color=\"#7f3f3f\"> • increased regulation of our business;  (0)</font>"
      ],
      "text/plain": [
       "<IPython.core.display.Markdown object>"
      ]
     },
     "metadata": {},
     "output_type": "display_data"
    },
    {
     "data": {
      "text/markdown": [
       "<font color=\"#7f3f3f\"> • damaging publicity and reputational harm;  (0)</font>"
      ],
      "text/plain": [
       "<IPython.core.display.Markdown object>"
      ]
     },
     "metadata": {},
     "output_type": "display_data"
    },
    {
     "data": {
      "text/markdown": [
       "<font color=\"#7f3f3f\"> • increased costs of doing business;  (0)</font>"
      ],
      "text/plain": [
       "<IPython.core.display.Markdown object>"
      ]
     },
     "metadata": {},
     "output_type": "display_data"
    },
    {
     "data": {
      "text/markdown": [
       "<font color=\"#7f3f3f\"> • reduction in demand for our products; and  (0)</font>"
      ],
      "text/plain": [
       "<IPython.core.display.Markdown object>"
      ]
     },
     "metadata": {},
     "output_type": "display_data"
    },
    {
     "data": {
      "text/markdown": [
       "<font color=\"#7f3f3f\"> • other adverse effects on our ability to develop our properties and expand production  (0)</font>"
      ],
      "text/plain": [
       "<IPython.core.display.Markdown object>"
      ]
     },
     "metadata": {},
     "output_type": "display_data"
    },
    {
     "data": {
      "text/markdown": [
       "<font color=\"#3f7a7f\"> Costs associated with responding to these initiatives or complying with any new legal or regulatory requirements resulting from these activities could be substantial and not adequately provided for, could have a material adverse effect on our business, financial condition and results of operations  (18)</font>"
      ],
      "text/plain": [
       "<IPython.core.display.Markdown object>"
      ]
     },
     "metadata": {},
     "output_type": "display_data"
    },
    {
     "data": {
      "text/markdown": [
       "<font color=\"#7f3f3f\"> In addition, the use of social media channels can be used to cause rapid, widespread reputational harm  (0)</font>"
      ],
      "text/plain": [
       "<IPython.core.display.Markdown object>"
      ]
     },
     "metadata": {},
     "output_type": "display_data"
    },
    {
     "data": {
      "text/markdown": [
       "<font color=\"#7f3f3f\"> The marketability of our production depends largely upon the availability, proximity and capacity of oil and gas gathering systems, pipelines, storage and processing facilities  (0)</font>"
      ],
      "text/plain": [
       "<IPython.core.display.Markdown object>"
      ]
     },
     "metadata": {},
     "output_type": "display_data"
    },
    {
     "data": {
      "text/markdown": [
       "<font color=\"#7f3f3f\"> The marketability of our production depends in part upon processing, storage and transportation facilities  (0)</font>"
      ],
      "text/plain": [
       "<IPython.core.display.Markdown object>"
      ]
     },
     "metadata": {},
     "output_type": "display_data"
    },
    {
     "data": {
      "text/markdown": [
       "<font color=\"#7f3f3f\">  Transportation space on such gathering systems and pipelines is occasionally limited and at times unavailable due to repairs or improvements being made to such facilities or due to such space being utilized by other companies with priority transportation agreements  (0)</font>"
      ],
      "text/plain": [
       "<IPython.core.display.Markdown object>"
      ]
     },
     "metadata": {},
     "output_type": "display_data"
    },
    {
     "data": {
      "text/markdown": [
       "<font color=\"#7f3f3f\">  Our access to transportation options can also be affected by federal and state, regulation of oil and gas production and transportation, general economic conditions and changes in supply and demand  (0)</font>"
      ],
      "text/plain": [
       "<IPython.core.display.Markdown object>"
      ]
     },
     "metadata": {},
     "output_type": "display_data"
    },
    {
     "data": {
      "text/markdown": [
       "<font color=\"#3f597f\">  These factors and the availability of markets are beyond our control  (21)</font>"
      ],
      "text/plain": [
       "<IPython.core.display.Markdown object>"
      ]
     },
     "metadata": {},
     "output_type": "display_data"
    },
    {
     "data": {
      "text/markdown": [
       "<font color=\"#3f7f6f\">  If our access to these transportation and storage options dramatically changes, the financial impact on us could be substantial and adversely affect our ability to produce and market our oil and gas  (16)</font>"
      ],
      "text/plain": [
       "<IPython.core.display.Markdown object>"
      ]
     },
     "metadata": {},
     "output_type": "display_data"
    },
    {
     "data": {
      "text/markdown": [
       "<font color=\"#7f3f3f\"> The adoption of derivatives legislation and regulations related to derivative contracts could have an adverse impact on our ability to hedge risks associated with our business  (0)</font>"
      ],
      "text/plain": [
       "<IPython.core.display.Markdown object>"
      ]
     },
     "metadata": {},
     "output_type": "display_data"
    },
    {
     "data": {
      "text/markdown": [
       "<font color=\"#7f3f3f\"> Title VII of the Dodd-Frank Wall Street Reform and Consumer Protection Act, or the Dodd-Frank Act establishes federal oversight and regulation of over-the-counter, or OTC, derivatives and requires the Commodity Futures Trading Commission, or CFTC, and the SEC to enact further regulations affecting derivative contracts, including the derivative contracts we use to hedge our exposure to price volatility through the OTC market  (0)</font>"
      ],
      "text/plain": [
       "<IPython.core.display.Markdown object>"
      ]
     },
     "metadata": {},
     "output_type": "display_data"
    },
    {
     "data": {
      "text/markdown": [
       "<font color=\"#7f3f3f\"> Although the CFTC and the SEC have issued final regulations in certain areas, final rules in other areas and the scope of relevant definitions and/or exemptions still remain to be finalized  (0)</font>"
      ],
      "text/plain": [
       "<IPython.core.display.Markdown object>"
      ]
     },
     "metadata": {},
     "output_type": "display_data"
    },
    {
     "data": {
      "text/markdown": [
       "<font color=\"#7f3f3f\"> In one of its rulemaking proceedings still pending under the Dodd-Frank Act, on November 5, 2013 (as modified and re-proposed on December 30, 2016), the CFTC approved a proposed rule imposing position limits for certain futures and option contracts in various commodities (including gas) and for swaps that are their economic equivalents  (0)</font>"
      ],
      "text/plain": [
       "<IPython.core.display.Markdown object>"
      ]
     },
     "metadata": {},
     "output_type": "display_data"
    },
    {
     "data": {
      "text/markdown": [
       "<font color=\"#7f3f3f\"> Certain specified types of hedging transactions are proposed to be exempt from these position limits, provided that such hedging transactions satisfy the CFTC's requirements for \\\"bona fide hedging\\\" transactions or positions  (0)</font>"
      ],
      "text/plain": [
       "<IPython.core.display.Markdown object>"
      ]
     },
     "metadata": {},
     "output_type": "display_data"
    },
    {
     "data": {
      "text/markdown": [
       "<font color=\"#7f3f3f\"> Similarly, on December 16, 2016, the CFTC issued a proposed rule regarding the capital that a swap dealer, or major swap participant, is required to post with respect to its swap business, but has not yet issued a final rule  (0)</font>"
      ],
      "text/plain": [
       "<IPython.core.display.Markdown object>"
      ]
     },
     "metadata": {},
     "output_type": "display_data"
    },
    {
     "data": {
      "text/markdown": [
       "<font color=\"#7f3f3f\"> On January 6, 2016, the CFTC issued a final rule on margin requirements for uncleared swap transactions, which includes an exemption for commercial end-users, entering into uncleared swaps in order to hedge commercial risks affecting their business, from any requirement to post margin to secure such swap transactions  (0)</font>"
      ],
      "text/plain": [
       "<IPython.core.display.Markdown object>"
      ]
     },
     "metadata": {},
     "output_type": "display_data"
    },
    {
     "data": {
      "text/markdown": [
       "<font color=\"#7f3f3f\"> In addition, on July 19, 2012, the CFTC issued a final rule authorizing an exception for commercial end-users using swaps to hedge their commercial risks from the otherwise applicable mandatory obligation under the Dodd-Frank Act to clear all swap transactions through a registered derivatives clearing organization and to trade all such swaps on a registered exchange  (0)</font>"
      ],
      "text/plain": [
       "<IPython.core.display.Markdown object>"
      ]
     },
     "metadata": {},
     "output_type": "display_data"
    },
    {
     "data": {
      "text/markdown": [
       "<font color=\"#3f6f7f\"> The Dodd-Frank Act also imposes recordkeeping and reporting obligations on counterparties to swap transactions and other regulatory compliance obligations  (19)</font>"
      ],
      "text/plain": [
       "<IPython.core.display.Markdown object>"
      ]
     },
     "metadata": {},
     "output_type": "display_data"
    },
    {
     "data": {
      "text/markdown": [
       "<font color=\"#7f3f3f\"> All of the above regulations and requirements could increase the costs to us of entering into, and lessen the availability to us of , derivative contracts to hedge or mitigate our exposure to volatility in oil, gas and NGL prices and other commercial risks affecting our business  (0)</font>"
      ],
      "text/plain": [
       "<IPython.core.display.Markdown object>"
      ]
     },
     "metadata": {},
     "output_type": "display_data"
    },
    {
     "data": {
      "text/markdown": [
       "<font color=\"#7f3f3f\"> It is not possible at this time to predict when the CFTC will issue final rules applicable to position limits or capital requirements  (0)</font>"
      ],
      "text/plain": [
       "<IPython.core.display.Markdown object>"
      ]
     },
     "metadata": {},
     "output_type": "display_data"
    },
    {
     "data": {
      "text/markdown": [
       "<font color=\"#7f3f3f\"> Moreover, our ability to satisfy the CFTC's requirements for the various exemptions available for a commercial end-user using swaps to hedge or mitigate its commercial risks may affect whether we are required to comply with margin and certain clearing and trade-execution requirements in connection with our derivative activities  (0)</font>"
      ],
      "text/plain": [
       "<IPython.core.display.Markdown object>"
      ]
     },
     "metadata": {},
     "output_type": "display_data"
    },
    {
     "data": {
      "text/markdown": [
       "<font color=\"#7f3f3f\">  If we do not qualify for the commercial end-user exception, we may be required to post margin or clear certain transactions, which could reduce our liquidity and cash available for capital expenditures and our ability to hedge may be impacted  (0)</font>"
      ],
      "text/plain": [
       "<IPython.core.display.Markdown object>"
      ]
     },
     "metadata": {},
     "output_type": "display_data"
    },
    {
     "data": {
      "text/markdown": [
       "<font color=\"#7f3f3f\">  When a final rule on capital requirements is issued, the Dodd-  (0)</font>"
      ],
      "text/plain": [
       "<IPython.core.display.Markdown object>"
      ]
     },
     "metadata": {},
     "output_type": "display_data"
    },
    {
     "data": {
      "text/markdown": [
       "<font color=\"#7f3f3f\"> 26  (0)</font>"
      ],
      "text/plain": [
       "<IPython.core.display.Markdown object>"
      ]
     },
     "metadata": {},
     "output_type": "display_data"
    },
    {
     "data": {
      "text/markdown": [
       "<font color=\"#7f3f3f\"> Table of Contents  (0)</font>"
      ],
      "text/plain": [
       "<IPython.core.display.Markdown object>"
      ]
     },
     "metadata": {},
     "output_type": "display_data"
    },
    {
     "data": {
      "text/markdown": [
       "<font color=\"#7f3f3f\"> Frank Act may require our current swap counterparties to post additional capital as a result of entering into uncleared derivatives with us, which could increase the costs to us of entering into, and lessen the availability of us to, derivative contracts  (0)</font>"
      ],
      "text/plain": [
       "<IPython.core.display.Markdown object>"
      ]
     },
     "metadata": {},
     "output_type": "display_data"
    },
    {
     "data": {
      "text/markdown": [
       "<font color=\"#7f6b3f\"> The Dodd-Frank Act may also require our current counterparties to spin off some of their derivatives activities to separate entities, which may not be as creditworthy as the current counterparties, and may cause some entities to cease their current business as hedge providers  (4)</font>"
      ],
      "text/plain": [
       "<IPython.core.display.Markdown object>"
      ]
     },
     "metadata": {},
     "output_type": "display_data"
    },
    {
     "data": {
      "text/markdown": [
       "<font color=\"#7f3f3f\"> These changes could reduce the liquidity of the derivatives markets thereby reducing the ability of commercial end-users to have access to derivative contracts to hedge or mitigate their exposure to volatility in oil, gas, and NGL prices  (0)</font>"
      ],
      "text/plain": [
       "<IPython.core.display.Markdown object>"
      ]
     },
     "metadata": {},
     "output_type": "display_data"
    },
    {
     "data": {
      "text/markdown": [
       "<font color=\"#3f7f6f\"> The Dodd-Frank Act and any new regulations could significantly increase the cost of derivative contracts (including through requirements to post collateral which could adversely affect our available capital for other commercial operations purposes), materially alter the terms of future swaps relative to the terms of our existing bilaterally negotiated derivative contracts, and reduce the availability of derivatives to protect us against commercial risks we encounter  (16)</font>"
      ],
      "text/plain": [
       "<IPython.core.display.Markdown object>"
      ]
     },
     "metadata": {},
     "output_type": "display_data"
    },
    {
     "data": {
      "text/markdown": [
       "<font color=\"#7f3f3f\"> In addition, federal banking regulators have adopted new capital requirements for certain regulated financial institutions in connection with the Basel III Accord  (0)</font>"
      ],
      "text/plain": [
       "<IPython.core.display.Markdown object>"
      ]
     },
     "metadata": {},
     "output_type": "display_data"
    },
    {
     "data": {
      "text/markdown": [
       "<font color=\"#7f3f3f\">  The Federal Reserve Board also issued proposed regulations on September 30, 2016, proposing to impose higher risk-weighted capital requirements on financial institutions active in physical commodities, such as oil and gas  (0)</font>"
      ],
      "text/plain": [
       "<IPython.core.display.Markdown object>"
      ]
     },
     "metadata": {},
     "output_type": "display_data"
    },
    {
     "data": {
      "text/markdown": [
       "<font color=\"#7f3f3f\">  If and when these proposed regulations are fully implemented, financial institutions subject to these higher capital requirements may require that we provide cash or other collateral with respect to our obligations under the financial derivatives and other contracts we may enter into with such financial institutions in order to reduce the amount of capital such financial institutions may have to maintain  (0)</font>"
      ],
      "text/plain": [
       "<IPython.core.display.Markdown object>"
      ]
     },
     "metadata": {},
     "output_type": "display_data"
    },
    {
     "data": {
      "text/markdown": [
       "<font color=\"#7f3f3f\">  Alternatively, financial institutions subject to these capital requirements may price transactions so that we will have to pay a premium to enter into derivatives and other physical commodity transactions in an amount that will compensate the financial institutions for the additional capital costs relating to such derivatives and physical commodity transactions  (0)</font>"
      ],
      "text/plain": [
       "<IPython.core.display.Markdown object>"
      ]
     },
     "metadata": {},
     "output_type": "display_data"
    },
    {
     "data": {
      "text/markdown": [
       "<font color=\"#3f7f6f\">  Rules implementing the Basel III Accord and higher risk-weighted capital requirements could materially reduce our liquidity and increase the cost of derivative contracts and other physical commodity contracts (including through requirements to post collateral, which could adversely affect our available capital for other commercial operations purposes)  (16)</font>"
      ],
      "text/plain": [
       "<IPython.core.display.Markdown object>"
      ]
     },
     "metadata": {},
     "output_type": "display_data"
    },
    {
     "data": {
      "text/markdown": [
       "<font color=\"#7f3f3f\"> In addition, certain foreign jurisdictions may adopt or implement laws and regulations relating to margin and central clearing requirements, which in each case may affect our counterparties and the derivatives markets generally  (0)</font>"
      ],
      "text/plain": [
       "<IPython.core.display.Markdown object>"
      ]
     },
     "metadata": {},
     "output_type": "display_data"
    },
    {
     "data": {
      "text/markdown": [
       "<font color=\"#3f7f6f\"> If we reduce our use of derivative contracts as a result of any of the foregoing regulations or requirements, our results of operations may become more volatile and cash flows less predictable, which could adversely affect our ability to plan for and fund capital expenditures  (16)</font>"
      ],
      "text/plain": [
       "<IPython.core.display.Markdown object>"
      ]
     },
     "metadata": {},
     "output_type": "display_data"
    },
    {
     "data": {
      "text/markdown": [
       "<font color=\"#7f3f3f\">  Finally, the legislation was intended, in part, to reduce the volatility of oil, gas, and NGL prices, which some legislators attributed to speculative trading in derivatives and commodity instruments related to oil, gas, and NGL  (0)</font>"
      ],
      "text/plain": [
       "<IPython.core.display.Markdown object>"
      ]
     },
     "metadata": {},
     "output_type": "display_data"
    },
    {
     "data": {
      "text/markdown": [
       "<font color=\"#3f7f6f\">  Our revenues could therefore be adversely affected if a consequence of the legislation and regulations is to lower commodity prices  (16)</font>"
      ],
      "text/plain": [
       "<IPython.core.display.Markdown object>"
      ]
     },
     "metadata": {},
     "output_type": "display_data"
    },
    {
     "data": {
      "text/markdown": [
       "<font color=\"#7f3f76\">  Any of these consequences could have a material adverse effect on our financial position, results of operations, or cash flows from operations  (30)</font>"
      ],
      "text/plain": [
       "<IPython.core.display.Markdown object>"
      ]
     },
     "metadata": {},
     "output_type": "display_data"
    },
    {
     "data": {
      "text/markdown": [
       "<font color=\"#7f3f3f\"> If we were to experience an ownership change, we could be limited in our ability to use net operating losses arising prior to the ownership change to offset future taxable income  (0)</font>"
      ],
      "text/plain": [
       "<IPython.core.display.Markdown object>"
      ]
     },
     "metadata": {},
     "output_type": "display_data"
    },
    {
     "data": {
      "text/markdown": [
       "<font color=\"#7f3f3f\"> In addition, our ability to use net operating loss carry forwards to reduce future tax payments may be limited if our taxable income does not reach sufficient levels  (0)</font>"
      ],
      "text/plain": [
       "<IPython.core.display.Markdown object>"
      ]
     },
     "metadata": {},
     "output_type": "display_data"
    },
    {
     "data": {
      "text/markdown": [
       "<font color=\"#7f3f3f\"> As of December 31, 2017, we had net operating loss carryforwards or NOLs, for federal income tax purposes of $255  (0)</font>"
      ],
      "text/plain": [
       "<IPython.core.display.Markdown object>"
      ]
     },
     "metadata": {},
     "output_type": "display_data"
    },
    {
     "data": {
      "text/markdown": [
       "<font color=\"#7f3f3f\">0 million  (0)</font>"
      ],
      "text/plain": [
       "<IPython.core.display.Markdown object>"
      ]
     },
     "metadata": {},
     "output_type": "display_data"
    },
    {
     "data": {
      "text/markdown": [
       "<font color=\"#7f3f3f\"> If we were to experience an \\\"ownership change,\\\" as determined under Section 382 of the Internal Revenue Code of 1986, as amended (the \\\"Code\\\"), our ability to offset taxable income arising after the ownership change with NOLs arising prior to the ownership change would be limited, possibly substantially  (0)</font>"
      ],
      "text/plain": [
       "<IPython.core.display.Markdown object>"
      ]
     },
     "metadata": {},
     "output_type": "display_data"
    },
    {
     "data": {
      "text/markdown": [
       "<font color=\"#7f3f3f\"> An ownership change would establish an annual limitation on the amount of our pre-change NOLs we could utilize to offset our taxable income in any future taxable year to an amount generally equal to the value of our stock immediately prior to the ownership change multiplied by the long-term tax-exempt rate  (0)</font>"
      ],
      "text/plain": [
       "<IPython.core.display.Markdown object>"
      ]
     },
     "metadata": {},
     "output_type": "display_data"
    },
    {
     "data": {
      "text/markdown": [
       "<font color=\"#7f3f3f\"> In general, an ownership change will occur if there is a cumulative increase in our ownership of more than 50 percentage points by one or more \\\"5% shareholders\\\" (as defined in the Code) at any time during a rolling three-year period  (0)</font>"
      ],
      "text/plain": [
       "<IPython.core.display.Markdown object>"
      ]
     },
     "metadata": {},
     "output_type": "display_data"
    },
    {
     "data": {
      "text/markdown": [
       "<font color=\"#7f3f3f\"> As a result of the Tax Cuts and Jobs Act of 2017, NOLs arising before January 1, 2018, and NOLs arising after January 1, 2018, are subject to different rules  (0)</font>"
      ],
      "text/plain": [
       "<IPython.core.display.Markdown object>"
      ]
     },
     "metadata": {},
     "output_type": "display_data"
    },
    {
     "data": {
      "text/markdown": [
       "<font color=\"#7f3f3f\">  Our pre-2018 NOLs will expire in varying amounts from 2023 through 2037, if not utilized; can offset 100% of future taxable income for regular tax purposes  Any NOLs arising after January 1, 2018, can generally be carried forward indefinitely and can offset up to 80% of future taxable income  (0)</font>"
      ],
      "text/plain": [
       "<IPython.core.display.Markdown object>"
      ]
     },
     "metadata": {},
     "output_type": "display_data"
    },
    {
     "data": {
      "text/markdown": [
       "<font color=\"#7f3f3f\">  Our ability to use our NOLs during this period will be dependent on our ability to generate taxable income, and the NOLs could expire before we generate sufficient taxable income  (0)</font>"
      ],
      "text/plain": [
       "<IPython.core.display.Markdown object>"
      ]
     },
     "metadata": {},
     "output_type": "display_data"
    },
    {
     "data": {
      "text/markdown": [
       "<font color=\"#7f4a3f\"> Cyber attacks targeting systems and infrastructure used by the oil and gas industry may adversely impact our operations  (1)</font>"
      ],
      "text/plain": [
       "<IPython.core.display.Markdown object>"
      ]
     },
     "metadata": {},
     "output_type": "display_data"
    },
    {
     "data": {
      "text/markdown": [
       "<font color=\"#7f3f3f\"> Our business has become increasingly dependent on digital technologies to conduct certain exploration, development and production activities  (0)</font>"
      ],
      "text/plain": [
       "<IPython.core.display.Markdown object>"
      ]
     },
     "metadata": {},
     "output_type": "display_data"
    },
    {
     "data": {
      "text/markdown": [
       "<font color=\"#3f7f7a\">  We depend on digital technology to estimate quantities of oil and gas reserves, process and record financial and operating data, analyze seismic and drilling information, and communicate with our employees and third-party partners  (17)</font>"
      ],
      "text/plain": [
       "<IPython.core.display.Markdown object>"
      ]
     },
     "metadata": {},
     "output_type": "display_data"
    },
    {
     "data": {
      "text/markdown": [
       "<font color=\"#3f7f4e\">  Unauthorized access to our seismic data, reserves information or other proprietary information could lead to data  (13)</font>"
      ],
      "text/plain": [
       "<IPython.core.display.Markdown object>"
      ]
     },
     "metadata": {},
     "output_type": "display_data"
    },
    {
     "data": {
      "text/markdown": [
       "<font color=\"#7f3f3f\"> 27  (0)</font>"
      ],
      "text/plain": [
       "<IPython.core.display.Markdown object>"
      ]
     },
     "metadata": {},
     "output_type": "display_data"
    },
    {
     "data": {
      "text/markdown": [
       "<font color=\"#7f3f3f\"> Table of Contents  (0)</font>"
      ],
      "text/plain": [
       "<IPython.core.display.Markdown object>"
      ]
     },
     "metadata": {},
     "output_type": "display_data"
    },
    {
     "data": {
      "text/markdown": [
       "<font color=\"#7f3f3f\"> corruption, communication interruption, or other operational disruptions in our exploration or production operations  (0)</font>"
      ],
      "text/plain": [
       "<IPython.core.display.Markdown object>"
      ]
     },
     "metadata": {},
     "output_type": "display_data"
    },
    {
     "data": {
      "text/markdown": [
       "<font color=\"#7f3f3f\">  In addition, computer technology controls nearly all of the oil and gas distribution systems in the United States and abroad, which are necessary to transport our production to market  (0)</font>"
      ],
      "text/plain": [
       "<IPython.core.display.Markdown object>"
      ]
     },
     "metadata": {},
     "output_type": "display_data"
    },
    {
     "data": {
      "text/markdown": [
       "<font color=\"#7f4a3f\">  A cyber attack directed at oil and gas distribution systems could damage critical distribution and storage assets or the environment, delay or prevent delivery of production to markets and make it difficult or impossible to accurately account for production and settle transactions  (1)</font>"
      ],
      "text/plain": [
       "<IPython.core.display.Markdown object>"
      ]
     },
     "metadata": {},
     "output_type": "display_data"
    },
    {
     "data": {
      "text/markdown": [
       "<font color=\"#7f4a3f\"> While we have not experienced significant cyber attacks, we may suffer such attacks in the future  (1)</font>"
      ],
      "text/plain": [
       "<IPython.core.display.Markdown object>"
      ]
     },
     "metadata": {},
     "output_type": "display_data"
    },
    {
     "data": {
      "text/markdown": [
       "<font color=\"#7f4a3f\"> Further, as cyber attacks continue to evolve, we may be required to expend significant additional resources to continue to modify or enhance our protective measures or to investigate and remediate any vulnerability to cyber attacks  (1)</font>"
      ],
      "text/plain": [
       "<IPython.core.display.Markdown object>"
      ]
     },
     "metadata": {},
     "output_type": "display_data"
    },
    {
     "data": {
      "text/markdown": [
       "<font color=\"#3f597f\"> We rely on independent experts and technical or operational service providers over whom we may have limited control  (21)</font>"
      ],
      "text/plain": [
       "<IPython.core.display.Markdown object>"
      ]
     },
     "metadata": {},
     "output_type": "display_data"
    },
    {
     "data": {
      "text/markdown": [
       "<font color=\"#7f3f3f\"> We use independent contractors to provide us with certain technical assistance and services  (0)</font>"
      ],
      "text/plain": [
       "<IPython.core.display.Markdown object>"
      ]
     },
     "metadata": {},
     "output_type": "display_data"
    },
    {
     "data": {
      "text/markdown": [
       "<font color=\"#7f3f3f\">  We rely upon the owners and operators of rigs and drilling equipment, and upon providers of field services, to drill and develop our prospects to production  (0)</font>"
      ],
      "text/plain": [
       "<IPython.core.display.Markdown object>"
      ]
     },
     "metadata": {},
     "output_type": "display_data"
    },
    {
     "data": {
      "text/markdown": [
       "<font color=\"#477f3f\">  We also rely upon the services of other third parties to explore and/or analyze our prospects to determine a method in which the prospects may be developed in a cost-effective manner  (11)</font>"
      ],
      "text/plain": [
       "<IPython.core.display.Markdown object>"
      ]
     },
     "metadata": {},
     "output_type": "display_data"
    },
    {
     "data": {
      "text/markdown": [
       "<font color=\"#3f7f6f\">  Our limited control over the activities and business practices of these service providers, any inability on our part to maintain satisfactory commercial relationships with them or their failure to provide quality services could materially adversely affect our business, results of operations and financial condition  (16)</font>"
      ],
      "text/plain": [
       "<IPython.core.display.Markdown object>"
      ]
     },
     "metadata": {},
     "output_type": "display_data"
    },
    {
     "data": {
      "text/markdown": [
       "<font color=\"#7f3f76\"> We depend on our President, CEO and Chairman of the Board and the loss of his services could have an adverse effect on our operations  (30)</font>"
      ],
      "text/plain": [
       "<IPython.core.display.Markdown object>"
      ]
     },
     "metadata": {},
     "output_type": "display_data"
    },
    {
     "data": {
      "text/markdown": [
       "<font color=\"#7f3f3f\"> We depend to a large extent on Robert L  (0)</font>"
      ],
      "text/plain": [
       "<IPython.core.display.Markdown object>"
      ]
     },
     "metadata": {},
     "output_type": "display_data"
    },
    {
     "data": {
      "text/markdown": [
       "<font color=\"#7f3f3f\">G  (0)</font>"
      ],
      "text/plain": [
       "<IPython.core.display.Markdown object>"
      ]
     },
     "metadata": {},
     "output_type": "display_data"
    },
    {
     "data": {
      "text/markdown": [
       "<font color=\"#7f3f3f\"> Watson, our President and Chief Executive Officer, for our management and business and financial contacts  (0)</font>"
      ],
      "text/plain": [
       "<IPython.core.display.Markdown object>"
      ]
     },
     "metadata": {},
     "output_type": "display_data"
    },
    {
     "data": {
      "text/markdown": [
       "<font color=\"#7f3f3f\">  Mr  (0)</font>"
      ],
      "text/plain": [
       "<IPython.core.display.Markdown object>"
      ]
     },
     "metadata": {},
     "output_type": "display_data"
    },
    {
     "data": {
      "text/markdown": [
       "<font color=\"#7f3f3f\"> Watson may terminate his employment agreement with us at any time on 30 days' notice, but, if he terminates without good reason, he would not be entitled to the severance benefits provided under the terms of that agreement  (0)</font>"
      ],
      "text/plain": [
       "<IPython.core.display.Markdown object>"
      ]
     },
     "metadata": {},
     "output_type": "display_data"
    },
    {
     "data": {
      "text/markdown": [
       "<font color=\"#7f3f3f\">  Mr  (0)</font>"
      ],
      "text/plain": [
       "<IPython.core.display.Markdown object>"
      ]
     },
     "metadata": {},
     "output_type": "display_data"
    },
    {
     "data": {
      "text/markdown": [
       "<font color=\"#7f3f3f\"> Watson is not precluded from working for, with or on behalf of a competitor upon termination of his employment with us  (0)</font>"
      ],
      "text/plain": [
       "<IPython.core.display.Markdown object>"
      ]
     },
     "metadata": {},
     "output_type": "display_data"
    },
    {
     "data": {
      "text/markdown": [
       "<font color=\"#7f3f3f\">  If Mr  (0)</font>"
      ],
      "text/plain": [
       "<IPython.core.display.Markdown object>"
      ]
     },
     "metadata": {},
     "output_type": "display_data"
    },
    {
     "data": {
      "text/markdown": [
       "<font color=\"#7d7f3f\"> Watson were no longer able or willing to act as President, Chief Executive Officer and Chairman of the Board, the loss of his services could have an adverse effect on our operations  (6)</font>"
      ],
      "text/plain": [
       "<IPython.core.display.Markdown object>"
      ]
     },
     "metadata": {},
     "output_type": "display_data"
    },
    {
     "data": {
      "text/markdown": [
       "<font color=\"#7f3f3f\"> Risks Related to Our Industry  (0)</font>"
      ],
      "text/plain": [
       "<IPython.core.display.Markdown object>"
      ]
     },
     "metadata": {},
     "output_type": "display_data"
    },
    {
     "data": {
      "text/markdown": [
       "<font color=\"#3f7f6f\"> Market conditions for oil and gas, and particularly volatility of prices for oil and gas, could adversely affect our revenue, cash flows from operations, profitability and growth  (16)</font>"
      ],
      "text/plain": [
       "<IPython.core.display.Markdown object>"
      ]
     },
     "metadata": {},
     "output_type": "display_data"
    },
    {
     "data": {
      "text/markdown": [
       "<font color=\"#7f3f3f\"> Our revenue, cash flows from operations, profitability and future rate of growth depend substantially upon prevailing prices for oil and gas  (0)</font>"
      ],
      "text/plain": [
       "<IPython.core.display.Markdown object>"
      ]
     },
     "metadata": {},
     "output_type": "display_data"
    },
    {
     "data": {
      "text/markdown": [
       "<font color=\"#7f3f3f\">  Prices also affect the amount of cash flows available for capital expenditures and our ability to borrow money or raise additional capital  (0)</font>"
      ],
      "text/plain": [
       "<IPython.core.display.Markdown object>"
      ]
     },
     "metadata": {},
     "output_type": "display_data"
    },
    {
     "data": {
      "text/markdown": [
       "<font color=\"#7f6b3f\">  Lower prices may also make it uneconomical for us to increase or even continue current production levels of oil and gas  (4)</font>"
      ],
      "text/plain": [
       "<IPython.core.display.Markdown object>"
      ]
     },
     "metadata": {},
     "output_type": "display_data"
    },
    {
     "data": {
      "text/markdown": [
       "<font color=\"#7f3f3f\"> Prices for oil and gas are subject to large fluctuations in response to relatively minor changes in the supply and demand for oil and gas, market uncertainty and a variety of other factors beyond our control, including:  (0)</font>"
      ],
      "text/plain": [
       "<IPython.core.display.Markdown object>"
      ]
     },
     "metadata": {},
     "output_type": "display_data"
    },
    {
     "data": {
      "text/markdown": [
       "<font color=\"#7f3f3f\"> • changes in foreign and domestic supply and demand for oil and gas;  (0)</font>"
      ],
      "text/plain": [
       "<IPython.core.display.Markdown object>"
      ]
     },
     "metadata": {},
     "output_type": "display_data"
    },
    {
     "data": {
      "text/markdown": [
       "<font color=\"#7f3f3f\"> • political stability and economic conditions in oil producing countries, particularly in the Middle East;  (0)</font>"
      ],
      "text/plain": [
       "<IPython.core.display.Markdown object>"
      ]
     },
     "metadata": {},
     "output_type": "display_data"
    },
    {
     "data": {
      "text/markdown": [
       "<font color=\"#7f3f3f\"> • weather conditions;  (0)</font>"
      ],
      "text/plain": [
       "<IPython.core.display.Markdown object>"
      ]
     },
     "metadata": {},
     "output_type": "display_data"
    },
    {
     "data": {
      "text/markdown": [
       "<font color=\"#5c7f3f\"> • price and level of foreign imports;  (9)</font>"
      ],
      "text/plain": [
       "<IPython.core.display.Markdown object>"
      ]
     },
     "metadata": {},
     "output_type": "display_data"
    },
    {
     "data": {
      "text/markdown": [
       "<font color=\"#7f3f3f\"> • terrorist activity;  (0)</font>"
      ],
      "text/plain": [
       "<IPython.core.display.Markdown object>"
      ]
     },
     "metadata": {},
     "output_type": "display_data"
    },
    {
     "data": {
      "text/markdown": [
       "<font color=\"#7f3f3f\"> • availability of pipeline and other secondary capacity;  (0)</font>"
      ],
      "text/plain": [
       "<IPython.core.display.Markdown object>"
      ]
     },
     "metadata": {},
     "output_type": "display_data"
    },
    {
     "data": {
      "text/markdown": [
       "<font color=\"#7f3f3f\"> • general economic conditions;  (0)</font>"
      ],
      "text/plain": [
       "<IPython.core.display.Markdown object>"
      ]
     },
     "metadata": {},
     "output_type": "display_data"
    },
    {
     "data": {
      "text/markdown": [
       "<font color=\"#5c7f3f\"> • domestic and foreign governmental regulation; and  (9)</font>"
      ],
      "text/plain": [
       "<IPython.core.display.Markdown object>"
      ]
     },
     "metadata": {},
     "output_type": "display_data"
    },
    {
     "data": {
      "text/markdown": [
       "<font color=\"#7f3f3f\"> • the price and availability of alternative fuel sources  (0)</font>"
      ],
      "text/plain": [
       "<IPython.core.display.Markdown object>"
      ]
     },
     "metadata": {},
     "output_type": "display_data"
    },
    {
     "data": {
      "text/markdown": [
       "<font color=\"#7f3f3f\"> 28  (0)</font>"
      ],
      "text/plain": [
       "<IPython.core.display.Markdown object>"
      ]
     },
     "metadata": {},
     "output_type": "display_data"
    },
    {
     "data": {
      "text/markdown": [
       "<font color=\"#7f3f3f\"> Table of Contents  (0)</font>"
      ],
      "text/plain": [
       "<IPython.core.display.Markdown object>"
      ]
     },
     "metadata": {},
     "output_type": "display_data"
    },
    {
     "data": {
      "text/markdown": [
       "<font color=\"#7f3f3f\"> Estimates of proved reserves and future net revenue are inherently imprecise  (0)</font>"
      ],
      "text/plain": [
       "<IPython.core.display.Markdown object>"
      ]
     },
     "metadata": {},
     "output_type": "display_data"
    },
    {
     "data": {
      "text/markdown": [
       "<font color=\"#7f3f3f\"> The process of estimating oil and gas reserves in accordance with SEC requirements is complex and involves decisions and assumptions in evaluating the available geological, geophysical, engineering and economic data  (0)</font>"
      ],
      "text/plain": [
       "<IPython.core.display.Markdown object>"
      ]
     },
     "metadata": {},
     "output_type": "display_data"
    },
    {
     "data": {
      "text/markdown": [
       "<font color=\"#7f3f3f\">  Accordingly, these estimates are imprecise  (0)</font>"
      ],
      "text/plain": [
       "<IPython.core.display.Markdown object>"
      ]
     },
     "metadata": {},
     "output_type": "display_data"
    },
    {
     "data": {
      "text/markdown": [
       "<font color=\"#7f3f3f\">  Actual future production, oil and gas prices, revenues, taxes, capital expenditures, operating expenses and quantities of recoverable oil and gas reserves most likely will vary from those estimated  (0)</font>"
      ],
      "text/plain": [
       "<IPython.core.display.Markdown object>"
      ]
     },
     "metadata": {},
     "output_type": "display_data"
    },
    {
     "data": {
      "text/markdown": [
       "<font color=\"#5c3f7f\">  Any significant variance could materially affect the estimated quantities and present value of our reserves  (26)</font>"
      ],
      "text/plain": [
       "<IPython.core.display.Markdown object>"
      ]
     },
     "metadata": {},
     "output_type": "display_data"
    },
    {
     "data": {
      "text/markdown": [
       "<font color=\"#3f597f\">  In addition, we may adjust estimates of proved reserves to reflect production history, results of exploration and development, prevailing oil and gas prices and other factors, many of which are beyond our control  (21)</font>"
      ],
      "text/plain": [
       "<IPython.core.display.Markdown object>"
      ]
     },
     "metadata": {},
     "output_type": "display_data"
    },
    {
     "data": {
      "text/markdown": [
       "<font color=\"#7f3f3f\"> The estimates of our reserves as of December 31, 2017 are based upon various assumptions about future production levels, prices and costs that may not prove to be correct over time  (0)</font>"
      ],
      "text/plain": [
       "<IPython.core.display.Markdown object>"
      ]
     },
     "metadata": {},
     "output_type": "display_data"
    },
    {
     "data": {
      "text/markdown": [
       "<font color=\"#5c3f7f\">  In particular, estimates of oil and gas reserves, future net revenue from proved reserves and the present value of  our oil and gas properties are based on the assumption that future oil and gas prices remain the same as the twelve month first-day-of-the-month average oil and gas prices for the year ended December 31, 2017  (26)</font>"
      ],
      "text/plain": [
       "<IPython.core.display.Markdown object>"
      ]
     },
     "metadata": {},
     "output_type": "display_data"
    },
    {
     "data": {
      "text/markdown": [
       "<font color=\"#7f3f3f\">  The average realized sales prices as of such date used for purposes of such estimates were $1  (0)</font>"
      ],
      "text/plain": [
       "<IPython.core.display.Markdown object>"
      ]
     },
     "metadata": {},
     "output_type": "display_data"
    },
    {
     "data": {
      "text/markdown": [
       "<font color=\"#7f3f3f\">79 per Mcf of gas and $46  (0)</font>"
      ],
      "text/plain": [
       "<IPython.core.display.Markdown object>"
      ]
     },
     "metadata": {},
     "output_type": "display_data"
    },
    {
     "data": {
      "text/markdown": [
       "<font color=\"#7f3f3f\">82 per Bbl of oil  (0)</font>"
      ],
      "text/plain": [
       "<IPython.core.display.Markdown object>"
      ]
     },
     "metadata": {},
     "output_type": "display_data"
    },
    {
     "data": {
      "text/markdown": [
       "<font color=\"#7f3f3f\">  The December 31, 2017 estimates also assume that we will make future capital expenditures of approximately $469  (0)</font>"
      ],
      "text/plain": [
       "<IPython.core.display.Markdown object>"
      ]
     },
     "metadata": {},
     "output_type": "display_data"
    },
    {
     "data": {
      "text/markdown": [
       "<font color=\"#5c3f7f\">7 million in the aggregate primarily from 2018 through 2022, which are necessary to develop and realize the value of proved reserves on our properties  (26)</font>"
      ],
      "text/plain": [
       "<IPython.core.display.Markdown object>"
      ]
     },
     "metadata": {},
     "output_type": "display_data"
    },
    {
     "data": {
      "text/markdown": [
       "<font color=\"#7f3f3f\">  We cannot assure you that we will have sufficient capital in the future to make these capital expenditures  (0)</font>"
      ],
      "text/plain": [
       "<IPython.core.display.Markdown object>"
      ]
     },
     "metadata": {},
     "output_type": "display_data"
    },
    {
     "data": {
      "text/markdown": [
       "<font color=\"#7f3f3f\"> In addition, approximately 67% of our total estimated proved reserves on a Boe basis as of December 31, 2017 were classified as undeveloped  (0)</font>"
      ],
      "text/plain": [
       "<IPython.core.display.Markdown object>"
      ]
     },
     "metadata": {},
     "output_type": "display_data"
    },
    {
     "data": {
      "text/markdown": [
       "<font color=\"#7f3f3f\">  By their nature, estimates of undeveloped reserves are less certain than proved developed reserves  (0)</font>"
      ],
      "text/plain": [
       "<IPython.core.display.Markdown object>"
      ]
     },
     "metadata": {},
     "output_type": "display_data"
    },
    {
     "data": {
      "text/markdown": [
       "<font color=\"#5c3f7f\">  Any significant variance in actual results from these assumptions could also materially affect the estimated quantity and value of our reserves set forth or incorporated by reference in this report  (26)</font>"
      ],
      "text/plain": [
       "<IPython.core.display.Markdown object>"
      ]
     },
     "metadata": {},
     "output_type": "display_data"
    },
    {
     "data": {
      "text/markdown": [
       "<font color=\"#5c3f7f\"> The present value of future net cash flows from our proved reserves is not necessarily the same as the current market value of our estimated reserves  (26)</font>"
      ],
      "text/plain": [
       "<IPython.core.display.Markdown object>"
      ]
     },
     "metadata": {},
     "output_type": "display_data"
    },
    {
     "data": {
      "text/markdown": [
       "<font color=\"#3f7f6f\">  Any material inaccuracies in our reserve estimates or underlying assumptions will materially affect the quantities and present value of our reserves, which could adversely affect our business, results of operations and financial condition  (16)</font>"
      ],
      "text/plain": [
       "<IPython.core.display.Markdown object>"
      ]
     },
     "metadata": {},
     "output_type": "display_data"
    },
    {
     "data": {
      "text/markdown": [
       "<font color=\"#7f3f3f\"> As required by SEC regulations, we based the estimated discounted future net cash flows from our proved reserves as of December 31, 2017 on the twelve month first-day-of-the-month average oil and gas prices for the year ended December 31, 2017 and costs in effect on December 31, 2017, the date of the estimate  (0)</font>"
      ],
      "text/plain": [
       "<IPython.core.display.Markdown object>"
      ]
     },
     "metadata": {},
     "output_type": "display_data"
    },
    {
     "data": {
      "text/markdown": [
       "<font color=\"#7f3f3f\">  However, actual future net cash flows from our properties will be affected by factors such as:  (0)</font>"
      ],
      "text/plain": [
       "<IPython.core.display.Markdown object>"
      ]
     },
     "metadata": {},
     "output_type": "display_data"
    },
    {
     "data": {
      "text/markdown": [
       "<font color=\"#7f3f3f\"> •supply of and demand for our oil and gas;  (0)</font>"
      ],
      "text/plain": [
       "<IPython.core.display.Markdown object>"
      ]
     },
     "metadata": {},
     "output_type": "display_data"
    },
    {
     "data": {
      "text/markdown": [
       "<font color=\"#7f3f3f\"> •actual prices we receive for our oil and gas;  (0)</font>"
      ],
      "text/plain": [
       "<IPython.core.display.Markdown object>"
      ]
     },
     "metadata": {},
     "output_type": "display_data"
    },
    {
     "data": {
      "text/markdown": [
       "<font color=\"#513f7f\"> •our actual operating costs;  (25)</font>"
      ],
      "text/plain": [
       "<IPython.core.display.Markdown object>"
      ]
     },
     "metadata": {},
     "output_type": "display_data"
    },
    {
     "data": {
      "text/markdown": [
       "<font color=\"#7f3f3f\"> •the amount and timing of our capital expenditures;  (0)</font>"
      ],
      "text/plain": [
       "<IPython.core.display.Markdown object>"
      ]
     },
     "metadata": {},
     "output_type": "display_data"
    },
    {
     "data": {
      "text/markdown": [
       "<font color=\"#7f3f3f\"> •the amount and timing of our actual production; and  (0)</font>"
      ],
      "text/plain": [
       "<IPython.core.display.Markdown object>"
      ]
     },
     "metadata": {},
     "output_type": "display_data"
    },
    {
     "data": {
      "text/markdown": [
       "<font color=\"#7f3f3f\"> •changes in governmental regulations or taxation  (0)</font>"
      ],
      "text/plain": [
       "<IPython.core.display.Markdown object>"
      ]
     },
     "metadata": {},
     "output_type": "display_data"
    },
    {
     "data": {
      "text/markdown": [
       "<font color=\"#7f3f3f\"> In addition, the 10% discount factor we use when calculating discounted future net cash flows, which is required by the SEC, may not be the most appropriate discount factor based on interest rates in effect from time to time and risks associated with us or the oil and gas industry in general  (0)</font>"
      ],
      "text/plain": [
       "<IPython.core.display.Markdown object>"
      ]
     },
     "metadata": {},
     "output_type": "display_data"
    },
    {
     "data": {
      "text/markdown": [
       "<font color=\"#3f7f6f\">  Any material inaccuracies in our reserve estimates or underlying assumptions will materially affect the quantities and present value of our reserves, which could adversely affect our business, results of operations and financial condition  (16)</font>"
      ],
      "text/plain": [
       "<IPython.core.display.Markdown object>"
      ]
     },
     "metadata": {},
     "output_type": "display_data"
    },
    {
     "data": {
      "text/markdown": [
       "<font color=\"#7f3f3f\"> Our operations are subject to the numerous risks of oil and gas drilling and production activities  (0)</font>"
      ],
      "text/plain": [
       "<IPython.core.display.Markdown object>"
      ]
     },
     "metadata": {},
     "output_type": "display_data"
    },
    {
     "data": {
      "text/markdown": [
       "<font color=\"#3f597f\"> Our oil and gas drilling and production activities are subject to numerous risks, many of which are beyond our control  (21)</font>"
      ],
      "text/plain": [
       "<IPython.core.display.Markdown object>"
      ]
     },
     "metadata": {},
     "output_type": "display_data"
    },
    {
     "data": {
      "text/markdown": [
       "<font color=\"#7f3f3f\">  These risks include the risk of fire, explosions, blow-outs, pipe failure, abnormally pressured formations and environmental hazards  (0)</font>"
      ],
      "text/plain": [
       "<IPython.core.display.Markdown object>"
      ]
     },
     "metadata": {},
     "output_type": "display_data"
    },
    {
     "data": {
      "text/markdown": [
       "<font color=\"#7f3f3f\">  Environmental hazards include oil and salt water spills, gas leaks, ruptures, discharges of toxic gases, underground migration and surface spills or mishandling of any toxic fracture fluids, including chemical additives  (0)</font>"
      ],
      "text/plain": [
       "<IPython.core.display.Markdown object>"
      ]
     },
     "metadata": {},
     "output_type": "display_data"
    },
    {
     "data": {
      "text/markdown": [
       "<font color=\"#3f7f6f\">  In addition, title problems, weather conditions and mechanical difficulties or shortages or delays in delivery of drilling rigs and other equipment could negatively affect our operations  (16)</font>"
      ],
      "text/plain": [
       "<IPython.core.display.Markdown object>"
      ]
     },
     "metadata": {},
     "output_type": "display_data"
    },
    {
     "data": {
      "text/markdown": [
       "<font color=\"#7f3f3f\">  If any of these or other similar industry operating risks occur, we could have substantial losses  (0)</font>"
      ],
      "text/plain": [
       "<IPython.core.display.Markdown object>"
      ]
     },
     "metadata": {},
     "output_type": "display_data"
    },
    {
     "data": {
      "text/markdown": [
       "<font color=\"#7f3f3f\">  Substantial losses also may result from injury or loss of life, severe damage to or destruction of property, clean-up  (0)</font>"
      ],
      "text/plain": [
       "<IPython.core.display.Markdown object>"
      ]
     },
     "metadata": {},
     "output_type": "display_data"
    },
    {
     "data": {
      "text/markdown": [
       "<font color=\"#7f3f3f\"> 29  (0)</font>"
      ],
      "text/plain": [
       "<IPython.core.display.Markdown object>"
      ]
     },
     "metadata": {},
     "output_type": "display_data"
    },
    {
     "data": {
      "text/markdown": [
       "<font color=\"#7f3f3f\"> Table of Contents  (0)</font>"
      ],
      "text/plain": [
       "<IPython.core.display.Markdown object>"
      ]
     },
     "metadata": {},
     "output_type": "display_data"
    },
    {
     "data": {
      "text/markdown": [
       "<font color=\"#7f3f3f\"> responsibilities, environmental damage, regulatory investigation and penalties and suspension of operations  (0)</font>"
      ],
      "text/plain": [
       "<IPython.core.display.Markdown object>"
      ]
     },
     "metadata": {},
     "output_type": "display_data"
    },
    {
     "data": {
      "text/markdown": [
       "<font color=\"#7f3f3f\">  In accordance with industry practice, we maintain insurance against some, but not all, of the risks described above  (0)</font>"
      ],
      "text/plain": [
       "<IPython.core.display.Markdown object>"
      ]
     },
     "metadata": {},
     "output_type": "display_data"
    },
    {
     "data": {
      "text/markdown": [
       "<font color=\"#7f3f3f\">  We cannot assure you that our insurance will be adequate to cover losses or liabilities  (0)</font>"
      ],
      "text/plain": [
       "<IPython.core.display.Markdown object>"
      ]
     },
     "metadata": {},
     "output_type": "display_data"
    },
    {
     "data": {
      "text/markdown": [
       "<font color=\"#7f3f3f\">  Also, we cannot predict the continued availability of insurance at premium levels that justify its purchase  (0)</font>"
      ],
      "text/plain": [
       "<IPython.core.display.Markdown object>"
      ]
     },
     "metadata": {},
     "output_type": "display_data"
    },
    {
     "data": {
      "text/markdown": [
       "<font color=\"#3f7f6f\"> We operate in a highly competitive industry which may adversely affect our operations  (16)</font>"
      ],
      "text/plain": [
       "<IPython.core.display.Markdown object>"
      ]
     },
     "metadata": {},
     "output_type": "display_data"
    },
    {
     "data": {
      "text/markdown": [
       "<font color=\"#7f3f3f\"> We operate in a highly competitive environment  (0)</font>"
      ],
      "text/plain": [
       "<IPython.core.display.Markdown object>"
      ]
     },
     "metadata": {},
     "output_type": "display_data"
    },
    {
     "data": {
      "text/markdown": [
       "<font color=\"#7f3f3f\">  The principal resources necessary for the exploration and production of oil and gas are leasehold prospects under which oil and gas reserves may be discovered, drilling rigs and related equipment to explore for such reserves and knowledgeable personnel to conduct all phases of operations  (0)</font>"
      ],
      "text/plain": [
       "<IPython.core.display.Markdown object>"
      ]
     },
     "metadata": {},
     "output_type": "display_data"
    },
    {
     "data": {
      "text/markdown": [
       "<font color=\"#7f3f3f\">  We must compete for such resources with both major oil and gas companies and independent operators  (0)</font>"
      ],
      "text/plain": [
       "<IPython.core.display.Markdown object>"
      ]
     },
     "metadata": {},
     "output_type": "display_data"
    },
    {
     "data": {
      "text/markdown": [
       "<font color=\"#7f3f3f\">  Many of these competitors have financial and other resources substantially greater than ours  (0)</font>"
      ],
      "text/plain": [
       "<IPython.core.display.Markdown object>"
      ]
     },
     "metadata": {},
     "output_type": "display_data"
    },
    {
     "data": {
      "text/markdown": [
       "<font color=\"#7f6b3f\">  Although we believe our current operating and financial resources are adequate to preclude any significant disruption of our operations, we cannot assure you that such resources will be available to us in the future  (4)</font>"
      ],
      "text/plain": [
       "<IPython.core.display.Markdown object>"
      ]
     },
     "metadata": {},
     "output_type": "display_data"
    },
    {
     "data": {
      "text/markdown": [
       "<font color=\"#7f3f3f\"> Our oil and gas operations are subject to various U  (0)</font>"
      ],
      "text/plain": [
       "<IPython.core.display.Markdown object>"
      ]
     },
     "metadata": {},
     "output_type": "display_data"
    },
    {
     "data": {
      "text/markdown": [
       "<font color=\"#7f3f3f\">S  (0)</font>"
      ],
      "text/plain": [
       "<IPython.core.display.Markdown object>"
      ]
     },
     "metadata": {},
     "output_type": "display_data"
    },
    {
     "data": {
      "text/markdown": [
       "<font color=\"#3f7f6f\"> federal, state and local regulations that materially affect our operations  (16)</font>"
      ],
      "text/plain": [
       "<IPython.core.display.Markdown object>"
      ]
     },
     "metadata": {},
     "output_type": "display_data"
    },
    {
     "data": {
      "text/markdown": [
       "<font color=\"#3f7f6f\"> In the oil and gas industry, matters regulated include permits for drilling and completion operations, drilling and abandonment bonds, reports concerning operations, the spacing of wells and unitization and pooling of properties, the disposal of wastes and taxation  (16)</font>"
      ],
      "text/plain": [
       "<IPython.core.display.Markdown object>"
      ]
     },
     "metadata": {},
     "output_type": "display_data"
    },
    {
     "data": {
      "text/markdown": [
       "<font color=\"#7f3f3f\">  At various times, regulatory agencies have imposed price controls and limitations on production  (0)</font>"
      ],
      "text/plain": [
       "<IPython.core.display.Markdown object>"
      ]
     },
     "metadata": {},
     "output_type": "display_data"
    },
    {
     "data": {
      "text/markdown": [
       "<font color=\"#7f3f3f\">  In order to conserve supplies of oil and gas, these agencies have at times restricted the rates of flow from oil and gas wells below actual production capacity  (0)</font>"
      ],
      "text/plain": [
       "<IPython.core.display.Markdown object>"
      ]
     },
     "metadata": {},
     "output_type": "display_data"
    },
    {
     "data": {
      "text/markdown": [
       "<font color=\"#7f3f3f\">  U  (0)</font>"
      ],
      "text/plain": [
       "<IPython.core.display.Markdown object>"
      ]
     },
     "metadata": {},
     "output_type": "display_data"
    },
    {
     "data": {
      "text/markdown": [
       "<font color=\"#7f3f3f\">S  (0)</font>"
      ],
      "text/plain": [
       "<IPython.core.display.Markdown object>"
      ]
     },
     "metadata": {},
     "output_type": "display_data"
    },
    {
     "data": {
      "text/markdown": [
       "<font color=\"#7f3f3f\"> federal, state and local laws regulate production, handling, storage, transportation and disposal of oil and gas by-products and other substances and materials produced or used in connection with oil and gas operations  (0)</font>"
      ],
      "text/plain": [
       "<IPython.core.display.Markdown object>"
      ]
     },
     "metadata": {},
     "output_type": "display_data"
    },
    {
     "data": {
      "text/markdown": [
       "<font color=\"#7f3f3f\">  To date, our expenditures related to complying with these laws and for remediation of existing environmental contamination have not been significant  (0)</font>"
      ],
      "text/plain": [
       "<IPython.core.display.Markdown object>"
      ]
     },
     "metadata": {},
     "output_type": "display_data"
    },
    {
     "data": {
      "text/markdown": [
       "<font color=\"#7f763f\">  We believe that we are in substantial compliance with all applicable laws and regulations  (5)</font>"
      ],
      "text/plain": [
       "<IPython.core.display.Markdown object>"
      ]
     },
     "metadata": {},
     "output_type": "display_data"
    },
    {
     "data": {
      "text/markdown": [
       "<font color=\"#7f3f3f\">  However, the requirements of such laws and regulations are frequently changed  (0)</font>"
      ],
      "text/plain": [
       "<IPython.core.display.Markdown object>"
      ]
     },
     "metadata": {},
     "output_type": "display_data"
    },
    {
     "data": {
      "text/markdown": [
       "<font color=\"#7f3f3f\">  We cannot predict the ultimate cost of compliance with these requirements or their effect on our operations  (0)</font>"
      ],
      "text/plain": [
       "<IPython.core.display.Markdown object>"
      ]
     },
     "metadata": {},
     "output_type": "display_data"
    },
    {
     "data": {
      "text/markdown": [
       "<font color=\"#3f7f6f\"> Recently enacted federal legislation will affect our tax position concerning tax deductions currently available with respect to oil and gas drilling may adversely affect our net earnings  (16)</font>"
      ],
      "text/plain": [
       "<IPython.core.display.Markdown object>"
      ]
     },
     "metadata": {},
     "output_type": "display_data"
    },
    {
     "data": {
      "text/markdown": [
       "<font color=\"#7f3f3f\"> In December 2017, Congress enacted the budget reconciliation act commonly referred to as the Tax Cuts and Jobs Act, or TCJA  (0)</font>"
      ],
      "text/plain": [
       "<IPython.core.display.Markdown object>"
      ]
     },
     "metadata": {},
     "output_type": "display_data"
    },
    {
     "data": {
      "text/markdown": [
       "<font color=\"#7f3f3f\">  The law made significant changes to U  (0)</font>"
      ],
      "text/plain": [
       "<IPython.core.display.Markdown object>"
      ]
     },
     "metadata": {},
     "output_type": "display_data"
    },
    {
     "data": {
      "text/markdown": [
       "<font color=\"#7f3f3f\">S  (0)</font>"
      ],
      "text/plain": [
       "<IPython.core.display.Markdown object>"
      ]
     },
     "metadata": {},
     "output_type": "display_data"
    },
    {
     "data": {
      "text/markdown": [
       "<font color=\"#7f3f3f\"> federal income tax laws, including reducing the corporate income tax rate from 35 percent to 21 percent, repealing the corporate alternative minimum tax, or AMT, partially limiting the deductibility of interest expense and NOLs, eliminating the deduction for certain U  (0)</font>"
      ],
      "text/plain": [
       "<IPython.core.display.Markdown object>"
      ]
     },
     "metadata": {},
     "output_type": "display_data"
    },
    {
     "data": {
      "text/markdown": [
       "<font color=\"#7f3f3f\">S  (0)</font>"
      ],
      "text/plain": [
       "<IPython.core.display.Markdown object>"
      ]
     },
     "metadata": {},
     "output_type": "display_data"
    },
    {
     "data": {
      "text/markdown": [
       "<font color=\"#7f3f3f\"> production activities and allowing the immediate deduction of certain new investments in lieu of depreciation expense over time  (0)</font>"
      ],
      "text/plain": [
       "<IPython.core.display.Markdown object>"
      ]
     },
     "metadata": {},
     "output_type": "display_data"
    },
    {
     "data": {
      "text/markdown": [
       "<font color=\"#7f3f3f\">  Many aspects of the TCJA are unclear and may not be clarified for some time  (0)</font>"
      ],
      "text/plain": [
       "<IPython.core.display.Markdown object>"
      ]
     },
     "metadata": {},
     "output_type": "display_data"
    },
    {
     "data": {
      "text/markdown": [
       "<font color=\"#7f3f3f\"> Congress has recently considered, is considering, and may continue to consider, legislation that, if adopted in its proposed or similar form, would deprive some companies involved in oil and gas exploration and production activities in certain U  (0)</font>"
      ],
      "text/plain": [
       "<IPython.core.display.Markdown object>"
      ]
     },
     "metadata": {},
     "output_type": "display_data"
    },
    {
     "data": {
      "text/markdown": [
       "<font color=\"#7f3f3f\">S  (0)</font>"
      ],
      "text/plain": [
       "<IPython.core.display.Markdown object>"
      ]
     },
     "metadata": {},
     "output_type": "display_data"
    },
    {
     "data": {
      "text/markdown": [
       "<font color=\"#7f3f3f\"> federal income tax incentives and deductions currently available to such companies  (0)</font>"
      ],
      "text/plain": [
       "<IPython.core.display.Markdown object>"
      ]
     },
     "metadata": {},
     "output_type": "display_data"
    },
    {
     "data": {
      "text/markdown": [
       "<font color=\"#7f3f3f\">  These changes include, but are not limited to (i) the repeal of the percentage depletion allowance for oil and gas properties, (ii) the elimination of current deductions for intangible drilling and development costs, (iii) the elimination of the deduction for certain domestic production activities and (iv) an extension of the amortization period for certain geological and geophysical expenditures  (0)</font>"
      ],
      "text/plain": [
       "<IPython.core.display.Markdown object>"
      ]
     },
     "metadata": {},
     "output_type": "display_data"
    },
    {
     "data": {
      "text/markdown": [
       "<font color=\"#7f3f3f\"> It is unclear whether these or similar changes will be enacted and, if enacted, how soon any such changes could become effective and whether such changes may apply retroactively  (0)</font>"
      ],
      "text/plain": [
       "<IPython.core.display.Markdown object>"
      ]
     },
     "metadata": {},
     "output_type": "display_data"
    },
    {
     "data": {
      "text/markdown": [
       "<font color=\"#7f3f3f\">  Although we are unable to predict whether any of these or other proposals will ultimately be enacted, the passage of any legislation as a result of these proposals or any other similar changes to U  (0)</font>"
      ],
      "text/plain": [
       "<IPython.core.display.Markdown object>"
      ]
     },
     "metadata": {},
     "output_type": "display_data"
    },
    {
     "data": {
      "text/markdown": [
       "<font color=\"#7f3f3f\">S  (0)</font>"
      ],
      "text/plain": [
       "<IPython.core.display.Markdown object>"
      ]
     },
     "metadata": {},
     "output_type": "display_data"
    },
    {
     "data": {
      "text/markdown": [
       "<font color=\"#3f7a7f\"> federal income tax laws could eliminate or postpone certain tax deductions that are currently available to us, and any such change could negatively affect our financial condition and results of operations  (18)</font>"
      ],
      "text/plain": [
       "<IPython.core.display.Markdown object>"
      ]
     },
     "metadata": {},
     "output_type": "display_data"
    },
    {
     "data": {
      "text/markdown": [
       "<font color=\"#7d7f3f\"> Possible regulation related to global warming and climate change could have an adverse effect on our operations and demand for oil and gas  (6)</font>"
      ],
      "text/plain": [
       "<IPython.core.display.Markdown object>"
      ]
     },
     "metadata": {},
     "output_type": "display_data"
    },
    {
     "data": {
      "text/markdown": [
       "<font color=\"#7f3f3f\"> Studies over recent years have indicated that emissions of certain gases may be contributing to warming of the Earth's atmosphere  (0)</font>"
      ],
      "text/plain": [
       "<IPython.core.display.Markdown object>"
      ]
     },
     "metadata": {},
     "output_type": "display_data"
    },
    {
     "data": {
      "text/markdown": [
       "<font color=\"#7f3f3f\"> In response to these studies, governments have begun adopting domestic and international climate change regulations that requires reporting and reductions of the emission of greenhouse gases  (0)</font>"
      ],
      "text/plain": [
       "<IPython.core.display.Markdown object>"
      ]
     },
     "metadata": {},
     "output_type": "display_data"
    },
    {
     "data": {
      "text/markdown": [
       "<font color=\"#3f437f\"> Methane, a primary component of gas, and carbon dioxide, a by-product of the burning of oil, gas and refined petroleum products, are considered greenhouse gases  (23)</font>"
      ],
      "text/plain": [
       "<IPython.core.display.Markdown object>"
      ]
     },
     "metadata": {},
     "output_type": "display_data"
    },
    {
     "data": {
      "text/markdown": [
       "<font color=\"#7f3f3f\"> Internationally, the United Nations Framework Convention on Climate Change and the Kyoto Protocol address greenhouse gas emissions, and several countries including the European Union have established greenhouse gas regulatory systems  (0)</font>"
      ],
      "text/plain": [
       "<IPython.core.display.Markdown object>"
      ]
     },
     "metadata": {},
     "output_type": "display_data"
    },
    {
     "data": {
      "text/markdown": [
       "<font color=\"#7f3f3f\"> In December 2015, the U  (0)</font>"
      ],
      "text/plain": [
       "<IPython.core.display.Markdown object>"
      ]
     },
     "metadata": {},
     "output_type": "display_data"
    },
    {
     "data": {
      "text/markdown": [
       "<font color=\"#7f3f3f\">S  (0)</font>"
      ],
      "text/plain": [
       "<IPython.core.display.Markdown object>"
      ]
     },
     "metadata": {},
     "output_type": "display_data"
    },
    {
     "data": {
      "text/markdown": [
       "<font color=\"#477f3f\"> participated in the 21st Conference of the Parties of the United Nations Framework Convention on Climate Change in Paris, France  (11)</font>"
      ],
      "text/plain": [
       "<IPython.core.display.Markdown object>"
      ]
     },
     "metadata": {},
     "output_type": "display_data"
    },
    {
     "data": {
      "text/markdown": [
       "<font color=\"#7f3f3f\"> 30  (0)</font>"
      ],
      "text/plain": [
       "<IPython.core.display.Markdown object>"
      ]
     },
     "metadata": {},
     "output_type": "display_data"
    },
    {
     "data": {
      "text/markdown": [
       "<font color=\"#7f3f3f\"> Table of Contents  (0)</font>"
      ],
      "text/plain": [
       "<IPython.core.display.Markdown object>"
      ]
     },
     "metadata": {},
     "output_type": "display_data"
    },
    {
     "data": {
      "text/markdown": [
       "<font color=\"#7f3f3f\"> The Paris Agreement (adopted at the conference) calls for nations to undertake efforts with respect to global temperatures and GHG emissions  (0)</font>"
      ],
      "text/plain": [
       "<IPython.core.display.Markdown object>"
      ]
     },
     "metadata": {},
     "output_type": "display_data"
    },
    {
     "data": {
      "text/markdown": [
       "<font color=\"#7f3f3f\"> If ratified, the Paris Agreement will take effect in 2020  (0)</font>"
      ],
      "text/plain": [
       "<IPython.core.display.Markdown object>"
      ]
     },
     "metadata": {},
     "output_type": "display_data"
    },
    {
     "data": {
      "text/markdown": [
       "<font color=\"#7f3f3f\"> It is possible that the Paris Agreement and subsequent domestic and international regulations will have adverse effects on the market for oil, gas and other fossil fuel products as well as adverse effects on the business and operations of companies engaged in the exploration for, and production of, oil, gas and other fossil fuel products  (0)</font>"
      ],
      "text/plain": [
       "<IPython.core.display.Markdown object>"
      ]
     },
     "metadata": {},
     "output_type": "display_data"
    },
    {
     "data": {
      "text/markdown": [
       "<font color=\"#7f3f3f\"> In the United States, at the state level, several states, either individually or through multi-state regional initiatives, have begun implementing legal measures to reduce emissions of greenhouse gases, primarily through the planned development of emission inventories or regional greenhouse gas cap and trade programs or have begun considering adopting greenhouse gas regulatory programs  (0)</font>"
      ],
      "text/plain": [
       "<IPython.core.display.Markdown object>"
      ]
     },
     "metadata": {},
     "output_type": "display_data"
    },
    {
     "data": {
      "text/markdown": [
       "<font color=\"#7f3f3f\"> At the federal legislative level, various climate change legislative measures have been considered by the U  (0)</font>"
      ],
      "text/plain": [
       "<IPython.core.display.Markdown object>"
      ]
     },
     "metadata": {},
     "output_type": "display_data"
    },
    {
     "data": {
      "text/markdown": [
       "<font color=\"#7f3f3f\">S  (0)</font>"
      ],
      "text/plain": [
       "<IPython.core.display.Markdown object>"
      ]
     },
     "metadata": {},
     "output_type": "display_data"
    },
    {
     "data": {
      "text/markdown": [
       "<font color=\"#7f3f3f\"> Congress, but it is not possible at this time to predict when, or if, Congress will act on climate change legislation, although any major initiatives in this area are unlikely to become law in the near future due to opposition in Congress  (0)</font>"
      ],
      "text/plain": [
       "<IPython.core.display.Markdown object>"
      ]
     },
     "metadata": {},
     "output_type": "display_data"
    },
    {
     "data": {
      "text/markdown": [
       "<font color=\"#3f7a7f\"> We are unable to predict the timing, scope and effect of any currently proposed or future investigations, laws, regulations or treaties regarding climate change and GHG emissions, but the direct and indirect costs of such investigations, laws, regulations and treaties (if enacted) could materially and adversely affect our operations, financial condition and results of operations  (18)</font>"
      ],
      "text/plain": [
       "<IPython.core.display.Markdown object>"
      ]
     },
     "metadata": {},
     "output_type": "display_data"
    },
    {
     "data": {
      "text/markdown": [
       "<font color=\"#7f3f3f\"> As a result of the U  (0)</font>"
      ],
      "text/plain": [
       "<IPython.core.display.Markdown object>"
      ]
     },
     "metadata": {},
     "output_type": "display_data"
    },
    {
     "data": {
      "text/markdown": [
       "<font color=\"#7f3f3f\">S  (0)</font>"
      ],
      "text/plain": [
       "<IPython.core.display.Markdown object>"
      ]
     },
     "metadata": {},
     "output_type": "display_data"
    },
    {
     "data": {
      "text/markdown": [
       "<font color=\"#7f3f3f\"> Supreme Court decision in Massachusetts, et al  (0)</font>"
      ],
      "text/plain": [
       "<IPython.core.display.Markdown object>"
      ]
     },
     "metadata": {},
     "output_type": "display_data"
    },
    {
     "data": {
      "text/markdown": [
       "<font color=\"#7f3f3f\"> v  (0)</font>"
      ],
      "text/plain": [
       "<IPython.core.display.Markdown object>"
      ]
     },
     "metadata": {},
     "output_type": "display_data"
    },
    {
     "data": {
      "text/markdown": [
       "<font color=\"#7f3f3f\"> EPA, on December 7, 2009, the EPA issued a finding that serves as the foundation under the Clean Air Act to issue other rules that would result in federal greenhouse gas regulations and emissions limits under the Clean Air Act, even without Congressional action  (0)</font>"
      ],
      "text/plain": [
       "<IPython.core.display.Markdown object>"
      ]
     },
     "metadata": {},
     "output_type": "display_data"
    },
    {
     "data": {
      "text/markdown": [
       "<font color=\"#7f3f3f\"> As part of this array of new regulations, the EPA has issued a GHG monitoring and reporting rule that requires certain parties, including participants in the oil and gas industry, to monitor and report their GHG emissions, including methane and carbon dioxide, to the EPA  (0)</font>"
      ],
      "text/plain": [
       "<IPython.core.display.Markdown object>"
      ]
     },
     "metadata": {},
     "output_type": "display_data"
    },
    {
     "data": {
      "text/markdown": [
       "<font color=\"#7f3f3f\">  These regulations may apply to our operations  (0)</font>"
      ],
      "text/plain": [
       "<IPython.core.display.Markdown object>"
      ]
     },
     "metadata": {},
     "output_type": "display_data"
    },
    {
     "data": {
      "text/markdown": [
       "<font color=\"#7f3f3f\"> The EPA has adopted other rules that would regulate GHGs, one of which would regulate GHGs from stationary sources, and may affect sources in the oil and gas exploration and production industry and the pipeline industry  (0)</font>"
      ],
      "text/plain": [
       "<IPython.core.display.Markdown object>"
      ]
     },
     "metadata": {},
     "output_type": "display_data"
    },
    {
     "data": {
      "text/markdown": [
       "<font color=\"#7f3f3f\"> In May 2016, the EPA adopted rules to force the aggregation of wells and facilities for air emission permitting purposes, and also rules to reduce methane emissions from equipment and leaks from new oil and gas facilities  (0)</font>"
      ],
      "text/plain": [
       "<IPython.core.display.Markdown object>"
      ]
     },
     "metadata": {},
     "output_type": "display_data"
    },
    {
     "data": {
      "text/markdown": [
       "<font color=\"#3f7f6f\">  The EPA's finding, the greenhouse gas reporting rule, and the rules to regulate the emissions of greenhouse gases may affect the cost of our operations and also affect the outcome of other climate change lawsuits pending in United States federal courts in a manner unfavorable to our industry  (16)</font>"
      ],
      "text/plain": [
       "<IPython.core.display.Markdown object>"
      ]
     },
     "metadata": {},
     "output_type": "display_data"
    },
    {
     "data": {
      "text/markdown": [
       "<font color=\"#3f7a7f\"> Any laws or regulations that may be adopted to restrict or reduce emissions of greenhouse gases could require us to incur increased operating and compliance costs, and could have an adverse effect on demand for the oil and gas that we produce and as a result, our financial condition and results of operations could be adversely affected  (18)</font>"
      ],
      "text/plain": [
       "<IPython.core.display.Markdown object>"
      ]
     },
     "metadata": {},
     "output_type": "display_data"
    },
    {
     "data": {
      "text/markdown": [
       "<font color=\"#7f3f3f\"> EPA's new ground-level ozone standards may result in more stringent regulation of air emissions from, and adverse economic impacts on, our operations  (0)</font>"
      ],
      "text/plain": [
       "<IPython.core.display.Markdown object>"
      ]
     },
     "metadata": {},
     "output_type": "display_data"
    },
    {
     "data": {
      "text/markdown": [
       "<font color=\"#7f3f3f\"> Effective December 2015, the EPA adopted a final rule under the Clean Air Act, lowering the National Ambient Air Quality Standard (NAAQS) for ground-level ozone from 75 parts per billion to 70 parts per billion under both the primary and secondary standards designed to provide protection of public health and welfare, respectively  (0)</font>"
      ],
      "text/plain": [
       "<IPython.core.display.Markdown object>"
      ]
     },
     "metadata": {},
     "output_type": "display_data"
    },
    {
     "data": {
      "text/markdown": [
       "<font color=\"#7f3f3f\"> Certain areas of the country in compliance with the ground-level ozone NAAQS standard may be reclassified as non-attainment and such reclassification may make it more difficult to construct new or modified sources of air pollution, including those associated with our operations, in newly designated non-attainment areas  (0)</font>"
      ],
      "text/plain": [
       "<IPython.core.display.Markdown object>"
      ]
     },
     "metadata": {},
     "output_type": "display_data"
    },
    {
     "data": {
      "text/markdown": [
       "<font color=\"#7f3f3f\"> Moreover, states are expected to implement more stringent regulations necessary to come into compliance with the new NAAQS, which could apply to our operations  (0)</font>"
      ],
      "text/plain": [
       "<IPython.core.display.Markdown object>"
      ]
     },
     "metadata": {},
     "output_type": "display_data"
    },
    {
     "data": {
      "text/markdown": [
       "<font color=\"#7f3f3f\"> Compliance with these final rules could, among other things, require installation of new emission controls on some of our equipment, result in longer permitting timelines, and significantly increase our capital expenditures and operating costs  (0)</font>"
      ],
      "text/plain": [
       "<IPython.core.display.Markdown object>"
      ]
     },
     "metadata": {},
     "output_type": "display_data"
    },
    {
     "data": {
      "text/markdown": [
       "<font color=\"#7f3f3f\"> Proposed legislation and regulation under consideration regarding rail transportation could increase our operating costs, reduce our liquidity, delay our operations or otherwise alter the way we conduct our business  (0)</font>"
      ],
      "text/plain": [
       "<IPython.core.display.Markdown object>"
      ]
     },
     "metadata": {},
     "output_type": "display_data"
    },
    {
     "data": {
      "text/markdown": [
       "<font color=\"#7f3f3f\"> We presently sell all of our oil production at the lease, either by truck or pipeline, where custody transfers to the purchaser, accordingly it is unknown to us how much of the oil production is ultimately shipped by rail  (0)</font>"
      ],
      "text/plain": [
       "<IPython.core.display.Markdown object>"
      ]
     },
     "metadata": {},
     "output_type": "display_data"
    },
    {
     "data": {
      "text/markdown": [
       "<font color=\"#7f3f3f\"> In response to recent train derailments occurring in the United States, U  (0)</font>"
      ],
      "text/plain": [
       "<IPython.core.display.Markdown object>"
      ]
     },
     "metadata": {},
     "output_type": "display_data"
    },
    {
     "data": {
      "text/markdown": [
       "<font color=\"#7f3f3f\">S  (0)</font>"
      ],
      "text/plain": [
       "<IPython.core.display.Markdown object>"
      ]
     },
     "metadata": {},
     "output_type": "display_data"
    },
    {
     "data": {
      "text/markdown": [
       "<font color=\"#7f3f3f\"> regulators are implementing or considering new rules to address the safety risks of transporting oil by rail  (0)</font>"
      ],
      "text/plain": [
       "<IPython.core.display.Markdown object>"
      ]
     },
     "metadata": {},
     "output_type": "display_data"
    },
    {
     "data": {
      "text/markdown": [
       "<font color=\"#7f3f3f\"> On January 23, 2014, the NTSB issued a series of recommendations to address safety risks, including (i) requiring expanded hazardous material route planning for railroads to avoid populated and other sensitive areas, (ii) developing an audit program to ensure rail carriers that carry petroleum products have adequate response capabilities to address worst-case discharges of the entire quantity of product carried on a train, and (iii) auditing shippers and rail carriers to ensure they are properly classifying hazardous materials in transportation and that they have adequate safety and security plans in place  (0)</font>"
      ],
      "text/plain": [
       "<IPython.core.display.Markdown object>"
      ]
     },
     "metadata": {},
     "output_type": "display_data"
    },
    {
     "data": {
      "text/markdown": [
       "<font color=\"#7f3f3f\"> Additionally, on February 25, 2014 the DOT issued an emergency order requiring all persons, prior to offering oil into transportation, to ensure such product is properly tested and classed and to assure all shipments by rail of oil be handled as a Packing Group I or II hazardous material  (0)</font>"
      ],
      "text/plain": [
       "<IPython.core.display.Markdown object>"
      ]
     },
     "metadata": {},
     "output_type": "display_data"
    },
    {
     "data": {
      "text/markdown": [
       "<font color=\"#7f3f3f\"> The introduction of these or other regulations that result in new requirements addressing the type, design, specifications or construction of rail cars used to transport oil could result in severe transportation capacity constraints during the period in which new rail cars are retrofitted or constructed to meet new specifications  (0)</font>"
      ],
      "text/plain": [
       "<IPython.core.display.Markdown object>"
      ]
     },
     "metadata": {},
     "output_type": "display_data"
    },
    {
     "data": {
      "text/markdown": [
       "<font color=\"#7f3f3f\"> 31  (0)</font>"
      ],
      "text/plain": [
       "<IPython.core.display.Markdown object>"
      ]
     },
     "metadata": {},
     "output_type": "display_data"
    },
    {
     "data": {
      "text/markdown": [
       "<font color=\"#7f3f3f\"> Table of Contents  (0)</font>"
      ],
      "text/plain": [
       "<IPython.core.display.Markdown object>"
      ]
     },
     "metadata": {},
     "output_type": "display_data"
    },
    {
     "data": {
      "text/markdown": [
       "<font color=\"#3f7a7f\"> We do not currently own or operate rail transportation facilities or rail cars; however, the adoption of any regulations that impact the testing or rail transportation of oil could increase our costs of doing business and limit our ability to transport and sell our oil at favorable prices at market centers throughout the United States, the consequences of which could have a material adverse effect on our financial condition, results of operations and cash flows from operations  (18)</font>"
      ],
      "text/plain": [
       "<IPython.core.display.Markdown object>"
      ]
     },
     "metadata": {},
     "output_type": "display_data"
    },
    {
     "data": {
      "text/markdown": [
       "<font color=\"#3f7f64\"> Risks Related to Our Common Stock  (15)</font>"
      ],
      "text/plain": [
       "<IPython.core.display.Markdown object>"
      ]
     },
     "metadata": {},
     "output_type": "display_data"
    },
    {
     "data": {
      "text/markdown": [
       "<font color=\"#473f7f\"> Future issuance of additional shares of common stock could cause dilution of ownership interests and adversely affect our stock price  (24)</font>"
      ],
      "text/plain": [
       "<IPython.core.display.Markdown object>"
      ]
     },
     "metadata": {},
     "output_type": "display_data"
    },
    {
     "data": {
      "text/markdown": [
       "<font color=\"#473f7f\"> We are currently authorized to issue 400,000,000 shares of common stock with such rights as determined by our board of directors  (24)</font>"
      ],
      "text/plain": [
       "<IPython.core.display.Markdown object>"
      ]
     },
     "metadata": {},
     "output_type": "display_data"
    },
    {
     "data": {
      "text/markdown": [
       "<font color=\"#473f7f\">  In the future, we may increase our authorized shares of common stock or issue previously authorized and unissued securities, resulting in the dilution of the ownership interests of current stockholders  (24)</font>"
      ],
      "text/plain": [
       "<IPython.core.display.Markdown object>"
      ]
     },
     "metadata": {},
     "output_type": "display_data"
    },
    {
     "data": {
      "text/markdown": [
       "<font color=\"#3f647f\">  The potential issuance of any such additional shares of common stock may create downward pressure on the trading price of our common stock  (20)</font>"
      ],
      "text/plain": [
       "<IPython.core.display.Markdown object>"
      ]
     },
     "metadata": {},
     "output_type": "display_data"
    },
    {
     "data": {
      "text/markdown": [
       "<font color=\"#473f7f\">  We may also issue additional shares of common stock or other securities that are convertible into or exercisable for common stock for capital raising or other business purposes  (24)</font>"
      ],
      "text/plain": [
       "<IPython.core.display.Markdown object>"
      ]
     },
     "metadata": {},
     "output_type": "display_data"
    },
    {
     "data": {
      "text/markdown": [
       "<font color=\"#3f647f\">  Future sales of substantial amounts of common stock, or the perception that sales could occur, could have a material adverse effect on the price of our common stock  (20)</font>"
      ],
      "text/plain": [
       "<IPython.core.display.Markdown object>"
      ]
     },
     "metadata": {},
     "output_type": "display_data"
    },
    {
     "data": {
      "text/markdown": [
       "<font color=\"#3f7f64\"> We will not pay dividends on our common stock for the foreseeable future  (15)</font>"
      ],
      "text/plain": [
       "<IPython.core.display.Markdown object>"
      ]
     },
     "metadata": {},
     "output_type": "display_data"
    },
    {
     "data": {
      "text/markdown": [
       "<font color=\"#7f3f3f\"> We currently anticipate that we will retain all future earnings, if any, to finance the growth and development of our business  (0)</font>"
      ],
      "text/plain": [
       "<IPython.core.display.Markdown object>"
      ]
     },
     "metadata": {},
     "output_type": "display_data"
    },
    {
     "data": {
      "text/markdown": [
       "<font color=\"#7f3f3f\"> We do not intend to pay cash dividends in the foreseeable future  (0)</font>"
      ],
      "text/plain": [
       "<IPython.core.display.Markdown object>"
      ]
     },
     "metadata": {},
     "output_type": "display_data"
    },
    {
     "data": {
      "text/markdown": [
       "<font color=\"#7f3f3f\">  In addition, our credit facility prohibits us from paying dividends and making other cash distributions  (0)</font>"
      ],
      "text/plain": [
       "<IPython.core.display.Markdown object>"
      ]
     },
     "metadata": {},
     "output_type": "display_data"
    },
    {
     "data": {
      "text/markdown": [
       "<font color=\"#473f7f\"> Shares eligible for future sale may depress our stock price  (24)</font>"
      ],
      "text/plain": [
       "<IPython.core.display.Markdown object>"
      ]
     },
     "metadata": {},
     "output_type": "display_data"
    },
    {
     "data": {
      "text/markdown": [
       "<font color=\"#473f7f\"> At December 31, 2017, we had 165,889,901 shares of common stock outstanding of which 3,896,801 shares were held by affiliates and, in addition, 8,317,416 shares of common stock were subject to outstanding options granted under stock option plans (of which 5,983,678 shares were vested at December 31, 2017)  (24)</font>"
      ],
      "text/plain": [
       "<IPython.core.display.Markdown object>"
      ]
     },
     "metadata": {},
     "output_type": "display_data"
    },
    {
     "data": {
      "text/markdown": [
       "<font color=\"#473f7f\"> All of the shares of common stock held by affiliates are restricted or are control securities under Rule 144 promulgated under the Securities Act  (24)</font>"
      ],
      "text/plain": [
       "<IPython.core.display.Markdown object>"
      ]
     },
     "metadata": {},
     "output_type": "display_data"
    },
    {
     "data": {
      "text/markdown": [
       "<font color=\"#473f7f\">  The shares of common stock issuable upon exercise of stock options have been registered under the Securities Act  (24)</font>"
      ],
      "text/plain": [
       "<IPython.core.display.Markdown object>"
      ]
     },
     "metadata": {},
     "output_type": "display_data"
    },
    {
     "data": {
      "text/markdown": [
       "<font color=\"#3f647f\">  Sales of shares of common stock under Rule 144 or another exemption under the Securities Act or pursuant to a registration statement could have a material adverse effect on the price of our common stock and could impair our ability to raise additional capital through the sale of equity securities  (20)</font>"
      ],
      "text/plain": [
       "<IPython.core.display.Markdown object>"
      ]
     },
     "metadata": {},
     "output_type": "display_data"
    },
    {
     "data": {
      "text/markdown": [
       "<font color=\"#3f647f\"> The price of our common stock has been volatile and could continue to fluctuate substantially  (20)</font>"
      ],
      "text/plain": [
       "<IPython.core.display.Markdown object>"
      ]
     },
     "metadata": {},
     "output_type": "display_data"
    },
    {
     "data": {
      "text/markdown": [
       "<font color=\"#3f7f64\"> Our common stock is traded on The NASDAQ Stock Market  (15)</font>"
      ],
      "text/plain": [
       "<IPython.core.display.Markdown object>"
      ]
     },
     "metadata": {},
     "output_type": "display_data"
    },
    {
     "data": {
      "text/markdown": [
       "<font color=\"#3f647f\">  The market price of our common stock has been volatile and could fluctuate substantially based on a variety of factors, including the following:  (20)</font>"
      ],
      "text/plain": [
       "<IPython.core.display.Markdown object>"
      ]
     },
     "metadata": {},
     "output_type": "display_data"
    },
    {
     "data": {
      "text/markdown": [
       "<font color=\"#7f3f3f\"> • fluctuations in commodity prices;  (0)</font>"
      ],
      "text/plain": [
       "<IPython.core.display.Markdown object>"
      ]
     },
     "metadata": {},
     "output_type": "display_data"
    },
    {
     "data": {
      "text/markdown": [
       "<font color=\"#3f7f6f\"> • variations in results of operations;  (16)</font>"
      ],
      "text/plain": [
       "<IPython.core.display.Markdown object>"
      ]
     },
     "metadata": {},
     "output_type": "display_data"
    },
    {
     "data": {
      "text/markdown": [
       "<font color=\"#7f3f3f\"> • legislative or regulatory changes;  (0)</font>"
      ],
      "text/plain": [
       "<IPython.core.display.Markdown object>"
      ]
     },
     "metadata": {},
     "output_type": "display_data"
    },
    {
     "data": {
      "text/markdown": [
       "<font color=\"#7f3f3f\"> • general trends in the oil and gas industry;  (0)</font>"
      ],
      "text/plain": [
       "<IPython.core.display.Markdown object>"
      ]
     },
     "metadata": {},
     "output_type": "display_data"
    },
    {
     "data": {
      "text/markdown": [
       "<font color=\"#3f7f64\"> • sales of common stock or other actions by our stockholders;  (15)</font>"
      ],
      "text/plain": [
       "<IPython.core.display.Markdown object>"
      ]
     },
     "metadata": {},
     "output_type": "display_data"
    },
    {
     "data": {
      "text/markdown": [
       "<font color=\"#7f3f3f\"> • additions or departures of key management personnel;  (0)</font>"
      ],
      "text/plain": [
       "<IPython.core.display.Markdown object>"
      ]
     },
     "metadata": {},
     "output_type": "display_data"
    },
    {
     "data": {
      "text/markdown": [
       "<font color=\"#7f3f3f\"> • commencement of or involvement in litigation;  (0)</font>"
      ],
      "text/plain": [
       "<IPython.core.display.Markdown object>"
      ]
     },
     "metadata": {},
     "output_type": "display_data"
    },
    {
     "data": {
      "text/markdown": [
       "<font color=\"#7f3f3f\"> • speculation in the press or investment community regarding our business;  (0)</font>"
      ],
      "text/plain": [
       "<IPython.core.display.Markdown object>"
      ]
     },
     "metadata": {},
     "output_type": "display_data"
    },
    {
     "data": {
      "text/markdown": [
       "<font color=\"#3f7f64\"> • an inability to maintain the listing of our common stock on a national securities exchange;  (15)</font>"
      ],
      "text/plain": [
       "<IPython.core.display.Markdown object>"
      ]
     },
     "metadata": {},
     "output_type": "display_data"
    },
    {
     "data": {
      "text/markdown": [
       "<font color=\"#7f3f3f\"> • market conditions; and  (0)</font>"
      ],
      "text/plain": [
       "<IPython.core.display.Markdown object>"
      ]
     },
     "metadata": {},
     "output_type": "display_data"
    },
    {
     "data": {
      "text/markdown": [
       "<font color=\"#7f3f3f\"> • analysts' estimates and other events in the oil and gas industry  (0)</font>"
      ],
      "text/plain": [
       "<IPython.core.display.Markdown object>"
      ]
     },
     "metadata": {},
     "output_type": "display_data"
    },
    {
     "data": {
      "text/markdown": [
       "<font color=\"#473f7f\"> We may issue shares of preferred stock with greater rights than our common stock  (24)</font>"
      ],
      "text/plain": [
       "<IPython.core.display.Markdown object>"
      ]
     },
     "metadata": {},
     "output_type": "display_data"
    },
    {
     "data": {
      "text/markdown": [
       "<font color=\"#3f7f64\"> Subject to the rules of The NASDAQ Stock Market, our articles of incorporation authorize our board of directors to issue one or more series of preferred stock and set the terms of the preferred stock without seeking any further approval from holders of our  (15)</font>"
      ],
      "text/plain": [
       "<IPython.core.display.Markdown object>"
      ]
     },
     "metadata": {},
     "output_type": "display_data"
    },
    {
     "data": {
      "text/markdown": [
       "<font color=\"#7f3f3f\"> 32  (0)</font>"
      ],
      "text/plain": [
       "<IPython.core.display.Markdown object>"
      ]
     },
     "metadata": {},
     "output_type": "display_data"
    },
    {
     "data": {
      "text/markdown": [
       "<font color=\"#7f3f3f\"> Table of Contents  (0)</font>"
      ],
      "text/plain": [
       "<IPython.core.display.Markdown object>"
      ]
     },
     "metadata": {},
     "output_type": "display_data"
    },
    {
     "data": {
      "text/markdown": [
       "<font color=\"#3f7f64\"> common stock  (15)</font>"
      ],
      "text/plain": [
       "<IPython.core.display.Markdown object>"
      ]
     },
     "metadata": {},
     "output_type": "display_data"
    },
    {
     "data": {
      "text/markdown": [
       "<font color=\"#3f7f64\">  Any preferred stock that is issued may rank ahead of our common stock in terms of dividends, priority and liquidation premiums and may have greater voting rights than our common stock  (15)</font>"
      ],
      "text/plain": [
       "<IPython.core.display.Markdown object>"
      ]
     },
     "metadata": {},
     "output_type": "display_data"
    },
    {
     "data": {
      "text/markdown": [
       "<font color=\"#3f7f7a\"> Anti-takeover provisions could make a third party acquisition of us difficult  (17)</font>"
      ],
      "text/plain": [
       "<IPython.core.display.Markdown object>"
      ]
     },
     "metadata": {},
     "output_type": "display_data"
    },
    {
     "data": {
      "text/markdown": [
       "<font color=\"#7f3f3f\"> Our articles of incorporation and bylaws provide for a classified board of directors, with each member serving a three-year term, and eliminate the ability of stockholders to call special meetings or take action by written consent  (0)</font>"
      ],
      "text/plain": [
       "<IPython.core.display.Markdown object>"
      ]
     },
     "metadata": {},
     "output_type": "display_data"
    },
    {
     "data": {
      "text/markdown": [
       "<font color=\"#3f7f7a\">  Each of the provisions in our articles of incorporation and bylaws could make it more difficult for a third party to acquire us without the approval of our board  (17)</font>"
      ],
      "text/plain": [
       "<IPython.core.display.Markdown object>"
      ]
     },
     "metadata": {},
     "output_type": "display_data"
    },
    {
     "data": {
      "text/markdown": [
       "<font color=\"#3f7f7a\">  In addition, the Nevada corporate statute also contains certain provisions that could make an acquisition by a third party more difficult  (17)</font>"
      ],
      "text/plain": [
       "<IPython.core.display.Markdown object>"
      ]
     },
     "metadata": {},
     "output_type": "display_data"
    },
    {
     "data": {
      "text/markdown": [
       "<font color=\"#7f3f3f\">\"\n",
       "  (0)</font>"
      ],
      "text/plain": [
       "<IPython.core.display.Markdown object>"
      ]
     },
     "metadata": {},
     "output_type": "display_data"
    }
   ],
   "source": [
    "\n",
    "company = muliple_company_frame['company'].unique()[0]\n",
    "companyFrame = muliple_company_frame[muliple_company_frame['company']==company]\n",
    "for text, label  in zip(companyFrame['text'], companyFrame['label']):\n",
    "    color = colormap[label]\n",
    "    display(Markdown(f'<font color=\"{color}\">' + text + f'  ({label})' + '</font>'))"
   ]
  },
  {
   "cell_type": "code",
   "execution_count": null,
   "metadata": {},
   "outputs": [],
   "source": [
    "\n"
   ]
  },
  {
   "cell_type": "code",
   "execution_count": 181,
   "metadata": {},
   "outputs": [],
   "source": [
    "\n",
    "\n",
    "# global bad_labels\n",
    "# bad_labels = []\n",
    "# def mean_supercluster(dataframe):\n",
    "#     for index, value in zip(dataframe.mean(axis=0).index, dataframe.mean(axis=0)):\n",
    "#         if value > .75:\n",
    "#             if index not in bad_labels:\n",
    "#                 bad_labels.append(index)\n",
    "#             return index, value\n",
    "\n",
    "# supercluster_label, value = mean_supercluster(prep_for_heatmap(muliple_company_frame))\n",
    "# print(supercluster_label, value)\n",
    "# print(bad_labels)\n",
    "# while type(supercluster_label) == int and len(bad_labels) < truek:\n",
    "   \n",
    "#     to_recluster = muliple_company_frame['label']==supercluster_label\n",
    "#     recluster_frame = muliple_company_frame[to_recluster]\n",
    "#     index_values = recluster_frame['text'].index.values\n",
    "#     texts = recluster_frame['text'].values\n",
    "#     for index_value, text in zip(index_values, texts):\n",
    "#         X = vectorizer.transform([text])\n",
    "#         distances = euclidean_distances(X, model.cluster_centers_)\n",
    "#         for label in bad_labels:\n",
    "#             distances[0][label] = 99\n",
    "#         min_value = min(distances[0])\n",
    "#         new_mins = [i for i, x in enumerate(distances[0]) if x == min_value]\n",
    "\n",
    "#         new_min = new_mins[0]\n",
    "#         muliple_company_frame.at[index_value, 'label'] = new_min\n",
    "\n",
    "#     supercluster_label, value = mean_supercluster(prep_for_heatmap(muliple_company_frame))\n",
    "#     print(supercluster_label, value)\n",
    "#     print(bad_labels)\n",
    "#     if value < 90:\n",
    "#         plot_heatmap(prep_for_heatmap(muliple_company_frame))"
   ]
  },
  {
   "cell_type": "code",
   "execution_count": null,
   "metadata": {},
   "outputs": [],
   "source": []
  },
  {
   "cell_type": "code",
   "execution_count": null,
   "metadata": {},
   "outputs": [],
   "source": []
  }
 ],
 "metadata": {
  "kernelspec": {
   "display_name": "Python (Tensor)",
   "language": "python",
   "name": "tensor"
  },
  "language_info": {
   "codemirror_mode": {
    "name": "ipython",
    "version": 3
   },
   "file_extension": ".py",
   "mimetype": "text/x-python",
   "name": "python",
   "nbconvert_exporter": "python",
   "pygments_lexer": "ipython3",
   "version": "3.6.6"
  }
 },
 "nbformat": 4,
 "nbformat_minor": 2
}
