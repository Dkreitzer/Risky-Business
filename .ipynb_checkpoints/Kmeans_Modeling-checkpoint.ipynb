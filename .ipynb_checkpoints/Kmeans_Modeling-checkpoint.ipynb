{
 "cells": [
  {
   "cell_type": "code",
   "execution_count": 2,
   "metadata": {},
   "outputs": [],
   "source": [
    "\n",
    "# ref https://towardsdatascience.com/applying-machine-learning-to-classify-an-unsupervised-text-document-e7bb6265f52"
   ]
  },
  {
   "cell_type": "code",
   "execution_count": 3,
   "metadata": {},
   "outputs": [],
   "source": [
    "from __future__ import print_function\n",
    "from sklearn.feature_extraction.text import TfidfVectorizer, CountVectorizer\n",
    "from sklearn.cluster import KMeans\n",
    "import numpy as np\n",
    "import pandas as pd\n",
    "import matplotlib\n",
    "## This is for backend, gui support, but it doesnt do anything ##\n",
    "matplotlib.use('TkAgg') \n",
    "from matplotlib import figure\n",
    "import matplotlib.pyplot as plt\n",
    "import matplotlib.cm as cm\n",
    "import math\n",
    "import nltk\n",
    "from nltk import pos_tag\n",
    "from nltk.stem import PorterStemmer\n",
    "from nltk import word_tokenize\n",
    "from nltk.corpus import stopwords\n",
    "from datetime import datetime\n",
    "import re\n",
    "from tqdm.auto import tqdm, trange\n",
    "import time\n",
    "\n",
    "# See least_common_values function below\n",
    "from operator import itemgetter\n",
    "import heapq \n",
    "\n",
    "import collections\n",
    "import sys\n",
    "from pathlib import Path\n",
    "from sklearn.metrics import silhouette_samples, silhouette_score\n",
    "from scipy.sparse import coo_matrix, csr_matrix, lil_matrix\n",
    "\n",
    "\n",
    "\n",
    "import seaborn as sns\n"
   ]
  },
  {
   "cell_type": "code",
   "execution_count": 4,
   "metadata": {},
   "outputs": [
    {
     "data": {
      "application/vnd.jupyter.widget-view+json": {
       "model_id": "dcea4c7c1f724a229e83d32db3432813",
       "version_major": 2,
       "version_minor": 0
      },
      "text/plain": [
       "HBox(children=(IntProgress(value=1, bar_style='info', max=1), HTML(value='')))"
      ]
     },
     "metadata": {},
     "output_type": "display_data"
    },
    {
     "name": "stdout",
     "output_type": "stream",
     "text": [
      "\n"
     ]
    }
   ],
   "source": [
    "##### Rename RiskFactors > Data > Run  <for f in *\\ *; do mv \"$f\" \"${f// /_}\"; done> in bash, in Data ####\n",
    "##### This changes all \" \" characters to \"_\", needed for Path######\n",
    "##### See https://stackoverflow.com/a/18213120 #####\n",
    "\n",
    "\n",
    "NUMBER_OF_DOCS =2\n",
    "doclist = []\n",
    "global names\n",
    "names = []\n",
    "pathlist = Path(\"Data_Small\").glob('**/*.txt')\n",
    "pathlist = Path(\"Data\").glob('**/*.txt')\n",
    "for path in tqdm(pathlist):\n",
    "    # because path is object not string\n",
    "    path_in_str = str(path)\n",
    "    name = path_in_str.split(\"\\\\\")[1].split(\".\")[0]\n",
    "    names.append(name.replace(\"_\", \" \"))\n",
    "    #TODO SPLIT PATH TO COMPANY NAME, make Index\n",
    "    file = open(path, \"r\") \n",
    "    # print \"Output of Readlines after appending\"\n",
    "    text = file.readlines()\n",
    "#     print(text[:10])\n",
    "    doclist.append(text[0].replace(name, \"<NAME>\"))\n",
    "if len(doclist) > NUMBER_OF_DOCS:\n",
    "    doclist = doclist[:NUMBER_OF_DOCS]\n",
    "    names = names[:NUMBER_OF_DOCS]\n",
    "    \n",
    "# company_dataframe = pd.DataFrame({'text':doclist, 'names': names })"
   ]
  },
  {
   "cell_type": "code",
   "execution_count": 5,
   "metadata": {},
   "outputs": [
    {
     "name": "stdout",
     "output_type": "stream",
     "text": [
      "2 docs loaded\n",
      "\n",
      "['180 Degree Capital Corp ', '1 800 FLOWERS COM Inc '] ...... ['180 Degree Capital Corp ', '1 800 FLOWERS COM Inc ']\n"
     ]
    }
   ],
   "source": [
    "print('%s docs loaded'% len(names))\n",
    "print()\n",
    "print(names[:10], '......',  names[-10:])\n"
   ]
  },
  {
   "cell_type": "code",
   "execution_count": 8,
   "metadata": {},
   "outputs": [],
   "source": [
    "def get_tokens(doclist):\n",
    "    token_list = []\n",
    "    for doc in tqdm(doclist, desc=\"Tokenizing\"):\n",
    "\n",
    "        dirty_tokens = nltk.word_tokenize(doc)\n",
    "        token_list += [dirty_tokens]\n",
    "    return token_list"
   ]
  },
  {
   "cell_type": "code",
   "execution_count": 145,
   "metadata": {},
   "outputs": [],
   "source": [
    "def get_filtered(token_list, doclist):\n",
    "    punc = ['.', ',', '\"', \"'\", '?', '!', ':', ';', '(', ')', '[', ']', '{', '}',\"%\"]\n",
    "    more_stops = ['\\\\t\\\\t\\\\t', \n",
    "        '\\\\t\\\\t\\\\', '\\\\t\\\\t\\\\t',\n",
    "        '<U+25CF>', '[1]']\n",
    "    maybe_bad_stops = ['may', 'could',  'contents', 'table', 'time', '25cf', 'factors', 'risk']\n",
    "    global Stopwords_list \n",
    "    Stopwords_list= stopwords.words('english') + more_stops + punc + maybe_bad_stops\n",
    "    filtered_tokens = []\n",
    "    if len(token_list) != len(doclist):\n",
    "        token_list = [token_list]\n",
    "    index = 0\n",
    "    names_list=[]\n",
    "    for tokens in tqdm(token_list, desc=\"Filtering Documents\"):\n",
    "        filtered_docs = []\n",
    "        name = names[index]\n",
    "        for token in tqdm(tokens, desc=\"Filtering Words\", leave=False):\n",
    "            if re.search(r'\\d{1,}', token): #getting rid of digits\n",
    "                pass\n",
    "            else:\n",
    "                if token not in Stopwords_list and pos_tag(token) != 'NNP' and pos_tag(token) != 'NNPS':\n",
    "                    filtered_docs.append(token.lower())\n",
    "                    names_list.append(name)\n",
    "        index += 1\n",
    "        filtered_tokens.append(filtered_docs)        \n",
    "    return filtered_tokens, names_list"
   ]
  },
  {
   "cell_type": "code",
   "execution_count": 146,
   "metadata": {},
   "outputs": [],
   "source": [
    "def do_stemming(filtered_tokens):\n",
    "    stemmed = []\n",
    "    names_list = []\n",
    "    index = 0\n",
    "    for doc in filtered_tokens:\n",
    "        name = names[index]\n",
    "        index += 1\n",
    "        for f in tqdm(doc, desc=\"Stemming\"):\n",
    "            names_list.append(name)\n",
    "\n",
    "            stemmed.append(PorterStemmer().stem(f))\n",
    "            #stemmed.append(LancasterStemmer().stem(f))\n",
    "            #stemmed.append(SnowballStemmer('english').stem(f))\n",
    "    stemmed_dict = {'stems': stemmed, 'names': names_list}\n",
    "    return stemmed, stemmed_dict"
   ]
  },
  {
   "cell_type": "code",
   "execution_count": 147,
   "metadata": {},
   "outputs": [],
   "source": [
    "def vectorize_text(stemmed, smallest_ngram, largest_ngram):\n",
    "\n",
    "    vectorizer = TfidfVectorizer(stop_words=Stopwords_list,\n",
    "                                 ngram_range=((smallest_ngram, largest_ngram)))\n",
    "    vectorizer = CountVectorizer(stop_words=Stopwords_list, \n",
    "                                 ngram_range=(smallest_ngram, largest_ngram), max_df=0.99, min_df=0.001)\n",
    "    sparseMatrix = vectorizer.fit_transform(stemmed)\n",
    "    # https://scikit-learn.org/stable/modules/generated/sklearn.feature_extraction.text.TfidfVectorizer.html#sklearn.feature_extraction.text.TfidfVectorizer.fit_transform\n",
    "    return sparseMatrix, vectorizer  "
   ]
  },
  {
   "cell_type": "code",
   "execution_count": 148,
   "metadata": {
    "scrolled": true
   },
   "outputs": [
    {
     "data": {
      "application/vnd.jupyter.widget-view+json": {
       "model_id": "f277ee6aaa0f4a29979bcbade57f1481",
       "version_major": 2,
       "version_minor": 0
      },
      "text/plain": [
       "HBox(children=(IntProgress(value=0, description='Tokenizing', max=2, style=ProgressStyle(description_width='in…"
      ]
     },
     "metadata": {},
     "output_type": "display_data"
    },
    {
     "name": "stdout",
     "output_type": "stream",
     "text": [
      "\n"
     ]
    },
    {
     "data": {
      "application/vnd.jupyter.widget-view+json": {
       "model_id": "f0a75abb23144ca786275381c6d1bb57",
       "version_major": 2,
       "version_minor": 0
      },
      "text/plain": [
       "HBox(children=(IntProgress(value=0, description='Filtering Documents', max=2, style=ProgressStyle(description_…"
      ]
     },
     "metadata": {},
     "output_type": "display_data"
    },
    {
     "data": {
      "application/vnd.jupyter.widget-view+json": {
       "model_id": "",
       "version_major": 2,
       "version_minor": 0
      },
      "text/plain": [
       "HBox(children=(IntProgress(value=0, description='Filtering Words', max=15755, style=ProgressStyle(description_…"
      ]
     },
     "metadata": {},
     "output_type": "display_data"
    },
    {
     "data": {
      "application/vnd.jupyter.widget-view+json": {
       "model_id": "",
       "version_major": 2,
       "version_minor": 0
      },
      "text/plain": [
       "HBox(children=(IntProgress(value=0, description='Filtering Words', max=7050, style=ProgressStyle(description_w…"
      ]
     },
     "metadata": {},
     "output_type": "display_data"
    },
    {
     "name": "stdout",
     "output_type": "stream",
     "text": [
      "\n"
     ]
    },
    {
     "data": {
      "application/vnd.jupyter.widget-view+json": {
       "model_id": "620283708421449698b332c858f7a83a",
       "version_major": 2,
       "version_minor": 0
      },
      "text/plain": [
       "HBox(children=(IntProgress(value=0, description='Stemming', max=8060, style=ProgressStyle(description_width='i…"
      ]
     },
     "metadata": {},
     "output_type": "display_data"
    },
    {
     "name": "stdout",
     "output_type": "stream",
     "text": [
      "\n"
     ]
    },
    {
     "data": {
      "application/vnd.jupyter.widget-view+json": {
       "model_id": "896cfc1ca1a24a809eaa046ccb04f381",
       "version_major": 2,
       "version_minor": 0
      },
      "text/plain": [
       "HBox(children=(IntProgress(value=0, description='Stemming', max=3799, style=ProgressStyle(description_width='i…"
      ]
     },
     "metadata": {},
     "output_type": "display_data"
    },
    {
     "name": "stdout",
     "output_type": "stream",
     "text": [
      "\n"
     ]
    }
   ],
   "source": [
    "tokens = get_tokens(doclist)\n",
    "filtered_tokens, names_list = get_filtered(tokens, doclist)\n",
    "stemmed, stemmed_dict = do_stemming(filtered_tokens)"
   ]
  },
  {
   "cell_type": "code",
   "execution_count": 149,
   "metadata": {},
   "outputs": [
    {
     "name": "stdout",
     "output_type": "stream",
     "text": [
      "Wall time: 52.9 ms\n"
     ]
    }
   ],
   "source": [
    "largest_ngram = 15\n",
    "smallest_ngram = 1\n",
    "# smallest_ngram = len(min(doclist[0].split(\".\"), key=len))\n",
    "# largest_ngram =  len(max(doclist[0].split(\".\"), key=len))\n",
    "\n",
    "\n",
    "%time sparseMatrix, vectorizer = vectorize_text(stemmed, smallest_ngram, largest_ngram)"
   ]
  },
  {
   "cell_type": "code",
   "execution_count": 150,
   "metadata": {},
   "outputs": [
    {
     "data": {
      "text/plain": [
       "CountVectorizer(analyzer='word', binary=False, decode_error='strict',\n",
       "        dtype=<class 'numpy.int64'>, encoding='utf-8', input='content',\n",
       "        lowercase=True, max_df=0.99, max_features=None, min_df=0.001,\n",
       "        ngram_range=(1, 15), preprocessor=None,\n",
       "        stop_words=['i', 'me', 'my', 'myself', 'we', 'our', 'ours', 'ourselves', 'you', \"you're\", \"you've\", \"you'll\", \"you'd\", 'your', 'yours', 'yourself', 'yourselves', 'he', 'him', 'his', 'himself', 'she', \"she's\", 'her', 'hers', 'herself', 'it', \"it's\", 'its', 'itself', 'they', 'them', 'their', 'theirs',...)', '[', ']', '{', '}', '%', 'may', 'could', 'contents', 'table', 'time', '25cf', 'factors', 'risk'],\n",
       "        strip_accents=None, token_pattern='(?u)\\\\b\\\\w\\\\w+\\\\b',\n",
       "        tokenizer=None, vocabulary=None)"
      ]
     },
     "execution_count": 150,
     "metadata": {},
     "output_type": "execute_result"
    }
   ],
   "source": [
    "vectorizer"
   ]
  },
  {
   "cell_type": "code",
   "execution_count": 151,
   "metadata": {},
   "outputs": [
    {
     "data": {
      "text/plain": [
       "<11859x227 sparse matrix of type '<class 'numpy.int64'>'\n",
       "\twith 7023 stored elements in Compressed Sparse Row format>"
      ]
     },
     "execution_count": 151,
     "metadata": {},
     "output_type": "execute_result"
    }
   ],
   "source": [
    "sparseMatrix\n",
    "# With this, each column in the matrix represents a word in the vocabulary\n",
    "# each row represents the document in our dataset \n",
    "# where the values in this case are the word counts or Doc Freq if we are using tfidf vectorizer"
   ]
  },
  {
   "cell_type": "code",
   "execution_count": 152,
   "metadata": {},
   "outputs": [],
   "source": [
    "%matplotlib inline\n",
    "\n",
    "# This doesnt really work when passing many documents > 100?\n",
    "# https://stackoverflow.com/questions/22961541/python-matplotlib-plot-sparse-matrix-pattern\n",
    "\n",
    "def plot_coo_matrix(m):\n",
    "    if not isinstance(m, coo_matrix):\n",
    "        m = coo_matrix(m)\n",
    "    fig = plt.figure(figsize=(25, 10))\n",
    "    ax = fig.add_subplot(111, facecolor ='black')\n",
    "    ax.plot(m.col, m.row, 's', color='white', ms=3)\n",
    "    ax.set_xlim(0, m.shape[1])\n",
    "    ax.set_ylim(0, m.shape[0])\n",
    "    ax.set_aspect('equal')\n",
    "    for spine in ax.spines.values():\n",
    "        spine.set_visible(False)\n",
    "    ax.invert_yaxis()\n",
    "    ax.set_aspect('equal')\n",
    "    ax.set_xticks([])\n",
    "    ax.set_yticks([])\n",
    "    return ax"
   ]
  },
  {
   "cell_type": "code",
   "execution_count": 153,
   "metadata": {},
   "outputs": [
    {
     "name": "stderr",
     "output_type": "stream",
     "text": [
      "C:\\Users\\xanen\\Anaconda3\\envs\\Tensor\\lib\\site-packages\\matplotlib\\figure.py:445: UserWarning: Matplotlib is currently using module://ipykernel.pylab.backend_inline, which is a non-GUI backend, so cannot show the figure.\n",
      "  % get_backend())\n"
     ]
    },
    {
     "data": {
      "image/png": "[encoded data removed]",
      "text/plain": [
       "<Figure size 1800x720 with 1 Axes>"
      ]
     },
     "metadata": {},
     "output_type": "display_data"
    }
   ],
   "source": [
    "plot_coo_matrix(sparseMatrix).figure.show()\n"
   ]
  },
  {
   "cell_type": "code",
   "execution_count": 154,
   "metadata": {},
   "outputs": [],
   "source": [
    "# truek = PLEASE_FIND_ME\n",
    "def cluster_it(sparseMatrix, vectorizer):\n",
    "    truek = 35\n",
    "    model = KMeans(n_clusters=truek, init='k-means++',\n",
    "                   max_iter=200, n_init=10, random_state=42)\n",
    "    model.fit(sparseMatrix)\n",
    "    order_centroids = model.cluster_centers_.argsort()[:, ::-1]\n",
    "    terms = vectorizer.get_feature_names()\n",
    "    return terms, order_centroids, model, truek"
   ]
  },
  {
   "cell_type": "code",
   "execution_count": 155,
   "metadata": {},
   "outputs": [
    {
     "name": "stdout",
     "output_type": "stream",
     "text": [
      "Wall time: 906 ms\n"
     ]
    }
   ],
   "source": [
    "##THIS TAKES ~~ 1m per 100 documents\n",
    " %time terms, order_centroids, model, truek = cluster_it(sparseMatrix, vectorizer)"
   ]
  },
  {
   "cell_type": "code",
   "execution_count": 156,
   "metadata": {},
   "outputs": [],
   "source": [
    "# using joblib to pickle model\n",
    "model_time = datetime.now().strftime(\"%b%d-%I%M%p\")\n",
    "from sklearn.externals import joblib\n",
    "joblib.dump(model, f'outputs/s2s{model_time}.pkl')\n",
    "model = joblib.load(f'outputs/s2s{model_time}.pkl')\n"
   ]
  },
  {
   "cell_type": "code",
   "execution_count": 157,
   "metadata": {},
   "outputs": [],
   "source": [
    "clusters = model.labels_.tolist()"
   ]
  },
  {
   "cell_type": "code",
   "execution_count": 158,
   "metadata": {},
   "outputs": [],
   "source": [
    "model?"
   ]
  },
  {
   "cell_type": "code",
   "execution_count": 159,
   "metadata": {},
   "outputs": [
    {
     "data": {
      "text/plain": [
       "True"
      ]
     },
     "execution_count": 159,
     "metadata": {},
     "output_type": "execute_result"
    }
   ],
   "source": [
    "len(names_list) == len(clusters)"
   ]
  },
  {
   "cell_type": "code",
   "execution_count": 160,
   "metadata": {},
   "outputs": [
    {
     "data": {
      "text/html": [
       "<div>\n",
       "<style scoped>\n",
       "    .dataframe tbody tr th:only-of-type {\n",
       "        vertical-align: middle;\n",
       "    }\n",
       "\n",
       "    .dataframe tbody tr th {\n",
       "        vertical-align: top;\n",
       "    }\n",
       "\n",
       "    .dataframe thead th {\n",
       "        text-align: right;\n",
       "    }\n",
       "</style>\n",
       "<table border=\"1\" class=\"dataframe\">\n",
       "  <thead>\n",
       "    <tr style=\"text-align: right;\">\n",
       "      <th></th>\n",
       "      <th>Count</th>\n",
       "    </tr>\n",
       "  </thead>\n",
       "  <tbody>\n",
       "    <tr>\n",
       "      <th>count</th>\n",
       "      <td>1736.000000</td>\n",
       "    </tr>\n",
       "    <tr>\n",
       "      <th>mean</th>\n",
       "      <td>6.831221</td>\n",
       "    </tr>\n",
       "    <tr>\n",
       "      <th>std</th>\n",
       "      <td>16.268205</td>\n",
       "    </tr>\n",
       "    <tr>\n",
       "      <th>min</th>\n",
       "      <td>1.000000</td>\n",
       "    </tr>\n",
       "    <tr>\n",
       "      <th>25%</th>\n",
       "      <td>1.000000</td>\n",
       "    </tr>\n",
       "    <tr>\n",
       "      <th>50%</th>\n",
       "      <td>2.000000</td>\n",
       "    </tr>\n",
       "    <tr>\n",
       "      <th>75%</th>\n",
       "      <td>6.000000</td>\n",
       "    </tr>\n",
       "    <tr>\n",
       "      <th>max</th>\n",
       "      <td>365.000000</td>\n",
       "    </tr>\n",
       "  </tbody>\n",
       "</table>\n",
       "</div>"
      ],
      "text/plain": [
       "             Count\n",
       "count  1736.000000\n",
       "mean      6.831221\n",
       "std      16.268205\n",
       "min       1.000000\n",
       "25%       1.000000\n",
       "50%       2.000000\n",
       "75%       6.000000\n",
       "max     365.000000"
      ]
     },
     "execution_count": 160,
     "metadata": {},
     "output_type": "execute_result"
    }
   ],
   "source": [
    "stem_df = pd.DataFrame({'stems': stemmed, \"Count\":0})\n",
    "stem_df = stem_df.groupby('stems').count()\n",
    "stem_df.describe()"
   ]
  },
  {
   "cell_type": "code",
   "execution_count": 161,
   "metadata": {},
   "outputs": [
    {
     "data": {
      "text/html": [
       "<div>\n",
       "<style scoped>\n",
       "    .dataframe tbody tr th:only-of-type {\n",
       "        vertical-align: middle;\n",
       "    }\n",
       "\n",
       "    .dataframe tbody tr th {\n",
       "        vertical-align: top;\n",
       "    }\n",
       "\n",
       "    .dataframe thead th {\n",
       "        text-align: right;\n",
       "    }\n",
       "</style>\n",
       "<table border=\"1\" class=\"dataframe\">\n",
       "  <thead>\n",
       "    <tr style=\"text-align: right;\">\n",
       "      <th></th>\n",
       "      <th>company</th>\n",
       "      <th>label</th>\n",
       "    </tr>\n",
       "  </thead>\n",
       "  <tbody>\n",
       "    <tr>\n",
       "      <th>0</th>\n",
       "      <td>180 Degree Capital Corp</td>\n",
       "      <td>2</td>\n",
       "    </tr>\n",
       "    <tr>\n",
       "      <th>1</th>\n",
       "      <td>180 Degree Capital Corp</td>\n",
       "      <td>2</td>\n",
       "    </tr>\n",
       "    <tr>\n",
       "      <th>2</th>\n",
       "      <td>180 Degree Capital Corp</td>\n",
       "      <td>2</td>\n",
       "    </tr>\n",
       "    <tr>\n",
       "      <th>3</th>\n",
       "      <td>180 Degree Capital Corp</td>\n",
       "      <td>2</td>\n",
       "    </tr>\n",
       "    <tr>\n",
       "      <th>4</th>\n",
       "      <td>180 Degree Capital Corp</td>\n",
       "      <td>1</td>\n",
       "    </tr>\n",
       "    <tr>\n",
       "      <th>5</th>\n",
       "      <td>180 Degree Capital Corp</td>\n",
       "      <td>7</td>\n",
       "    </tr>\n",
       "    <tr>\n",
       "      <th>6</th>\n",
       "      <td>180 Degree Capital Corp</td>\n",
       "      <td>15</td>\n",
       "    </tr>\n",
       "    <tr>\n",
       "      <th>7</th>\n",
       "      <td>180 Degree Capital Corp</td>\n",
       "      <td>2</td>\n",
       "    </tr>\n",
       "    <tr>\n",
       "      <th>8</th>\n",
       "      <td>180 Degree Capital Corp</td>\n",
       "      <td>30</td>\n",
       "    </tr>\n",
       "    <tr>\n",
       "      <th>9</th>\n",
       "      <td>180 Degree Capital Corp</td>\n",
       "      <td>2</td>\n",
       "    </tr>\n",
       "  </tbody>\n",
       "</table>\n",
       "</div>"
      ],
      "text/plain": [
       "                    company  label\n",
       "0  180 Degree Capital Corp       2\n",
       "1  180 Degree Capital Corp       2\n",
       "2  180 Degree Capital Corp       2\n",
       "3  180 Degree Capital Corp       2\n",
       "4  180 Degree Capital Corp       1\n",
       "5  180 Degree Capital Corp       7\n",
       "6  180 Degree Capital Corp      15\n",
       "7  180 Degree Capital Corp       2\n",
       "8  180 Degree Capital Corp      30\n",
       "9  180 Degree Capital Corp       2"
      ]
     },
     "execution_count": 161,
     "metadata": {},
     "output_type": "execute_result"
    }
   ],
   "source": [
    "cluster_df = pd.DataFrame({'company': names_list, \"label\":clusters})\n",
    "\n",
    "cluster_df.head(10)"
   ]
  },
  {
   "cell_type": "code",
   "execution_count": 162,
   "metadata": {},
   "outputs": [
    {
     "data": {
      "text/plain": [
       "False"
      ]
     },
     "execution_count": 162,
     "metadata": {},
     "output_type": "execute_result"
    }
   ],
   "source": [
    "len(terms)\n",
    "len(terms) == len(names_list)"
   ]
  },
  {
   "cell_type": "code",
   "execution_count": 163,
   "metadata": {},
   "outputs": [
    {
     "name": "stdout",
     "output_type": "stream",
     "text": [
      "Cluster 0:\n",
      " competit\n",
      " cost\n",
      " year\n",
      " follow\n",
      " flower\n",
      " financi\n",
      " financ\n",
      " feder\n",
      " failur\n",
      " fail\n",
      "Cluster 1:\n",
      " invest\n",
      " year\n",
      " exist\n",
      " flower\n",
      " financi\n",
      " financ\n",
      " feder\n",
      " failur\n",
      " fail\n",
      " extern\n",
      "Cluster 2:\n",
      " affect\n",
      " financi\n",
      " requir\n",
      " chang\n",
      " abil\n",
      " share\n",
      " materi\n",
      " cost\n",
      " make\n",
      " would\n",
      "Cluster 3:\n",
      " addit\n",
      " year\n",
      " exist\n",
      " fluctuat\n",
      " flower\n",
      " financi\n",
      " financ\n",
      " feder\n",
      " failur\n",
      " fail\n",
      "Cluster 4:\n",
      " price\n",
      " year\n",
      " follow\n",
      " flower\n",
      " financi\n",
      " financ\n",
      " feder\n",
      " failur\n",
      " fail\n",
      " extern\n",
      "Cluster 5:\n",
      " includ\n",
      " year\n",
      " follow\n",
      " flower\n",
      " financi\n",
      " financ\n",
      " feder\n",
      " failur\n",
      " fail\n",
      " extern\n",
      "Cluster 6:\n",
      " portfolio\n",
      " year\n",
      " follow\n",
      " flower\n",
      " financi\n",
      " financ\n",
      " feder\n",
      " failur\n",
      " fail\n",
      " extern\n",
      "Cluster 7:\n",
      " common\n",
      " year\n",
      " follow\n",
      " flower\n",
      " financi\n",
      " financ\n",
      " feder\n",
      " failur\n",
      " fail\n",
      " extern\n",
      "Cluster 8:\n",
      " valu\n",
      " year\n",
      " exist\n",
      " fluctuat\n",
      " flower\n",
      " financi\n",
      " financ\n",
      " feder\n",
      " failur\n",
      " fail\n",
      "Cluster 9:\n",
      " trade\n",
      " year\n",
      " fluctuat\n",
      " flower\n",
      " financi\n",
      " financ\n",
      " feder\n",
      " failur\n",
      " fail\n",
      " extern\n",
      "Cluster 10:\n",
      " compani\n",
      " year\n",
      " follow\n",
      " flower\n",
      " financi\n",
      " financ\n",
      " feder\n",
      " failur\n",
      " fail\n",
      " extern\n",
      "Cluster 11:\n",
      " product\n",
      " year\n",
      " exist\n",
      " flower\n",
      " financi\n",
      " financ\n",
      " feder\n",
      " failur\n",
      " fail\n",
      " extern\n",
      "Cluster 12:\n",
      " bdc\n",
      " year\n",
      " expect\n",
      " fluctuat\n",
      " flower\n",
      " financi\n",
      " financ\n",
      " feder\n",
      " failur\n",
      " fail\n",
      "Cluster 13:\n",
      " us\n",
      " year\n",
      " exist\n",
      " fluctuat\n",
      " flower\n",
      " financi\n",
      " financ\n",
      " feder\n",
      " failur\n",
      " fail\n",
      "Cluster 14:\n",
      " custom\n",
      " year\n",
      " exist\n",
      " flower\n",
      " financi\n",
      " financ\n",
      " feder\n",
      " failur\n",
      " fail\n",
      " extern\n",
      "Cluster 15:\n",
      " stock\n",
      " follow\n",
      " fluctuat\n",
      " flower\n",
      " financi\n",
      " financ\n",
      " feder\n",
      " failur\n",
      " fail\n",
      " extern\n",
      "Cluster 16:\n",
      " condit\n",
      " year\n",
      " follow\n",
      " flower\n",
      " financi\n",
      " financ\n",
      " feder\n",
      " failur\n",
      " fail\n",
      " extern\n",
      "Cluster 17:\n",
      " secur\n",
      " year\n",
      " follow\n",
      " flower\n",
      " financi\n",
      " financ\n",
      " feder\n",
      " failur\n",
      " fail\n",
      " extern\n",
      "Cluster 18:\n",
      " fund\n",
      " year\n",
      " follow\n",
      " flower\n",
      " financi\n",
      " financ\n",
      " feder\n",
      " failur\n",
      " fail\n",
      " extern\n",
      "Cluster 19:\n",
      " market\n",
      " year\n",
      " exist\n",
      " fluctuat\n",
      " flower\n",
      " financi\n",
      " financ\n",
      " feder\n",
      " failur\n",
      " fail\n",
      "Cluster 20:\n",
      " interest\n",
      " year\n",
      " exist\n",
      " flower\n",
      " financi\n",
      " financ\n",
      " feder\n",
      " failur\n",
      " fail\n",
      " extern\n",
      "Cluster 21:\n",
      " effect\n",
      " year\n",
      " expect\n",
      " fluctuat\n",
      " flower\n",
      " financi\n",
      " financ\n",
      " feder\n",
      " failur\n",
      " fail\n",
      "Cluster 22:\n",
      " busi\n",
      " year\n",
      " expect\n",
      " fluctuat\n",
      " flower\n",
      " financi\n",
      " financ\n",
      " feder\n",
      " failur\n",
      " fail\n",
      "Cluster 23:\n",
      " result\n",
      " year\n",
      " exist\n",
      " flower\n",
      " financi\n",
      " financ\n",
      " feder\n",
      " failur\n",
      " fail\n",
      " extern\n",
      "Cluster 24:\n",
      " system\n",
      " year\n",
      " expect\n",
      " fluctuat\n",
      " flower\n",
      " financi\n",
      " financ\n",
      " feder\n",
      " failur\n",
      " fail\n",
      "Cluster 25:\n",
      " futur\n",
      " year\n",
      " follow\n",
      " flower\n",
      " financi\n",
      " financ\n",
      " feder\n",
      " failur\n",
      " fail\n",
      " extern\n",
      "Cluster 26:\n",
      " debt\n",
      " year\n",
      " exist\n",
      " flower\n",
      " financi\n",
      " financ\n",
      " feder\n",
      " failur\n",
      " fail\n",
      " extern\n",
      "Cluster 27:\n",
      " oper\n",
      " year\n",
      " expect\n",
      " fluctuat\n",
      " flower\n",
      " financi\n",
      " financ\n",
      " feder\n",
      " failur\n",
      " fail\n",
      "Cluster 28:\n",
      " increas\n",
      " follow\n",
      " flower\n",
      " financi\n",
      " financ\n",
      " feder\n",
      " failur\n",
      " fail\n",
      " extern\n",
      " extent\n",
      "Cluster 29:\n",
      " asset\n",
      " year\n",
      " expect\n",
      " fluctuat\n",
      " flower\n",
      " financi\n",
      " financ\n",
      " feder\n",
      " failur\n",
      " fail\n",
      "Cluster 30:\n",
      " signific\n",
      " year\n",
      " follow\n",
      " flower\n",
      " financi\n",
      " financ\n",
      " feder\n",
      " failur\n",
      " fail\n",
      " extern\n",
      "Cluster 31:\n",
      " use\n",
      " year\n",
      " exist\n",
      " fluctuat\n",
      " flower\n",
      " financi\n",
      " financ\n",
      " feder\n",
      " failur\n",
      " fail\n",
      "Cluster 32:\n",
      " advers\n",
      " year\n",
      " exist\n",
      " fluctuat\n",
      " flower\n",
      " financi\n",
      " financ\n",
      " feder\n",
      " failur\n",
      " fail\n",
      "Cluster 33:\n",
      " valuat\n",
      " year\n",
      " exist\n",
      " fluctuat\n",
      " flower\n",
      " financi\n",
      " financ\n",
      " feder\n",
      " failur\n",
      " fail\n",
      "Cluster 34:\n",
      " capit\n",
      " year\n",
      " expect\n",
      " fluctuat\n",
      " flower\n",
      " financi\n",
      " financ\n",
      " feder\n",
      " failur\n",
      " fail\n"
     ]
    }
   ],
   "source": [
    "nclosest_words_to_show = 10\n",
    "for i in range(truek):\n",
    " print('Cluster %d:' % i),\n",
    " for ind in order_centroids[i, :nclosest_words_to_show]:\n",
    "     print(' %s' % terms[ind])"
   ]
  },
  {
   "cell_type": "code",
   "execution_count": 164,
   "metadata": {},
   "outputs": [
    {
     "name": "stdout",
     "output_type": "stream",
     "text": [
      "\n",
      "\n",
      "Prediction\n",
      "[2]\n"
     ]
    }
   ],
   "source": [
    "def predict(string):\n",
    "    print('\\n')\n",
    "    print('Prediction')\n",
    "    X = vectorizer.transform([string])\n",
    "    predicted = model.predict(X)\n",
    "    print(predicted)\n",
    "\n",
    "predict('The hackers stole all our bitcoin!')"
   ]
  },
  {
   "cell_type": "code",
   "execution_count": null,
   "metadata": {},
   "outputs": [],
   "source": []
  },
  {
   "cell_type": "code",
   "execution_count": 165,
   "metadata": {},
   "outputs": [],
   "source": [
    "# fourterms = fourterms\n",
    "# for i in [4]:\n",
    "#     for term in order_centroids[i, :100]:\n",
    "#         fourterms.append(terms[term])\n",
    "# fourterms"
   ]
  },
  {
   "cell_type": "code",
   "execution_count": 166,
   "metadata": {},
   "outputs": [
    {
     "name": "stdout",
     "output_type": "stream",
     "text": [
      "Cluster 0:\n",
      " competit\n",
      "Cluster 1:\n",
      " invest\n",
      "Cluster 2:\n",
      " affect\n",
      "Cluster 3:\n",
      " addit\n",
      "Cluster 4:\n",
      " price\n",
      "Cluster 5:\n",
      " includ\n",
      "Cluster 6:\n",
      " portfolio\n",
      "Cluster 7:\n",
      " common\n",
      "Cluster 8:\n",
      " valu\n",
      "Cluster 9:\n",
      " trade\n",
      "Cluster 10:\n",
      " compani\n",
      "Cluster 11:\n",
      " product\n",
      "Cluster 12:\n",
      " bdc\n",
      "Cluster 13:\n",
      " us\n",
      "Cluster 14:\n",
      " custom\n",
      "Cluster 15:\n",
      " stock\n",
      "Cluster 16:\n",
      " condit\n",
      "Cluster 17:\n",
      " secur\n",
      "Cluster 18:\n",
      " fund\n",
      "Cluster 19:\n",
      " market\n",
      "Cluster 20:\n",
      " interest\n",
      "Cluster 21:\n",
      " effect\n",
      "Cluster 22:\n",
      " busi\n",
      "Cluster 23:\n",
      " result\n",
      "Cluster 24:\n",
      " system\n",
      "Cluster 25:\n",
      " futur\n",
      "Cluster 26:\n",
      " debt\n",
      "Cluster 27:\n",
      " oper\n",
      "Cluster 28:\n",
      " increas\n",
      "Cluster 29:\n",
      " asset\n",
      "Cluster 30:\n",
      " signific\n",
      "Cluster 31:\n",
      " use\n",
      "Cluster 32:\n",
      " advers\n",
      "Cluster 33:\n",
      " valuat\n",
      "Cluster 34:\n",
      " capit\n"
     ]
    }
   ],
   "source": [
    "# HOW DO WE FIND the tag label?, 1Closest_word to cluster definitely isn't it\n",
    "for i in range(truek):\n",
    " print('Cluster %d:' % i),\n",
    " for ind in order_centroids[i, :1]:\n",
    "     print(' %s' % terms[ind])"
   ]
  },
  {
   "cell_type": "code",
   "execution_count": 175,
   "metadata": {},
   "outputs": [],
   "source": [
    "company_clusters = cluster_df.groupby(['label', 'company']).size().unstack(level = 'company')"
   ]
  },
  {
   "cell_type": "code",
   "execution_count": 176,
   "metadata": {},
   "outputs": [
    {
     "data": {
      "image/png": "[encoded data removed]",
      "text/plain": [
       "<Figure size 2160x1800 with 2 Axes>"
      ]
     },
     "metadata": {
      "needs_background": "light"
     },
     "output_type": "display_data"
    }
   ],
   "source": [
    "fig2, ax2 = plt.subplots(figsize = (30, 25))\n",
    "cmap = sns.light_palette('blue', as_cmap=True)\n",
    "\n",
    "sns.heatmap(company_clusters, ax = ax2, cmap = cmap)\n",
    "\n",
    "ax2.set_xlabel('company', fontdict = {'weight': 'bold', 'size': 24})\n",
    "ax2.set_ylabel('cluster', fontdict = {'weight': 'bold', 'size': 24})\n",
    "for label in ax2.get_xticklabels():\n",
    "    label.set_size(16)\n",
    "    label.set_weight(\"bold\")\n",
    "for label in ax2.get_yticklabels():\n",
    "    label.set_size(16)\n",
    "    label.set_weight(\"bold\")"
   ]
  },
  {
   "cell_type": "code",
   "execution_count": 177,
   "metadata": {},
   "outputs": [],
   "source": [
    "# SUMMARIZATION OF CORPORATE RISK FACTOR DISCLOSURE THROUGH TOPIC MODELING by Bao, Datta\n",
    "strings = [\n",
    "'Topic 0: investment, property, distribution, interest, agreement Shareholder’s interest risk',\n",
    "'Topic 1: regulation, change, law, financial, operation, tax, accounting *Regulation changes(accounting)',\n",
    "'Topic 2: gas, price, oil, natural, operation, production Input prices risks ',\n",
    "'Topic 3: stock, price, share, market, future, dividend, security, stakeholder ** Stakeholder’s profit',\n",
    "'Topic 4: cost, regulation, environmental, law, operation, liability *Regulation changes(environment) ',\n",
    "'Topic 5: control, financial, internal, loss, reporting, history Financial condition risks ',\n",
    "'Topic 6: financial, litigation, operation, condition, action, legal, liability, regulatory, claim, lawsuit *Potential/Ongoing Lawsuits',\n",
    "'Topic 7: competitive, industry, competition, highly, market Competition risks' ,\n",
    "'Topic 8: cost, operation, labor, operating, employee, increase, acquisition **Labor cost ',\n",
    "'Topic 9: product, candidate, development, approval, clinical, regulatory New product introduction risks ',\n",
    "'Topic 10: tax, income, asset, net, goodwill, loss, distribution, impairment, intangible **Accounting,  +Restructuring risks ',\n",
    "'Topic 11: interest, director, officer, trust, combination, share, conflict **Management',\n",
    "'Topic 12: product, liability, claim, market, insurance, sale, revenue Potential defects in products' ,\n",
    "'Topic 13: loan, real, estate, investment, property, market, loss, portfolio **Investment' ,\n",
    "'Topic 14: personnel, key, retain, attract, management, employee Human resource risks' ,\n",
    "'Topic 15: stock, price, operating, stockholder, fluctuate, interest, volatile Volatile stock price risks ',\n",
    "'Topic 16: acquisition, growth, future, operation, additional, capital, strategy Merger & Acquisition risks ',\n",
    "'Topic 17: condition, economic, financial, market, industry, change, affected, downturn, demand Macroeconomic risks, +Industry is cyclical ',\n",
    "'Topic 18: system, service, information, failure, product, operation, software, network, breach, interruption Disruption of operations, +Infrastructure risks ',\n",
    "'Topic 19: cost, contract, operation, plan, increase, pension, delay **Postpone ',\n",
    "'Topic 20: customer, product, revenue, sale, supplier, relationship, key, portion, contract, manufacturing, rely Rely on few large customers, +Suppliers risks +Downstream risks', \n",
    "'Topic 21: property, intellectual, protect, proprietary, technology, patent, protection, harm, license Intellectual property risks, +Licensing related risks' ,\n",
    "'Topic 22: product, market, service, change, sale, demand, successfully, technology, competition Volatile demand and results, + Competition risks ',\n",
    "'Topic 23: provision, law, control, change, stock, prevent, stockholder, Delaware, charter, delay, bylaw *Potential/Ongoing Lawsuits' ,\n",
    "'Topic 24: regulation, government, change, revenue, contract, law, service *Regulation changes ',\n",
    "'Topic 25: capital, credit, financial, market, cost, operation, rating, access, liquidity, downgrade **Credit risks ',\n",
    "'Topic 26: debt, indebtedness, cash, obligation, financial, credit, covenant Funding risks ',\n",
    "'Topic 27: operation, international, foreign, currency, rate, fluctuation International risks ',\n",
    "'Topic 28: loss, insurance, financial, loan, reserve, operation, cover **Insurance' ,\n",
    "'Topic 29: operation, natural, facility, disaster, event, terrorist, weather Catastrophes']\n",
    "topics = [topic.split(\":\")[1] for topic in strings]\n"
   ]
  },
  {
   "cell_type": "code",
   "execution_count": 178,
   "metadata": {},
   "outputs": [
    {
     "name": "stdout",
     "output_type": "stream",
     "text": [
      " investment, property, distribution, interest, agreement Shareholder’s interest risk\n",
      "\n",
      "\n",
      "Prediction\n",
      "[20]\n",
      " regulation, change, law, financial, operation, tax, accounting *Regulation changes(accounting)\n",
      "\n",
      "\n",
      "Prediction\n",
      "[2]\n",
      " gas, price, oil, natural, operation, production Input prices risks \n",
      "\n",
      "\n",
      "Prediction\n",
      "[4]\n",
      " stock, price, share, market, future, dividend, security, stakeholder ** Stakeholder’s profit\n",
      "\n",
      "\n",
      "Prediction\n",
      "[4]\n",
      " cost, regulation, environmental, law, operation, liability *Regulation changes(environment) \n",
      "\n",
      "\n",
      "Prediction\n",
      "[2]\n",
      " control, financial, internal, loss, reporting, history Financial condition risks \n",
      "\n",
      "\n",
      "Prediction\n",
      "[2]\n",
      " financial, litigation, operation, condition, action, legal, liability, regulatory, claim, lawsuit *Potential/Ongoing Lawsuits\n",
      "\n",
      "\n",
      "Prediction\n",
      "[2]\n",
      " competitive, industry, competition, highly, market Competition risks\n",
      "\n",
      "\n",
      "Prediction\n",
      "[19]\n",
      " cost, operation, labor, operating, employee, increase, acquisition **Labor cost \n",
      "\n",
      "\n",
      "Prediction\n",
      "[2]\n",
      " product, candidate, development, approval, clinical, regulatory New product introduction risks \n",
      "\n",
      "\n",
      "Prediction\n",
      "[11]\n",
      " tax, income, asset, net, goodwill, loss, distribution, impairment, intangible **Accounting,  +Restructuring risks \n",
      "\n",
      "\n",
      "Prediction\n",
      "[29]\n",
      " interest, director, officer, trust, combination, share, conflict **Management\n",
      "\n",
      "\n",
      "Prediction\n",
      "[20]\n",
      " product, liability, claim, market, insurance, sale, revenue Potential defects in products\n",
      "\n",
      "\n",
      "Prediction\n",
      "[11]\n",
      " loan, real, estate, investment, property, market, loss, portfolio **Investment\n",
      "\n",
      "\n",
      "Prediction\n",
      "[6]\n",
      " personnel, key, retain, attract, management, employee Human resource risks\n",
      "\n",
      "\n",
      "Prediction\n",
      "[2]\n",
      " stock, price, operating, stockholder, fluctuate, interest, volatile Volatile stock price risks \n",
      "\n",
      "\n",
      "Prediction\n",
      "[4]\n",
      " acquisition, growth, future, operation, additional, capital, strategy Merger & Acquisition risks \n",
      "\n",
      "\n",
      "Prediction\n",
      "[2]\n",
      " condition, economic, financial, market, industry, change, affected, downturn, demand Macroeconomic risks, +Industry is cyclical \n",
      "\n",
      "\n",
      "Prediction\n",
      "[19]\n",
      " system, service, information, failure, product, operation, software, network, breach, interruption Disruption of operations, +Infrastructure risks \n",
      "\n",
      "\n",
      "Prediction\n",
      "[11]\n",
      " cost, contract, operation, plan, increase, pension, delay **Postpone \n",
      "\n",
      "\n",
      "Prediction\n",
      "[2]\n",
      " customer, product, revenue, sale, supplier, relationship, key, portion, contract, manufacturing, rely Rely on few large customers, +Suppliers risks +Downstream risks\n",
      "\n",
      "\n",
      "Prediction\n",
      "[11]\n",
      " property, intellectual, protect, proprietary, technology, patent, protection, harm, license Intellectual property risks, +Licensing related risks\n",
      "\n",
      "\n",
      "Prediction\n",
      "[2]\n",
      " product, market, service, change, sale, demand, successfully, technology, competition Volatile demand and results, + Competition risks \n",
      "\n",
      "\n",
      "Prediction\n",
      "[11]\n",
      " provision, law, control, change, stock, prevent, stockholder, Delaware, charter, delay, bylaw *Potential/Ongoing Lawsuits\n",
      "\n",
      "\n",
      "Prediction\n",
      "[15]\n",
      " regulation, government, change, revenue, contract, law, service *Regulation changes \n",
      "\n",
      "\n",
      "Prediction\n",
      "[2]\n",
      " capital, credit, financial, market, cost, operation, rating, access, liquidity, downgrade **Credit risks \n",
      "\n",
      "\n",
      "Prediction\n",
      "[19]\n",
      " debt, indebtedness, cash, obligation, financial, credit, covenant Funding risks \n",
      "\n",
      "\n",
      "Prediction\n",
      "[26]\n",
      " operation, international, foreign, currency, rate, fluctuation International risks \n",
      "\n",
      "\n",
      "Prediction\n",
      "[2]\n",
      " loss, insurance, financial, loan, reserve, operation, cover **Insurance\n",
      "\n",
      "\n",
      "Prediction\n",
      "[2]\n",
      " operation, natural, facility, disaster, event, terrorist, weather Catastrophes\n",
      "\n",
      "\n",
      "Prediction\n",
      "[2]\n"
     ]
    }
   ],
   "source": [
    "for topic in topics:\n",
    "    print(topic)\n",
    "    predict(topic)"
   ]
  },
  {
   "cell_type": "code",
   "execution_count": null,
   "metadata": {},
   "outputs": [],
   "source": []
  },
  {
   "cell_type": "code",
   "execution_count": null,
   "metadata": {},
   "outputs": [],
   "source": []
  },
  {
   "cell_type": "code",
   "execution_count": null,
   "metadata": {},
   "outputs": [],
   "source": []
  },
  {
   "cell_type": "code",
   "execution_count": 202,
   "metadata": {},
   "outputs": [],
   "source": [
    "\n",
    "\n",
    "def computeTF(document_text):\n",
    "    wordset = get_tokens(document_text)\n",
    "    word_dict = get_wordDict(wordset[0])\n",
    "    tfDict = {}\n",
    "    word_count = len(wordset)\n",
    "    for word, count in word_dict.items():\n",
    "        tfDict[word] = count/float(word_count)\n",
    "    return tfDict"
   ]
  },
  {
   "cell_type": "code",
   "execution_count": 203,
   "metadata": {},
   "outputs": [],
   "source": [
    "def get_wordDict(wordSet):\n",
    "    wordDict = dict.fromkeys(wordSet, 0) \n",
    "    for word in wordSet:\n",
    "        wordDict[word]+=1\n",
    "\n",
    "    return wordDict"
   ]
  },
  {
   "cell_type": "code",
   "execution_count": 204,
   "metadata": {},
   "outputs": [
    {
     "data": {
      "application/vnd.jupyter.widget-view+json": {
       "model_id": "bb6917e3dc194c61a8803a4a2e258a9a",
       "version_major": 2,
       "version_minor": 0
      },
      "text/plain": [
       "HBox(children=(IntProgress(value=0, description='Tokenizing', max=91842, style=ProgressStyle(description_width…"
      ]
     },
     "metadata": {},
     "output_type": "display_data"
    },
    {
     "name": "stdout",
     "output_type": "stream",
     "text": [
      "\n"
     ]
    },
    {
     "data": {
      "application/vnd.jupyter.widget-view+json": {
       "model_id": "c569c294555e42de983b8ddf4660b91a",
       "version_major": 2,
       "version_minor": 0
      },
      "text/plain": [
       "HBox(children=(IntProgress(value=0, description='Tokenizing', max=41112, style=ProgressStyle(description_width…"
      ]
     },
     "metadata": {},
     "output_type": "display_data"
    },
    {
     "name": "stdout",
     "output_type": "stream",
     "text": [
      "\n"
     ]
    }
   ],
   "source": [
    "term_freqs = []\n",
    "for i  in range(len(doclist)):\n",
    "#     print(i)\n",
    "    term_frequency = computeTF(doclist[i])\n",
    "    term_freqs.append(term_frequency)"
   ]
  },
  {
   "cell_type": "code",
   "execution_count": 205,
   "metadata": {},
   "outputs": [
    {
     "data": {
      "text/plain": [
       "{'[': 1.0888264628383528e-05}"
      ]
     },
     "execution_count": 205,
     "metadata": {},
     "output_type": "execute_result"
    }
   ],
   "source": [
    "term_freqs[0]"
   ]
  },
  {
   "cell_type": "code",
   "execution_count": 210,
   "metadata": {},
   "outputs": [],
   "source": [
    "def computeIDF(docList):\n",
    "    idfDict = {}\n",
    "    N = len(docList)\n",
    "    big_wordset = []\n",
    "    for doc in docList:\n",
    "        big_wordset += get_tokens(doc)\n",
    "    big_wordDict = get_wordDict(big_wordset)\n",
    "        \n",
    "    idfDict = dict.fromkeys(big_wordDict.keys(), 0)\n",
    "  \n",
    "    for word, val in big_wordDict.items():\n",
    "        if val > 0:\n",
    "            idfDict[word] += 1\n",
    "\n",
    "    for word, val in idfDict.items():\n",
    "        idfDict[word] = math.log10(N / float(val))\n",
    "        \n",
    "    return idfDict"
   ]
  },
  {
   "cell_type": "code",
   "execution_count": 211,
   "metadata": {},
   "outputs": [
    {
     "data": {
      "application/vnd.jupyter.widget-view+json": {
       "model_id": "709ef6a9ed994e6091eaef8aa9e0945f",
       "version_major": 2,
       "version_minor": 0
      },
      "text/plain": [
       "HBox(children=(IntProgress(value=0, description='Tokenizing', max=91842, style=ProgressStyle(description_width…"
      ]
     },
     "metadata": {},
     "output_type": "display_data"
    },
    {
     "name": "stdout",
     "output_type": "stream",
     "text": [
      "\n"
     ]
    },
    {
     "data": {
      "application/vnd.jupyter.widget-view+json": {
       "model_id": "28b3e969c09c4c21856ba17e0a089c5a",
       "version_major": 2,
       "version_minor": 0
      },
      "text/plain": [
       "HBox(children=(IntProgress(value=0, description='Tokenizing', max=41112, style=ProgressStyle(description_width…"
      ]
     },
     "metadata": {},
     "output_type": "display_data"
    },
    {
     "name": "stdout",
     "output_type": "stream",
     "text": [
      "\n"
     ]
    },
    {
     "ename": "TypeError",
     "evalue": "unhashable type: 'list'",
     "output_type": "error",
     "traceback": [
      "\u001b[1;31m---------------------------------------------------------------------------\u001b[0m",
      "\u001b[1;31mTypeError\u001b[0m                                 Traceback (most recent call last)",
      "\u001b[1;32m<ipython-input-211-6f8e2c36488c>\u001b[0m in \u001b[0;36m<module>\u001b[1;34m\u001b[0m\n\u001b[1;32m----> 1\u001b[1;33m \u001b[0midfs\u001b[0m \u001b[1;33m=\u001b[0m \u001b[0mcomputeIDF\u001b[0m\u001b[1;33m(\u001b[0m\u001b[0mdoclist\u001b[0m\u001b[1;33m)\u001b[0m\u001b[1;33m\u001b[0m\u001b[0m\n\u001b[0m\u001b[0;32m      2\u001b[0m \u001b[0midfs\u001b[0m\u001b[1;33m\u001b[0m\u001b[0m\n",
      "\u001b[1;32m<ipython-input-210-0eaea4c99472>\u001b[0m in \u001b[0;36mcomputeIDF\u001b[1;34m(docList)\u001b[0m\n\u001b[0;32m      5\u001b[0m     \u001b[1;32mfor\u001b[0m \u001b[0mdoc\u001b[0m \u001b[1;32min\u001b[0m \u001b[0mdocList\u001b[0m\u001b[1;33m:\u001b[0m\u001b[1;33m\u001b[0m\u001b[0m\n\u001b[0;32m      6\u001b[0m         \u001b[0mbig_wordset\u001b[0m \u001b[1;33m+=\u001b[0m \u001b[0mget_tokens\u001b[0m\u001b[1;33m(\u001b[0m\u001b[0mdoc\u001b[0m\u001b[1;33m)\u001b[0m\u001b[1;33m\u001b[0m\u001b[0m\n\u001b[1;32m----> 7\u001b[1;33m     \u001b[0mbig_wordDict\u001b[0m \u001b[1;33m=\u001b[0m \u001b[0mget_wordDict\u001b[0m\u001b[1;33m(\u001b[0m\u001b[0mbig_wordset\u001b[0m\u001b[1;33m)\u001b[0m\u001b[1;33m\u001b[0m\u001b[0m\n\u001b[0m\u001b[0;32m      8\u001b[0m \u001b[1;33m\u001b[0m\u001b[0m\n\u001b[0;32m      9\u001b[0m     \u001b[0midfDict\u001b[0m \u001b[1;33m=\u001b[0m \u001b[0mdict\u001b[0m\u001b[1;33m.\u001b[0m\u001b[0mfromkeys\u001b[0m\u001b[1;33m(\u001b[0m\u001b[0mbig_wordDict\u001b[0m\u001b[1;33m.\u001b[0m\u001b[0mkeys\u001b[0m\u001b[1;33m(\u001b[0m\u001b[1;33m)\u001b[0m\u001b[1;33m,\u001b[0m \u001b[1;36m0\u001b[0m\u001b[1;33m)\u001b[0m\u001b[1;33m\u001b[0m\u001b[0m\n",
      "\u001b[1;32m<ipython-input-203-01d878ee8f06>\u001b[0m in \u001b[0;36mget_wordDict\u001b[1;34m(wordSet)\u001b[0m\n\u001b[0;32m      1\u001b[0m \u001b[1;32mdef\u001b[0m \u001b[0mget_wordDict\u001b[0m\u001b[1;33m(\u001b[0m\u001b[0mwordSet\u001b[0m\u001b[1;33m)\u001b[0m\u001b[1;33m:\u001b[0m\u001b[1;33m\u001b[0m\u001b[0m\n\u001b[1;32m----> 2\u001b[1;33m     \u001b[0mwordDict\u001b[0m \u001b[1;33m=\u001b[0m \u001b[0mdict\u001b[0m\u001b[1;33m.\u001b[0m\u001b[0mfromkeys\u001b[0m\u001b[1;33m(\u001b[0m\u001b[0mwordSet\u001b[0m\u001b[1;33m,\u001b[0m \u001b[1;36m0\u001b[0m\u001b[1;33m)\u001b[0m\u001b[1;33m\u001b[0m\u001b[0m\n\u001b[0m\u001b[0;32m      3\u001b[0m     \u001b[1;32mfor\u001b[0m \u001b[0mword\u001b[0m \u001b[1;32min\u001b[0m \u001b[0mwordSet\u001b[0m\u001b[1;33m:\u001b[0m\u001b[1;33m\u001b[0m\u001b[0m\n\u001b[0;32m      4\u001b[0m         \u001b[0mwordDict\u001b[0m\u001b[1;33m[\u001b[0m\u001b[0mword\u001b[0m\u001b[1;33m]\u001b[0m\u001b[1;33m+=\u001b[0m\u001b[1;36m1\u001b[0m\u001b[1;33m\u001b[0m\u001b[0m\n\u001b[0;32m      5\u001b[0m \u001b[1;33m\u001b[0m\u001b[0m\n",
      "\u001b[1;31mTypeError\u001b[0m: unhashable type: 'list'"
     ]
    }
   ],
   "source": [
    "idfs = computeIDF(doclist)\n",
    "idfs"
   ]
  },
  {
   "cell_type": "code",
   "execution_count": 36,
   "metadata": {},
   "outputs": [],
   "source": [
    "def computeTFIDF(term_frequency, idfs):\n",
    "    tfidf = {}\n",
    "    for word, val in term_frequency.items():\n",
    "        tfidf[word] = val*idfs[word]\n",
    "    return tfidf"
   ]
  },
  {
   "cell_type": "code",
   "execution_count": 37,
   "metadata": {},
   "outputs": [],
   "source": [
    "tfidfBow = computeTFIDF(term_frequency, idfs)\n"
   ]
  },
  {
   "cell_type": "code",
   "execution_count": 38,
   "metadata": {},
   "outputs": [
    {
     "data": {
      "text/plain": [
       "{'[1] \"item 1a': 0.002954730442323511,\n",
       " '     risk factors': 0.002954730442323511,\n",
       " ' our ability to achieve future profitability will depend on us executing on our strategy and controlling costs': 0.002954730442323511,\n",
       " ' future results may be impacted by expiration of nols': 0.002954730442323511,\n",
       " '': 0.3870696879443799,\n",
       " ' although our business generates significant adjusted ebitda and free cash flow, we have significant non-cash expenses, such as depreciation, depletion and amortization, that are common in waste management businesses and can be increased substantially by acquisitions': 0.002954730442323511,\n",
       " ' these non-cash expense items have had, and may continue to have, a significant impact on our reported pre-tax and after-tax profit or loss': 0.002954730442323511,\n",
       " '  in addition, our ability to continue to achieve profitability will depend on our successfully executing on our strategy of developing vertically integrated geographic operations while maintaining a consistent operational focus on prudent cost management and pricing discipline': 0.002954730442323511,\n",
       " ' if we fail to achieve and maintain profitability, we may be unable to utilize all of our net operating losses prior to expiration, which may affect after-tax results in subsequent periods': 0.002954730442323511,\n",
       " ' our tax position may be affected by recent changes in u': 0.002954730442323511,\n",
       " 's': 0.0265925739809116,\n",
       " ' tax law': 0.002954730442323511,\n",
       " ' on december 22, 2017, the tax cuts and jobs act of 2017 (the \\\\\"tcja\\\\\" or the \\\\\"act\\\\\") was signed into law making significant changes to the internal revenue code': 0.002954730442323511,\n",
       " ' these changes include, but are not limited to, reducing the u': 0.002954730442323511,\n",
       " ' corporate income tax rate from 35% to 21% for tax years beginning after december 31, 2017, allowing an immediate expensing of certain tangible assets placed in service before 2023, limiting the deduction for net interest expense, limiting the use of newly-generated net operating losses to offset 80% of future taxable income, repealing the corporate alternative minimum tax, providing for the refund of alternative minimum tax credits, and making substantial changes to the u': 0.002954730442323511,\n",
       " ' taxation of foreign operations': 0.002954730442323511,\n",
       " ' the limitations on deductions for net interest expense and net operating loss utilization could cause us to have higher taxable income in subsequent years': 0.002954730442323511,\n",
       " ' in response to the tcja, the states in which we are subject to income tax may enact changes to their tax law': 0.002954730442323511,\n",
       " ' any state tax law changes may materially impact our provision for income taxes in the periods in which the changes are enacted': 0.002954730442323511,\n",
       " ' we operate in a highly competitive industry and may not be able to compete effectively with larger and better capitalized companies and governmental service providers': 0.002954730442323511,\n",
       " ' our industry is highly competitive and requires substantial labor and capital resources': 0.002954730442323511,\n",
       " ' some of the markets in which we compete or plan to compete are served by one or more large, national companies, as well as by regional and local companies of varying sizes and resources, some of which may have accumulated substantial goodwill in their markets': 0.002954730442323511,\n",
       " ' some of our competitors may also be better capitalized than we are, have greater name recognition than we do or be able to provide or be willing to bid their services at a lower price than we may be willing to offer': 0.002954730442323511,\n",
       " ' our inability to compete effectively could hinder our growth or adversely impact our operating results': 0.002954730442323511,\n",
       " ' we also compete with counties, municipalities and solid waste districts that maintain or could in the future choose to maintain their own waste collection and disposal operations, including through the implementation of flow control ordinances or similar legislation': 0.002954730442323511,\n",
       " ' these operators may have financial advantages over us because of their access to user fees and similar charges, tax revenues, tax-exempt financing or government subsidies': 0.002954730442323511,\n",
       " ' we may lose contracts through competitive bidding, early termination or governmental action': 0.002954730442323511,\n",
       " ' we derive a significant portion of our revenues from markets in which we have exclusive arrangements, including municipal contracts': 0.002954730442323511,\n",
       " ' our municipal contracts are for a specified term and are or will be subject to competitive bidding in the future': 0.002954730442323511,\n",
       " ' although we intend to bid on additional municipal contracts in our target markets, we may not always, or ever, be the successful bidder': 0.002954730442323511,\n",
       " ' in addition, some or all of our customers, including municipalities, may terminate their contracts with us prior to their scheduled expiration dates': 0.002954730442323511,\n",
       " ' similar risks may affect contracts that we are awarded to operate municipally owned assets, such as landfills': 0.005909460884647022,\n",
       " ' 13': 0.002954730442323511,\n",
       " ' table of contents': 0.03545676530788213,\n",
       " ' governmental action may also affect our exclusive arrangements': 0.002954730442323511,\n",
       " ' municipalities may annex unincorporated areas within counties where we provide collection services': 0.002954730442323511,\n",
       " ' as a result, our customers in such annexed areas may be required to obtain services from competitors that have been franchised by the annexing municipalities to provide those services': 0.002954730442323511,\n",
       " ' in addition, municipalities in which we provide services on a competitive basis may elect to franchise those services': 0.002954730442323511,\n",
       " ' unless we are': 0.002954730442323511,\n",
       " ' awarded franchises by these municipalities, we will lose customers': 0.002954730442323511,\n",
       " ' municipalities may also decide to directly provide services to their residents, on an optional or mandatory basis, which may cause us to lose customers': 0.002954730442323511,\n",
       " ' if we are not able to replace lost revenues resulting from unsuccessful competitive bidding, early termination or the renegotiation of existing contracts with other revenues within a reasonable time period, our results of operations and financial condition could be adversely affected': 0.002954730442323511,\n",
       " ' additionally, the loss of municipal contracts through competitive bidding, early termination or governmental action could cause long lived tangible and intangible assets to be impaired and require a charge against earnings': 0.005909460884647022,\n",
       " ' our results are vulnerable to economic conditions': 0.002954730442323511,\n",
       " ' our business and financial results would be harmed by downturns in the general economy, or in the economy of the regions in which we operate as well as other factors affecting those regions': 0.002954730442323511,\n",
       " ' in an economic slowdown, we experience the negative effects of decreased waste generation, increased competitive pricing pressure, customer turnover, reductions in customer service requirements, and customer business closings and bankruptcies': 0.002954730442323511,\n",
       " ' two lines of business that could see a more immediate impact would be 1) construction and demolition waste collection and disposal and 2) special waste disposal': 0.002954730442323511,\n",
       " ' in addition, a weaker economy may result in declines in recycled commodity prices': 0.002954730442323511,\n",
       " ' worsening economic conditions or a prolonged or recurring economic recession could adversely affect our operating results and expected seasonal fluctuations': 0.002954730442323511,\n",
       " ' further, we cannot assure you that any improvement in economic conditions after such a downturn will result in positive improvement in our operating results or cash flows': 0.002954730442323511,\n",
       " ' some of our customers, including governmental entities, have suffered financial difficulties affecting their credit risk, which could negatively impact our operating results': 0.002954730442323511,\n",
       " ' we provide service to a number of governmental entities and municipalities, some of which have suffered significant financial difficulties due to the downturn in the economy, reduced tax revenue and/or high cost structures': 0.002954730442323511,\n",
       " ' some of these entities could be unable to pay amounts owed to us or renew contracts with us at previous or increased rates': 0.002954730442323511,\n",
       " ' many non-governmental customers have also suffered serious financial difficulties, including bankruptcy in some cases': 0.002954730442323511,\n",
       " ' purchasers of our recyclable commodities can be particularly vulnerable to financial difficulties in times of commodity price volatility': 0.002954730442323511,\n",
       " ' the inability of our customers to pay us in a timely manner or to pay increased rates, particularly large national accounts, could negatively affect our operating results': 0.002954730442323511,\n",
       " ' our financial and operating performance may be affected by the inability in some instances to renew or expand existing landfill permits or acquire new landfills': 0.002954730442323511,\n",
       " ' further, the cost of operation and/or future construction of our existing landfills may become economically unfeasible causing us to abandon or cease operations': 0.002954730442323511,\n",
       " ' we currently own or operate 40 active landfills': 0.002954730442323511,\n",
       " ' our ability to meet our financial and operating objectives may depend in part on our ability to acquire, lease or renew landfill permits, expand existing landfills and develop new landfill sites': 0.002954730442323511,\n",
       " ' it has become increasingly difficult and expensive to obtain required permits and approvals to build, operate and expand solid waste management facilities, including landfills and transfer stations': 0.002954730442323511,\n",
       " ' operating permits for landfills in states where we operate generally must be renewed periodically (typically, every five to ten years)': 0.002954730442323511,\n",
       " ' these operating permits often must be renewed several times during the permitted life of a landfill pursuant to a process that is often time-consuming, requires numerous hearings and compliance with zoning, environmental and other requirements, is frequently challenged by special interest and other groups and may result in the denial of a permit or renewal, the award of a permit or renewal for a shorter duration than we believed was otherwise required by law or the imposition of burdensome terms and conditions that may adversely affect our results of operations': 0.002954730442323511,\n",
       " ' we may not be able to obtain new landfill sites in order to expand into new, non-exclusive markets or expand existing landfill sites in order to support acquisitions and internal growth in our existing markets because increased volumes would further shorten the lives of these landfills': 0.002954730442323511,\n",
       " \" it is also possible that the operation or expansion of existing landfills may become economically infeasible based on management's assessment of permitting issues, acceptable waste streams, available volumes and operating costs, in which case we may abandon expansion plans or abandon or cease operations entirely at a particular landfill\": 0.002954730442323511,\n",
       " ' any such decision could result in impairment charges as well as ongoing costs for closure and site remediation': 0.002954730442323511,\n",
       " \" see ''management's discussion and analysis of financial condition and results of operations - critical accounting policies and estimates - landfill accounting - amortization of landfill assets\": 0.005909460884647022,\n",
       " \"''\": 0.005909460884647022,\n",
       " ' we could be precluded from entering into or maintaining permits or certain contracts if we are unable to obtain sufficient third-party financial assurance or adequate insurance coverage': 0.002954730442323511,\n",
       " ' public solid waste collection, recycling and disposal contracts, and obligations associated with landfill closure and post-closure monitoring typically require us to obtain performance or surety bonds, letters of credit or other means of financial assurance to secure our contractual performance': 0.002954730442323511,\n",
       " ' we currently obtain performance and surety bonds from multiple financial institutions': 0.002954730442323511,\n",
       " ' however, if we are unable to obtain financial assurance in the future in sufficient amounts from appropriately rated sureties or': 0.002954730442323511,\n",
       " ' 14': 0.002954730442323511,\n",
       " ' at acceptable rates, we could be precluded from entering into additional municipal contracts or from obtaining or retaining landfill management contracts or operating permits': 0.002954730442323511,\n",
       " ' any future difficulty in obtaining insurance could also impair our ability to secure future contracts conditioned upon having adequate insurance coverage': 0.002954730442323511,\n",
       " ' our accruals for our landfill site closure and post-closure costs and contamination-related costs may be inadequate': 0.002954730442323511,\n",
       " ' we are required to pay capping, closure and post-closure maintenance costs for all of our landfill sites': 0.002954730442323511,\n",
       " ' our obligations to pay closure or post-closure costs or other contamination-related costs may exceed the amount we have accrued and reserved, amounts we can recover from compensating price adjustments and other amounts available from funds or reserves established to pay such costs': 0.002954730442323511,\n",
       " ' in addition, subsequent to the completion or closure of a landfill site, we may be liable for unforeseen environmental issues, which could result in our payment of substantial remediation costs that could adversely affect our financial condition or operating results': 0.002954730442323511,\n",
       " ' our business requires a high level of capital expenditures': 0.002954730442323511,\n",
       " ' our business is capital-intensive': 0.002954730442323511,\n",
       " ' we must use a substantial portion of our cash flows from operating activities toward capital expenditures, which reduces our flexibility to use such cash flows for other purposes, such as reducing our indebtedness': 0.002954730442323511,\n",
       " ' our capital expenditures could increase if we make acquisitions or further expand our operations or as a result of factors beyond our control, such as changes in federal, state, local or non-u': 0.002954730442323511,\n",
       " ' governmental requirements': 0.002954730442323511,\n",
       " ' the amount that we spend on capital expenditures may exceed current expectations, which may require us to obtain additional funding for our operations or impair our ability to grow our business': 0.002954730442323511,\n",
       " ' we may engage in strategic acquisitions in the future, which may pose significant risks and could have an adverse effect on our operations': 0.002954730442323511,\n",
       " ' we seek to grow through strategic acquisitions in addition to organic growth': 0.002954730442323511,\n",
       " ' we may engage in acquisitions in order to acquire or develop additional disposal capacity or businesses that are complementary to our core business strategy': 0.002954730442323511,\n",
       " ' we expect that increased consolidation in the solid waste services industry will continue to reduce the number of attractive acquisition candidates': 0.002954730442323511,\n",
       " ' if we identify suitable acquisition candidates, we may be unable to negotiate successfully their acquisition at a price or on terms and conditions acceptable to us, including as a result of the limitations imposed by our debt obligations': 0.002954730442323511,\n",
       " ' we may have to borrow money or incur liabilities in order to finance any future obligations and we may not be able to do so on terms favorable to us or at all': 0.002954730442323511,\n",
       " ' in addition, we may be unable to obtain the necessary regulatory approvals to complete potential acquisitions': 0.002954730442323511,\n",
       " ' the integration of acquired businesses and other assets may require significant management time and resources that would otherwise be available for the ongoing management of our existing operations': 0.002954730442323511,\n",
       " ' furthermore, acquired assets may be subject to liabilities and risks that were not identified at the time they were acquired': 0.002954730442323511,\n",
       " ' a portion of our growth and future financial performance depends on our ability to integrate acquired businesses and the success of our acquisitions': 0.002954730442323511,\n",
       " ' one component of our growth strategy involves achieving economies of scale and operating efficiencies by growing through acquisitions': 0.002954730442323511,\n",
       " ' we may not achieve these goals unless we are able to effectively combine the operations of acquired businesses with our existing operations': 0.002954730442323511,\n",
       " ' similar risks may affect contracts that we are awarded to operate municipally-owned assets, such as landfills': 0.002954730442323511,\n",
       " ' in addition, we are not always able to control the timing of our acquisitions': 0.002954730442323511,\n",
       " ' our inability to complete acquisitions within the time frames that we expect may cause our operating results to be less favorable than expected': 0.002954730442323511,\n",
       " ' even if we are able to make acquisitions on advantageous terms and are able to integrate them successfully into our operations and organization, some acquisitions may not fulfill our anticipated financial or strategic objectives in a given market due to factors that we cannot control, such as the price of crude oil, market position, competition, customer base, loss of key employees, third-party legal challenges or governmental actions': 0.002954730442323511,\n",
       " ' in addition, we may change our strategy with respect to a market or acquired businesses and decide to sell such operations at a loss, or keep those operations and recognize an impairment of goodwill and/or intangible assets': 0.002954730442323511,\n",
       " ' each business that we acquire or have acquired may have liabilities or risks that we fail or are unable to discover, or that become more adverse to our business than we anticipated at the time of acquisition': 0.002954730442323511,\n",
       " ' it is possible that the operations or sites we have acquired in the past, or which we may acquire in the future, have liabilities or risks with respect to former or existing operations or properties, or otherwise, which we have not been able to identify and assess through our due diligence investigations': 0.002954730442323511,\n",
       " ' as a successor owner, we may be legally responsible for those liabilities that arise from businesses that we acquire': 0.002954730442323511,\n",
       " ' even if we obtain legally enforceable representations, warranties and indemnities from the sellers of such businesses, they may not cover the liabilities fully or the sellers may not have sufficient funds to perform': 0.002954730442323511,\n",
       " ' 15': 0.002954730442323511,\n",
       " ' their obligations': 0.002954730442323511,\n",
       " ' some environmental liabilities, even if we do not expressly assume them, may be imposed on us under various regulatory schemes and other applicable laws regardless of whether we caused or contributed to any conditions that result in such liabilities': 0.002954730442323511,\n",
       " ' in addition, our insurance program may not cover such sites and will not cover liabilities associated with some environmental issues that may have existed prior to attachment of coverage': 0.002954730442323511,\n",
       " ' a successful uninsured claim against us could harm our financial condition or operating results': 0.002954730442323511,\n",
       " ' furthermore, risks or liabilities of which we are unaware or we judge to be not material or remote at the time of acquisition may develop into more serious risks to our business': 0.002954730442323511,\n",
       " ' any adverse outcome resulting from such risks or liabilities could harm our operations and financial results and create negative publicity, which could damage our reputation and competitive position': 0.002954730442323511,\n",
       " ' the seasonal nature of our business and \\\\\"event-driven\\\\\" waste projects cause our results to fluctuate': 0.002954730442323511,\n",
       " ' based on historic trends, we expect our operating results to vary seasonally, with revenues typically lowest in the first quarter, higher in the second and third quarters, and lower in the fourth quarter than in the second and third quarters': 0.002954730442323511,\n",
       " ' this seasonality reflects the lower volume of solid waste generated during the late fall, winter and early spring because of decreased construction and demolition activities during the winter months in the u': 0.002954730442323511,\n",
       " ' and reduced drilling activity during harsh weather conditions': 0.002954730442323511,\n",
       " ' conversely, mild winter weather conditions may reduce demand for oil and natural gas, which may cause our customers to curtail their drilling programs, which could result in production of lower volumes of waste': 0.002954730442323511,\n",
       " ' our business is located mainly in the southern, midwestern and eastern united states': 0.002954730442323511,\n",
       " ' therefore, our business, financial condition and results of operations are susceptible to downturns in the general economy in these geographic regions and other factors affecting the regions, such as state regulations and severe weather conditions': 0.002954730442323511,\n",
       " ' adverse winter weather conditions slow waste collection activities, resulting in higher labor and operational costs': 0.002954730442323511,\n",
       " ' greater precipitation in the winter increases the weight of collected waste, resulting in higher disposal costs, which are calculated on a per ton basis and increased leachate disposal costs': 0.002954730442323511,\n",
       " \" certain destructive weather conditions that tend to occur during the second half of the year, such as hurricanes that most often impact the south region, can increase the company's revenues in the areas affected\": 0.002954730442323511,\n",
       " ' while weather-related and other occurrences can boost revenues through additional work, the earnings generated can be moderated as a result of significant start-up costs and other factors, resulting in earnings at comparatively lower margins': 0.002954730442323511,\n",
       " ' these destructive weather conditions can result in higher fuel costs, higher labor costs, reduced municipal contract productivity and higher disposal costs in disposal neutral markets': 0.002954730442323511,\n",
       " ' these factors impact period-to-period comparisons of financial results': 0.002954730442323511,\n",
       " ' we may be subject in the normal course of business to judicial, administrative or other third-party proceedings that could interrupt or limit our operations, result in adverse judgments, settlements or fines and create negative publicity': 0.002954730442323511,\n",
       " ' individuals, citizens groups, trade associations, community groups or environmental activists may bring actions against us in connection with our operations that could interrupt or limit the scope of our business': 0.002954730442323511,\n",
       " ' many of these matters raise difficult and complicated factual and legal issues and are subject to uncertainties and complexities': 0.002954730442323511,\n",
       " ' the timing of the final resolutions to lawsuits, regulatory inquiries, and governmental and other legal proceedings is uncertain': 0.002954730442323511,\n",
       " ' additionally, the possible outcomes or resolutions to these matters could include adverse judgments or settlements, either of which could require substantial payments or other financial obligations': 0.002954730442323511,\n",
       " ' any adverse outcome in such proceedings could harm our operations and financial results and create negative publicity, which could damage our reputation and competitive position': 0.002954730442323511,\n",
       " ' fuel supply and prices may fluctuate significantly and we may not be able to pass on cost increases to our customers': 0.002954730442323511,\n",
       " ' the price and supply of fuel can fluctuate significantly based on international, political and economic circumstances, as well as other factors outside our control, such as actions by the organization of the petroleum exporting countries and other gas producers, regional production patterns, weather conditions, political instability in oil and gas producing regions and environmental concerns': 0.002954730442323511,\n",
       " ' we rely on fuel to run our collection and transfer trucks and our equipment used in our transfer stations and landfill operations': 0.002954730442323511,\n",
       " ' supply shortages could substantially increase our operating expenses': 0.002954730442323511,\n",
       " ' additionally, as fuel prices increase, our direct and indirect operating expenses increase and many of our vendors raise their prices as a means to offset their own rising costs': 0.002954730442323511,\n",
       " ' over the last several years, regulations have been adopted mandating changes in the composition of fuels for motor vehicles': 0.002954730442323511,\n",
       " ' the renewable fuel standards that the epa sets annually affect the type of fuel our motor vehicle fleet uses': 0.002954730442323511,\n",
       " ' pursuant to the energy independence and security act of 2007, the epa establishes annual renewable fuel volume requirements and separate volume requirements for four different categories of renewable fuels (renewable fuel, advanced biofuel, cellulosic biofuel and biomass-based diesel)': 0.002954730442323511,\n",
       " \" these volume requirements set standards for the proportion of refiners' or importers' total fuel volume that must be renewable and must take into account the fuels' impact on ghg emissions\": 0.002954730442323511,\n",
       " ' these regulations are one of many factors that may affect the cost of the fuel we use': 0.002954730442323511,\n",
       " ' our operations also require the use of products (such as liners at our landfills), the costs of which may vary with the price of petrochemicals': 0.002954730442323511,\n",
       " ' an increase in the price of petrochemicals could increase the cost of those products, which would increase our operating and capital costs': 0.002954730442323511,\n",
       " ' we are also susceptible to increases in indirect fuel surcharges from our vendors': 0.002954730442323511,\n",
       " ' 16': 0.002954730442323511,\n",
       " ' we are expanding our cng truck fleet, which makes us increasingly dependent on the availability of cng and cng fueling infrastructure and vulnerable to cng prices': 0.002954730442323511,\n",
       " ' we currently operate cng trucks which make up a portion of our fleet': 0.002954730442323511,\n",
       " ' we plan to continue to transition an additional portion of our collection fleet from diesel fuel to cng': 0.002954730442323511,\n",
       " ' however, cng is not yet broadly available in north america': 0.002954730442323511,\n",
       " ' as a result, we have constructed and operate natural gas fueling stations, some of which also serve the public or pre-approved third parties': 0.002954730442323511,\n",
       " ' until the public and third parties in north america broadly adopt cng, which may not be on the timetable we anticipate, it will remain necessary for us to invest capital in cng fueling infrastructure in order to power our cng fleet': 0.002954730442323511,\n",
       " ' concerns have been raised about the potential for emissions from fueling infrastructure that serve natural gas-fueled vehicles': 0.002954730442323511,\n",
       " ' new regulation of, or restrictions on, cng fueling infrastructure or reductions in associated tax incentives could increase our operating costs': 0.002954730442323511,\n",
       " ' additionally, fluctuations in the price and supply of cng could substantially increase our operating expenses, and a reduction in the existing cost differential between cng and diesel fuel could materially reduce the benefits we anticipate from our investment in cng vehicles': 0.002954730442323511,\n",
       " ' fluctuations in the prices of commodities may adversely affect our financial condition, results of operations and cash flows': 0.002954730442323511,\n",
       " ' we collect and process recyclable materials such as paper, cardboard, plastics, aluminum and other metals for sale to third parties': 0.002954730442323511,\n",
       " ' our results of operations may be affected by changing prices or market requirements for recyclable materials': 0.002954730442323511,\n",
       " ' the resale and purchase prices of, and market demand for, recyclable materials fluctuate due to changes in economic conditions and numerous other factors beyond our control': 0.002954730442323511,\n",
       " ' these fluctuations may affect our financial condition, results of operations and cash flows': 0.002954730442323511,\n",
       " ' increases in labor and disposal and related transportation costs could impact our financial results': 0.002954730442323511,\n",
       " ' our continued success will depend on our ability to attract and retain qualified personnel': 0.002954730442323511,\n",
       " ' we compete with other businesses in our markets for qualified employees': 0.002954730442323511,\n",
       " ' from time to time, the labor supply is tight in some of our markets': 0.002954730442323511,\n",
       " ' a shortage of qualified employees, such as truck drivers or mechanics, would require us to enhance our wage and benefits packages to compete more effectively for employees, to hire more expensive temporary employees or to contract for services with more expensive third-party vendors': 0.002954730442323511,\n",
       " ' labor is one of our highest costs and relatively small increases in labor costs per employee could materially affect our cost structure': 0.002954730442323511,\n",
       " ' if we fail to attract and retain qualified employees, control our labor costs during periods of declining volumes or recover any increased labor costs through increased prices we charge for our services or otherwise offset such increases with cost savings in other areas, our operating margins could suffer': 0.002954730442323511,\n",
       " ' disposal and related transportation costs are a significant cost category for us': 0.002954730442323511,\n",
       " ' if we incur increased disposal and related transportation costs to dispose of solid waste and if we are unable to pass these costs on to our customers, our operating results would suffer': 0.002954730442323511,\n",
       " ' efforts by labor unions could divert management attention and adversely affect operating results': 0.002954730442323511,\n",
       " ' from time to time, labor unions attempt to organize our employees': 0.002954730442323511,\n",
       " ' some groups of our employees are represented by unions, and we have negotiated collective bargaining agreements with most of these groups': 0.002954730442323511,\n",
       " ' we are currently engaged in negotiations with other groups of employees represented by unions': 0.002954730442323511,\n",
       " ' additional groups of employees may seek union representation in the future': 0.002954730442323511,\n",
       " ' from time to time, we are subject to unfair labor practice charges, complaints and other legal, administrative and arbitration proceedings initiated against us by unions, the national labor relations board or our employees, which could negatively impact our operating results': 0.002954730442323511,\n",
       " ' negotiating collective bargaining agreements could divert management attention, which could also adversely affect operating results': 0.002954730442323511,\n",
       " ' if we are unable to negotiate acceptable collective bargaining agreements, we may be subject to labor disruptions, such as union-initiated work stoppages, including strikes': 0.002954730442323511,\n",
       " ' depending on the type and duration of any labor disruptions, our operating expenses could increase significantly, which could adversely affect our financial condition, results of operations and cash flows': 0.002954730442323511,\n",
       " ' we could face significant withdrawal liability if we withdraw either individually or as part of a mass withdrawal from participation in any underfunded multiemployer pension plans in which we participate': 0.002954730442323511,\n",
       " ' we participate in a number of \\\\\"multiemployer\\\\\" pension plans administered by employer and employee trustees': 0.002954730442323511,\n",
       " ' we make periodic contributions to these plans pursuant to our various contractual obligations to do so': 0.002954730442323511,\n",
       " ' in the event that we withdraw from participation in or otherwise cease our contributions to one of these plans, then applicable law regarding withdrawal liability could require us to make additional contributions to the plan if it is underfunded, and we would have to reflect that as an expense in our consolidated statement of operations and as a liability on our consolidated balance sheet': 0.002954730442323511,\n",
       " \" our withdrawal liability that would be paid to any multiemployer plan would depend on the extent of the plan's funding of vested benefits\": 0.002954730442323511,\n",
       " ' in the ordinary course of our renegotiation of collective bargaining agreements with labor unions that participate in these plans, we may decide to discontinue participation in a plan, and in that event, we could face a withdrawal liability': 0.002954730442323511,\n",
       " ' some multiemployer plans in which we participate may from time to time have significant underfunded liabilities': 0.002954730442323511,\n",
       " ' such underfunding could increase the size of our potential withdrawal liability': 0.002954730442323511,\n",
       " ' 17': 0.002954730442323511,\n",
       " ' increases in insurance costs and the amount that we self-insure for various risks could reduce our operating margins and reported earnings': 0.002954730442323511,\n",
       " \" we maintain high deductible insurance policies for automobile, general, employer's, environmental, directors' and officers', employment practices and fiduciary liability as well as for employee group health insurance, property insurance and workers' compensation\": 0.002954730442323511,\n",
       " ' we carry umbrella policies for certain types of claims to provide excess coverage over the underlying policies and per incident deductibles': 0.002954730442323511,\n",
       " ' the amounts that we self-insure could cause significant volatility in our operating margins and reported earnings based on the occurrence and claim costs of incidents, accidents, injuries and adverse judgments': 0.002954730442323511,\n",
       " ' our insurance accruals are based on claims filed and estimates of claims incurred but not reported and are developed by our management with assistance from our third-party actuary and our third-party claims administrator': 0.002954730442323511,\n",
       " ' to the extent these estimates are inaccurate, we may recognize substantial additional expenses in future periods that would reduce operating margins and reported earnings': 0.002954730442323511,\n",
       " ' from time to time, actions filed against us include claims for punitive damages, which are generally excluded from coverage under all of our liability insurance policies': 0.002954730442323511,\n",
       " ' a punitive damage award could have an adverse effect on our reported earnings in the period in which it occurs': 0.002954730442323511,\n",
       " ' significant increases in premiums on insurance that we retain also could reduce our margins': 0.002954730442323511,\n",
       " ' we may record material charges against our earnings due to any number of events that could cause impairments to our assets': 0.002954730442323511,\n",
       " ' in accordance with generally accepted accounting principles (\\\\\"gaap\\\\\"), we capitalize certain expenditures and advances relating to disposal site development, expansion projects, acquisitions, software development costs and other projects': 0.002954730442323511,\n",
       " ' additionally, we record long term tangible and intangible assets in relation to businesses we acquire': 0.002954730442323511,\n",
       " ' events that could, in some circumstances, lead to an impairment of these assets include, but are not limited to, shutting down a facility or operation, abandoning a development project, the denial of an expansion permit or the loss of a municipal contract through the competitive bidding process, early termination or government action': 0.002954730442323511,\n",
       " ' additionally, declining waste volumes and development of, and customer preference for, alternatives to traditional waste disposal could warrant asset impairments': 0.002954730442323511,\n",
       " ' if we determine an asset or expansion project is impaired, we will charge against earnings any unamortized capitalized expenditures and advances relating to such asset or project reduced by any portion of the capitalized costs that we estimate will be recoverable, through sale or otherwise': 0.002954730442323511,\n",
       " ' we also carry a significant amount of goodwill on our consolidated balance sheet, which is required to be assessed for impairment annually, and more frequently in the case of certain triggering events': 0.002954730442323511,\n",
       " ' we may be required to incur charges against earnings if such impairment tests indicate that the fair value of a reporting unit is below its carrying value': 0.002954730442323511,\n",
       " ' any such charges could have a material adverse effect on our results of operations': 0.002954730442323511,\n",
       " ' we depend significantly on the services of the members of our senior, regional and local management teams, and the departure of any of those persons could cause our operating results to suffer': 0.002954730442323511,\n",
       " ' our success depends significantly on the continued individual and collective contributions of our senior, regional and local management teams': 0.002954730442323511,\n",
       " ' the loss of the services of any member of our senior, regional or local management or the inability to hire and retain experienced management personnel could have a material adverse effect on us': 0.002954730442323511,\n",
       " ' if we are not able to develop new service offerings or if a competitor develops or obtains exclusive rights to a breakthrough technology, our financial results may suffer': 0.002954730442323511,\n",
       " ' our existing and proposed service offerings to customers may require that we invest in, develop or license, and protect, new technologies': 0.002954730442323511,\n",
       " ' we may experience difficulties or delays in the research, development, production or marketing of new services, which may negatively impact our operating results and prevent us from recouping or realizing a return on the investments required to bring new services to market': 0.002954730442323511,\n",
       " ' we and others in the industry are increasingly focusing on new technologies that provide alternatives to traditional disposal and maximize the resource value of waste': 0.002954730442323511,\n",
       " ' if a competitor develops or obtains exclusive rights to a breakthrough technology that provides a revolutionary change in traditional waste management, our financial results may suffer': 0.002954730442323511,\n",
       " ' our business is subject to operational and safety risks, including the risk of personal injury to employees and others': 0.002954730442323511,\n",
       " ' provision of environmental and waste management services involves risks such as truck accidents, equipment defects, malfunctions and failures, structural landfill failures, fires and natural disasters, which could potentially result in releases of hazardous materials, injury or death of employees and others or a need to shut down or reduce operation of our facilities while remedial actions are undertaken': 0.002954730442323511,\n",
       " ' these risks expose us to potential liability for pollution and other environmental damages, personal injury, loss of life, business interruption and property damage or destruction': 0.002954730442323511,\n",
       " ' while we seek to minimize our exposure to such risks through comprehensive training and compliance programs, as well as vehicle and equipment maintenance programs, if we were to incur substantial liabilities in excess of any applicable insurance, our business, results of operations and financial condition could be adversely affected': 0.002954730442323511,\n",
       " ' 18': 0.002954730442323511,\n",
       " ' the adoption of new accounting standards or interpretations could adversely affect our financial results': 0.002954730442323511,\n",
       " ' our implementation of and compliance with changes in accounting rules and interpretations could adversely affect our operating results or cause unanticipated fluctuations in our results in future periods': 0.002954730442323511,\n",
       " ' the accounting rules and regulations that we must comply with are complex and continually changing': 0.002954730442323511,\n",
       " ' recent actions and public comments from the sec have focused on the integrity of financial reporting': 0.002954730442323511,\n",
       " ' the financial accounting standards board (the \\\\\"fasb\\\\\") has recently introduced several new or proposed accounting standards, or is developing new proposed standards, which would represent a significant change from current industry practice': 0.002954730442323511,\n",
       " \" in addition, many companies' accounting policies are being subjected to heightened scrutiny by regulators and the public\": 0.002954730442323511,\n",
       " ' while our financial statements have been prepared in accordance with gaap, we cannot predict the impact of future changes to accounting principles or our accounting policies on our financial statements in the future': 0.002954730442323511,\n",
       " ' we are subject to substantial governmental regulation and failure to comply with these requirements, as well as enforcement actions and litigation arising from an actual or perceived breach of such requirements, could subject us to fines, penalties and judgments, and impose limits on our ability to operate and expand': 0.002954730442323511,\n",
       " ' we are subject to potential liability and restrictions under environmental laws and regulations, including those relating to the transportation, recycling, treatment, storage and disposal of wastes, discharges of pollutants to air and water, and the remediation of contaminated soil, surface water and groundwater': 0.002954730442323511,\n",
       " ' the waste management industry has been and will continue to be subject to regulation, including permitting and related financial assurance requirements, as well as attempts to further regulate the industry, including efforts to regulate the emission of ghg': 0.002954730442323511,\n",
       " ' our operations are subject to a wide range of federal, state and, in some cases, local environmental, odor and noise and land use restrictions': 0.002954730442323511,\n",
       " ' further restrictions could include:': 0.002954730442323511,\n",
       " ' • limitations on siting and constructing new waste disposal, transfer, recycling or processing facilities or on expanding existing facilities': 0.002954730442323511,\n",
       " ' • regulations or levies on collection and disposal prices, rates and volumes': 0.002954730442323511,\n",
       " ' • limitations or bans on disposal or transportation of out-of-state waste or certain categories of waste': 0.002954730442323511,\n",
       " ' • mandates regarding the management of solid waste, including requirements to recycle, divert or otherwise process certain waste, recycling and other streams': 0.002954730442323511,\n",
       " ' or': 0.002954730442323511,\n",
       " ' • limitations or restrictions on the recycling, processing or transformation of waste, recycling and other streams': 0.002954730442323511,\n",
       " ' regulations affecting the siting, design and closure of landfills could require us to undertake investigatory or remedial activities, curtail operations or close landfills temporarily or permanently': 0.002954730442323511,\n",
       " ' future changes in these regulations may require us to modify, supplement or replace equipment or facilities': 0.002954730442323511,\n",
       " ' the costs of complying with these regulations could be substantial': 0.002954730442323511,\n",
       " ' in order to develop, expand or operate a landfill or other waste management facility, we must have various facility permits and other governmental approvals, including those relating to zoning, environmental protection and land use': 0.002954730442323511,\n",
       " ' these permits and approvals are often difficult, time consuming and costly to obtain and could contain conditions that limit our operations': 0.002954730442323511,\n",
       " ' we also have significant financial obligations relating to final capping, closure, post-closure and environmental remediation at our existing landfills': 0.002954730442323511,\n",
       " ' we establish accruals for these estimated costs, but we could underestimate such accruals': 0.002954730442323511,\n",
       " ' environmental regulatory changes could accelerate or increase capping, closure, post-closure and remediation costs, requiring our expenditures to materially exceed our current accruals': 0.002954730442323511,\n",
       " ' legislation allowing restrictions on interstate transportation of out-of-state or out-of-jurisdiction waste and certain types of flow control, or judicial interpretations of interstate waste and flow control legislation, could adversely affect our solid and hazardous waste management services': 0.002954730442323511,\n",
       " ' additionally, regulations establishing extended producer responsibility (\\\\\"epr\\\\\") are being considered or implemented in many places around the world, including in the u': 0.002954730442323511,\n",
       " ' epr regulations are designed to place either partial or total responsibility on producers to fund the post-use life cycle of the products they create': 0.002954730442323511,\n",
       " ' along with the funding responsibility, producers may be required to take over management of local recycling programs by taking back their products from end users or managing the collection operations and recycling processing infrastructure': 0.002954730442323511,\n",
       " ' there is no federal law establishing epr in the u': 0.002954730442323511,\n",
       " ' however, state and local governments could, and in some cases have, taken steps to implement epr regulations': 0.002954730442323511,\n",
       " ' if wide-ranging epr regulations were adopted, they could have a fundamental impact on the waste streams we manage and how we operate our business, including contract terms and pricing': 0.002954730442323511,\n",
       " ' a significant reduction in the waste, recycling and other streams we manage could have a material adverse effect on our financial condition, results of operations and cash flows': 0.002954730442323511,\n",
       " ' enforcement or implementation of foreign regulations can affect our ability to export products': 0.002954730442323511,\n",
       " ' in 2013, the chinese government began to strictly enforce regulations that establish limits on moisture and non-conforming materials that may be contained in imported recycled paper and plastics': 0.002954730442323511,\n",
       " ' the higher quality expectations resulting from initiatives such as operation': 0.002954730442323511,\n",
       " ' 19': 0.002954730442323511,\n",
       " ' green fence can drive up operating costs in the recycling industry, particularly for single stream mrfs': 0.002954730442323511,\n",
       " ' single stream mrfs process a wide range of commingled materials and tend to receive a higher percentage of non-recyclables, which results in increased processing and residual disposal costs': 0.002954730442323511,\n",
       " ' if operation green fence or other similar initiatives or new regulations increase our operating costs in the future, and we are not able to recapture those costs from our customers, such regulations could have a material adverse effect on our results of operations': 0.002954730442323511,\n",
       " ' if we are not able to comply with the requirements that apply to a particular facility or if we operate without the necessary approvals or permits, we could be subject to administrative or civil, and possibly criminal, fines and penalties, and we may be required to spend substantial capital to bring an operation into compliance, to temporarily or permanently discontinue activities and/or take corrective actions, possibly including the removal or relocation of landfilled materials': 0.002954730442323511,\n",
       " ' we may be liable for any environmental damage that our current or former facilities cause, including damage to neighboring landowners or residents, particularly as a result of the contamination of soil, groundwater or surface water, and especially drinking water, or to natural resources': 0.002954730442323511,\n",
       " ' we may also be liable for any on-site environmental contamination caused by pollutants or hazardous substances whose transportation, treatment or disposal we or our predecessors arranged or conducted': 0.002954730442323511,\n",
       " ' those costs or actions could be significant to us and impact our results of operations, cash flows and available capital': 0.002954730442323511,\n",
       " ' we may not have sufficient insurance coverage for our environmental liabilities, such coverage may not cover all of the potential liabilities to which we may be subject and we may not be able to obtain insurance coverage in the future at reasonable expense or at all': 0.002954730442323511,\n",
       " ' we may make additional acquisitions from time to time in the future, and we have tried and will continue to try to evaluate and limit environmental risks and liabilities presented by businesses to be acquired prior to the acquisition': 0.002954730442323511,\n",
       " ' it is possible that some liabilities, including ones that may exist only because of the past operations of an acquired business, may prove to be more difficult or costly to address than we anticipate': 0.002954730442323511,\n",
       " ' it is also possible that government officials responsible for enforcing environmental laws and regulations may believe an issue is more serious than we expect, or that we will fail to identify or fully appreciate an existing liability before we become legally responsible for addressing it': 0.002954730442323511,\n",
       " ' some of the legal sanctions to which we could become subject could cause the suspension or revocation of a needed permit, prevent us from, or delay us in, obtaining or renewing permits to operate or expand our facilities, or harm our reputation': 0.002954730442323511,\n",
       " ' future changes in regulations applicable to oil and gas drilling and production could adversely affect our energy services business': 0.002954730442323511,\n",
       " ' our energy services business may be adversely affected if drilling activity slows due to industry conditions beyond our control, in addition to changes in oil and gas prices': 0.002954730442323511,\n",
       " \" changes in laws or government regulations regarding ghg emissions from oil and gas operations and/or hydraulic fracturing could increase our customer's costs of doing business and reduce oil and gas exploration and production by customers\": 0.002954730442323511,\n",
       " ' recently, there has been increased attention from the public, some states and the epa to the alleged potential for hydraulic fracturing to impact drinking water supplies': 0.002954730442323511,\n",
       " ' there is also heightened regulatory focus on emissions of methane that occur during drilling and transportation of natural gas, as well as protective disposal of drilling residuals': 0.002954730442323511,\n",
       " ' increased regulation of oil and gas exploration and production and new rules regarding the treatment and disposal of wastes associated with exploration and production operations could increase our costs to provide oilfield services, decrease demand for our energy services business and reduce our margins and revenue from such services': 0.002954730442323511,\n",
       " ' our operations are subject to environmental, health and safety laws and regulations, as well as contractual obligations that may result in significant liabilities': 0.002954730442323511,\n",
       " ' there is risk of incurring significant environmental, health and safety liabilities in the use, treatment, storage, transfer and disposal of waste materials': 0.002954730442323511,\n",
       " ' under applicable environmental laws and regulations, we could be liable if our operations have a negative impact on human health or cause environmental damage to our properties or to the property of other landowners, particularly as a result of the contamination of air, drinking water or soil': 0.002954730442323511,\n",
       " ' under current law, we could also be held liable for damage caused by conditions that existed before we acquired the assets or operations involved': 0.002954730442323511,\n",
       " ' this risk is of particular concern as we execute our growth strategy, partially through acquisitions, because we may be unsuccessful in identifying and assessing potential liabilities during our due diligence investigations': 0.002954730442323511,\n",
       " ' further, the counterparties in such transactions may be unable to perform their indemnification obligations owed to us': 0.002954730442323511,\n",
       " ' our operations include the hauling of medical waste and the hauling and disposal of asbestos': 0.002954730442323511,\n",
       " ' if, notwithstanding our efforts, we inadvertently arrange for the transportation, disposal or treatment of hazardous substances that cause environmental contamination, or if a predecessor owner made such arrangements and, under applicable law, we are treated as a successor to the prior owner, we could be held liable': 0.002954730442323511,\n",
       " ' any substantial liability for environmental damage or violations of health and safety laws and regulations could have a material adverse effect on our financial condition, results of operations and cash flows': 0.002954730442323511,\n",
       " ' in the ordinary course of our business, we have in the past, we are currently, and we may in the future, become involved in legal and administrative proceedings relating to land use and environmental laws and regulations': 0.002954730442323511,\n",
       " ' these include proceedings in which:': 0.002954730442323511,\n",
       " ' 20': 0.002954730442323511,\n",
       " ' • agencies of federal, state, local or foreign governments seek to impose liability on us under applicable statutes, sometimes involving civil or criminal penalties for violations, or to revoke or deny renewal of a permit we need': 0.002954730442323511,\n",
       " ' • local communities, citizen groups, landowners or governmental agencies oppose the issuance of a permit or approval we need, allege violations of the permits under which we operate or laws or regulations to which we are subject or seek to impose liability on us for environmental damage': 0.002954730442323511,\n",
       " ' we generally seek to work with the authorities or other persons involved in these proceedings to resolve any issues raised': 0.002954730442323511,\n",
       " ' if we are not successful, the adverse outcome of one or more of these proceedings could result in, among other things, material increases in our costs or liabilities as well as material charges for asset impairments': 0.002954730442323511,\n",
       " ' the adoption of climate change legislation or regulations restricting emissions of ghgs could increase our costs to operate': 0.002954730442323511,\n",
       " ' our landfill operations emit methane, which is identified as a ghg': 0.002954730442323511,\n",
       " ' there are a number of legislative and regulatory efforts at the state, regional and federal levels to curtail the emission of ghgs to ameliorate the effect of climate change, though the trump administration has pulled back from these initiatives on a federal level': 0.002954730442323511,\n",
       " \" in 2010, the epa published a psd and title v ghg tailoring rule, which expanded the epa's federal air permitting authority to include the six ghgs\": 0.002954730442323511,\n",
       " ' the rule set new thresholds for ghg emissions that define when the clean air act of 1970, as amended (the \\\\\"clean air act\\\\\"), permits are required': 0.002954730442323511,\n",
       " ' the u': 0.002954730442323511,\n",
       " ' supreme court, however, in june 2014, issued a decision limiting the applicability and scope of epa permitting requirements for ghgs from stationary sources': 0.002954730442323511,\n",
       " '  on august 3, 2015, the epa finalized the clean power plan rule, which regulates c02 emissions from existing power plants, and the carbon pollution standards for new, modified, and reconstructed power plants': 0.002954730442323511,\n",
       " ' the implementation of the clean power plan, however, has been stayed by the u': 0.002954730442323511,\n",
       " ' supreme court, and the epa has proposed repealing and replacing the plan': 0.002954730442323511,\n",
       " ' on july 15, 2016, the epa published updates to its 1996 emission guidelines for existing msw landfills that further reduce methane emissions': 0.002954730442323511,\n",
       " ' in a simultaneous rulemaking, the epa published updated requirements for reducing methane emissions from new and modified landfills': 0.002954730442323511,\n",
       " ' in 2017, under the trump administration, the epa announced a 90-day administrative stay delaying the implementation of the methane rules': 0.002954730442323511,\n",
       " ' in january 2018, the epa decided not to extend the stay, but it is also not currently imposing any compliance deadlines': 0.002954730442323511,\n",
       " ' moreover, in august 2016, the epa and the department of transportation\\'s national highway traffic safety administration (\\\\\"nhtsa\\\\\") finalized a national program that would establish the next phase of ghg emissions and fuel efficiency standards for medium and heavy-duty vehicles': 0.002954730442323511,\n",
       " ' industry groups have filed legal challenges to the rulemaking before the d': 0.002954730442323511,\n",
       " 'c': 0.005909460884647022,\n",
       " ' circuit court of appeals': 0.002954730442323511,\n",
       " ' on may 8, 2017, the d': 0.002954730442323511,\n",
       " \" circuit court of appeals granted a motion by the epa and the nhtsa to hold the litigation challenging the rule in abeyance while the agencies evaluate a petition to reconsider the rule filed by one of the rule's challengers\": 0.002954730442323511,\n",
       " ' the current requirements of these rules have not significantly affected our operations or cash flows, due to the tailored thresholds and exclusions of certain emissions from regulation': 0.002954730442323511,\n",
       " ' however, if certain changes to these regulations were enacted, such as lowering the thresholds or the inclusion of biogenic emissions, then the amendments could have an adverse effect on our operating costs': 0.002954730442323511,\n",
       " ' more broadly, comprehensive federal climate change legislation could impose costs on our operations that might not be offset by the revenue increases associated with our lower-carbon service options, the materiality of which we cannot predict': 0.002954730442323511,\n",
       " ' future changes in laws or renewed enforcement of laws regulating the flow of solid waste in interstate commerce could adversely affect our operating results': 0.002954730442323511,\n",
       " ' various state and local governments have enacted, or are considering enacting, laws and regulations that restrict the disposal within the jurisdiction of solid waste generated outside the jurisdiction': 0.002954730442323511,\n",
       " ' in addition, some state and local governments have promulgated, or are considering promulgating, laws and regulations which govern the flow of waste generated within their respective jurisdictions': 0.002954730442323511,\n",
       " ' these \\\\\"flow control\\\\\" laws and regulations typically require that waste generated within the jurisdiction be directed to specified facilities for disposal or processing, which could limit or prohibit the disposal or processing of waste in our transfer stations and landfills': 0.002954730442323511,\n",
       " ' such flow control laws and regulations could also require us to deliver waste collected by us within a particular jurisdiction to facilities not owned or controlled by us, which could increase our costs and reduce our revenues': 0.002954730442323511,\n",
       " ' in addition, such laws and regulations could require us to obtain additional costly licenses or authorizations to be deemed an authorized hauler or disposal facility': 0.002954730442323511,\n",
       " ' the waste management industry is undergoing fundamental change as traditional waste streams are increasingly viewed as renewable resources and changes in laws and environmental policies may limit the items that enter the waste stream, any of which may adversely impact volumes and tipping fees at our landfills': 0.002954730442323511,\n",
       " ' alternatives to landfill disposal may cause our revenues and operating results to decline': 0.002954730442323511,\n",
       " ' as we have continued to develop our landfill capacity, the waste management industry has increasingly recognized the value of the waste stream as a renewable resource and new alternatives to landfilling are being developed that seek to maximize the renewable energy and other resource benefits of waste': 0.002954730442323511,\n",
       " ' we are increasingly competing with companies that seek to use parts of the waste stream as feedstock for renewable energy supplies': 0.002954730442323511,\n",
       " ' in addition, environmental initiatives, such as product stewardship': 0.002954730442323511,\n",
       " ' 21': 0.002954730442323511,\n",
       " ' and epr, which hold manufacturers or other actors in the product life cycle responsible for the disposal of manufactured goods, may reduce the volume of products that enter the waste stream': 0.002954730442323511,\n",
       " ' further, there may be changes in the laws that reclassify items in the waste stream as hazardous or that prohibit the disposal of certain wastes in our landfills': 0.002954730442323511,\n",
       " ' these alternatives and changes in laws may impact the demand for landfill space, which may affect our ability to operate our landfills at full capacity, as well as the tipping fees and prices that we can charge for utilization of landfill space': 0.002954730442323511,\n",
       " ' as a result, our revenues and operating margins could be adversely affected': 0.002954730442323511,\n",
       " ' counties and municipalities in which we own and operate landfills may be required to formulate and implement comprehensive plans to reduce the volume of solid waste deposited in landfills through waste planning, composting, recycling or other programs': 0.002954730442323511,\n",
       " ' some state and local governments prohibit the disposal of certain types of wastes, such as yard waste, at landfills': 0.002954730442323511,\n",
       " ' such actions have reduced and may in the future further reduce the volume of waste going to landfills in certain areas, which may affect our ability to operate our landfills at full capacity and could adversely affect our operating results': 0.002954730442323511,\n",
       " ' we rely on computer systems to run our business and security breaches could disrupt or damage our internal operations, information technology systems or reputation and expose us to litigation risk': 0.002954730442323511,\n",
       " ' we may experience problems with the operation of our current information technology systems or the technology systems of third parties on which we rely, as well as the development and deployment of new information technology systems, that could adversely affect, or even temporarily disrupt, all or a portion of our operations until resolved': 0.002954730442323511,\n",
       " ' inabilities and delays in implementing new systems can also affect our ability to realize projected or expected cost savings': 0.002954730442323511,\n",
       " ' we use computers in substantially all aspects of our business operations': 0.002954730442323511,\n",
       " ' we also use mobile devices, social networking and other online activities to connect with our employees and our customers': 0.002954730442323511,\n",
       " ' such uses give rise to cyber security risks, including security breach, espionage, system disruption, hacking, cyber-attack, theft and inadvertent release of information': 0.002954730442323511,\n",
       " \" our business involves the storage and transmission of numerous classes of sensitive and/or confidential information and intellectual property, including customers' personal information, private information about employees, and our financial and strategic information\": 0.002954730442323511,\n",
       " ' further, as we pursue our strategy to grow through strategic acquisitions in addition to internal growth, our technological presence and corresponding exposure to cyber security risk will increase': 0.002954730442323511,\n",
       " ' if we fail to assess and identify cyber security risks associated with acquisitions and new initiatives, we may become increasingly vulnerable to such risks': 0.002954730442323511,\n",
       " ' despite our implementation of network security measures, computer programmers and hackers, or even internal users, may be able to penetrate, create systems disruptions or cause shutdowns of our network security or that of third-party companies with which we have contracted': 0.002954730442323511,\n",
       " ' as a result, we could experience significant disruptions of our operations and incur significant expenses addressing problems created by these breaches': 0.002954730442323511,\n",
       " ' such unauthorized access could disrupt our business and could result in a loss of revenue or assets and any compromise of customer information could subject us to customer or government litigation and harm our reputation, which could adversely affect our business and growth': 0.002954730442323511,\n",
       " ' many states have adopted breach of data security statutes or regulations that require notification to consumers if the security of their personal information is breached': 0.002954730442323511,\n",
       " ' governmental focus on data security may lead to additional legislative action, and the increased emphasis on information security may lead customers to request that we take additional measures to enhance security': 0.002954730442323511,\n",
       " ' as a result, we may have to modify our business with the goal of further improving data security, which would result in increased expenses and operating complexity': 0.002954730442323511,\n",
       " ' risks related to our indebtedness': 0.002954730442323511,\n",
       " ' our indebtedness could adversely affect our financial condition and limit our financial flexibility': 0.002954730442323511,\n",
       " ' as of december 31, 2017, we had approximately $1,989': 0.002954730442323511,\n",
       " '7 of indebtedness outstanding and made cash interest payments of $86': 0.002954730442323511,\n",
       " '2 for fiscal 2017': 0.002954730442323511,\n",
       " ' we may incur additional debt in the future': 0.002954730442323511,\n",
       " ' this amount of our indebtedness could:': 0.002954730442323511,\n",
       " ' • increase our vulnerability to general adverse economic and industry conditions or increases in interest rates': 0.002954730442323511,\n",
       " ' • limit our ability to obtain additional financing or refinancing at attractive rates': 0.002954730442323511,\n",
       " ' • require the dedication of a substantial portion of our cash flow from operations to the payment of principal of, and interest on, our indebtedness, thereby reducing the availability of such cash flow to fund our growth strategy, working capital, capital expenditures, dividends, share repurchases and other general corporate purposes': 0.002954730442323511,\n",
       " ' • limit our flexibility in planning for, or reacting to, changes in our business and the industry': 0.002954730442323511,\n",
       " ' and': 0.008864191326970533,\n",
       " ' • place us at a competitive disadvantage relative to our competitors with less debt': 0.002954730442323511,\n",
       " ' 22': 0.002954730442323511,\n",
       " ' further, our outstanding indebtedness is subject to financial and other covenants, which may be affected by changes in economic or business conditions or other events that are beyond our control': 0.002954730442323511,\n",
       " ' if we fail to comply with the covenants under any of our indebtedness, we may be in default under the documents governing such indebtedness, which may entitle the lenders thereunder to accelerate the debt obligations': 0.002954730442323511,\n",
       " ' a default under any of our indebtedness could result in cross-defaults under our other indebtedness': 0.002954730442323511,\n",
       " ' in order to avoid defaulting on our indebtedness, we may be required to take actions such as reducing or delaying capital expenditures, reducing or eliminating dividends or stock repurchases, selling assets, restructuring or refinancing all or part of our existing debt or seeking additional equity capital, any of which may not be available on terms that are favorable to us, if at all': 0.002954730442323511,\n",
       " ' despite our high indebtedness level, we and our subsidiaries may still be able to incur significant additional amounts of debt, which could further exacerbate the risks associated with our substantial indebtedness': 0.002954730442323511,\n",
       " ' we and our subsidiaries may be able to incur substantial additional indebtedness in the future': 0.002954730442323511,\n",
       " ' although the agreements governing our indebtedness contain restrictions on incurring additional indebtedness, these restrictions are subject to a number of significant qualifications and exceptions and, under certain circumstances, the amount of indebtedness that could be incurred in compliance with these restrictions could be substantial': 0.002954730442323511,\n",
       " ' our debt agreements contain restrictions that limit our flexibility in operating our business': 0.002954730442323511,\n",
       " ' the agreements governing our outstanding indebtedness and our existing senior secured credit facilities contain various covenants that limit our ability to engage in specified types of transactions': 0.002954730442323511,\n",
       " ' these covenants may limit our ability and the ability of our restricted subsidiaries, under certain circumstances, to, among other things:': 0.002954730442323511,\n",
       " ' • incur additional indebtedness and issue certain preferred stock': 0.002954730442323511,\n",
       " ' • pay dividends on, repurchase or make distributions in respect of capital stock or make other restricted payments': 0.002954730442323511,\n",
       " ' • place limitations on distributions from restricted subsidiaries': 0.002954730442323511,\n",
       " ' • issue or sell capital stock of restricted subsidiaries': 0.002954730442323511,\n",
       " ' • guarantee certain indebtedness': 0.002954730442323511,\n",
       " ' • make certain investments': 0.002954730442323511,\n",
       " ' • sell or exchange assets': 0.002954730442323511,\n",
       " ' • enter into transactions with affiliates': 0.002954730442323511,\n",
       " ' • create certain liens': 0.002954730442323511,\n",
       " ' • consolidate, merge or transfer all or substantially all of our assets and the assets of our subsidiaries on a consolidated basis': 0.002954730442323511,\n",
       " ' a breach of any of these covenants could result in a default under one or more of these agreements, including as a result of cross default provisions, and, in the case of our existing revolving credit facility, permit the lenders to call the loans or cease making loans to us': 0.002954730442323511,\n",
       " ' we may utilize derivative financial instruments to reduce our exposure to market risks from changes in interest rates on our variable rate indebtedness and we will be exposed to risks related to counterparty credit worthiness or non-performance of these instruments': 0.002954730442323511,\n",
       " ' we may enter into interest rate caps to limit our exposure to changes in variable interest rates': 0.002954730442323511,\n",
       " ' such instruments will result in economic losses should interest rates not rise above the strike price in the derivative contracts': 0.002954730442323511,\n",
       " ' we will be exposed to credit-related losses which could impact the results of operations in the event of fluctuations in the fair value of the interest rate caps due to a change in the credit worthiness or non-performance by the counterparties to the interest rate caps': 0.002954730442323511,\n",
       " ' see note 7, derivative instruments and hedging activities, to our audited consolidated financial statements included elsewhere in this form 10-k': 0.002954730442323511,\n",
       " ' 23': 0.002954730442323511,\n",
       " ' risks related to ownership of our common stock': 0.002954730442323511,\n",
       " ' because we have no current plans to pay cash dividends on our common stock for the foreseeable future, you may not receive any return on investment unless you sell your common stock for a price greater than what you paid for it': 0.002954730442323511,\n",
       " ' we intend to retain future earnings, if any, for future operations, expansion and debt repayment and have no current plans to pay any cash dividends for the foreseeable future': 0.002954730442323511,\n",
       " ' the declaration, amount and payment of any future dividends on shares of common stock will be at the sole discretion of our board of directors': 0.002954730442323511,\n",
       " ' our board of directors may take into account general and economic conditions, our financial condition and results of operations, our available cash and current and anticipated cash needs, capital requirements, contractual, legal, tax and regulatory restrictions and implications on the payment of dividends by us to our stockholders or by our subsidiaries to us and such other factors as our board of directors may deem relevant': 0.002954730442323511,\n",
       " ' in addition, our ability to pay dividends is limited by covenants contained in our existing indebtedness and may be limited by covenants contained in any future indebtedness we or our subsidiaries incur': 0.002954730442323511,\n",
       " ' as a result, you may not receive any return on an investment in our common stock unless you sell our common stock for a price greater than what you paid for it': 0.002954730442323511,\n",
       " ' if securities analysts do not publish research or reports about our business or if they downgrade our stock or our sector, our stock price and trading volume could decline': 0.002954730442323511,\n",
       " ' the trading market for our common stock relies in part on the research and reports that industry or financial analysts publish about us or our business': 0.002954730442323511,\n",
       " ' we do not control these analysts': 0.002954730442323511,\n",
       " ' furthermore, if one or more of the analysts who do cover us downgrade our stock or our industry, or the stock of any of our competitors, or publish inaccurate or unfavorable research about our business, the price of our stock could decline': 0.002954730442323511,\n",
       " ' if one or more of these analysts ceases coverage of us or fail to publish reports on us regularly, we could lose visibility in the market, which in turn could cause our stock price or trading volume to decline': 0.002954730442323511,\n",
       " ' future sales, or the perception of future sales, by us or our existing stockholders in the public market could cause the market price for our common stock to decline': 0.002954730442323511,\n",
       " ' the sale of substantial amounts of shares of our common stock in the public market, or the perception that such sales could occur, could harm the prevailing market price of shares of our common stock': 0.002954730442323511,\n",
       " ' these sales, or the possibility that these sales may occur, also might make it more difficult for us to sell equity securities in the future at a time and at a price that we deem appropriate': 0.002954730442323511,\n",
       " ' anti-takeover provisions in our organizational documents could delay or prevent a change of control': 0.002954730442323511,\n",
       " ' certain provisions of our certificate of incorporation and bylaws may have an anti-takeover effect and may delay, defer or prevent a merger, acquisition, tender offer, takeover attempt or other change of control transaction that a stockholder might consider in its best interest, including those attempts that might result in a premium over the market price for the shares held by our stockholders': 0.002954730442323511,\n",
       " ' these provisions will provide for, among other things:': 0.002954730442323511,\n",
       " ' • a classified board of directors with staggered three-year terms': 0.002954730442323511,\n",
       " ' • the ability of our board of directors to issue one or more series of preferred stock': 0.002954730442323511,\n",
       " ' • advance notice for nominations of directors by stockholders and for stockholders to include matters to be considered at our annual meetings': 0.002954730442323511,\n",
       " ' • certain limitations on convening special stockholder meetings': 0.002954730442323511,\n",
       " ' • the removal of directors for cause and only upon the affirmative vote of holders of a majority of the shares of common stock entitled to vote in the election of directors': 0.002954730442323511,\n",
       " ' • that certain provisions may be amended only by the affirmative vote of at least 66 2/3% of the shares of common stock entitled to vote': 0.002954730442323511,\n",
       " \" these anti-takeover provisions could make it more difficult for a third party to acquire us, even if the third-party's offer may be considered beneficial by many of our stockholders\": 0.002954730442323511,\n",
       " ' as a result, our stockholders may be limited in their ability to obtain a premium for their shares': 0.002954730442323511,\n",
       " ' 24': 0.002954730442323511,\n",
       " ' a few significant shareholders may influence our policies and decisions and their interests may conflict with ours or yours in the future': 0.002954730442323511,\n",
       " ' a few significant shareholders who, while they do not act as a group, may influence or control the direction of our business': 0.002954730442323511,\n",
       " ' if the ownership of our shares continues to be highly concentrated, it may limit your ability and the ability of other shareholders to influence significant corporate decisions': 0.002954730442323511,\n",
       " '\"\\n': 0.002954730442323511}"
      ]
     },
     "execution_count": 38,
     "metadata": {},
     "output_type": "execute_result"
    }
   ],
   "source": [
    "tfidfBow\n"
   ]
  },
  {
   "cell_type": "code",
   "execution_count": 39,
   "metadata": {},
   "outputs": [
    {
     "data": {
      "text/plain": [
       "[('[1] \"item 1a', 0.002954730442323511),\n",
       " ('     risk factors', 0.002954730442323511),\n",
       " (' our ability to achieve future profitability will depend on us executing on our strategy and controlling costs',\n",
       "  0.002954730442323511),\n",
       " (' future results may be impacted by expiration of nols',\n",
       "  0.002954730442323511),\n",
       " (' although our business generates significant adjusted ebitda and free cash flow, we have significant non-cash expenses, such as depreciation, depletion and amortization, that are common in waste management businesses and can be increased substantially by acquisitions',\n",
       "  0.002954730442323511),\n",
       " (' these non-cash expense items have had, and may continue to have, a significant impact on our reported pre-tax and after-tax profit or loss',\n",
       "  0.002954730442323511),\n",
       " ('  in addition, our ability to continue to achieve profitability will depend on our successfully executing on our strategy of developing vertically integrated geographic operations while maintaining a consistent operational focus on prudent cost management and pricing discipline',\n",
       "  0.002954730442323511),\n",
       " (' if we fail to achieve and maintain profitability, we may be unable to utilize all of our net operating losses prior to expiration, which may affect after-tax results in subsequent periods',\n",
       "  0.002954730442323511),\n",
       " (' our tax position may be affected by recent changes in u',\n",
       "  0.002954730442323511),\n",
       " (' tax law', 0.002954730442323511),\n",
       " (' on december 22, 2017, the tax cuts and jobs act of 2017 (the \\\\\"tcja\\\\\" or the \\\\\"act\\\\\") was signed into law making significant changes to the internal revenue code',\n",
       "  0.002954730442323511),\n",
       " (' these changes include, but are not limited to, reducing the u',\n",
       "  0.002954730442323511),\n",
       " (' corporate income tax rate from 35% to 21% for tax years beginning after december 31, 2017, allowing an immediate expensing of certain tangible assets placed in service before 2023, limiting the deduction for net interest expense, limiting the use of newly-generated net operating losses to offset 80% of future taxable income, repealing the corporate alternative minimum tax, providing for the refund of alternative minimum tax credits, and making substantial changes to the u',\n",
       "  0.002954730442323511),\n",
       " (' taxation of foreign operations', 0.002954730442323511),\n",
       " (' the limitations on deductions for net interest expense and net operating loss utilization could cause us to have higher taxable income in subsequent years',\n",
       "  0.002954730442323511),\n",
       " (' in response to the tcja, the states in which we are subject to income tax may enact changes to their tax law',\n",
       "  0.002954730442323511),\n",
       " (' any state tax law changes may materially impact our provision for income taxes in the periods in which the changes are enacted',\n",
       "  0.002954730442323511),\n",
       " (' we operate in a highly competitive industry and may not be able to compete effectively with larger and better capitalized companies and governmental service providers',\n",
       "  0.002954730442323511),\n",
       " (' our industry is highly competitive and requires substantial labor and capital resources',\n",
       "  0.002954730442323511),\n",
       " (' some of the markets in which we compete or plan to compete are served by one or more large, national companies, as well as by regional and local companies of varying sizes and resources, some of which may have accumulated substantial goodwill in their markets',\n",
       "  0.002954730442323511)]"
      ]
     },
     "execution_count": 39,
     "metadata": {},
     "output_type": "execute_result"
    }
   ],
   "source": [
    "# from https://stackoverflow.com/questions/4743035/obtaining-the-least-common-element-in-array\n",
    "def least_common_values(array, to_find=None):\n",
    "    counter = collections.Counter(array)\n",
    "    if to_find is None:\n",
    "        return sorted(counter.items(), key=itemgetter(1), reverse=False)\n",
    "    return heapq.nsmallest(to_find, counter.items(), key=itemgetter(1))\n",
    "least_common_values(tfidfBow, 20)"
   ]
  },
  {
   "cell_type": "code",
   "execution_count": 40,
   "metadata": {},
   "outputs": [
    {
     "data": {
      "text/plain": [
       "[('', 0.3870696879443799),\n",
       " (' table of contents', 0.03545676530788213),\n",
       " ('s', 0.0265925739809116),\n",
       " (' and', 0.008864191326970533),\n",
       " (' similar risks may affect contracts that we are awarded to operate municipally owned assets, such as landfills',\n",
       "  0.005909460884647022),\n",
       " (' additionally, the loss of municipal contracts through competitive bidding, early termination or governmental action could cause long lived tangible and intangible assets to be impaired and require a charge against earnings',\n",
       "  0.005909460884647022),\n",
       " (\" see ''management's discussion and analysis of financial condition and results of operations - critical accounting policies and estimates - landfill accounting - amortization of landfill assets\",\n",
       "  0.005909460884647022),\n",
       " (\"''\", 0.005909460884647022),\n",
       " ('c', 0.005909460884647022),\n",
       " ('[1] \"item 1a', 0.002954730442323511),\n",
       " ('     risk factors', 0.002954730442323511),\n",
       " (' our ability to achieve future profitability will depend on us executing on our strategy and controlling costs',\n",
       "  0.002954730442323511),\n",
       " (' future results may be impacted by expiration of nols',\n",
       "  0.002954730442323511),\n",
       " (' although our business generates significant adjusted ebitda and free cash flow, we have significant non-cash expenses, such as depreciation, depletion and amortization, that are common in waste management businesses and can be increased substantially by acquisitions',\n",
       "  0.002954730442323511),\n",
       " (' these non-cash expense items have had, and may continue to have, a significant impact on our reported pre-tax and after-tax profit or loss',\n",
       "  0.002954730442323511),\n",
       " ('  in addition, our ability to continue to achieve profitability will depend on our successfully executing on our strategy of developing vertically integrated geographic operations while maintaining a consistent operational focus on prudent cost management and pricing discipline',\n",
       "  0.002954730442323511),\n",
       " (' if we fail to achieve and maintain profitability, we may be unable to utilize all of our net operating losses prior to expiration, which may affect after-tax results in subsequent periods',\n",
       "  0.002954730442323511),\n",
       " (' our tax position may be affected by recent changes in u',\n",
       "  0.002954730442323511),\n",
       " (' tax law', 0.002954730442323511),\n",
       " (' on december 22, 2017, the tax cuts and jobs act of 2017 (the \\\\\"tcja\\\\\" or the \\\\\"act\\\\\") was signed into law making significant changes to the internal revenue code',\n",
       "  0.002954730442323511)]"
      ]
     },
     "execution_count": 40,
     "metadata": {},
     "output_type": "execute_result"
    }
   ],
   "source": [
    "collections.Counter(tfidfBow).most_common(20)\n"
   ]
  },
  {
   "cell_type": "code",
   "execution_count": 41,
   "metadata": {
    "scrolled": true
   },
   "outputs": [
    {
     "data": {
      "text/plain": [
       "[('', 0.22782608695652173),\n",
       " (' table of contents', 0.020869565217391306),\n",
       " ('s', 0.01565217391304348),\n",
       " (' and', 0.0052173913043478265),\n",
       " (' similar risks may affect contracts that we are awarded to operate municipally owned assets, such as landfills',\n",
       "  0.0034782608695652175),\n",
       " (' additionally, the loss of municipal contracts through competitive bidding, early termination or governmental action could cause long lived tangible and intangible assets to be impaired and require a charge against earnings',\n",
       "  0.0034782608695652175),\n",
       " (\" see ''management's discussion and analysis of financial condition and results of operations - critical accounting policies and estimates - landfill accounting - amortization of landfill assets\",\n",
       "  0.0034782608695652175),\n",
       " (\"''\", 0.0034782608695652175),\n",
       " ('c', 0.0034782608695652175),\n",
       " ('[1] \"item 1a', 0.0017391304347826088),\n",
       " ('     risk factors', 0.0017391304347826088),\n",
       " (' our ability to achieve future profitability will depend on us executing on our strategy and controlling costs',\n",
       "  0.0017391304347826088),\n",
       " (' future results may be impacted by expiration of nols',\n",
       "  0.0017391304347826088),\n",
       " (' although our business generates significant adjusted ebitda and free cash flow, we have significant non-cash expenses, such as depreciation, depletion and amortization, that are common in waste management businesses and can be increased substantially by acquisitions',\n",
       "  0.0017391304347826088),\n",
       " (' these non-cash expense items have had, and may continue to have, a significant impact on our reported pre-tax and after-tax profit or loss',\n",
       "  0.0017391304347826088),\n",
       " ('  in addition, our ability to continue to achieve profitability will depend on our successfully executing on our strategy of developing vertically integrated geographic operations while maintaining a consistent operational focus on prudent cost management and pricing discipline',\n",
       "  0.0017391304347826088),\n",
       " (' if we fail to achieve and maintain profitability, we may be unable to utilize all of our net operating losses prior to expiration, which may affect after-tax results in subsequent periods',\n",
       "  0.0017391304347826088),\n",
       " (' our tax position may be affected by recent changes in u',\n",
       "  0.0017391304347826088),\n",
       " (' tax law', 0.0017391304347826088),\n",
       " (' on december 22, 2017, the tax cuts and jobs act of 2017 (the \\\\\"tcja\\\\\" or the \\\\\"act\\\\\") was signed into law making significant changes to the internal revenue code',\n",
       "  0.0017391304347826088)]"
      ]
     },
     "execution_count": 41,
     "metadata": {},
     "output_type": "execute_result"
    }
   ],
   "source": [
    "collections.Counter(term_frequency).most_common(20)\n",
    "\n"
   ]
  },
  {
   "cell_type": "code",
   "execution_count": 42,
   "metadata": {},
   "outputs": [
    {
     "name": "stderr",
     "output_type": "stream",
     "text": [
      "[nltk_data] Downloading package stopwords to\n",
      "[nltk_data]     C:\\Users\\xanen\\AppData\\Roaming\\nltk_data...\n",
      "[nltk_data]   Package stopwords is already up-to-date!\n"
     ]
    },
    {
     "name": "stdout",
     "output_type": "stream",
     "text": [
      "Wall time: 6.89 s\n",
      "Wall time: 12.3 s\n",
      "Wall time: 1.03 s\n",
      "Dictionary(4449 unique tokens: ['30-day', 'absent', 'adverse..', 'adviser..', 'agnost']...)\n",
      "Wall time: 6.19 s\n"
     ]
    }
   ],
   "source": [
    "# Latent Dirichlet Allocation\n",
    "# Ref http://brandonrose.org/clustering\n",
    "# LDA is a probabilistic topic model that assumes documents\n",
    "# are a mixture of topics and that each word in the document is attributable to the document's topics.\n",
    "from nltk.stem.snowball import SnowballStemmer\n",
    "import re\n",
    "stemmer = SnowballStemmer(\"english\")\n",
    "nltk.download('stopwords')\n",
    "stopwords = nltk.corpus.stopwords.words('english')\n",
    "\n",
    "input_texts = doclist\n",
    "\n",
    "def tokenize_and_stem(text):\n",
    "    # first tokenize by sentence, then by word to ensure that punctuation is caught as it's own token\n",
    "    tokens = [word for sent in nltk.sent_tokenize(text) for word in nltk.word_tokenize(sent)]\n",
    "    filtered_tokens = []\n",
    "    # filter out any tokens not containing letters (e.g., numeric tokens, raw punctuation)\n",
    "    for token in tokens:\n",
    "        if re.search('[a-zA-Z]', token):\n",
    "            filtered_tokens.append(token)\n",
    "    stems = [stemmer.stem(t) for t in filtered_tokens]\n",
    "    return stems\n",
    "\n",
    "\n",
    "import string\n",
    "def strip_proppers(text):\n",
    "    # first tokenize by sentence, then by word to ensure that punctuation is caught as it's own token\n",
    "    tokens = [word for sent in nltk.sent_tokenize(text) for word in nltk.word_tokenize(sent) if word.islower()]\n",
    "    return \"\".join([\" \"+i if not i.startswith(\"'\") and i not in string.punctuation else i for i in tokens]).strip()\n",
    "from nltk.tag import pos_tag\n",
    "\n",
    "def strip_proppers_POS(text):\n",
    "    tagged = pos_tag(text.split()) #use NLTK's part of speech tagger\n",
    "    non_propernouns = [word for word,pos in tagged if pos != 'NNP' and pos != 'NNPS']\n",
    "    return non_propernouns\n",
    "from gensim import corpora, models, similarities \n",
    "\n",
    "#remove proper names0\n",
    "%time preprocess = [strip_proppers(doc) for doc in input_texts]\n",
    "\n",
    "#tokenize\n",
    "%time tokenized_text = [tokenize_and_stem(text) for text in preprocess]\n",
    "\n",
    "#remove stop words\n",
    "%time texts = [[word for word in text if word not in stopwords] for text in tokenized_text]\n",
    "# print(texts)\n",
    "#create a Gensim dictionary from the texts\n",
    "dictionary = corpora.Dictionary(texts)\n",
    "# print(dictionary)\n",
    "\n",
    "#remove extremes (similar to the min/max df step used when creating the tf-idf matrix)\n",
    "dictionary.filter_extremes(no_below=1, no_above=0.1)  \n",
    "# THIS FILTERS EVERYTHING OUT\n",
    "print(dictionary)\n",
    "\n",
    "#convert the dictionary to a bag of words corpus for reference\n",
    "corpus = [dictionary.doc2bow(text) for text in texts]\n",
    "# print(corpus)\n",
    "%time lda = models.LdaModel(corpus, num_topics=5, id2word=dictionary, update_every=5, chunksize=10000, passes=100)\n"
   ]
  },
  {
   "cell_type": "code",
   "execution_count": 43,
   "metadata": {},
   "outputs": [
    {
     "name": "stdout",
     "output_type": "stream",
     "text": [
      "['student', 'zero-emiss', 'game', 'drivetrain', 'hybrid', 'graduat', 'accredit', 'school', 'batteri', 'entertain', 'colleg', 'aid', 'tuition', 'faculti', 'k']\n",
      "\n",
      "['\\\\t\\\\t\\\\t', '\\\\t\\\\t', 'plazomicin', '\\\\t\\\\t\\\\tthe', 'inhibitor', 'assay', 'foundri', 'automot', 'semiconductor', 'wart', 'mortgag', 'memori', '\\\\t\\\\t\\\\tour', 'bacteri', 'peroxid']\n",
      "\n",
      "['\\\\t\\\\t\\\\t', 'luspatercept', 'sotatercept', 'landfil', 'pain', 'resubmit', 'inhal', 'resubmiss', 'opioid', 'dyskinesia', 'acut', 'sufentanil', 'levodopa', 'moderate-to-sever', 'biosimilar']\n",
      "\n",
      "['alarm', 'dealer', 'subscrib', 'peptid', 'rent', 'timescal', 'vector', 'pivot', 'biosimilar', 'truste', 'foundri', 'fatal', 'redeem', 'email', 'reagent']\n",
      "\n",
      "['cytisin', 'end-custom', 'drill', 'pimavanserin', 'merchandis', 'fractur', 'hallucin', 'delus', 'radiat', 'aircraft', 'hydraul', 'swap', 'subscript', 'psychiatrist', 'undevelop']\n",
      "\n"
     ]
    }
   ],
   "source": [
    "topics_matrix = lda.show_topics(formatted=False, num_words=15)\n",
    "topics_matrix = np.array(topics_matrix)\n",
    "\n",
    "topic_words = topics_matrix[:,1]\n",
    "for i in topic_words:\n",
    "    print([str(word[0]) for word in i])\n",
    "    print()"
   ]
  },
  {
   "cell_type": "code",
   "execution_count": 44,
   "metadata": {},
   "outputs": [
    {
     "name": "stdout",
     "output_type": "stream",
     "text": [
      "['\\\\t\\\\t\\\\t', '\\\\t\\\\t', '\\\\t\\\\t\\\\tthe', 'inhibitor', 'pain', '\\\\t\\\\t\\\\tour', 'wart', 'resubmiss', 'opioid', 'resubmit', 'acut', 'sufentanil', 'peroxid', '\\\\t\\\\t\\\\twe', 'foundri']\n",
      "\n",
      "['cytisin', 'cytisine..', 'counterfeit', 'smoke', 'anagyroid', 'tree', 'uncov', 'student', 'sunshin', 'toxicolog', 'authent', 'naturally-occur', 'inhal', 'pivot', 'display']\n",
      "\n",
      "['student', 'graduat', 'accredit', 'school', 'colleg', 'faculti', 'tuition', 'aid', 'postsecondari', 'accreditor', 'admiss', 'nonprofit', 'misrepresent', 'degree-gr', 'reauthor']\n",
      "\n",
      "['zero-emiss', 'drivetrain', 'hybrid', 'batteri', 'subsidi', 'buse', 'truck', 'fleet', 'lithium-ion', 'lock-up', 'petroleum-bas', 'motor', 'dealer', 'kit', 'pack']\n",
      "\n",
      "['plazomicin', 'assay', 'bacteri', 'redeem', 'protest', 'gram-neg', 'cold-chain', 'plazomicin..', '21st', 'aminoglycosid', 'antibiot', 'bacteria', 'vitro', 'pathogen', 'government-fund']\n",
      "\n"
     ]
    }
   ],
   "source": [
    "# https://en.wikipedia.org/wiki/Latent_semantic_analysis#Latent_semantic_indexing\n",
    "lsi = models.lsimodel.LsiModel(corpus, num_topics=5, id2word=dictionary, chunksize=1000)\n",
    "topics_matrix = lsi.show_topics(formatted=False, num_words=15)\n",
    "topics_matrix = np.array(topics_matrix)\n",
    "topic_words = topics_matrix[:,1]\n",
    "for i in topic_words:\n",
    "    print([str(word[0]) for word in i])\n",
    "    print()"
   ]
  },
  {
   "cell_type": "code",
   "execution_count": null,
   "metadata": {},
   "outputs": [],
   "source": []
  },
  {
   "cell_type": "code",
   "execution_count": 45,
   "metadata": {},
   "outputs": [
    {
     "name": "stdout",
     "output_type": "stream",
     "text": [
      "\n",
      "[[0.]]\n"
     ]
    }
   ],
   "source": [
    "from sklearn.metrics.pairwise import cosine_similarity\n",
    "dist = 1 - cosine_similarity(X[0])\n",
    "print()\n",
    "print(dist)"
   ]
  },
  {
   "cell_type": "code",
   "execution_count": 197,
   "metadata": {},
   "outputs": [],
   "source": []
  },
  {
   "cell_type": "code",
   "execution_count": 120,
   "metadata": {},
   "outputs": [
    {
     "name": "stdout",
     "output_type": "stream",
     "text": [
      "\n",
      "\n",
      "Prediction\n",
      "[1]\n",
      "\n",
      "\n",
      "Prediction\n",
      "[1]\n",
      "\n",
      "\n",
      "Prediction\n",
      "[1]\n"
     ]
    }
   ],
   "source": [
    "words = ['investment', 'property', 'distribution', 'interest', 'agreement']\n",
    "# tag = Shareholder’s interest risk \n",
    "predict('cost, regulation, environmental, law, operation, liability')\n",
    "predict('loss, insurance, financial, loan, reserve, operation, cover **Insurance ')\n",
    "predict('operation, natural, facility, disaster, event, terrorist, weather Catastrophes')"
   ]
  },
  {
   "cell_type": "code",
   "execution_count": null,
   "metadata": {},
   "outputs": [],
   "source": []
  }
 ],
 "metadata": {
  "kernelspec": {
   "display_name": "Python (Tensor)",
   "language": "python",
   "name": "tensor"
  },
  "language_info": {
   "codemirror_mode": {
    "name": "ipython",
    "version": 3
   },
   "file_extension": ".py",
   "mimetype": "text/x-python",
   "name": "python",
   "nbconvert_exporter": "python",
   "pygments_lexer": "ipython3",
   "version": "3.6.6"
  }
 },
 "nbformat": 4,
 "nbformat_minor": 2
}
