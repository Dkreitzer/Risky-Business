{
 "cells": [
  {
   "cell_type": "code",
   "execution_count": 3,
   "metadata": {},
   "outputs": [],
   "source": [
    "import numpy as np"
   ]
  },
  {
   "cell_type": "markdown",
   "metadata": {},
   "source": [
    "## Glove model: https://nlp.stanford.edu/projects/glove/\n",
    "* this is an algorithm that trains on words and output their representation as a 50-dimensional vector by learning the (logarithm of)  word's probability of co-occurrence"
   ]
  },
  {
   "cell_type": "code",
   "execution_count": 4,
   "metadata": {},
   "outputs": [],
   "source": [
    "def read_glove_vecs(glove_file):\n",
    "    '''\n",
    "    Read the pretrained golve model from txt file, \n",
    "    which basically consists a dictionary and the words corresponding vectors\n",
    "    \n",
    "    Arguments:\n",
    "         glove_file, the txt file which contains the trained glove representation of words as vectors\n",
    "    \n",
    "    Returns: \n",
    "        words, a set of unique words that is contained in the model; word_to_vec_map\n",
    "        Taken from the coursera course: https://www.coursera.org/learn/nlp-sequence-models/notebook/5NrJ6/operations-on-word-vectors-debiasing\n",
    "    '''\n",
    "    with open(glove_file, 'rb') as f:\n",
    "        words = set()\n",
    "        word_to_vec_map = {}\n",
    "        \n",
    "        for line in f:\n",
    "            line = line.strip().split()\n",
    "            curr_word = line[0]\n",
    "            words.add(curr_word)\n",
    "            word_to_vec_map[curr_word] = np.array(line[1:], dtype=np.float64)\n",
    "            \n",
    "    return words, word_to_vec_map\n"
   ]
  },
  {
   "cell_type": "code",
   "execution_count": 5,
   "metadata": {},
   "outputs": [],
   "source": [
    "words, word_to_vec_map = read_glove_vecs('glove.6B/glove.6B.50d.txt')"
   ]
  },
  {
   "cell_type": "code",
   "execution_count": 6,
   "metadata": {},
   "outputs": [
    {
     "data": {
      "text/plain": [
       "b'the'"
      ]
     },
     "execution_count": 6,
     "metadata": {},
     "output_type": "execute_result"
    }
   ],
   "source": [
    "#shows the first word in the dictionary\n",
    "list(word_to_vec_map.keys())[0]"
   ]
  },
  {
   "cell_type": "code",
   "execution_count": 7,
   "metadata": {},
   "outputs": [],
   "source": [
    "#Let's look at how the word 'father' and 'mother are represented as vectors\n",
    "father = word_to_vec_map[b'father']\n",
    "mother = word_to_vec_map[b\"mother\"]"
   ]
  },
  {
   "cell_type": "code",
   "execution_count": 8,
   "metadata": {},
   "outputs": [
    {
     "data": {
      "text/plain": [
       "array([ 0.095496 ,  0.70418  , -0.40777  , -0.80844  ,  1.256    ,\n",
       "        0.77071  , -1.0695   ,  0.76847  , -0.87813  , -0.0080954,\n",
       "        0.43884  ,  1.0476   , -0.45071  , -0.58931  ,  0.83246  ,\n",
       "       -0.038442 , -0.73533  ,  0.26389  ,  0.12617  ,  0.57623  ,\n",
       "       -0.23866  ,  1.0922   , -0.3367   ,  0.081537 ,  0.84798  ,\n",
       "       -2.4795   , -0.40351  , -0.84087  ,  0.12034  ,  0.29074  ,\n",
       "        1.9711   , -0.50886  , -0.45977  , -0.13617  ,  0.55613  ,\n",
       "        0.22924  , -0.18947  ,  0.43544  ,  0.65151  ,  0.043537 ,\n",
       "       -0.1162   ,  0.72196  , -0.66163  , -0.17272  ,  0.27367  ,\n",
       "       -0.28169  , -0.82025  , -1.5089   ,  0.052787 , -0.035579 ])"
      ]
     },
     "execution_count": 8,
     "metadata": {},
     "output_type": "execute_result"
    }
   ],
   "source": [
    "father"
   ]
  },
  {
   "cell_type": "code",
   "execution_count": 9,
   "metadata": {},
   "outputs": [
    {
     "data": {
      "text/plain": [
       "array([ 0.4336   ,  1.0727   , -0.6196   , -0.80679  ,  1.2519   ,\n",
       "        1.3767   , -0.93533  ,  0.76088  , -0.0056654, -0.063649 ,\n",
       "        0.30297  ,  0.52401  ,  0.2843   , -0.38162  ,  0.98797  ,\n",
       "        0.093184 , -1.1464   ,  0.070523 ,  0.58012  ,  0.50644  ,\n",
       "       -0.24026  ,  1.7344   ,  0.020735 ,  0.43704  ,  1.2148   ,\n",
       "       -2.2483   , -0.41168  , -0.24922  ,  0.31225  , -0.49464  ,\n",
       "        2.0441   , -0.012111 , -0.19556  ,  0.085665 ,  0.27682  ,\n",
       "        0.015702 ,  0.0067683,  0.12759  ,  0.87008  , -0.40641  ,\n",
       "       -0.21057  ,  0.41651  , -0.021812 , -0.53649  ,  0.54095  ,\n",
       "       -0.43442  , -0.52489  , -2.0277   ,  0.13136  ,  0.11704  ])"
      ]
     },
     "execution_count": 9,
     "metadata": {},
     "output_type": "execute_result"
    }
   ],
   "source": [
    "mother"
   ]
  },
  {
   "cell_type": "markdown",
   "metadata": {},
   "source": [
    "## Cosine similarity\n",
    "* Cosine similarity between vectors, measures the \"angle\" between two vectors, the closer it to 1, the more similar between the two vectors."
   ]
  },
  {
   "cell_type": "code",
   "execution_count": 10,
   "metadata": {},
   "outputs": [],
   "source": [
    "def cosine_similarity(u, v):\n",
    "    \"\"\"\n",
    "    Cosine similarity reflects the degree of similariy between u and v\n",
    "        \n",
    "    Arguments:\n",
    "        u -- a word vector of shape (n,)          \n",
    "        v -- a word vector of shape (n,)\n",
    "\n",
    "    Returns:\n",
    "        cosine_similarity -- the cosine similarity between u and v defined by the formula above.\n",
    "    \"\"\"\n",
    "    \n",
    "    distance = 0.0\n",
    "    \n",
    "    # Compute the dot product between u and v (≈1 line)\n",
    "    dot = np.dot(u,v)\n",
    "    # Compute the L2 norm of u (≈1 line)\n",
    "    norm_u = np.linalg.norm(u)    \n",
    "    # Compute the L2 norm of v (≈1 line)\n",
    "    norm_v = np.linalg.norm(v)\n",
    "    # Compute the cosine similarity defined by formula (1) (≈1 line)\n",
    "    cosine_similarity = dot/(norm_u*norm_v)\n",
    "\n",
    "    return cosine_similarity"
   ]
  },
  {
   "cell_type": "code",
   "execution_count": 11,
   "metadata": {},
   "outputs": [
    {
     "data": {
      "text/plain": [
       "0.8909038442893615"
      ]
     },
     "execution_count": 11,
     "metadata": {},
     "output_type": "execute_result"
    }
   ],
   "source": [
    "cosine_similarity(father,mother)\n",
    "#so father and mother are pretty close in terms of words!"
   ]
  },
  {
   "cell_type": "code",
   "execution_count": 12,
   "metadata": {},
   "outputs": [
    {
     "data": {
      "text/plain": [
       "400001"
      ]
     },
     "execution_count": 12,
     "metadata": {},
     "output_type": "execute_result"
    }
   ],
   "source": [
    "len(words)"
   ]
  },
  {
   "cell_type": "markdown",
   "metadata": {},
   "source": [
    "# Text clustering\n",
    "* Codes are taken from http://ai.intelligentonlinetools.com/ml/text-clustering-word-embedding-machine-learning/\n",
    "* shows how to cluser the senetences using K-means algorithm and the word's vector representation."
   ]
  },
  {
   "cell_type": "code",
   "execution_count": 13,
   "metadata": {},
   "outputs": [],
   "source": [
    "from nltk.cluster import KMeansClusterer\n",
    "import nltk"
   ]
  },
  {
   "cell_type": "code",
   "execution_count": 14,
   "metadata": {},
   "outputs": [],
   "source": [
    "from sklearn import cluster\n",
    "from sklearn import metrics"
   ]
  },
  {
   "cell_type": "code",
   "execution_count": 15,
   "metadata": {},
   "outputs": [],
   "source": [
    "sentences = [['this', 'is', 'the', 'one','good', 'machine', 'learning', 'book'],\n",
    "            ['this', 'is',  'another', 'book'],\n",
    "            ['one', 'more', 'book'],\n",
    "            ['weather', 'rain', 'snow'],\n",
    "            ['yesterday', 'weather', 'snow'],\n",
    "            ['forecast', 'tomorrow', 'rain', 'snow'],\n",
    "            ['this', 'is', 'the', 'new', 'post'],\n",
    "            ['this', 'is', 'about', 'more', 'machine', 'learning', 'post'],  \n",
    "            ['and', 'this', 'is', 'the', 'one', 'last', 'post', 'book']]"
   ]
  },
  {
   "cell_type": "code",
   "execution_count": 16,
   "metadata": {},
   "outputs": [],
   "source": [
    "def sent_vectorizer(sent, model):\n",
    "    '''\n",
    "    Arguments: \n",
    "        sent -- a sentence, consists of tokenized words\n",
    "        \n",
    "        model -- model that maps words to vectors, here we are using the glove model\n",
    "    Returns:\n",
    "        np.asarray(sent_vec) / numw -- the averaged vector representation of all the words within a sentence\n",
    "        \n",
    "    '''\n",
    "    sent_vec =[]\n",
    "    numw = 0\n",
    "    for w in sent:\n",
    "        try:\n",
    "            w = bytes(w, encoding= 'cp1252')\n",
    "            if numw == 0:\n",
    "                sent_vec = model[w]\n",
    "            else:\n",
    "                sent_vec = np.add(sent_vec, model[w])\n",
    "            numw+=1\n",
    "        except:\n",
    "            pass\n",
    "     \n",
    "    return np.asarray(sent_vec) / numw\n",
    "  \n",
    "  \n"
   ]
  },
  {
   "cell_type": "code",
   "execution_count": 17,
   "metadata": {},
   "outputs": [],
   "source": [
    "#Build the data that is used to train the Kmeans clustering algorithm\n",
    "X=[]\n",
    "for sentence in sentences:\n",
    "    X.append(sent_vectorizer(sentence, word_to_vec_map))  "
   ]
  },
  {
   "cell_type": "code",
   "execution_count": 18,
   "metadata": {},
   "outputs": [],
   "source": [
    "#set number of clusters for k-means\n",
    "NUM_CLUSTERS=2"
   ]
  },
  {
   "cell_type": "code",
   "execution_count": 19,
   "metadata": {},
   "outputs": [
    {
     "name": "stdout",
     "output_type": "stream",
     "text": [
      "[0, 0, 0, 1, 1, 1, 0, 0, 0]\n"
     ]
    }
   ],
   "source": [
    "# So sentence 4,5,6 are being clustered in one group\n",
    "kclusterer = KMeansClusterer(NUM_CLUSTERS, distance=nltk.cluster.util.cosine_distance, repeats=25)\n",
    "assigned_clusters = kclusterer.cluster(X, assign_clusters=True)\n",
    "print (assigned_clusters)"
   ]
  },
  {
   "cell_type": "code",
   "execution_count": 20,
   "metadata": {},
   "outputs": [
    {
     "name": "stdout",
     "output_type": "stream",
     "text": [
      "0:['this', 'is', 'the', 'one', 'good', 'machine', 'learning', 'book']\n",
      "0:['this', 'is', 'another', 'book']\n",
      "0:['one', 'more', 'book']\n",
      "1:['weather', 'rain', 'snow']\n",
      "1:['yesterday', 'weather', 'snow']\n",
      "1:['forecast', 'tomorrow', 'rain', 'snow']\n",
      "0:['this', 'is', 'the', 'new', 'post']\n",
      "0:['this', 'is', 'about', 'more', 'machine', 'learning', 'post']\n",
      "0:['and', 'this', 'is', 'the', 'one', 'last', 'post', 'book']\n"
     ]
    }
   ],
   "source": [
    "for index, sentence in enumerate(sentences):    \n",
    "    print (str(assigned_clusters[index]) + \":\" + str(sentence))"
   ]
  },
  {
   "cell_type": "code",
   "execution_count": 21,
   "metadata": {},
   "outputs": [
    {
     "name": "stdout",
     "output_type": "stream",
     "text": [
      "Cluster id labels for inputted data\n",
      "[0 0 0 2 1 1 0 0 0]\n",
      "Centroids data\n",
      "Score (Opposite of the value of X on the K-means objective which is Sum of distances of samples to their closest cluster center):\n",
      "-5.997186945249084\n",
      "Silhouette_score: \n",
      "0.49553920702192233\n"
     ]
    }
   ],
   "source": [
    "kmeans = cluster.KMeans(n_clusters=3)\n",
    "kmeans.fit(X)\n",
    "  \n",
    "labels = kmeans.labels_\n",
    "centroids = kmeans.cluster_centers_\n",
    "  \n",
    "print (\"Cluster id labels for inputted data\")\n",
    "print (labels)\n",
    "print (\"Centroids data\")\n",
    "#print (centroids)\n",
    "  \n",
    "#not sure what the score is\n",
    "print (\"Score (Opposite of the value of X on the K-means objective which is Sum of distances of samples to their closest cluster center):\")\n",
    "print (kmeans.score(X))\n",
    "  \n",
    "silhouette_score = metrics.silhouette_score(X, labels, metric='euclidean')\n",
    "  \n",
    "print (\"Silhouette_score: \")\n",
    "print (silhouette_score)"
   ]
  },
  {
   "cell_type": "code",
   "execution_count": 22,
   "metadata": {},
   "outputs": [
    {
     "name": "stdout",
     "output_type": "stream",
     "text": [
      "0 ['this', 'is', 'the', 'one', 'good', 'machine', 'learning', 'book']\n",
      "0 ['this', 'is', 'another', 'book']\n",
      "0 ['one', 'more', 'book']\n",
      "1 ['weather', 'rain', 'snow']\n",
      "1 ['yesterday', 'weather', 'snow']\n",
      "1 ['forecast', 'tomorrow', 'rain', 'snow']\n",
      "0 ['this', 'is', 'the', 'new', 'post']\n",
      "0 ['this', 'is', 'about', 'more', 'machine', 'learning', 'post']\n",
      "0 ['and', 'this', 'is', 'the', 'one', 'last', 'post', 'book']\n"
     ]
    },
    {
     "data": {
      "image/png": "[encoded data removed]",
      "text/plain": [
       "<Figure size 432x288 with 1 Axes>"
      ]
     },
     "metadata": {},
     "output_type": "display_data"
    }
   ],
   "source": [
    "# using Tsne(https://lvdmaaten.github.io/tsne/) to visulize the result classfier\n",
    "%matplotlib inline\n",
    "import matplotlib.pyplot as plt\n",
    " \n",
    "from sklearn.manifold import TSNE\n",
    " \n",
    "model = TSNE(n_components=2, random_state=0)\n",
    "np.set_printoptions(suppress=True)\n",
    " \n",
    "Y=model.fit_transform(X)\n",
    " \n",
    " \n",
    "plt.scatter(Y[:, 0], Y[:, 1], s=290,alpha=.5)\n",
    " \n",
    " \n",
    "for j in range(len(sentences)):    \n",
    "   plt.annotate(assigned_clusters[j],xy=(Y[j][0], Y[j][1]),xytext=(0,0),textcoords='offset points')\n",
    "   print (\"%s %s\" % (assigned_clusters[j],  sentences[j]))\n",
    " \n",
    " \n",
    "plt.show()"
   ]
  },
  {
   "cell_type": "markdown",
   "metadata": {},
   "source": [
    "# Document Classification\n",
    "* Methodology: mimic senetence classification, but instead of averaging all the words in a sentence by their glove representation, we average all the words in a documents and feed the result vector into a classificaton algorithm"
   ]
  },
  {
   "cell_type": "code",
   "execution_count": 23,
   "metadata": {},
   "outputs": [],
   "source": [
    "#read in data from path\n",
    "from pathlib import Path\n",
    "\n",
    "pathlist = Path(\"Data_Small\").glob('**/*.txt')\n",
    "doc_collections = []\n",
    "for path in pathlist:\n",
    "    #print(path)\n",
    "    with path.open(\"rb\") as f: \n",
    "        text = f.readline()\n",
    "        doc_collections.append(text)\n",
    "        "
   ]
  },
  {
   "cell_type": "code",
   "execution_count": 24,
   "metadata": {},
   "outputs": [],
   "source": [
    "#function to tokenize a list of documents\n",
    "from nltk.tokenize import word_tokenize\n",
    "def get_tokens(doclist):\n",
    "    '''\n",
    "    function to tokenize a given document\n",
    "    \n",
    "    Arguments: \n",
    "        doclist -- list of documents to be tokenized\n",
    "        \n",
    "    Returns:\n",
    "        token_list -- list of words in the document after tokenization\n",
    "    '''\n",
    "    token_list = []\n",
    "    for doc in doclist:\n",
    "        dirty_tokens = nltk.word_tokenize(doc)\n",
    "        token_list += [dirty_tokens]\n",
    "    return token_list\n"
   ]
  },
  {
   "cell_type": "code",
   "execution_count": 25,
   "metadata": {},
   "outputs": [
    {
     "name": "stdout",
     "output_type": "stream",
     "text": [
      "[nltk_data] Downloading package stopwords to\n",
      "[nltk_data]     C:\\Users\\8135t\\AppData\\Roaming\\nltk_data...\n",
      "[nltk_data]   Package stopwords is already up-to-date!\n"
     ]
    }
   ],
   "source": [
    "#Download collection of english of stop words, probably should include more\n",
    "import nltk \n",
    "nltk.download('stopwords')\n",
    "from nltk.corpus import stopwords \n",
    "stop_words=set(stopwords.words(\"english\")) \n",
    "non_stop_words = set(words)-stop_words"
   ]
  },
  {
   "cell_type": "code",
   "execution_count": 26,
   "metadata": {},
   "outputs": [
    {
     "name": "stdout",
     "output_type": "stream",
     "text": [
      "[nltk_data] Downloading package punkt to\n",
      "[nltk_data]     C:\\Users\\8135t\\AppData\\Roaming\\nltk_data...\n",
      "[nltk_data]   Package punkt is already up-to-date!\n"
     ]
    },
    {
     "data": {
      "text/plain": [
       "True"
      ]
     },
     "execution_count": 26,
     "metadata": {},
     "output_type": "execute_result"
    }
   ],
   "source": [
    "#Download a list of punctuations to be filterd\n",
    "nltk.download('punkt')"
   ]
  },
  {
   "cell_type": "code",
   "execution_count": 27,
   "metadata": {},
   "outputs": [],
   "source": [
    "#https://medium.com/@datamonsters/text-preprocessing-in-python-steps-tools-and-examples-bf025f872908\n",
    "#preprocess text in document list: for each text, we remove the digits and punctuation in it, then \n",
    "#tokenize the text by words and finally remove the stop words\n",
    "import re\n",
    "\n",
    "def text_preprocessor(raw_text):\n",
    "    '''\n",
    "    function to preprocess a given document\n",
    "    \n",
    "    Arguments: \n",
    "        raw_text -- document before preprocessing\n",
    "        \n",
    "    Returns:\n",
    "        list of unique words contained in the document after preprocessing\n",
    "    '''\n",
    "\n",
    "    lower_lettered = raw_text.lower()\n",
    "    \n",
    "    digit_removed = re.sub(r'\\d+', '', lower_lettered )\n",
    "    \n",
    "    punct_removed = re.sub(r'[^\\w\\s]','',digit_removed)\n",
    "    \n",
    "    word_tokenized = word_tokenize(punct_removed)\n",
    "    \n",
    "    result = [i for i in word_tokenized if not i in stop_words]\n",
    "    \n",
    "    #print(len(result))\n",
    "    return set(result)\n",
    "\n"
   ]
  },
  {
   "cell_type": "code",
   "execution_count": 28,
   "metadata": {},
   "outputs": [
    {
     "data": {
      "text/plain": [
       "{'httpsgitlfsgithubcomspecv', 'version'}"
      ]
     },
     "execution_count": 28,
     "metadata": {},
     "output_type": "execute_result"
    }
   ],
   "source": [
    "#Let's take a look at one processed text as one example\n",
    "#some text spits out a decode error, solution found in https://stackoverflow.com/questions/29419322/unicodedecodeerror-utf8-codec-cant-decode-byte-0x92-in-position-377826-inva\n",
    "processed_example = text_preprocessor(doc_collections[0].decode(\"cp1252\"))\n",
    "processed_example"
   ]
  },
  {
   "cell_type": "code",
   "execution_count": 29,
   "metadata": {},
   "outputs": [],
   "source": [
    "def doc_vectorizer(doc, model):\n",
    "    '''\n",
    "    function used to map a given document to a vector, mimic sent_vectorizer\n",
    "    \n",
    "    Arguments:\n",
    "        doc: the document to be vectorized\n",
    "        model: the model used to vectorize word, here we are using GloVe\n",
    "        \n",
    "    Returns:\n",
    "         np.asarray(sent_vec) / numw: average vector represents the document\n",
    "    '''\n",
    "    doc_vec =[]\n",
    "    numw = 0\n",
    "    for w in doc:\n",
    "        try:\n",
    "            #read the key in binary mode\n",
    "            w = bytes(w, encoding= 'cp1252')\n",
    "            if numw == 0:\n",
    "                doc_vec = model[w]\n",
    "            else:\n",
    "                doc_vec = np.add(doc_vec, model[w])\n",
    "            numw+=1\n",
    "        except:\n",
    "            pass\n",
    "     \n",
    "    return np.asarray(doc_vec) / numw\n",
    "  "
   ]
  },
  {
   "cell_type": "code",
   "execution_count": 30,
   "metadata": {},
   "outputs": [
    {
     "data": {
      "text/plain": [
       "array([ 0.051293, -0.26675 , -0.018365, -0.18127 , -0.36027 ,  0.8379  ,\n",
       "       -0.92812 , -1.6883  , -0.59773 ,  0.90649 ,  0.35224 ,  0.54026 ,\n",
       "        0.14898 ,  0.50083 ,  0.79767 , -0.061373, -0.91955 ,  0.58789 ,\n",
       "       -0.43823 , -0.40394 , -0.030739, -0.10485 ,  0.028128,  0.42683 ,\n",
       "        0.42864 , -0.77797 , -1.0065  ,  0.30549 , -0.092836, -0.23479 ,\n",
       "        3.1454  , -1.2909  , -0.45878 ,  0.48342 ,  0.47716 , -0.088498,\n",
       "        1.2245  , -0.35658 , -1.3234  , -1.2299  ,  0.6993  , -0.055224,\n",
       "       -0.51072 , -0.97704 , -0.50898 ,  0.56811 ,  0.38373 , -0.2553  ,\n",
       "       -0.28489 ,  0.56349 ])"
      ]
     },
     "execution_count": 30,
     "metadata": {},
     "output_type": "execute_result"
    }
   ],
   "source": [
    "#example of vector that represent a document\n",
    "doc_vectorizer(processed_example, word_to_vec_map)"
   ]
  },
  {
   "cell_type": "code",
   "execution_count": 31,
   "metadata": {},
   "outputs": [],
   "source": [
    "from timeit import default_timer as timer"
   ]
  },
  {
   "cell_type": "code",
   "execution_count": 40,
   "metadata": {},
   "outputs": [
    {
     "name": "stdout",
     "output_type": "stream",
     "text": [
      "14.034660149361628\n"
     ]
    }
   ],
   "source": [
    "#Read in full set of documents and time it\n",
    "start = timer()\n",
    "\n",
    "full_pathlist = Path(\"Data\").glob('**/*.txt')\n",
    "full_doc_collection = []\n",
    "\n",
    "for path in list(full_pathlist)[0:1500]:\n",
    "    #print(path)\n",
    "    with path.open(\"rb\") as f: \n",
    "        text = f.readline()\n",
    "        full_doc_collection.append(text)\n",
    "\n",
    "\n",
    "end = timer()\n",
    "print(end - start)\n",
    "        "
   ]
  },
  {
   "cell_type": "code",
   "execution_count": 41,
   "metadata": {},
   "outputs": [
    {
     "name": "stdout",
     "output_type": "stream",
     "text": [
      "147.55940875978558\n"
     ]
    }
   ],
   "source": [
    "#preprocss each document in the list\n",
    "start = timer()\n",
    "\n",
    "processed_docs=[]\n",
    "for raw_text in full_doc_collection:\n",
    "   processed_docs.append(text_preprocessor(raw_text.decode(\"cp1252\"))) \n",
    "\n",
    "end = timer()\n",
    "print(end - start)"
   ]
  },
  {
   "cell_type": "code",
   "execution_count": 42,
   "metadata": {
    "scrolled": true
   },
   "outputs": [
    {
     "name": "stdout",
     "output_type": "stream",
     "text": [
      "9.563567526358952\n"
     ]
    }
   ],
   "source": [
    "#get vector representation for each documents\n",
    "doc_vectors=[]\n",
    "start = timer()\n",
    "for token in processed_docs:\n",
    "    doc_vectors.append(doc_vectorizer(token, word_to_vec_map))\n",
    "print(timer()-start)"
   ]
  },
  {
   "cell_type": "code",
   "execution_count": 35,
   "metadata": {},
   "outputs": [],
   "source": [
    "from collections import OrderedDict\n",
    "\n",
    "def find_most_simiar_word(word_vector,n):\n",
    "    '''\n",
    "    function to find the first n most similar word (in terms of cosine similarity) in the dictionary(minus the stop words) with a given word's vector form\n",
    "    \n",
    "    Arguments:\n",
    "        word_vector -- word in vector form to be meausred. \n",
    "    Returns:\n",
    "        ordered_list_of_cosine -- a dictionary ordered by the cosine similarity between word_vector and all the word in the list of \n",
    "        words in the model\n",
    "    \n",
    "    '''\n",
    "    # Initialize best_word with None, it will help keep track of the word to output\n",
    "    #find the closed n word\n",
    "    # loop over the whole word vector set\n",
    "    dict_of_cosine_sim={}\n",
    "    for w in non_stop_words:        \n",
    "\n",
    "        # Compute cosine similarity between the vector given and the vector (w's vector representation) \n",
    "        cosine_sim = cosine_similarity(word_vector, word_to_vec_map[w])\n",
    "        \n",
    "        dict_of_cosine_sim[w.decode(\"utf-8\")] = cosine_sim\n",
    "\n",
    "        # If the cosine_sim is more than the max_cosine_sim seen so far,\n",
    "        ### END CODE HERE ###\n",
    "            \n",
    "    ordered_dict_of_cosine = OrderedDict(sorted(dict_of_cosine_sim.items(), key=lambda t: t[1],reverse=True))\n",
    "\n",
    "    return list(ordered_dict_of_cosine)[:n]"
   ]
  },
  {
   "cell_type": "code",
   "execution_count": 36,
   "metadata": {},
   "outputs": [
    {
     "data": {
      "text/plain": [
       "['father', 'son', 'brother', 'grandfather']"
      ]
     },
     "execution_count": 36,
     "metadata": {},
     "output_type": "execute_result"
    }
   ],
   "source": [
    "find_most_simiar_word(word_to_vec_map[b'father'],4)"
   ]
  },
  {
   "cell_type": "code",
   "execution_count": 89,
   "metadata": {},
   "outputs": [],
   "source": [
    "from sklearn.cluster import DBSCAN"
   ]
  },
  {
   "cell_type": "code",
   "execution_count": 90,
   "metadata": {},
   "outputs": [],
   "source": [
    "clustering = DBSCAN(eps=0.1, min_samples=2).fit(doc_vectors)"
   ]
  },
  {
   "cell_type": "code",
   "execution_count": 91,
   "metadata": {},
   "outputs": [
    {
     "data": {
      "text/plain": [
       "array([-1, -1], dtype=int64)"
      ]
     },
     "execution_count": 91,
     "metadata": {},
     "output_type": "execute_result"
    }
   ],
   "source": [
    "clustering.labels_"
   ]
  },
  {
   "cell_type": "code",
   "execution_count": 92,
   "metadata": {},
   "outputs": [
    {
     "data": {
      "text/plain": [
       "array([], dtype=int64)"
      ]
     },
     "execution_count": 92,
     "metadata": {},
     "output_type": "execute_result"
    }
   ],
   "source": [
    "clustering.core_sample_indices_"
   ]
  },
  {
   "cell_type": "code",
   "execution_count": 43,
   "metadata": {},
   "outputs": [
    {
     "data": {
      "text/plain": [
       "1500"
      ]
     },
     "execution_count": 43,
     "metadata": {},
     "output_type": "execute_result"
    }
   ],
   "source": [
    "len(doc_vectors)"
   ]
  },
  {
   "cell_type": "code",
   "execution_count": 51,
   "metadata": {},
   "outputs": [
    {
     "name": "stdout",
     "output_type": "stream",
     "text": [
      "Cluster id labels for inputted data\n",
      "[39 66 24 ... 25 59  2]\n",
      "Centroids data\n",
      "Silhouette_score: \n",
      "0.0927883142746712\n"
     ]
    }
   ],
   "source": [
    "kmeans = cluster.KMeans(n_clusters=100)\n",
    "kmeans.fit(doc_vectors)\n",
    "  \n",
    "labels = kmeans.labels_\n",
    "centroids = kmeans.cluster_centers_\n",
    "  \n",
    "print (\"Cluster id labels for inputted data\")\n",
    "print (labels)\n",
    "print (\"Centroids data\")\n",
    "#print (centroids)\n",
    "  \n",
    "#not sure what the score is\n",
    "  \n",
    "silhouette_score = metrics.silhouette_score(doc_vectors, labels, metric='euclidean')\n",
    "  \n",
    "print (\"Silhouette_score: \")\n",
    "print (silhouette_score)"
   ]
  },
  {
   "cell_type": "code",
   "execution_count": 67,
   "metadata": {},
   "outputs": [],
   "source": [
    "list_n_clusters = list(range(2,10))"
   ]
  },
  {
   "cell_type": "code",
   "execution_count": 68,
   "metadata": {},
   "outputs": [],
   "source": [
    "s_score = []\n",
    "centroids_collections = []\n",
    "for n in list_n_clusters:\n",
    "    kmeans = cluster.KMeans(n_clusters=n)\n",
    "    kmeans.fit(doc_vectors)\n",
    "    labels = kmeans.labels_\n",
    "\n",
    "    silhouette_score = metrics.silhouette_score(doc_vectors, labels, metric='euclidean')\n",
    "    s_score.append(silhouette_score)"
   ]
  },
  {
   "cell_type": "code",
   "execution_count": 69,
   "metadata": {},
   "outputs": [
    {
     "data": {
      "text/plain": [
       "98"
      ]
     },
     "execution_count": 69,
     "metadata": {},
     "output_type": "execute_result"
    }
   ],
   "source": [
    "len(s_score)"
   ]
  },
  {
   "cell_type": "code",
   "execution_count": 70,
   "metadata": {},
   "outputs": [
    {
     "data": {
      "text/plain": [
       "[<matplotlib.lines.Line2D at 0x1fe3f641b38>]"
      ]
     },
     "execution_count": 70,
     "metadata": {},
     "output_type": "execute_result"
    },
    {
     "data": {
      "image/png": "[encoded data removed]",
      "text/plain": [
       "<Figure size 432x288 with 1 Axes>"
      ]
     },
     "metadata": {},
     "output_type": "display_data"
    }
   ],
   "source": [
    "plt.plot(list_n_clusters, s_score, '--', linewidth=2)"
   ]
  },
  {
   "cell_type": "code",
   "execution_count": null,
   "metadata": {},
   "outputs": [],
   "source": []
  }
 ],
 "metadata": {
  "kernelspec": {
   "display_name": "Python [default]",
   "language": "python",
   "name": "python3"
  },
  "language_info": {
   "codemirror_mode": {
    "name": "ipython",
    "version": 3
   },
   "file_extension": ".py",
   "mimetype": "text/x-python",
   "name": "python",
   "nbconvert_exporter": "python",
   "pygments_lexer": "ipython3",
   "version": "3.6.5"
  },
  "varInspector": {
   "cols": {
    "lenName": 16,
    "lenType": 16,
    "lenVar": 40
   },
   "kernels_config": {
    "python": {
     "delete_cmd_postfix": "",
     "delete_cmd_prefix": "del ",
     "library": "var_list.py",
     "varRefreshCmd": "print(var_dic_list())"
    },
    "r": {
     "delete_cmd_postfix": ") ",
     "delete_cmd_prefix": "rm(",
     "library": "var_list.r",
     "varRefreshCmd": "cat(var_dic_list()) "
    }
   },
   "types_to_exclude": [
    "module",
    "function",
    "builtin_function_or_method",
    "instance",
    "_Feature"
   ],
   "window_display": false
  }
 },
 "nbformat": 4,
 "nbformat_minor": 2
}
